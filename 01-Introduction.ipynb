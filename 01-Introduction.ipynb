{
 "cells": [
  {
   "cell_type": "markdown",
   "metadata": {},
   "source": [
    "# Introduction to Python\n",
    "\n",
    "<b>If you're advanced in python, just check you're happy with the examples here. Mutability is a \"advanced\" issue, for most so you may be surprised. If this all makes sense, go try the next set of notes and solve the problems at the end.</b>\n",
    "\n",
    "<center>\n",
    "<img src=\"https://imgs.xkcd.com/comics/python.png\"/><br/>\n",
    "<a href=\"https://imgs.xkcd.com/comics/python.png)\">XKCD comic #353</a>, its a little out of date as its now <b>print(\"Hello, world!\")</b> for python 3. In python 2.7 the `antigravity` module was actually implemented. \n",
    "</center>\n",
    "\n",
    "This was written in 2007 and is still true today. I mean, just look at all the [AI notebook examples here](https://github.com/huggingface/notebooks/tree/main/examples). \n",
    "You can train an AI to recognise music (music to text), then generate its own version of it (text to music), while also getting it to tell you how it did it (chatGPT), in a few lines of code.\n",
    "Most of the AI programming is done using `pytorch` these days.\n",
    "\n",
    "Python is <em>slow</em>. Very very very slow. People like to argue about this, but every fast bit of \"python\" is actually written in C/C++/Julia/.... Luckily your time is spent programming+debugging+running, and usually you are the slowest bit of all. And, for programming, python is easy thanks to \"duck\" typing. So well done, you made the right choice (don't tell Alin I said this).\n",
    "\n",
    "<b>Julia</b> may actually turn out to be the best upcoming programming language (it can even run python directly) but it needs a little bit more development. Why Julia wants to run Python, is that it has a mind-boggling number of libraries publically available. For example, it can perform symbolic manipulations like calculus just by importing the sympy library:"
   ]
  },
  {
   "cell_type": "code",
   "execution_count": 1,
   "metadata": {},
   "outputs": [
    {
     "name": "stdout",
     "output_type": "stream",
     "text": [
      "The derivative of exp(x) + cos(x**2) is -2*x*sin(x**2) + exp(x)\n",
      "The value of f(x=0) is 2\n",
      "The integral of dfdx is exp(x) + cos(x**2)\n"
     ]
    }
   ],
   "source": [
    "from sympy import * #Get everything out of sympy\n",
    "init_printing(use_latex='mathjax') # This gives us nice LaTeX output for jupyter, its not needed but it's pretty\n",
    "\n",
    "x = symbols('x') # Make a symbolic x variable and call it x\n",
    "f = cos(x * x) + exp(x) # define a function using x\n",
    "dfdx = diff(f, x) #Take the derivative of cos(x^2)+e^x wrt x \n",
    "\n",
    "print(\"The derivative of\", f, \"is\", dfdx)            # Print the result\n",
    "print(\"The value of f(x=0) is\", f.subs(x, 0))        # Perform a substitution\n",
    "print(\"The integral of dfdx is\", integrate(dfdx, x)) # integrate it again"
   ]
  },
  {
   "cell_type": "markdown",
   "metadata": {},
   "source": [
    "Not quite antigravity but extremely useful for us scientific programmers. There's a lot to unpack in the code block above so we're going to take a step back and the notes below cover almost every aspect of programming (in python) from a fundamental level. We'll then look at more advanced usage in the later notes. Also, please let me know the problems YOU are working with and I can help you code and understand them during this course."
   ]
  },
  {
   "cell_type": "markdown",
   "metadata": {},
   "source": [
    "# Part 01 - Fast introduction to python and programming\n",
    "\n",
    "In this set of notes, coding via python is demonstrated via example. You can (and must) edit and re-run the examples. These notes are more of a tour of python, pointing out its interesting bits, if you don't get off the bus and get stuck in it will just pass you by.\n",
    "\n",
    "This web page is a Jupyter notebook, which is a way of running python via the web which means we can skip all the usual set up troubles of installing and setting up python and get stuck in, but please try to [install python 3 on your own personal laptop/computer](00-Installing_python.ipynb) if you want to so you can work on python on your own in the future, and so we can help you with this stage if you need it.\n",
    "\n",
    "These notes assume you are vaguely aware of the basics of programming, but not really comfortable with them. Some detail is skipped over so we can get to examples/problems in the next chapters quickly. You will have to \"google\" and ask questions when something is covered too quickly or incompletely. Stack overflow is a great resource for errors/code examples, colab even helpfully gives you stack overflow searches when your python fails.\n",
    "\n",
    "<b>Ultimately, you must learn to teach yourself programming!</b>\n",
    "\n",
    "You also need a purpose to drive you on. Pick a challenge for yourself, and we'll try to achieve it during the course. We're here because of your work, but you learn best when its your passion, so pick ANY problem that motivates you. For example, an effective way for many of my students to learn to code is [codingame.com](https://www.codingame.com). We could make a game, investigate stocks, solve rubik's cubes, program a microcontroller, etc.. Lets get started!\n",
    "\n",
    "## Basic investigation of code (`print()`, `help()`, `type()`) \n",
    "\n",
    "Computers follow programs line by line executing all commands in the order it finds them. They are incredibly dumb and get confused easily if instructions are vague. You will need to check what the computer is doing and so you need to get it to talk to you.\n",
    "\n",
    "For example, in python we can get the computer to write stuff on the screen using the print command."
   ]
  },
  {
   "cell_type": "code",
   "execution_count": 65,
   "metadata": {},
   "outputs": [
    {
     "name": "stdout",
     "output_type": "stream",
     "text": [
      "Hello world\n"
     ]
    }
   ],
   "source": [
    "print(\"Hello world\")"
   ]
  },
  {
   "cell_type": "markdown",
   "metadata": {},
   "source": [
    "Hello world needs to be within either double (`\"`) or single (`'`) quotes (they're the same in python), as the computer needs to know that this a string of characters (aka str) and not the name of a variable or function (like `print`). A cool feature of python is that we can print lots of things on the screen, not just strings/text; For example, we can ask print to write itself on the screen,"
   ]
  },
  {
   "cell_type": "code",
   "execution_count": 64,
   "metadata": {},
   "outputs": [
    {
     "name": "stdout",
     "output_type": "stream",
     "text": [
      "<built-in function print>\n"
     ]
    }
   ],
   "source": [
    "print(print)"
   ]
  },
  {
   "cell_type": "markdown",
   "metadata": {},
   "source": [
    "and what we get instead is a description of what the name print is. Lots of things have printable/string representations like this which are quite useful if we're wanting to check what a variable or function is later on. \n",
    "\n",
    "For completeness, there are two string conversions you can use: one is `str()` which gives you a human-readable string and is what `print()` uses, and the other is `repr()` which gives you an exact bit of python that lets you reproduce the object. The next bit of code tries to make this clear:"
   ]
  },
  {
   "cell_type": "code",
   "execution_count": 63,
   "metadata": {},
   "outputs": [
    {
     "name": "stdout",
     "output_type": "stream",
     "text": [
      "Hello\n",
      "Hello\n",
      "'Hello'\n"
     ]
    }
   ],
   "source": [
    "print('Hello')\n",
    "print(str('Hello'))  # Its already a string so does nothing different\n",
    "print(repr('Hello')) # Print how to make a string in python"
   ]
  },
  {
   "cell_type": "markdown",
   "metadata": {},
   "source": [
    "There are a couple of other really useful functions for figuring out what is going on. For example, `help()` prints to screen how to use an object (i.e. a function)"
   ]
  },
  {
   "cell_type": "code",
   "execution_count": 62,
   "metadata": {},
   "outputs": [
    {
     "name": "stdout",
     "output_type": "stream",
     "text": [
      "Help on built-in function print in module builtins:\n",
      "\n",
      "print(...)\n",
      "    print(value, ..., sep=' ', end='\\n', file=sys.stdout, flush=False)\n",
      "    \n",
      "    Prints the values to a stream, or to sys.stdout by default.\n",
      "    Optional keyword arguments:\n",
      "    file:  a file-like object (stream); defaults to the current sys.stdout.\n",
      "    sep:   string inserted between values, default a space.\n",
      "    end:   string appended after the last value, default a newline.\n",
      "    flush: whether to forcibly flush the stream.\n",
      "\n"
     ]
    }
   ],
   "source": [
    "help(print)"
   ]
  },
  {
   "cell_type": "markdown",
   "metadata": {},
   "source": [
    "You can also ask what type or class something is using the `type()` function,"
   ]
  },
  {
   "cell_type": "code",
   "execution_count": 1,
   "metadata": {},
   "outputs": [
    {
     "data": {
      "text/plain": [
       "str"
      ]
     },
     "execution_count": 1,
     "metadata": {},
     "output_type": "execute_result"
    }
   ],
   "source": [
    "type(\"Hello\")"
   ]
  },
  {
   "cell_type": "markdown",
   "metadata": {},
   "source": [
    "We should note that, unlike `help()`, `type()` and most other functions don't print out their result but instead returns an object; however, jupyter automatically prints the result of the last line of any code block, so we don't need a `print()` on the last line above. E.g.,"
   ]
  },
  {
   "cell_type": "code",
   "execution_count": 60,
   "metadata": {},
   "outputs": [
    {
     "data": {
      "text/plain": [
       "0.9092974268256817"
      ]
     },
     "execution_count": 60,
     "metadata": {},
     "output_type": "execute_result"
    }
   ],
   "source": [
    "\"Not printed\"\n",
    "2+2 #The result 4 is also not printed\n",
    "x=1+1 # Still not printed\n",
    "import math #Here we load/import the math library, which has lots of useful math commands like sine\n",
    "math.sin(2) #Calculate sin(2), and this IS printed in jupyter as its the last line!"
   ]
  },
  {
   "cell_type": "markdown",
   "metadata": {},
   "source": [
    "One last thing to note, python is case sensitive (e.g., `print` $\\neq$ `Print`), so you have to be careful with capitalisation! It also uses spaces (more on that later) so you need to be careful with that, in particular indentation."
   ]
  },
  {
   "cell_type": "markdown",
   "metadata": {},
   "source": [
    "## Variables, lists, comments, and mutability\n",
    "\n",
    "We often want to store things (objects) in memory. To track where we've put them we use variables. Variables in python are just \"names\" of objects in memory (so pointers in other languages like C++). They are not the objects themselve (or the memory they occupy) but you can usually treat them like they are.\n",
    "\n",
    "Lets tackle the worst part of python head on: What's confusing about variables in python is that their behaviour changes if the object(s) they are pointing to are `mutable` or `immutable`. For example, numbers and strings are immutable. This means that whenever something is done to them, a new object must be created. Any variables still pointing to the old object will remain unchanged.\n",
    "\n",
    "To better understand this, take a look at the following code,"
   ]
  },
  {
   "cell_type": "code",
   "execution_count": 59,
   "metadata": {},
   "outputs": [
    {
     "name": "stdout",
     "output_type": "stream",
     "text": [
      "2\n",
      "1\n"
     ]
    }
   ],
   "source": [
    "#I will describe what python is actually doing in the comments, try to guess it first though\n",
    "a = 1     #a points to 1\n",
    "b = a     #b also points to the same 1, as python tries to save creating new objects.\n",
    "a += 1    #Add one to a, this must make a new number as integers are immutable\n",
    "print(a)  # a is now pointing to 2 (the new number)\n",
    "print(b)  # b is still pointing to 1"
   ]
  },
  {
   "cell_type": "markdown",
   "metadata": {},
   "source": [
    "Most programmers would assume that `b=a` copies the value of `a` into `b` but in fact `a` and `b` are just different names of the same object. Immutable objects generally don't cause suprises for the programmer who thinks a copy takes place, as if a change happens a new object is created at the point the change is made; However, mutable objects are very common as python avoids copying whenever possible (as its expensive) and they often lead to surprises!\n",
    "\n",
    "For example, python has `list`s for storing objects together in a particular order. `List`s are mutable, so this means that changes to a `list` will be reflected in all variables which point to that list."
   ]
  },
  {
   "cell_type": "code",
   "execution_count": 58,
   "metadata": {},
   "outputs": [
    {
     "name": "stdout",
     "output_type": "stream",
     "text": [
      "[1, 2, 3, 4]\n",
      "[1, 2, 3, 4]\n"
     ]
    }
   ],
   "source": [
    "a = [1,2,3]   # a points to a new list with three elements\n",
    "b = a         # b points to the same list (no copying)\n",
    "a.append(4)   # we add 4 to the back of the list, but its the same list as b\n",
    "print(a)      \n",
    "print(b)      # both a and b now contain 4? No, both a and b point to the same list all along!"
   ]
  },
  {
   "cell_type": "markdown",
   "metadata": {},
   "source": [
    "What makes this confusing is that some operations will make a new list, and some will not!"
   ]
  },
  {
   "cell_type": "code",
   "execution_count": 57,
   "metadata": {},
   "outputs": [
    {
     "name": "stdout",
     "output_type": "stream",
     "text": [
      "[1, 2, 3, 4, 5, 6]\n",
      "[1, 2, 3, 4, 5, 6, 7]\n"
     ]
    }
   ],
   "source": [
    "a = [1,2,3]\n",
    "b = a\n",
    "a += [4,5,6] # addition in-place merges lists so the new list[4,5,6] is added to a and b\n",
    "b = a + [7] # only b will get 7, as the addition makes a new list, which b is pointed at\n",
    "print(a)\n",
    "print(b)"
   ]
  },
  {
   "cell_type": "markdown",
   "metadata": {},
   "source": [
    "Operations like the second addition above can be tricky. Python first evaluates the right hand side of any assignment `=` operation.  The addition `a+[7]` is defined such that it creates a new list as its result. `b` is then pointed at the new list by the assignment `=`.\n",
    "\n",
    "So, in summary, immutable objects CANNOT change, thus any changes MUST result in a new object being created. Mutable objects CAN change/mutate, but they don't have to (e.g., `a+=[4,5,6]` versus `b=a+[7]` above). That ambiguity causes subtle programming errors, normally a sensible choice is made, but not always. \n",
    "\n",
    "I promise you, mutability is the worst part of python for a new programmer to understand. The rest is quite logical and even mutability is logical once you get used to it but we're not quite there yet. A general rule is that python avoids copying whenever its expensive, and that's most of the time, but will copy if not doing it would be unintuitive (e.g., `+=` should really modify in place, but `a+b` should create a new list, otherwise it which side should the addition change? `a` or `b`?).\n",
    "\n",
    "One last thing, there is an `is` operator that lets you check if things are exactly the same thing or not. This is almost never used in code, but it might help you figure out what is going on sometimes (covered later)."
   ]
  },
  {
   "cell_type": "markdown",
   "metadata": {},
   "source": [
    "## Lists, slicing, and error messages\n",
    "\n",
    "Lists are very useful, we can store items, retrieve them, add them on etc."
   ]
  },
  {
   "cell_type": "code",
   "execution_count": 26,
   "metadata": {},
   "outputs": [
    {
     "name": "stdout",
     "output_type": "stream",
     "text": [
      "[5, 4, 1, 9, 6]\n",
      "[1, 4, 5, 6, 9]\n",
      "9\n",
      "[1, 4, 5, 6]\n",
      "1\n",
      "6\n",
      "5\n",
      "[1, 4, 'Hello', 6]\n",
      "4\n"
     ]
    }
   ],
   "source": [
    "alist = [5,4,1,9]      # Create a list \n",
    "alist.append(6)        # Add an item to the back of the list\n",
    "print(alist)           # [5, 4, 1, 9, 6]\n",
    "alist.sort()           # Sort the list in-place\n",
    "print(alist)           # [1, 4, 5, 6, 9]\n",
    "print(alist.pop())     # returns and removes the last element (writes 9 to the screen)\n",
    "print(alist)           # [1, 4, 5, 6]\n",
    "print(alist[0])        # prints 1, the first element\n",
    "print(alist[-1])       # prints the last element (6)\n",
    "print(alist[-2])       # prints the second to last element 5\n",
    "alist[2] = \"Hello\"     # We can change items anywhere in the list, but mixed types may break sorting\n",
    "print(alist)           # [1, 4, 'Hello', 6]\n",
    "print(len(alist))      # The length of the list, 4"
   ]
  },
  {
   "cell_type": "markdown",
   "metadata": {},
   "source": [
    "What makes lists really powerful is the ability to slice them! You use colons to specify the `start:end:step` of the slice. If any are left blank, the defaults of `x[0:len(x):1]` are used where `len(x)` is a function that will return the length of a list `x`."
   ]
  },
  {
   "cell_type": "code",
   "execution_count": 27,
   "metadata": {},
   "outputs": [
    {
     "name": "stdout",
     "output_type": "stream",
     "text": [
      "[0, 1, 2, 3, 4, 5, 6, 7, 8, 9]\n",
      "[0, 1, 2, 3, 4, 5, 6, 7, 8, 9]\n",
      "[0, 1, 2, 3, 4, 5, 6, 7, 8, 9]\n",
      "[0, 2, 4, 6, 8]\n",
      "[1, 3, 5, 7, 9]\n",
      "[9, 8, 7, 6, 5, 4, 3, 2, 1, 0]\n"
     ]
    }
   ],
   "source": [
    "a = [0,1,2,3,4,5,6,7,8,9]\n",
    "print(a[:])             # These first three are all equivalent\n",
    "print(a[::])            # As the defaults are used for any blank/missing entries\n",
    "print(a[0:len(a):1])    # [0,1,2,3,4,5,6,7,8,9] this is the default output as above\n",
    "print(a[0::2])          # [0, 2, 4, 6, 8] only the odd ones\n",
    "print(a[1::2])          # [0, 2, 4, 6, 8] only the even ones\n",
    "print(a[::-1])        # [9, 8, 7, 6, 5, 4, 3, 2, 1, 0]  reverse the list"
   ]
  },
  {
   "cell_type": "markdown",
   "metadata": {},
   "source": [
    "Slicing actually forms a new list (kinda, the objects inside the list aren't copied, a new list is made whose entries point at the same objects but in a different way), so you don't have to worry about mutability here with the list as its like a copy, but note, the items in the lists are still the same between both lists. \n",
    "\n",
    "Strings (and many other things) are also \"list-like\" (to be precise, they're both a `sequence`) except they are immutable, so you cannot assign to them."
   ]
  },
  {
   "cell_type": "code",
   "execution_count": 54,
   "metadata": {},
   "outputs": [
    {
     "name": "stdout",
     "output_type": "stream",
     "text": [
      "H\n",
      "Hlo\n"
     ]
    }
   ],
   "source": [
    "print(\"Hello\"[0])   # prints 'H'\n",
    "print(\"Hello\"[::2]) # prints Hlo\n",
    "#Uncomment the next line to see the error!\n",
    "#\"Hello\"[0] = \"Y\"    #This fails"
   ]
  },
  {
   "cell_type": "markdown",
   "metadata": {},
   "source": [
    "Great! Our first error message (if you uncommented and re-ran the cell). See how it tells you the line number (3) where the error is, and tells you the 'str' (string) object does not support assignment! Very useful. You will become an expert at understanding errors as you learn to program."
   ]
  },
  {
   "cell_type": "markdown",
   "metadata": {},
   "source": [
    "## `for` loops\n",
    "\n",
    "Unlike other programming languages, python for loops ALWAYS loop over the contents of a container (e.g. a list) or a generator (a dynamically generated list). For example,"
   ]
  },
  {
   "cell_type": "code",
   "execution_count": 53,
   "metadata": {},
   "outputs": [
    {
     "name": "stdout",
     "output_type": "stream",
     "text": [
      "1\n",
      "--\n",
      "2\n",
      "--\n",
      "3\n",
      "--\n",
      "done\n"
     ]
    }
   ],
   "source": [
    "for i in [1,2,3]:# A colon (:) at the end of a line  is always used to indicate a start of a separate block of code\n",
    "    print(i)     # Python uses whitespace (the indent) to denote a block of code\n",
    "    print(\"--\")  # This line is also part of the for loop as its also indented!\n",
    "print(\"done\") # This line runs at the end, its not part of the loop!"
   ]
  },
  {
   "cell_type": "markdown",
   "metadata": {},
   "source": [
    "The most common use of a `for` loop in other languages is to count with an index. Making a container of sequential indices is quite tedious by hand so there are some built-in functions which do the job, e.g. the `range()` function."
   ]
  },
  {
   "cell_type": "code",
   "execution_count": 52,
   "metadata": {},
   "outputs": [
    {
     "name": "stdout",
     "output_type": "stream",
     "text": [
      "0\n",
      "1\n",
      "2\n"
     ]
    }
   ],
   "source": [
    "for i in range(3):\n",
    "    print(i)"
   ]
  },
  {
   "cell_type": "markdown",
   "metadata": {},
   "source": [
    "If you investigate `range()` by printing it, you'll find its not a list, but it can be converted to one and even sliced like one (it is also a sequence)."
   ]
  },
  {
   "cell_type": "code",
   "execution_count": 51,
   "metadata": {},
   "outputs": [
    {
     "name": "stdout",
     "output_type": "stream",
     "text": [
      "range(0, 9)\n",
      "[0, 1, 2]\n",
      "range(0, 10, 2)\n",
      "[0, 2, 4, 6, 8]\n"
     ]
    }
   ],
   "source": [
    "print(range(9))\n",
    "print(list(range(3)))\n",
    "print(range(10)[::2])\n",
    "print(list(range(10)[::2]))"
   ]
  },
  {
   "cell_type": "markdown",
   "metadata": {},
   "source": [
    "This is because `range()` is a generator. Rather than make a list of numbers (and incur the cost in memory and time required to make the list) generators calculate the values as they are required. A good analogy is if I asked you to count to 100, you wouldn't bother to write them all down (make a list) you'd just remember the last number and add one each time (generate it) then tell it to me as you go along.\n",
    "\n",
    "This is the first example of \"duck\" typing in python based on the saying \"If it looks like a duck, quacks like a duck, then its a duck\". `range()` makes a generator, but this looks like a list, slices like a list, so it can be used like a list anywhere you need a list."
   ]
  },
  {
   "cell_type": "markdown",
   "metadata": {},
   "source": [
    "# `if` statements\n",
    "\n",
    "To have our code make decisions we need `if` statements. We need a logic statement to test, and then an action to carry out if the statement is true, e.g.,"
   ]
  },
  {
   "cell_type": "code",
   "execution_count": 50,
   "metadata": {},
   "outputs": [
    {
     "name": "stdout",
     "output_type": "stream",
     "text": [
      "Mathematics works\n"
     ]
    }
   ],
   "source": [
    "if 1 + 1 == 2:\n",
    "    print(\"Mathematics works\")"
   ]
  },
  {
   "cell_type": "markdown",
   "metadata": {},
   "source": [
    "There are lots of comparison operations and ways of performing logical combinations. \n",
    "\n",
    "| Symbol | Task Performed |\n",
    "|----|---|\n",
    "| == | True, if it is equal |\n",
    "| !=  | True, if not equal to |\n",
    "| < | less than |\n",
    "| > | greater than |\n",
    "| <=  | less than or equal to |\n",
    "| >=  | greater than or equal to |\n",
    "| `and` | true if both operands are true |\n",
    "| `or`  | true if either operand is true |\n",
    "| `is` | are the two objects the same |\n",
    "| `is not` | are the two objects different |\n",
    "\n",
    "\n",
    "Note the difference between `==` (equality test) and `=` (assignment). Also note that `==` is not the same as `is`, which tests if it is the same piece of memory, e.g.,"
   ]
  },
  {
   "cell_type": "code",
   "execution_count": 31,
   "metadata": {},
   "outputs": [
    {
     "name": "stdout",
     "output_type": "stream",
     "text": [
      "True\n",
      "True\n",
      "True\n",
      "False\n",
      "True\n"
     ]
    },
    {
     "name": "stderr",
     "output_type": "stream",
     "text": [
      "<>:2: SyntaxWarning: \"is\" with a literal. Did you mean \"==\"?\n",
      "<>:3: SyntaxWarning: \"is\" with a literal. Did you mean \"==\"?\n",
      "<>:4: SyntaxWarning: \"is\" with a literal. Did you mean \"==\"?\n",
      "<>:2: SyntaxWarning: \"is\" with a literal. Did you mean \"==\"?\n",
      "<>:3: SyntaxWarning: \"is\" with a literal. Did you mean \"==\"?\n",
      "<>:4: SyntaxWarning: \"is\" with a literal. Did you mean \"==\"?\n",
      "/tmp/ipykernel_358/3995330295.py:2: SyntaxWarning: \"is\" with a literal. Did you mean \"==\"?\n",
      "  print(1 is 1)     # True,  python tries to make sure all constants (typed into the code) are the same object\n",
      "/tmp/ipykernel_358/3995330295.py:3: SyntaxWarning: \"is\" with a literal. Did you mean \"==\"?\n",
      "  print(1.0 is 1.0) # True,  same reason as above\n",
      "/tmp/ipykernel_358/3995330295.py:4: SyntaxWarning: \"is\" with a literal. Did you mean \"==\"?\n",
      "  print(1 is 1.0)   # False, 1 is an integer, while 1.0 is a float, different types mean different objects\n"
     ]
    }
   ],
   "source": [
    "print(1 == 1)     # True,  of course\n",
    "print(1 is 1)     # True,  python tries to make sure all constants (typed into the code) are the same object\n",
    "print(1.0 is 1.0) # True,  same reason as above\n",
    "print(1 is 1.0)   # False, 1 is an integer, while 1.0 is a float, different types mean different objects\n",
    "print(1 == 1.0)   # True,  1 the integer is equal to 1.0 the float"
   ]
  },
  {
   "cell_type": "markdown",
   "metadata": {},
   "source": [
    "We can also add on extra cases to our if statement,"
   ]
  },
  {
   "cell_type": "code",
   "execution_count": 49,
   "metadata": {},
   "outputs": [
    {
     "name": "stdout",
     "output_type": "stream",
     "text": [
      "Douglas adams detected\n"
     ]
    }
   ],
   "source": [
    "the_answer = 42\n",
    "if 0 < the_answer < 42:              # We can test ranges of values quite easily\n",
    "    print(\"Low answer universe\")\n",
    "elif the_answer == 42:               # We can have as many elif statements as we like\n",
    "    print(\"Douglas adams detected\")\n",
    "else:                                # but only one else statement per if\n",
    "    print(\"No sense of humor found\") # This line is hard to get to given the code above"
   ]
  },
  {
   "cell_type": "markdown",
   "metadata": {},
   "source": [
    "Now is also a good time to summarise all the available mathematical operators:\n",
    "\n",
    "| Symbol | Task Performed |\n",
    "|----|---|\n",
    "| +  | Addition |\n",
    "| -  | Subtraction |\n",
    "| /  | division |\n",
    "| %  | modulus (think remainder of division) |\n",
    "| *  | multiplication |\n",
    "| //  | floor division (divide and round down) |\n",
    "| **  | to the power of |\n",
    "\n",
    "Very important libraries such as `pandas` really expand on the operators, with bitwise/element-wise and (&), or (|), not (~) becoming important but you'll find those later. "
   ]
  },
  {
   "cell_type": "markdown",
   "metadata": {},
   "source": [
    "## Functions\n",
    "\n",
    "Functions should be used to create small self-contained blocks of code with a defined purpose and sensible name. Functions can take many arguments (inputs) and return many values. For example,"
   ]
  },
  {
   "cell_type": "code",
   "execution_count": 48,
   "metadata": {},
   "outputs": [
    {
     "name": "stdout",
     "output_type": "stream",
     "text": [
      "0.5\n"
     ]
    }
   ],
   "source": [
    "def my_divide(numerator, denominator):   # define a function which takes two arguments\n",
    "    return numerator / denominator       # return the division of them\n",
    "\n",
    "print(my_divide(1, 2))"
   ]
  },
  {
   "cell_type": "markdown",
   "metadata": {},
   "source": [
    "This function takes two arguments and returns one value. Just like the for loop, indentation is used to distinguish the body of the function from the main code.\n",
    "\n",
    "We should keep in mind what the computer does when it sees a function. It reads the entire function into memory when it encounters the `def` keyword, but does not run the statements (body) of the function yet! When the function is later called, it calculates the value of its arguments, then runs the function. This is really important to get right when we talk about variable scope in the next set of notes.\n",
    "\n",
    "When we use a function, we can also say exactly the order in which we'd like to set arguments by using their names. E.g.,"
   ]
  },
  {
   "cell_type": "code",
   "execution_count": 46,
   "metadata": {},
   "outputs": [
    {
     "name": "stdout",
     "output_type": "stream",
     "text": [
      "2.0\n"
     ]
    }
   ],
   "source": [
    "print(my_divide(denominator = 1, numerator = 2))"
   ]
  },
  {
   "cell_type": "markdown",
   "metadata": {},
   "source": [
    "Naming arguments like this is known as \"keyword arguments\", they must appear after any arguments not referred to by their keywords (called positional arguments). i.e.`my_divide(1, denominator=2)` is valid, but `my_divide(denominator=2, 1)` is not.\n",
    "\n",
    "We can also set default values for arguments when creating a function, for example,"
   ]
  },
  {
   "cell_type": "code",
   "execution_count": 45,
   "metadata": {},
   "outputs": [
    {
     "name": "stdout",
     "output_type": "stream",
     "text": [
      "0.5\n"
     ]
    }
   ],
   "source": [
    "def my_divide(numerator, denominator = 2):   \n",
    "    return numerator / denominator\n",
    "\n",
    "print(my_divide(1)) # Because we didn't give a denominator it will default to 2"
   ]
  },
  {
   "cell_type": "markdown",
   "metadata": {},
   "source": [
    "The python way is to set sensible defaults for all arguments so it Just Works&reg;. When you write your own functions, try to follow this idea.\n",
    "\n",
    "Let's start to look at more interesting functions that return multiple values. This is a function that returns the minimum and maximum of a container (e.g. a list),"
   ]
  },
  {
   "cell_type": "code",
   "execution_count": 44,
   "metadata": {},
   "outputs": [
    {
     "name": "stdout",
     "output_type": "stream",
     "text": [
      "0 9\n"
     ]
    }
   ],
   "source": [
    "def min_max(sequence):\n",
    "    min_val = sequence[0] # start by assuming the first data point\n",
    "    max_val = sequence[0] # is the min and max value.\n",
    "    # Now check all other data points if they are higher/lower\n",
    "    for data in sequence[1:]: # The slice skips the first element in the sequence.\n",
    "        if data < min_val:\n",
    "            min_val = data\n",
    "        if data > max_val:\n",
    "            max_val = data\n",
    "    return min_val, max_val   # At the end of the loop return both values\n",
    "\n",
    "# We should write tests to make sure the code is working as expected (and keep them\n",
    "# just to check in future if we change the code).\n",
    "assert(min_max([1, 5, 9, 0, 2]) == (0,9))\n",
    "\n",
    "#We can unpack the two return values\n",
    "minval, maxval = min_max([1, 5, 9, 0, 2])\n",
    "\n",
    "print(minval, maxval)\n",
    "\n",
    "#What happens if we pass an empty list?\n",
    "#min_max([])"
   ]
  },
  {
   "cell_type": "markdown",
   "metadata": {},
   "source": [
    "Quite a lot in that one, but it should mostly be self explanatory. One of the big challenges in programming is how to think in loops like this, but the best way to learn this is to see lots of examples.\n",
    "\n",
    "This is not \"good code\" as it does not handle \"edge cases\" where unexpected input is passed, like empty length lists, in a sensible way. When you are a good programmer, you will guess what crazy ways you might accidentally use your code in advance, and make sure your code does something sensible when they do it, or raises a sensible error (more later). As another example, what happens if someone doesn't pass a list at all, but a single number?\n",
    "\n",
    "We should note that python of course already has built-in functions for the max and min elements of a sequence,"
   ]
  },
  {
   "cell_type": "code",
   "execution_count": 41,
   "metadata": {},
   "outputs": [
    {
     "name": "stdout",
     "output_type": "stream",
     "text": [
      "9 0\n"
     ]
    }
   ],
   "source": [
    "seq = [1, 5, 9, 0, 2]\n",
    "print(max(seq), min(seq)) #Print can take more than one object at a time."
   ]
  },
  {
   "cell_type": "markdown",
   "metadata": {},
   "source": [
    "The built-in functions should always be used when available as they are usually \"great\" bits of code which give you all the warnings you need if you use it wrong, and can be significantly faster. Try passing in things like empty lists or single numbers into the built-in `min`/`max` functions to see how they handle it."
   ]
  },
  {
   "cell_type": "markdown",
   "metadata": {},
   "source": [
    "## Tuples and unpacking\n",
    "\n",
    "Tuples are created most of the time when a comma is used in python, e.g., `return min_val, max_val` actually creates a tuple `min_val, max_val` and returns it. For example,"
   ]
  },
  {
   "cell_type": "code",
   "execution_count": 67,
   "metadata": {},
   "outputs": [
    {
     "data": {
      "text/latex": [
       "$\\displaystyle \\left( 1, \\  2, \\  3\\right)$"
      ],
      "text/plain": [
       "(1, 2, 3)"
      ]
     },
     "execution_count": 67,
     "metadata": {},
     "output_type": "execute_result"
    }
   ],
   "source": [
    "1, 2, 3"
   ]
  },
  {
   "cell_type": "markdown",
   "metadata": {},
   "source": [
    "The parenthesis `()` are used to indicate a tuple exactly like square brackets indicate a list. Tuples behave exactly like lists EXCEPT they're immutable, so their length is fixed. They're mainly used for returning values. The key advantage is we can unpack other sequences into them, e.g."
   ]
  },
  {
   "cell_type": "code",
   "execution_count": 68,
   "metadata": {},
   "outputs": [
    {
     "name": "stdout",
     "output_type": "stream",
     "text": [
      "1\n",
      "2\n"
     ]
    }
   ],
   "source": [
    "a,b = [1,2]\n",
    "print(a)\n",
    "print(b)"
   ]
  },
  {
   "cell_type": "markdown",
   "metadata": {},
   "source": [
    "Exercise: Try unpacking too many/few values to get a new kind of error message. Really, do this, now. You need to become an expert at understanding errors when you're learning. The errors are trying to help you fix the problems you will make by not understanding, so get used to them by seeing errors you understand first."
   ]
  },
  {
   "cell_type": "markdown",
   "metadata": {},
   "source": [
    "## Dictionaries\n",
    "\n",
    "Dictionaries are the most important container in Python, because almost every type/object is a dictionary (to be precise, each object has a \\__dict\\__ attribute which is used to look up all other attributes). Dictionaries are mutable containers which store values using a key. The key can be almost anything, a number, a string, a list, etc. They are created using braces `{}`, e.g."
   ]
  },
  {
   "cell_type": "code",
   "execution_count": 2,
   "metadata": {},
   "outputs": [
    {
     "name": "stdout",
     "output_type": "stream",
     "text": [
      "value\n",
      "5\n",
      "{'key': 'value', 1: 5, 'a_list': [1, 2, 3, 4], (32, 2): 'Even tuples are allowed as keys'}\n",
      "What happened here?\n"
     ]
    }
   ],
   "source": [
    "my_dict = { #Create a dictionary with three entries/keys/values\n",
    "    \"key\": \"value\",\n",
    "    1: 5,\n",
    "    \"a_list\": [1,2,3,4],\n",
    "}\n",
    "\n",
    "print(my_dict[\"key\"])  # prints value\n",
    "print(my_dict[1])      # prints 5\n",
    "#Uncomment this line to see an error!\n",
    "#print(my_dict['not_a_valid_key'])\n",
    "\n",
    "#We can also assign to dictionaries\n",
    "my_dict[(32,2)] = \"Even tuples are allowed as keys\"\n",
    "print(my_dict) #writes out the whole dictionary\n",
    "\n",
    "my_dict[\"Hello\"] = print\n",
    "\n",
    "my_dict[\"Hello\"](\"What happened here?\")"
   ]
  },
  {
   "cell_type": "markdown",
   "metadata": {},
   "source": [
    "Looping over dictionaries can be done in two ways,"
   ]
  },
  {
   "cell_type": "code",
   "execution_count": 70,
   "metadata": {},
   "outputs": [
    {
     "name": "stdout",
     "output_type": "stream",
     "text": [
      "key -> value\n",
      "1 -> 5\n",
      "a_list -> [1, 2, 3, 4]\n",
      "(32, 2) -> Even tuples are allowed as keys\n",
      "Hello -> <built-in function print>\n",
      "\n",
      "### Slightly neater way\n",
      "key -> value\n",
      "1 -> 5\n",
      "a_list -> [1, 2, 3, 4]\n",
      "(32, 2) -> Even tuples are allowed as keys\n",
      "Hello -> <built-in function print>\n"
     ]
    }
   ],
   "source": [
    "for key in my_dict:\n",
    "    print(key, \"->\", my_dict[key])\n",
    "\n",
    "print(\"\\n### Slightly neater way\")  # \\n is a newline character, print automatically puts one at the end\n",
    "for key, value in my_dict.items(): #Using unpacking we can get both the key and value at the same time!\n",
    "    print(key, \"->\", value) "
   ]
  },
  {
   "cell_type": "markdown",
   "metadata": {},
   "source": [
    "We will see later how dictionaries can be used to perform powerful operations."
   ]
  },
  {
   "cell_type": "markdown",
   "metadata": {},
   "source": [
    "## `import`ing other people's work\n",
    "\n",
    "Finally, we're nearly ready to work on examples. The last item is using python libraries. This is python's strongest point, it has libraries for nearly everthing. For example, if you want python to do your math homework:"
   ]
  },
  {
   "cell_type": "code",
   "execution_count": 3,
   "metadata": {},
   "outputs": [
    {
     "data": {
      "text/latex": [
       "$\\displaystyle - 2 x \\sin{\\left(x^{2} \\right)} + e^{x}$"
      ],
      "text/plain": [
       "         ⎛ 2⎞    x\n",
       "- 2⋅x⋅sin⎝x ⎠ + ℯ "
      ]
     },
     "execution_count": 3,
     "metadata": {},
     "output_type": "execute_result"
    }
   ],
   "source": [
    "import sympy as sp                 # We can rename imported libraries\n",
    "from sympy import init_printing    # Or just pull individual bits out.\n",
    "init_printing(use_latex='mathjax') # This gives us nice LaTeX output for jupyter\n",
    "\n",
    "x = sp.symbols('x')   \n",
    "sp.diff(sp.cos(x*x)+sp.exp(x), x) #Take the derivative of cos(x^2)+e^x"
   ]
  },
  {
   "cell_type": "markdown",
   "metadata": {},
   "source": [
    "Or make nice plots of random data"
   ]
  },
  {
   "cell_type": "code",
   "execution_count": 4,
   "metadata": {},
   "outputs": [
    {
     "data": {
      "image/png": "[encoded data removed]",
      "text/plain": [
       "<Figure size 640x480 with 1 Axes>"
      ]
     },
     "metadata": {},
     "output_type": "display_data"
    }
   ],
   "source": [
    "import numpy.random\n",
    "\n",
    "y_data = []\n",
    "for i in range(100):\n",
    "    y_data.append(numpy.random.normal(0.0, 1.0))\n",
    "\n",
    "import pylab\n",
    "pylab.plot(y_data)\n",
    "pylab.show()"
   ]
  },
  {
   "cell_type": "markdown",
   "metadata": {},
   "source": [
    "We can also just pull everything from a library into our current scope,"
   ]
  },
  {
   "cell_type": "code",
   "execution_count": 6,
   "metadata": {},
   "outputs": [
    {
     "name": "stdout",
     "output_type": "stream",
     "text": [
      "0.9092974268256817\n",
      "0.9092974268256817\n",
      "0.9092974268256817\n"
     ]
    }
   ],
   "source": [
    "import math\n",
    "print(math.sin(2))\n",
    "print(sin(2))      #<- Should this give an error? Why the strange sin(2) result? why is it not 0.909297?\n",
    "from math import *\n",
    "print(sin(2))      #<- Fine now"
   ]
  },
  {
   "cell_type": "markdown",
   "metadata": {},
   "source": [
    "So why not pull everything from libraries all the time? You want to keep your scope as clean and explicit as possible so you know where the code you're running is coming from.\n",
    "\n",
    "For example, that first `sin(2)` line is actually running the `sympy.sin` function, as we did a `from sympy import *` right at the start of the notebook. We then overwrote it with the `from math import *`. Generally importing everything without a sub namespace is bad practice. \n",
    "\n",
    "Now we're ready to work on some problems and explore this scope thing a little more carefuly."
   ]
  },
  {
   "cell_type": "code",
   "execution_count": null,
   "metadata": {},
   "outputs": [],
   "source": []
  }
 ],
 "metadata": {
  "kernelspec": {
   "display_name": "Python 3 (ipykernel)",
   "language": "python",
   "name": "python3"
  },
  "language_info": {
   "codemirror_mode": {
    "name": "ipython",
    "version": 3
   },
   "file_extension": ".py",
   "mimetype": "text/x-python",
   "name": "python",
   "nbconvert_exporter": "python",
   "pygments_lexer": "ipython3",
   "version": "3.10.6"
  }
 },
 "nbformat": 4,
 "nbformat_minor": 4
}
