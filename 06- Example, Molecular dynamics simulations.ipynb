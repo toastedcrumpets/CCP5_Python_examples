{
 "cells": [
  {
   "cell_type": "markdown",
   "metadata": {},
   "source": [
    "# Part 06 - Molecular dynamics example (and numpy)\n",
    "\n",
    "Molecular dynamics takes particles at a specified initial condition (velocities and positions) and calculates their new position and velocity after a discrete time step $\\Delta t$. We're not going into details here, but the algorithm for performing the update of a single particle $i$ can be derived from a Taylor series, \n",
    "\n",
    "\\begin{align}\n",
    "\\vec{r}_i(t+\\Delta t) &= \\vec{r}_i(t) + \\Delta t \\frac{{\\rm d}\\vec{r}_i(t)}{{\\rm d} t} + \\frac{\\Delta t^2}{2} \\frac{{\\rm d}^2\\vec{r}_i(t)}{{\\rm d} t^2}+\\ldots\n",
    "\\\\\n",
    "&\\approx \\vec{r}(t) + \\Delta t\\,\\vec{v}_i(t) + \\frac{\\Delta t^2}{2} \\vec{a}_i(t)\n",
    "\\end{align}\n",
    "where $\\vec{r}_i$ is the position of a particle, $\\vec{v}_i$ is its velocity, and $\\vec{a}_i$ is its acceleration.\n",
    "The velocity update is obtained from a similar approach,\n",
    "\\begin{align}\n",
    "\\vec{v}(t+\\Delta t)&\\approx \\vec{v}(t) + \\Delta t\\,\\vec{a}_i(t)\n",
    "\\end{align}\n",
    "To close the expressions, we need an expression for the force in terms of the position and velocity of the particles. Its this force expression which sets the type of atom/molecule you are simulating.\n",
    "\n",
    "In the example below toy spring particles are used. These are particles that push away from each other whenever they are closer than a certain distance $\\sigma$\n",
    "\n",
    "\\begin{align}\n",
    "    \\vec{F}_{ij} = \\begin{cases}\n",
    "    -k (\\sigma - \\left|\\vec{r}_{ij}\\right|) \\hat{r}_{ij} & \\text{for $\\left|\\vec{r}_{ij}\\right| < \\sigma$}\\\\\n",
    "    0 & \\text{otherwise}\n",
    "    \\end{cases}\n",
    "\\end{align}\n",
    "where $k$ is the spring stiffness setting how \"hard\" the particles are, $\\vec{r}_{ij}=\\vec{r}_i - \\vec{r}_j$ is the vector pointing from particle $j$ to particle $i$, $\\left|\\vec{r}_{ij}\\right|$ is the distance between the two particles, and $\\hat{r}_{ij} = \\vec{r}_{ij}/\\left|\\vec{r}_{ij}\\right|$. The total force on a particle is just the sum of all the forces from other particles, as well as any global forces,\n",
    "\n",
    "\\begin{align}\n",
    "    \\vec{F}_{i} = \\vec{F}_{body} + \\sum_{i\\neq j}\\vec{F}_{ij}\n",
    "\\end{align}\n",
    "\n",
    "The body force is any force like gravity which affects all particles and doesn't depend on the positions/velocities of other particles. Here, we just use another spring force that pulls all particles into the center of the system (to stop them flying away).\n",
    "\n",
    "The actual integration algorithm used here is the velocity verlet algorithm, as its very good at conserving energy.\n",
    "\n",
    "\\begin{align}\n",
    "\\vec{r}_i &= \\vec{r}_i + \\frac{\\Delta t}{2} \\vec{v}_i\\\\\n",
    "\\vec{v}_i &= \\vec{v}_i + \\Delta t\\, F_i / m_i\\\\\n",
    "\\vec{r}_i &= \\vec{r}_i + \\frac{\\Delta t}{2} \\vec{v}_i\\\\\n",
    "\\end{align}\n",
    "where $m_i$ is the mass of the particle.\n",
    "\n",
    "This is a great example of python's\n",
    "power (and its lack of speed). Balance\n",
    "<em>your</em> programming time against the <em>run\n",
    "time</em> when choosing scripting or compiled\n",
    "languages."
   ]
  },
  {
   "cell_type": "code",
   "execution_count": 1,
   "metadata": {},
   "outputs": [
    {
     "name": "stdout",
     "output_type": "stream",
     "text": [
      "Running calclations, please wait!\n"
     ]
    },
    {
     "data": {
      "text/html": [
       "<video width=\"432\" height=\"288\" controls autoplay loop>\n",
       "  <source type=\"video/mp4\" src=\"data:video/mp4;base64,AAAAHGZ0eXBNNFYgAAACAGlzb21pc28yYXZjMQAAAAhmcmVlAAHdzm1kYXQAAAKuBgX//6rcRem9\n",
       "5tlIt5Ys2CDZI+7veDI2NCAtIGNvcmUgMTU1IHIyOTE3IDBhODRkOTggLSBILjI2NC9NUEVHLTQg\n",
       "QVZDIGNvZGVjIC0gQ29weWxlZnQgMjAwMy0yMDE4IC0gaHR0cDovL3d3dy52aWRlb2xhbi5vcmcv\n",
       "eDI2NC5odG1sIC0gb3B0aW9uczogY2FiYWM9MSByZWY9MyBkZWJsb2NrPTE6MDowIGFuYWx5c2U9\n",
       "MHgzOjB4MTEzIG1lPWhleCBzdWJtZT03IHBzeT0xIHBzeV9yZD0xLjAwOjAuMDAgbWl4ZWRfcmVm\n",
       "PTEgbWVfcmFuZ2U9MTYgY2hyb21hX21lPTEgdHJlbGxpcz0xIDh4OGRjdD0xIGNxbT0wIGRlYWR6\n",
       "b25lPTIxLDExIGZhc3RfcHNraXA9MSBjaHJvbWFfcXBfb2Zmc2V0PS0yIHRocmVhZHM9OSBsb29r\n",
       "YWhlYWRfdGhyZWFkcz0xIHNsaWNlZF90aHJlYWRzPTAgbnI9MCBkZWNpbWF0ZT0xIGludGVybGFj\n",
       "ZWQ9MCBibHVyYXlfY29tcGF0PTAgY29uc3RyYWluZWRfaW50cmE9MCBiZnJhbWVzPTMgYl9weXJh\n",
       "bWlkPTIgYl9hZGFwdD0xIGJfYmlhcz0wIGRpcmVjdD0xIHdlaWdodGI9MSBvcGVuX2dvcD0wIHdl\n",
       "aWdodHA9MiBrZXlpbnQ9MjUwIGtleWludF9taW49MjUgc2NlbmVjdXQ9NDAgaW50cmFfcmVmcmVz\n",
       "aD0wIHJjX2xvb2thaGVhZD00MCByYz1jcmYgbWJ0cmVlPTEgY3JmPTIzLjAgcWNvbXA9MC42MCBx\n",
       "cG1pbj0wIHFwbWF4PTY5IHFwc3RlcD00IGlwX3JhdGlvPTEuNDAgYXE9MToxLjAwAIAAABFpZYiE\n",
       "ACf//vWxfApqyfOKDOgyLuGXJMmutiLibQDAAAADAAVZ14EC/EBO3BxKydwMPbEIiCAqrAx+dj4w\n",
       "T5Nncu48c7AItvUaGGIhLWCaqCClk2CXJTJW20kHI4oBgHvsAAADABh3NS6UdtCoEUgxG0R4A0Pg\n",
       "/KyOJQsTXPC3IJ2NQGVqeSBrzazczlwCZz1FAM9h09lk3SPWCO2XouWlXiHgf9CwAYx2VlSfcwnM\n",
       "5JMDwgfXT53DPn+L94y0t7CxuLreB3HXR8MjZwL2SQTqqbJQtc+c0jZwdpPqC8UId1J0r20Du7hv\n",
       "wH1h6SSIUAAE+PFBCiZ270MlnOK2TB3uqR96uvCLtaj+rBrZw9xYlZn8JWtakv6oRJmJy65e+PAG\n",
       "6jsIRwhNQeBHma11T0iMPrzSin2GQid1GDc4IYKXpvyDgAoFZXdXUWPNdHJ4e3aFYfls15qzWS95\n",
       "hTFQB0uIrPSPwVI6FYAAAAMChFaBuP2cMZJchmKBVjkcS9WW9W8v4IYqwr4ZZBJSlkpDF4/dyHTI\n",
       "Cj5Q7OOAB1EN9XXR7JDMlQYhcGk4/S6J8L4fvw1mqTWGLkD+pFbWEfxXAhzRdf/6VW6rBFUBwEb+\n",
       "5ldGQw3MTzSk9XHtb37gXdHy44qkgQ1ljsIGe5uB9sG62t+jl87t+D2Lg8RTHE5ZTdoVeFLhp70O\n",
       "ox9hoNhjC6V2Bg8JPEjcLMWXdjN4nMg/8PCnd8yQmX+c4i1wA/5ozM+jkdXG9PVDD9JnlfuYncBB\n",
       "8ZXTk/8ogycpH0gtdArD+dXgovYfTUumklbJh4GrCWnPGyL6tQJH02W4APtRUbo0y2sc4dbE+6y9\n",
       "uCeO9ZZP+7mZfxeogbAQFacCMJYqJjZ2niEV4JykUhwuEHQV8fzQZUzJ/Z/sHjCwcOo4xS/MBMdq\n",
       "qlymdAQH2WHPvKXboI3753fLhHz8LAyYp7y141Dbx+4BFjVjGhCR5PbJj2eYqlr3JI+DUihJ0xc5\n",
       "7zKTXDGUc3x3A7EQk+y61DjDi1jFKX4G5d6wHnqz6mPX7xSqYfwCozWjTv8QSqecvG0KYklGSTKo\n",
       "Bi92kWkNQ3YPiO2ZC4zPQEahjkitiJU4YinvCDI7CuJ1difJhqGX7ACa2/b7wOd7xNF9PDVyrx5T\n",
       "qPUX84mpAmbHWbhv9f0tDnJU5BdHDwtSsN/ckyU3+H6vkkAbXnGuBZun/kJa1o6NnnWWWZ86tSH1\n",
       "lp2WeGNupZtAXI6l222DrwgmFw0y3STWCGN3DxDs6U+gDlcIieUWVX3l++hHdtuBRUwVXGQWLmhp\n",
       "5f1w8xlyeljMNvQDmwXsa1zWqfX+0p0sVP9YuUdn9jTEfnPiehqzv+T81+JipKUhMEw+clCYnzEJ\n",
       "gI59PSq16ZSje7mPow/r4rq8uRpby+HReZCkIIRc7nA7sd8cRGjfn47AylerT3NHFRt/M6RMEObb\n",
       "i5bfJS9eu717uq5vEXbAZj53ZV31xKg/og2EP1lypJHqA9GDbI1KKjdKT7zyXX12AICP28OCXt1W\n",
       "IsY8Vm7DVuRnWPfgumVeCGkxIk9/8i3P2do6nK+s+fSrjYAwWN6g25kL4QOxM7r8mG+76Ly5p0o4\n",
       "5CYi1FbjPWuF6Sg3/WdcfmfRhgUvcRWj9oQ9dNvwQYMgKqcEIGZy1/V0HvzSLsjpGB34iObtFzXV\n",
       "UXlLVSOS6pGdNucgWsl19de0z4HUrZuUWNb5PTgnHCaNL2eEpkHNBritag/I8x9XYcLzgTjkmNOR\n",
       "n20h9k8pi7yEvcvEfl+40Xz59bJnk+fmixy8oHO7gGBWIgOxjaCDmIZgz+M7CM0iN4aGb7pdsCiQ\n",
       "5/sUPYud+WzmDjCIPIu5wuCOtY8M+2PbO7cmNzH6EvZ7pDalwt9bfZurAsBit0FV3rFgP//7eZKr\n",
       "DOs6cTPNFIRcRUULVwrNA8nDzrb+Z6JgubwwH1vqoPf46P5+Qk5DG7ggUAs64XNvQqtHBcqwIC6q\n",
       "VFQ5lZ4ops+hEv+ll/0Y9LX4PQn7ZbIzr0L2QknZwei+89B+662PQ8muFyRjv9Jec5P6i1rNMp0d\n",
       "YR5VRi/jZP9/1PaacEeGPoWUzG25/mSZzN/RKMh4HEsxqeZQ/J+TcuaA0O20aqFaDTDR2rE+M41Z\n",
       "J538kW9rt+BbLydG3ls8LXjkBYBnDglV7XOo10wAjDwcQIpnAXQmmuxTFRIxBWOir6hipI3dw9xp\n",
       "x/sVOxN+wMyE/xqs8xrwyERif22loBMnhN9VAFT7yB2oeGiWyNi7SE6KDWwjO851XvoZWXN07dm4\n",
       "G+UtJX/SKYilqf46Hi67QKgrvh/CvlzL+FWDRNPFa/FQYrTRwSONtKzosxLeZpLgWb0+szORoi+3\n",
       "T6IX7ol8rmPPBy66gZ4iLpYqMjCHkbxQtie+srJvuiZ3k0rKAlH3iTziFheeX1DHRWtqf5+iL+ET\n",
       "tsm21LBWmm1nVD3McXLGlcafmqSwbKYRkvAfZy/uf45+eQXr/+F6cjlQepF7gXbxtYsMhocqwBVC\n",
       "ZEZbklCQZwXdcELgtwBZp0fOC87UEbGquHmcm5w8r5GEBydehAF7ete4iDaPzkHNirHK1Lup9X50\n",
       "U6zw70FjPkAxWWE/vCtlmEKtYKxR1EaSl3t/Lq31SKfqjIfWWozchAFzyrTJ98kcS9Q1ZR2iP1/a\n",
       "7vFIkr33kdB1DjcHDnObyHBwl7+GEf3cTXtpDMFOJ1NLjm/SkBrkyvPVY9zr14SLfNfjAS8kj+Un\n",
       "9ZkJSjC+rCEyG/xdVOgjDUim3pA0lRVHbBOp5ecRrvvAWaSEyWTXRwZZtHnw/oyQ7kXPXXaOLX6V\n",
       "4IXCbFCWUtTThNdKHkIQI4zO0P6NSV2O2q4HG/NOneE1g9WiBknyFfj3HzWya31GzNO+4Hs3kGjq\n",
       "IAYW0ogZ/1hhPSuh4oO3JHKKhuY/a7Yee3xyctGTBXFm9OzWoI3EPWHSTgKGmHTnqJg/0Y9XnIKL\n",
       "ImtGi9+cq7fJUFTmog3/gVSdN8mvb2jooxcpVo5ms0PxaULZeY7h3nbDRIvaALNJGn9cZdFMA4yX\n",
       "iFkozHagg1udjvlKn7NhlxhEiXBoLATivexSmCfJ8mY5oSrry6RfB9Jo2SGN5lGky2dITBhsxGeK\n",
       "kbfXDGD/9QlBJLpvX3gGUox52l8h2BCKv1TbCGmIP5WOc0RYe1tTtAnNzoH/zHa9d6NHQaEzuhgW\n",
       "fjpC3cX/qee86b7IwjUSCp2ZHgC78LLvtQgEH6F+Yk5e2IIfy51HhpQ/nFc//vitCz46F0pvATB9\n",
       "J7JFMoWb8byr88SuuWCVKf+IQu3xAdUnhU8PASjr3D6+aIc5ogyqvLcKoMUBxL/dH6sHnxwDhvh8\n",
       "oYy7Ba3WKaYCcRhFF27JTyLnwiHm3gazwECUZI5e94v8rZU/2Ix9/x6tmXr/GlMFaJieaQ4eiEP9\n",
       "ZPTqwB/Zc+5JObBOWIza9AyBHtbhIgX0M3z+UaZnD36hXUIoqGPJVxXBb3xq7BnThmB9KBkrNy7/\n",
       "YVsNIzskBE1NRqJ/RNTOlN3U09Iuv7Eh2ZFvm3gxK2rK0WbcfgZE1Wc/tR/qQGGsoW+MoYuL/jlM\n",
       "PJqKW/YOj/ix8mf///XbAjw6GLsQEynWX/SF9uDM9aio6wjduoO48dSet760Y9eVD+EeugfEwRUq\n",
       "6u1cjdjcuBLz1TodPIcha/gNUa9KnUwNkL9+1Qlux7FJ8NRASEXuluQF23gQ+D2rgB4fpsoi7eIK\n",
       "WarDYs1pmediXU4rmdEOiSambH2oYJOBKi3NJauJtEekzaf1SgGwEUU7TiC0un6JVDbOD0mmTI41\n",
       "CDRV1erTMFljNcwaKPAVdrYSS0ahPbdO7E0LLDG7DPBzGrOfjfxGvAJr+RngFFAHPFhE3HE1pw1g\n",
       "73J35400iyzQjc/MXqvp9W2FZ4HyHwwq1FYjkiLp+QHJcJnkIblgqsI9GXhfmHqjfecsln73f/og\n",
       "yDtDHwMb3GkHydb4ZRdLNUQp7Ui5hN7fYSLJS3S6ei0VRg7h26gGeUof8e+EwfXUxZ3OPP9Y7VIn\n",
       "AocpftaPP59TV6IanWtwIRkbyFPWvZkrGBiT3owrE2vy57V/3hvApSu9p6iZ9R917HkEbz+vHHTg\n",
       "tMMmfox2Z+b9xw7kl5u1MLmjFNF1kgoFQAJeusgP7qgJ3YDqgDydgwUguVAmjXMSrvFcLer4ld/F\n",
       "YWBQqfLdUMc806sqofzuW+ceCV2BzB/C3qKTMi03cyXQEQPzCgcMaYDnenEP9Rs8JCmpfR0W6pMV\n",
       "nsyizvocQlGWve70iaRVUARtoCck7wO20YJ4Kovo1M6MxnrJPv3RYLlnE2GHh6F2/ZQJuqd54PGZ\n",
       "xUFJR4ARcEG2xto31YQHbihWJt4VA9IoBC3tGzDPwb5wWKSTOK9XhvbY2nudE8P4jMDMkmb0PC4I\n",
       "0c2lkI6ln3GQoBU2cH5hWGCUvjWjyHGPW+EU6g0nIflBLiazNUaWNRrOhi0Nv+Nzrl+c6QyU1Web\n",
       "tjBYLR4jQAN9epPhBTxpX/7hKqL8qn5H3HiovpLt7Tep82lZwfcUbmGHx6YjLY27UGm21rinwtXR\n",
       "81K91cPnKfQMEMVu+qMeX1klueHRZZf+VolxcnM1bc1TI274UjvkAllGeOZSOFnNcIUSNNUHjKMF\n",
       "x0mRgdIMkDPBSAbWBbcPaf4KzbYDvXMS+zt28F7UT+Soq8N7gGiQFjnx0Boyy88IGxANu2pvXL2H\n",
       "/ITaySjYOt+2UarTRHnWm38Utcx1tlh6U1RPoPSncVIE1lRmz4cXvFvvuVeVXosI5cuC8ItALG17\n",
       "VM3adjnFyQNwbJ4H3waKmSVR+laJ5g06YQGyEshDnjJIh+Eur4t33R6I0ikPX9f71cc76bv5GKFq\n",
       "jjFYA+8JPP+CEiAHsZLVcZ98VT1G/PhpbgxIVu2ojHZooF/LJuTIb43k3/MXpkgc0P11R6+1FQjf\n",
       "KPS9Dy5ieNxoketiLggn/IaeO7dJJMgz0GzHmq+BApgY3HzOR/bG1IjixmKkJ6hk3Qyocp/OIpkz\n",
       "2q4DmRI/+T+3FtZGDFfQN/zP9LnSpYGcYeE7iPTyFPAUt9RWmwxtswQVbRydsycBCnIBumlsGodk\n",
       "rK2NeFSBvCHLOJbevVxO0gnduy4Sk0vF4bhtvgcfIZJVmtz3whhrTedFlHLyCNoUP2eXz+VW6fYv\n",
       "x0TOGkk8jedqz4+H8mpn9PRTMQqRPHxNBy3eF7qQptOLRoqaLZF5pH/ZijyV9V9dBEuzUDAMfY8C\n",
       "ZvZmZyPLzewhM1Fo7kC2oqOZXAKq2q6D2+Nd++nR6SFJvw0Ka5Qj3njeu4+HaZv65J8r6xm8tpoE\n",
       "eWZk8W095x1dO+qrGSlSfjkJ2n9+7ImIyu5FDMW7lz0/HAPDAEE12gj+8HFmszVjKFTNryBQb0+4\n",
       "gOLV99fkscnwS3k9uJjA+Qj8z+tdO0sia3QefRsjynaTL9Tc1t+Hr2KWyNt8RVnmBmadaFFI0x/G\n",
       "lU/XFdxae20VJB4FfByVAwCfm+5/qjZyGz+HDRUQrDoq1N2078mg6nmct5emERy0faiVCKxpfGnl\n",
       "M3zmQ9FXzcQZUDdlYwAfdTW5r47I8svwdJ0g8UyikauY5V/nv/NUYQKImO6e7JUnHNaWo5tFOEku\n",
       "Vqm5Ep6Epbnj1H/xkgcWPxu9//cHstT21QIOQYjrQYw0jgp69eSVhX+mLTIJQT1c+m0WtTaZXeOz\n",
       "zD3DWVqhAqTklUiYmYYJQ0W1iAzjfrXSneqGUW6CfCVp47FVlPjwKFnRbYrvkM7Scstek3PQl3QY\n",
       "0dLX+WhPEgEogYQeMJw2B3cfX8vgXnN4nsKGHZpgsT2UFPTZ2TKqfhB6HR5K6JvXB9XstnW6alCN\n",
       "n+giLzmJMfSDHIex8Hv2fXAuoGJ6YPVYAU6jGTPCFHJuBFero7LMHRDePONjTLg2qOBi2AABmuQQ\n",
       "rLX3B/AA4YEAAAOiQZokbEI//eEAcGn6QDQdyNsTmz6hR1u0gH/QV3bnyJAKEezSfDIqqGJvOs6e\n",
       "MEWowF3itLwvbVMttdjxTKIB3ka2dh6yTJ8H0vitXiI7agZC7OOyiPrugncUuw423Jr/C6fXNzr8\n",
       "eWNunlPU8W2CfMqDlFAtBuIc2nnW3vwU7a00JONVgfy448C2i0j2cM5znvwWLUrVXLTtRSflw7la\n",
       "eWQ3T8oe0cGJL55GMaMpUpaZ87GJEsC2kZtiVeMQ4uoAcaW6LfgaUR0pOqQsEnYfMeduaLR3d2LB\n",
       "POUgz5O6fGRFWxfOZgvUufLj1MmTDBhbepGQPl7Yhorg8+SatpheN894V4eoAJkaHYGiAClhk3Aj\n",
       "2jYc1ylQTSNknoaTrDKOH1OV0ka1wQk9g38261Col0Vgkv8Q47eox/ONl6DO70lJ/Nga6z+PBlRQ\n",
       "6ALb+EoZ67ZGSlGOdAKymbeaEhAnXda2aA51I7OO5vwv4HKF0BR+EsmXy9p/bF1W28OG7lM5+LmS\n",
       "Q2974TXCd1xg70TFhiSVRSVdfR1MwQJaOv81ssqSVGQ+4t7Tl+ZTMNDIRWKNaAedJSmcTqCCg6YA\n",
       "KzUub1I2N4XxNkxFVVoV4nXyCwKNi3pDOn4kJlb9K5h7nWnuMayBSqXDdtGKlk4EDdF/E77Lzgk0\n",
       "HZHqFcjHZJ29jAsgHeVx1le3daJv+HcvFTudBNSwcw/oKGWz8TcK8bTucfpu8JlfJTdPHG7/uK42\n",
       "SEdLdhaYznPHFAleXuzM6GLg2H+Tz/tJdIy20wGnL1hGZl/PCg/EpFiMjoOfL5z9mvHOa7rAc49W\n",
       "rtuXuL3/CfbHwadtJlm/d7aGkISfxsNkjilzwolwxP6EnzAoLSsTOlZ6CEV6t3Homi/aX1m1TzQ3\n",
       "KVvwxJVC+wc3RA19shpT0X7OgDJdvSR8XniVFynFFk5V4+A1///mZy5mSdfnvNiPwdOb7h4mO8QZ\n",
       "CLlSpvRkqboALiy87Oj8X1lIUG8TqxO9MNDd/jxXCH54u4zhMUY65MlC1WcuEIK8q72gZz5RNhsI\n",
       "tyX20ybUJow6SmzMvIc+T6xz0Jn+gl9M6Y9VlVjGtX87QXHxSxTE66/NV9hIVf+c2jDDbWGYoPlc\n",
       "5+1eGS46aQvpOQXMpfYIYoEa3RJYKeI+ZJUIQowynbq+/qoIVV/Ao1LMkPugRo9Zp90qxAIqRt9t\n",
       "bCVBK2s4Zd8cb0l0RVi0wiDolEeA+/UcSKPkfhxMAAABBUGeQniN/wmDkZiZXyyOM6Z27QAAAwIr\n",
       "jUqj5N5UTAwJqGWBSkp+YEDabs7C+UW3utz9pPg+TJ/Hwe5D8rHawAffWx47MYWiQFLM5G3rl6NH\n",
       "riNqYecMq8pzwIJrocMxLidohHc4K6iE7h+8fFcsO7J8+LctUSVdf095sOheuQxpI1UVKQA61HMI\n",
       "XBD3qG0M/RKXY2fXksBY+026OrGgKvA0bp/ium+jPm1rB4ZH2ejvM/bZWjl38rtVXswAz+x0/fYA\n",
       "NVKriSJloagFfA3/L3DD2tSdSHKtjOuPatzKpV8PFvHYAIksVJyVqE7SbXwtmRPhfiPXav9Jszpa\n",
       "1WUHkLI9ubCZgQAAAMsBnmF0Rf8MDfv2MP+nOAAAAwABWpVMtTJ2mY1hTSmZABtOoyvuVhb1ZB2b\n",
       "XlgTEJoZt6gqSDQr+q7LiMH9OtRQ8D9QAkiGzGJkNT6Yh9wsWXIZEWkuhBrc2hcQ4enA2zOU1oAU\n",
       "Y3V5OetRUH0zrOAsRIy1UnVw+bZQGlTrpGn/HSoCyuqTZqWVO4S0sq3jyt8+r/7oTNKXvAPSw/1S\n",
       "rZWqISGtf6DQaNRE9s7jIOYPohS6fnj6nk7SDTuw4y3KSjvJUcoCT0bLbngM6AAAAL4BnmNqRf8M\n",
       "HOustPLrx0UlJXoiZTK+NB4iwGWUXlXGCY9iYirStbKW2ScLekzMlwh1o7NLuuNH7ohQK1/Lx/fX\n",
       "1ABpvk1XlSqRGKR12f+HTG4LAjybKMUIqfahjuO8ei206iNQkyfXcXeWrp2ZH5S78plKGrOfZuha\n",
       "vqnNGO0JFU+48zkonlNilNhDZpKp5Tmx8PAEjG/uRW2AwachmOC1Vmzp2N6FCCzqQYe4lO97Eu2r\n",
       "ecRilaGBb2tJ0/rBAAABbkGaZUmoQWiZTAhH//3hBWbqun9Dmfyz2yb0oBSS4FGl93TUu933wqP0\n",
       "B1labwJ984l+yBlDgnen+VpcdtWeQF+MOZkXh2DoBoXJXqLoUKZkYqWka0N93DLLj6K/XA2MxbFP\n",
       "1e7nXKfOZY+C7boxihUqxNdfzLrfYkIEp6KVt996Z5LZlJHNlyvbSn1KGq3ll8mwFb0WQFxwx/vz\n",
       "i2o/d7cX7JUYT+92iJe7xn84cGeWhh/EZ31Ky5V5a7Fez5cLAfY0iVOqUcoQBhYhDjK7PBgsbQGX\n",
       "OjbgVKDjuNuUZeAXRe5mIW0SYu8aSNaf5Usc/ApKeFlvIxkSkj/u+fGwuv6ACxLsTYyb2VJtyDft\n",
       "Y/yW9SfmY4ILaz7HMtLVdDyhByz4cmzlRpHs9wmrFUv4QjiYH2mVhKAZWj4TVFxD6u7wt8ifrpim\n",
       "rMJVgd1h1tx4KCbbwKEpYMfwbpdC4Vt/w4qg3VGAcuC2ngwVMaG1gQAAATZBmoZJ4QpSZTAhP/3x\n",
       "AA0sap0sxO3//jw1jkRgDlEAA2Otq7eZb8vIjqqB9J+CRK5+VrZakdHb0npWOvDBSL5mocie4Di0\n",
       "nmmrWlx105Q9d03/Bvty40VrdznjHD2A/7R33II+LiNlAuTVB8xdydTA3JcO6OqA2AzhF89fuwkS\n",
       "tdm+B2AfWZoT+Z05S7soAc+ed+INgWhz2QfNLEEQD4r5aT1EGrPJ9dL1z9DnCWipO6ydZCfV1w78\n",
       "EaJcGxwlMLlOFiY9Ae/4taCxwCyn/MThJogb8EfRq+4dafgU1jd/AyqlFfGhPD750Jq2EDbf/3T+\n",
       "asmmRQJj4YOAYU4mhKOd57CBS9S7UVlAqAhXLyf6yyonuvO+Ffsxxw4XTfoVuEBjJjUjpmBE6Vjz\n",
       "kiU4peIUnYD5LXTNAAACDkGaqUnhDomUwIT//fEAGkJJqW3+GLUtY+Nzt9VZCisB1GZ5DGE++EZX\n",
       "+KDc1oNzrMxtNyMWky0IQTv2twdbam6CHI1CBuLaZkkHUPbSjcPz292KXzZeLc2keu3rhNgTKRNf\n",
       "nYMQjCdke+yuzgcXvMGsDTKVVBXKByN4IAvSEbFcb3V0i2Gdyzc12r3ex1ei0Qgi3/tCvbPwVxml\n",
       "MRZq834fq4n0UWtaGIs7Tvhy0/9iQsQH5i4F6ziOFKY8sC9ABJuotipJc3khLQo/9kqn2dbVK5Sj\n",
       "OuLITEjCozOi/5uC4fUsWfPxtbkn3ZtemPvFm/zRYmH2a4GLLRbciCWdTOG9HKWXvZ8PTR7kQ1Yd\n",
       "pdFg4Q09Gx4+sCefMopgU8C2aq9Kmww77iPhy1VPbVxEK+ZWBMyFf+0XUkPkmeF6EGjGKcTVBoOy\n",
       "df7el69MqywO0ZxlBKkm2ah63Y+qxwe4R13LHve5Z7b9fLQkLNJGET4gqiuUrLmWIqMX7PXckr2+\n",
       "tuVGRKiNBUnvpEM0e/Q0VoY5IIbG9L79ErYgNatPeJx3FzwP1ewGOJNEfJuM17PYUCadiCSLt/bp\n",
       "gYTeVOqkU8pozRo9fA/ZpTfhE7+p5sPzgT+NKnHYY8J+TeDG9C9TQY28Vy5XndZA+H7V5X9tOK09\n",
       "a0TR1JhauqkLhRVcDaIl4tiiHF+/iMiy+2edK8EAAAC0QZ7HRRE8XwI75Pew71qDY231+wAC1jxJ\n",
       "6r2oHi5Bdm4GRfceF3TW/ist2lC6HW6WEnqajTszPhslYe4gOYsWeM32YiotJEY04CRP0Fmne0fA\n",
       "9cd5L32mOMN/TUQ39UzUD9liHFkrondxgaVtaWIoDIPko5JxFOUTYnLQkZWraHt/qN4hWDw4ktjn\n",
       "rOZ+6mSL9+ph+bE8LjOdL/w7f/vLQpGafS3J6VkJQIrH+u5nroxRl9O+AAAAmgGe6GpF/wI8KRnR\n",
       "7bkiTYsklTS3kOWPpOUT9PfprlXrD0/QyZcAYPjvALm2/giD9iHkD388qfo4AP/RF1Og3LozOODE\n",
       "K3/Yyxsicez9HjmPi0Q08uy49w8zsowN06e3pWSFJZuTyjIvHpLWp7mbuHISAFF5m967z5nyweW+\n",
       "Uru5COln1R8SlMdYYhRUZ0xBREjpCGBHoOLUyEAAAAG2QZrtSahBaJlMCE///fEAGkpqGvg1o/+g\n",
       "CWGRP7Lg2KUMwZnGXrQKnpenABxiUbDFmYCY+Lc3HCyxQeLMFiZt6Ho35WB+2fCrb++HXeij7/t+\n",
       "nhgC7DiFcLqL/Pw5cKdB1VlwAWAECEdnbZIoyc0IhLbVVaI3lIe2UKEoknQx/MDo+0Vpn5K3NoFi\n",
       "Hw7XeUQUKckbGuXV5C3+nJ4crEzO67LjoOgY/3hmBzd66OzOdEHGfxaaPB2+dTu9rmP3qCGFEgLp\n",
       "b7qFNxAsSLMXHSQmg6g/BVkJQXLnpK4k9n0oaWE1VxqfXTyzXuPzOBJYHHsWltuTZEMAbZ/9vpo2\n",
       "O7jn/+GwWczYqIXZ0SUEQIEmBnpFQIUFLaYq4xNvRFDKnVpxgt20bEpca9wAOeYrN1/SK+rONg7d\n",
       "+fiM/44/Kzuf8GhErHhBC4Y7jZslX94Fs6mdhIC069s5AQvUuiAq/5BB7xWFHcwQS/J80LG3/Bw/\n",
       "d7nAZwz864/cK1IpozthytxGe7pJa5aU+IDjGLFty5M9gVFjSS66MJA/mvZ+xiAn/WG1GhmkTWLp\n",
       "Qf+HlEMLPNtbwYbxiYmBAAAA50GfC0URLG8BwlRgrE8I1QA6tyAxPA/AV1HHTsQP7tzYem9IAEtA\n",
       "MRbcQkIqBIxbHwhuS/D/aCtLTRDeQm2wsvGZTCn19cHMfHti6XZULHlVgPLYGdVFbtv+JsTA/2ym\n",
       "8G/My/4ajWxO9NurqdaNypJ51mAZWdI2epvELFqEnswIC5X+e0opykvePwGtiem8yYByjMIT3V2/\n",
       "co0xmp197vcJnk+qcBR9OahaK6LOHihYnS1M7X+LR7FPqT/74VcHZo2p7d78+f5nhiAJL+rXGPg1\n",
       "L9ILjHL3WDvlOEKGFv8wVlMUpRtMKAAAAKMBnyp0Rf8COMOz8ee0i3TXR4jGUEX5pF0rel8bl2hj\n",
       "xaw+wRzY8sLvhxyVGAwvhP9jACEkaIz5o+8BNkVqrtPHXYC668m/83k7ETcB/64fcmFXrhIGi8DU\n",
       "3RCX+pRD8+A7Vcghh8ACgaknKROwqkF8pYKJYtuz8ahyE3uML/7vnFfuNcJH1/0bUUK8iJwXLSRv\n",
       "ywR5BzaeYBC94O8qOnOXQOm4AAAAnwGfLGpF/wI6ZFgulBR7hEmYXofWVxCGupi99n3lIBpCQYoq\n",
       "dxAAiBJRhPgTw4f18emwPd+6WwS8jj2OAIBqrAzYyjDMA+GB0duLFAm+dSk8cjw0E+UiEYTAf0QX\n",
       "pROEdrxhuROx+VsCbaDP95eboE9TUN2Nq6cMKAyaf1FdmeBOtrSZU+BDR4kUw7efVstOZMFKKDl6\n",
       "PMXcq4TLt/csIQAAAbVBmzBJqEFsmUwIT//98QA11ofwUd6gAOLOZkEtzaftCrmjQheLcekf8HhP\n",
       "Cwx05Bc9hs7cmrANRZs6xGhbuO7zs81HZXiNPtjhrOeKuramf8HfdNG9SS9Yh76ziRUGfEEdUXrZ\n",
       "oNpTUem/4oNrxHTiaJCsLMVlmBrnVbUA155VcaPE7pBO7RCx7rJ9vV1QOCPoIdcQq5JSEX+fZcTG\n",
       "gKTPCHqMT6OUwEcrvUgd4wy0jFy/h81tI4pjgl27LrTHy6jhe5TWxnrIofvjha8w9B/4PfhUpmm8\n",
       "9DM65unPRL9d5yf5Hfwir63T9AsEoDwS2lMQJUsrKqLK7Gy9PVZmej4OI/OM2wKFrwLKBPuohln4\n",
       "R7R4Cjjddqb3K+9RSygZuxU/PlKCLEYj1x11/4JxkcRIg06OMjn6Enao6x1Q8e6a5Z1NzzeFM0Bo\n",
       "KW3UxFQQm2ZhHTo3/RKEFW6RiolvMh8cvZpXd0S27TyRrsCLiSetjG/3S+cR22DP3YVUDU7vmXgu\n",
       "EGXLoOj5F6mdQ/nuKi112k8k1x2YmE9+Nb9EPLl8/+u5E6UorUKibPXYSYYRL0S5O5D38wAAAK9B\n",
       "n05FFSxfBHfKd19dbDsWAEtEkT2++HZAP6apEwRrZnaCIIya2+gFuev75PhmzEnnIAAhcK8SsETU\n",
       "knUbyDdAG3Kkxz/bf9nbgDHwReh3mtelQNRr+V3IgwKFFun3HOnEaYKtUPwl0ZFRL/R26ap03cbl\n",
       "zl7Fbv1GlfaVLCvdE2swJ+okewqIZaxvwQ0rguf1eNwikPJxJFmcidSHdAugWt1BDdKXNu2hgBQ7\n",
       "0DihAAAAkQGfb2pF/wRwoKgI6yEx0wiSQk47xSjjySCAOCjytj0nEmqy+ePK7lAdVGdn59ZQAgcn\n",
       "c1t7n0s7EnhSLc6tNPToodd8hJV6yXk4RNxFA19qFzeOalfxeMe5ykXKWGYlOZPZ2XQXsz8PVTv0\n",
       "Rb3t78gZFdew5ieR8Y/WJ6iugZhZtb0APvJDjmKEJO+K29UwasAAAAIKQZt0SahBbJlMCEf//eEA\n",
       "VHougcWeIAbmiEu5Jni1eW1wZuliLQy/d9I95B6Xbw37Tv5whmp3srURL7T7nasxbB1eVhIm1RJz\n",
       "r3DuKiTS0nWHWSaRbCTVYO+kK8niOmf4d+x4hi8Fr+8tGOMRbVchmPGMiE9XV8cyH689raQsw3aX\n",
       "IP8TitdVX0Z7dloe52c5sPVUMFyPlmMLp2F/cF2KZ2jWulXl2opUg999+czlZU9UH/wx4XcIqMN0\n",
       "k2O/KtmWgTDfOUvnYnu6R4S3NB6BO/Ivt6oXWu1MdwuFSXD62AxMPqaehzsBfSAhsX4v/AWJw+1y\n",
       "GWv0ZeWri9Yl3u5nr/xfUmvpLOD+S6kaGpB0Du/gnqNti5KrPC4uITMENWtmcW5ly6+69qn+x9ps\n",
       "oFtCbjct7V2LbxANkMvlIf2sDerzxTVuMciZJGvumuwIWG46+6oXlRcVzYfV7TO8r9v476MN5PFd\n",
       "FVfKik8NhKJVBdNz+WYXHWKhx/Gm8pwsH+777URe+/UC081Af8hSX7Zud8RvIsPLFSaWzUpJI86F\n",
       "Yz164QoqAReJ0CdZk7I1RNZ1xKultQeLwM88V6ZGx6UndJw0J7ncDCP68a7gRFIP3gBAv7hOzUA5\n",
       "nSFa4Z8sz2NV59rMnCy8f00vO/AelnTX3XesFOm+lnzA/uHIpFSMxEPi30QDe8vlHSlvAAAApEGf\n",
       "kkUVLG8Dfn4Jzt+s7rYaSxL/cPIsZzNuStjiZR3GUnLlQ9KUOZWIO0Z2yXUI/JnZSNKifJ6jxenm\n",
       "drPyYigqWe6v9vpvqrMlDRmAbyD+VDVSgeAuuNiv4no4AEz22HNaerGbVWTxWw9Gv/O9o8HZ2KPM\n",
       "nkGI9UVtQMAZmfQhk2KhaADdZwhv6zi3fUinEfvVmL0smpjnFU7H8mPD2HJTEBXhAAAAjwGfsXRF\n",
       "/wRxfjhJrY/ZERO463yW4MX72seQDHuwSxx4zfRMkuYZ8BZDBFvlCxtKR8GzE58YkvnwAhQH3HZ7\n",
       "ZpL6vPiLoSeEPrfr9A29emr58XOM3X9yLLxMMScPROnpcp9xNKJ8q7o2geM7oDceHGgLJ9nQ25ml\n",
       "g3KaMsKC0XSUIA8qz+8HEU0r46AmZ+LAAAAAggGfs2pF/wRxh6ww7DZzUMHGtaVBazNuC8/1698a\n",
       "imELuaKEPsVFaQtEyMSlakxDh/pA+ISTVWfCW0RQPH6B99xVAqW88+b5YsZ/ACU74LeADGOVWPfb\n",
       "couPTZF1K/u4anQPARJOI1TN3EL+Yle3MDT7YI5J0EMtWHuT2CPwlqbQexIAAAFgQZu1SahBbJlM\n",
       "CE///fEANWFLxIYN1W27gBNTBZBK7apB2MSXTjPJZLa4To0+jfCEHxdjKXPsStKCVllTox5gVOtc\n",
       "AUZPNgpasUvISqHpFWuHYJVGKqPx8vr8wrlcfOaiq+FGCFRVtOtDgnTrEwhg3oTDzyrNOVFyvPc4\n",
       "PKtaZLr2tK/PchrpFvBzFyVzczfid6DOjQ2AsdrqcPvPuiyHC8lcvylQLSx2dPP27hOPMBHaDwQu\n",
       "TdogCm4XTtjneP7qwY+slX4gnsE8xwDWkp+MDqjCRwSNefeZK3hwtZvvR5iw6+509SoGCwOZJv3+\n",
       "Z/E8eT9JmvL2Gk+XdQTaoxlaFBnbcDj4u16m1qBUNwONGAIVioIXqzXCoLU4Dyl75xTQVDXHpBdq\n",
       "O9eYHjDb7RYFJ/EHi9qbABwbHoJ8b0p0h2W0uBQhQiYknf4jCp9v1cdBimSJHoGIjkRE84V9Eiod\n",
       "EQAAAYxBm9dJ4QpSZTBRUsJ//fEANYSjQKy/uAEra5tH4yM7JwuRlSHCHIXV9vPW3Cve+YSkwhry\n",
       "yREqTaNgpXf3vmn53RwCRANScXgzFVnujE4KHXf8nIRXV+hVwsPQzb/bydD6Sw/vqHvX1j2+YEKY\n",
       "AuokyAeJwI3413Hg5zFI+n96G6ydncnckh+uVsdPI0Rltsgsy+j2c2Xd5ASH6Zf0Q33IDhLoRSRh\n",
       "0tQnjVE682hZFoCf2R5iBXdfhgt9QoDAPIOTpiOduGybeH5ocrFg/vyhVE38K89gvfg+7mQC3vQn\n",
       "ehLCz51OiKAC3EL7FneULB1mdHs7iG/hFn3rIVCx5FGgsUSNZrh7LFEzj51iMDupPY9A6X6EV102\n",
       "LSX1/YWmx2wss+I8mI0LoTbdvoBdhM78sTAvTRKhI+po25XOt+YaZZybO68lzHsQmLLeS7xrX6pi\n",
       "ZuKUfA3p1TJjCfEjFMqbjsrJ+8W7Rx6zf7/hnRg9WTDHqqulqwPbXNIBu4NGEOn8bNa8H+AR8rMd\n",
       "qIAAAACcAZ/2akX/CQZxZdiV71zAAQ3kGs0H1k7y1Lu8+ppIcX+XGKo1rqBQXM7eT6Eaw9IYUdF4\n",
       "cuaJ6itU4feQ8BSIzefDrMyiP6oP261LGRSngIKhYzD4mgrV7BLwgDLmpVKQoysLlaZ52ZgBAedx\n",
       "RE88fEyCMgWZFMJRk8oeD/Rxr2/AESPjAosNilJ6ZYLAoDRqqBP36FVzZodbikKTAAABf0Gb+0nh\n",
       "DomUwIT//fEBGtiKyI8fhPaSdAFh8t2co4ANSpEgbaWKsJ4glVrzYDuRsJbqrARZwKn/ffdjE3Ud\n",
       "PV5lz+flWTZs0x6SLi7nw7NNk/ARW9cizGvhfq3EJEvvUFjKyjG4g4vRTkIxrCs2ofi4nwzMe3si\n",
       "DvGhnJEoNokrLp9zxk5JyIcZ2uRZBBiniNWemHj54Gbz02hD+sFf7mK7J1/xfpWYzF5tHTFdCbg9\n",
       "XwBLtWTp0QotFNbR6G1sCnPnSQ+/LORJjiXzNb/S8kOasPg6884JGtCBUqusW4XqwH/dm8PfcLZ9\n",
       "OuyUqQRlz+NIbq9BEN8RTI3E4h6fyMRTaK/DOFqKFCyylOqiMDJJByelyaQKcpZyA2XWi/6yLeXr\n",
       "CCoZXGuSqASnWUMTsEp4Ga1p+vAhFsLBj825VfyZBdIndNN076oaQjnLG1QivwbrA9j734qc9vKu\n",
       "KuAe7gEY1H50E8ugGhuzdf8CgtSF4YqnMq5OpW6D/Bc+EfyBAAAAnkGeGUUVPG8HJkHwETx/xN8y\n",
       "sPogq5QsJxKM46mlYf+jXAHeBiAAl9XLRsJoCysg++ljmNTH9LwVRdQNRV3vWIVPVf7OjxhJ59QO\n",
       "fH0igdA+peP4P5qef8LO7ktw+hhdX9RRxKnkrhcyZq2WJdqX6Im2f3D6hmBpFMEmQwyNQvLnQWDs\n",
       "WfxbfX6vzLNaepCsN5CqIMcb2UgUKKQOSdPoAAAAhgGeOHRF/wjhdmcR7sKb1txfus/1M3LnNXDr\n",
       "07N80SUwTG+8IxQ4yKwZsM6CI8adFmbbigIjgXQ0gIfAgg39p7B/ckGOhA2BsPtVqpvs8F6SfXDH\n",
       "6+H/dOns2f6Lh+9prJ2CKuHqgBBsvunV28h1KJx9C+kPhGulELsgz9gzUs+4Rrh0jP5RAAAAhgGe\n",
       "OmpF/wjhdrDYAtqCAD+3RyIPnZrgLKXMXXN9xjKzx1Q94fmPH9Fe3HgTQFKyEpBL0FgKO4FCPG/O\n",
       "GojzIYweep50+5T4oAdBol72b+9RRuDbp86n0XSyHTAYxiQkQ4/Dvhd8L3CADx2FTQ5Bxar+SWMT\n",
       "E/6ro6x8+tcJlyrJZvDYE+6KAAABg0GaP0moQWiZTAhP//3xARrYisfpxdwcXIAcYrCC73c8lMlA\n",
       "GuRlfG4P52+g82PxvE3ZTddn1l0G/BdxHp5cMyVGMT8/mdDr8+xYbryybHIHnwpIpV/U/khX/pkf\n",
       "uA4Rr6BvDNTWKrAXPgDIoZ1sQIxVWAaSIA1AIWQdYYJj0U9a7ucSDRRE2sTpGWgCapoZ5ji8IMtW\n",
       "7aHvJSjPsCcSeCcswFmWebI1K3frI5bzpAbZa094cFLxq3rym84UFhfYC9WJ8pphDBdl6/kGe4nL\n",
       "3xaZaWpmLrstLbNDEP1iyiEYOM8cDuhOfCsxyVfXifKUY2qhmHFJqaQb44gES/oJX4vDS4ODACyC\n",
       "AuqZIMuWlNLSrNOafUdj71L/F4E1j+p2+q3/xluwl7suIpEWkgD3OUQ13LxcGcNm3PVXh6H0o2+y\n",
       "U/42uu9y+PFVpb2e5E+FRWQnersXXXKDEVFHmWtX0Bc57IBa4fiKm0OlupCUNI25qlOLBSntxLHC\n",
       "Njn3+Km3AABGwQAAAJ9Bnl1FESxvB1+LIr6Fs6SFtMcbbMMNf2VeeEoOUGNg11z8QAliCqQvqgby\n",
       "zT8fEeJpuQoXIBMeiNhOrd5ISkUf2XKm8Rc/5KraRRQtvr5pH/pqZGKQUMl5O8zR/TXSSKWpHyi0\n",
       "uXuXY+e/7C/015i9a2WEBlh+J42iCqGvvxWRp4apnVSXwXl0lVB6B6JvJmsDXq/6kIZ1YoncxWN2\n",
       "aUEAAABuAZ58dEX/BJSECGfu41Os6FWJR9tXaSwOUKuXamAQn0U4qRcdn/z+GDHoyffVxXrMzakS\n",
       "JIvTiNeRfWrqALKjjm8UnYy6QylYoDNgIEQnoj+DvERNJOv9kj29LaStOsD0yVdVLTxfDP4pka6y\n",
       "vFQAAAB7AZ5+akX/BJfKhzoeXBkc3mT8K1NG2Vb6uYIoANo+3vxwWk4eff/xcZvZ7rPTE544f/nw\n",
       "EzL0JWdPy4wF1fgPM/50AX1K6xRW0klgIjYxzDVJYBRTWcb1dpBqigk8emAoiV9I/yUUNnaWA4Ky\n",
       "JdtLzpHDIPt45reVDRJQAAABQEGaYkmoQWyZTAhP//3xADWQ/xdABZdUPN7BChahm0lhzBjl2HZ+\n",
       "FilwxxtxOifPTxrK/6tyIuiaiB0SVFRaAeMYQqtVkaIT208S7fG1zxYm5A8Tmp5YNTjiiUmqGWd7\n",
       "LWiS8Gqpbhj2sUkbNErZCifbqz5QTTRK587WkMgGs1bcLreRlx3GEUmU7cEWBHQ4WJmpvxRMoast\n",
       "jItTdwwjoWzNl2tuwx79YfguI8fGaz7CPH0t6Y/4Ooz0bfTH+Dnis1IlSH89qAtXZZ5D1Df6yzU7\n",
       "Xpa9nY5OKOsHAjrkRGhChgdUcZxqUVweQZEc8C2+Y90+vZFlVtgIr+dwDfCkYdQw0SBbyRRRt5RU\n",
       "qFa3GCVTrChTgysCO/0UJbP5WzGaZU3n06KFLKffVe9hGYMOj1Tw7tkwHSaOO1QcCPOrjkXBAAAA\n",
       "h0GegEUVLF8I4XaN5gnPR+AVUphak4PzU6a46a/1GIXTTx2q24a999w+6hXYiNZ+A5esRFtzZnso\n",
       "h/HKd1ttigmSRbmqarmauM9/UoNXPUlzfmG9Si28Ev8UT9JAOxreBqb/WBt6YZlm+sDjA8HXDUBV\n",
       "+NKABeEQHBiZCHF5iHha7dECZ4XzWwAAAHEBnqFqRf8I4XauPkU6vOfJuki9YHTwJLZ+rOi+iDP8\n",
       "R5ufV657NwxBP7m9pgQXJvkD6vNtgIyu9ZyDdgcUmwXJ8e8hNTIpezOkRaQXJmVlzX/kUCgi2S66\n",
       "KN18sADTe17ilu7ulG3Z3gNiPXUPU7VEHQAAAQNBmqRJqEFsmUwUTCf//fEBGtiKx+IO2SVkc3xb\n",
       "y1pSzgSqWO60zWPqaD4FuLZxmbzUsIQAIrBjn223/2ZtPA4cJNQnkfT6OsEi0GQ0rwII/g1rkRD+\n",
       "BTaLxq8nb/4tqk0tlQ2uSzuyBsKbJqlyABcUNGJUjm8rd4ZIfZ9w6MAea2KXxZBP9jZ7gKnwVTm1\n",
       "UpwfirGaE4hIoKi+9hQ4gKrWHfpPAW4qlrXiYaQPj7KizGWHcCAGuw8dM0czDdD9F/wRflBosSFb\n",
       "wzNHCX5tSdXJqTrJ8dJLNp2zXIaypOPsjsrCgrpVP7UTkePbzfFvk4EM341QaVln5Zx3xlrzSlRM\n",
       "BqyAAAAAawGew2pF/wkBATCbtXh1BNNQn6Wbh9QcmFHrGxje8TpWYdLuQEdX4qqFzKVk+R7EtzLq\n",
       "66C1lTXws++VA366nZfGrEqgcTOC+zfmpMsYUrudH5Y6TQllfDohMN8ebjVd8JxF5t5JB+QqPNPR\n",
       "AAABeEGayEnhClJlMCE//fEAN1Ox2sclE0dViDgAnbDUH7GhdXS44T47iUEJ8P+pPdXxzYP1N1vC\n",
       "8KBprwmhYdBgjPFHYWqz2coTRrBixluRJ8Gq3WiK/o2zyiUSbiLFokkXPKWQgZELXNZqsImCMA/p\n",
       "CHa+p3QSVFsCYpJdr+osIiI7wsLON9WvB8z/zHD2v9VBeoWj481Bjy4EtOnJWeFjbMshCy8VW65d\n",
       "gow8zXrhmNkcVYYN4X+geR229v1PdW+TyfNX8yUHkvJ13YDOH5PZ547AQw9IT3ibsBB852Y9o0W5\n",
       "+wi5BTQex0omEUKzhH8+V0Ivduv6IUk+ZqBjzwjrNzodKOnvGk9Mdjg3A3BD1Mc7XuhoZLnc1FO1\n",
       "af+QqdDI96MZgCG2VIUQo56tm19jX0IyA078Kx5j3W606uA0PM0iATIyotBnLntmUcCcIBLL6gMU\n",
       "39p5i/qNbflwH99mZwhZDa1ea3zo/X6ypjYYKmbrljOMAGKJpEEAAAChQZ7mRTRMbwcjt1wgri1G\n",
       "zYWkz937pL8UeNgOPgwV66x36oBfkOQ+3mi3RRiUQ1U4gs8ix42QuH3mvG1w7ARspoKvwACXnKzj\n",
       "uGht0TeSUMgjHssO6KK78F4UwjGmN/rZA0ItwEkflaQ7xBgtMs7JHQpwoMHN1lW49gYz8JHY+KHV\n",
       "Z/vZty8V62K01EDs7sx6I7FbxMhkcI88i73MckkM2YEAAABoAZ8FdEX/CQfZxJQWOdQWTlShx0WN\n",
       "1vmNr/MsTjGMTOc0OJPwE/V/SbMlGNTVQh3qTolQyUyf4Hvrxb2ECat4bHgAXalNqnjHGAFlXLBG\n",
       "ngSFQoWuCnQCK/pTuGDb78mP4E4wkJqYFFcAAABuAZ8HakX/CQnXlMasE2XjrE3PIbuMjQmyInaD\n",
       "eL0wrrzpmp4bHoUWzvhpiGfG0HAPPAATSTNtkOHj5unugqE7WwUOu7PtcfgrU/uoPMueqrq/ygCm\n",
       "Ns/AUVLvQ1AWwEvgk/rLsLvjnYKtPQkJLFAAAAFkQZsMSahBaJlMCEf//eEBx7qu7YguwIBQZRp7\n",
       "Jx29VCzP1p8kc/C8MnloN1uWEwLiWpS38kP8ea6bCA9WP8f/rwDyb/D5mrcZ5NHYZ40jhWO7ao+w\n",
       "fnuTumT6KGGVWwn0Q65PyWmKuc556vT918k06oUSwT+VskDbfIZmJU75l3Qa2idy9auetQhSc1wc\n",
       "KwwkZG3tHGbB5GDtOSArae/9dZo6YkEKuSZtE+jd5Y9+Du6dy8TOwWE3utsYRik7qLSqJLRJ3oQp\n",
       "FTcxktYJlbOzN8q8ZQGMItysivGRLRgkyHukRgUSZdbdM4lLtpR28bd4IdR5+9Jmm0CJc7ASXdUv\n",
       "L4+H0kEMg9lAGIoxoCINzUiKJtXmKUMLcCfzMndZL5zR4lFneXWgwu2v0DQutR7GxSatXhsi3F0l\n",
       "rzj80D9DaBRXT3RnPHfXKV65wMZ7u+cNfQazSxDcVdHmRNKUroIi4ge61gsAAACoQZ8qRREsbwcl\n",
       "H3by1zB7fdgADZ69p12/Xwg+6+6nZTunKfTR/2eO1wS/YQIED30eVA9mXP4LI5G9lWO2nWtVvDU+\n",
       "04QM05KXjOF/e5zPyIM5+WJVpYcThhd+AagnToWNHwb66sXQB8p2X7Lahn0J+M0eV6XrAYLwFYgf\n",
       "9zM7egcgsJesOU0yO+EVR1TyUAbed9dPKXlg7PCflUn/qfwBRgqMa3UQyhXRAAAAZAGfSXRF/wkD\n",
       "jwTqwRYzLtNgc3h6wt3UElIo6HhlDR1ohfqCKm16CpAPYm/+TQzbC4u250XKkXM8JJAfOSGNpDKP\n",
       "7jfE57Pj9v4eD01AwULFjaxgkqTEgj1q8olnFbA7FfT5NbQAAABvAZ9LakX/CQDhg/3LVDhYyADa\n",
       "IWcmjmoTll/eiJFtl2GOZrxiqUtz/4TLMxqAEFYJdexDz34oG/v1EhpAV+xVB4X1ILdoVvUUojdQ\n",
       "nsTLedK8Kz0t9S6z7AYRNaT8rWwRXKEbRrmvY6tSlj62kskfAAABNkGbTUmoQWyZTAhP//3xAPzk\n",
       "6qFpBRs/piFVkL4AOb8XGSGIXb8naSuJkLZx0T45D7Cft89CM4x84qlMkJ9I3i26vaIltH+IYD5h\n",
       "5WBKj1bHuRH94nK/3Oj14ZI7sK/1WZzBskl/tqXzD71LEfaYhERFrUOkcki19eUkYqV/rKiNr9ef\n",
       "QFReXHoVGKCsJqoihai7Li6v1eD1bpHW81lJHp305pPFt8fK3EnxpOlq0OMen/ENOTOl7xzc+Mw0\n",
       "bYPRSs1JDAqQteerufZG4OtofJ+I4NX9SXcpnaKMiQlR/JRXKIcIk3p9YNgSo9mivvqkMGqXcdtP\n",
       "KvFoGotUzQOlW46D0QPuQiLthuEjtDqwUQrCGHA60ZzajMuChzgwF+zgsbYSDA/GQqOt/WMBbbPW\n",
       "DSSjHnDgLMEAAAGAQZtxSeEKUmUwIT/98QA3VlIuIACMQTLjNj6pfFnYMnEpsDQU6QUSYp0Aj3Ft\n",
       "2rnvaw7wEHadLBzBMZq3YtybCk5ikMO92/2qRSUounEoynoX5rgeYkHgFgFxgTW9cw3quG+l+pRy\n",
       "9F4z1Qe0Y7nDPmQGbd6AV5ysoGbK3N/b5xFLzrF3bf03xbjaTBUwhp+i3RCZkeqKo/W/KA7TvJXC\n",
       "l9UwuXl2GdtXh/AfB3UjD1KQ87mQPw9QZe6ZYwgMRdAZTiWRfsuDlY1/NuPX38r84qw/EQ5qMp6T\n",
       "zIMqv4eaVbZnAmdYu8hiIio8zjhPvKtQVsJFX3qnPW0zWafyFhhE/G0qf9A62hXa8Q9yfY+IH9GG\n",
       "p157CBzc2rAek4nTuglK3GcU093Dbw5hJImD5AU7+85QUWUelogTQ1y6PHgQfN6WN1D3qBf3PmCo\n",
       "sQFgAJ+aO+On9X18TEAy4MlmJoqYcy4Nemdagg6yFuuZqwV05TRrM26UN4gGkXzbkHHbMOd1AAAA\n",
       "o0Gfj0U0TG8HBejNQ/Xmat4cV+GTLfEaSOl+5VK2ec651fIHtsEEqFC0mTBh84XK6jQ3qAD17le/\n",
       "jG1NWeK6vSBz0g9eOIYl78AIc4vUH5v0V2MXDmvv3jYF3kDcqry2GV4xf7us1GTM8gQujQWLJGNq\n",
       "GcYF2hOpxMuHW0yFueJnytF7KvOvGgjJYAcPHJaOLfUoJCjGuyeyfhIQyX6F3hq0GfEAAABjAZ+u\n",
       "dEX/BFSUwTKF7n3tO6JN96feIxCpAb5RPmDKYtqFRR6K0bbW0wShYqfC8X9AlmG4ZnZ3tU5gN0p3\n",
       "MYCV5TnwBtQL8p8cgXDgztr8InrMvEjCL+YFxQD5yYiyeKHOxHKLAAAAYgGfsGpF/wSU69QNAque\n",
       "nfVDqOYblJle0Oeuuk6m2TVkQMnYcVbd7L1CfoV6UD67AMNjrbbrI8pQSm7sUy5ZPw8avPbaw7+q\n",
       "hqz3rIyjuTJcd6AJVp21KRyFwLnYCCwFjRtwAAABhUGbtUmoQWiZTAhP//3xADd8Dj86CtLwk4A6\n",
       "KjWFeg11FAEY+4sKRWzIGxKMyxSS6vQVfOtgK0rCqovZDjxbaQEE+ZmoDs7b3jLacBu6YyGll/cV\n",
       "ThlBVWBqwV8qMvTy+OZrN0aZR8qsq0yW7sbGFreWCjcoIZD9hFV4OCl85j3i2G/4uHd0Oj5y8O/M\n",
       "OpjkByFiTqqR3sOzEwnjr/cGuVFOa+9qmfocB9W4NffG0TwUa/XOVJ08XZlsGqMOhj9XN345odkR\n",
       "e0IbTcU/efKIwUu12kVfjR3wi/tpgHBvvcuBIffQw/zbvffgeV9wgv7y2RuLnSuQ7IEvxHFtTMnf\n",
       "MYE/nsBEUh5QUFoglgXQxhZgPM1NyNclIl3Vn5Je3L1CgU4poGDX3TsgTCuENlQHLfr7rygdUk25\n",
       "JGMqXjqEEoC4AFeLV+ETmxALcgQqYNbPSIXOtuydn6ytbvwsCIi+jY+ODYWHC8+YghQ6zzslyovM\n",
       "rNHiHQVqkDrNIdONHN08X4m4TX0tAAAAsUGf00URLG8DmLwoo8Dln02BPJ3YCsqVNLGxYZChKqf8\n",
       "hZmLG494Pn0XK6mJjZ1GhHE+ECtfYa2xC6PoeQRrSEilPlLvBE1v0uuFBtpqXa7dxcUKtnwSFy4A\n",
       "IfNQVE+NdslB7/HA/ImxRqcZMx2i98T2NHOfkvc+T9YkAN01VJEyl25SG5wRdBusNddiQJ8J15Uj\n",
       "VG+ZczjKGii0vpe2aLV6/0J/I+HSHmzL//Be+Y8uiAAAAG8Bn/J0Rf8EmGLPSDxROzcEJFRbA1j+\n",
       "4L3FvGekrF8U9TO/iqi8E5bPtsZaSd6eQiHZ+qPL2MpC99RoGxb1a9PACDtAxqW/vMa7rHqXbMz0\n",
       "THLW8Qwu4Psd9M2RT0DGctqofCV60GsXUlAakoKnPdAAAABtAZ/0akX/BJGBQ4DZjQVkqLYkH9uu\n",
       "vrHs6cowU0oM2h+CcK0IqygTlaSWeZyVyIPdWO+TmMR8/ZKUtfDvdDTOt9eAaTT9OJwXCfnX4HEH\n",
       "UVXqj8aJeJGcVPxnRqRY+duuHCEJsF4+4uu8yiYWsQAAAVdBm/lJqEFsmUwIT//98QA2+U+58+A2\n",
       "AH+37wACyqk2Em46TLdFplgfeeBTvRR2YrEx8AQQBZXYfU3Ux35aF6aSRaq92daokgCFiUt6u6Mv\n",
       "vRTr/ziFhjnDQGUbz9J36pX2O8bDsUjMO7l9QW2gkJQlkGAd5gBU0Cb9mbqnzfaLjzxCpNHYjIPc\n",
       "xGb7o67Er7WDXlv1ky9Nm3qPT7bumtVF4JL63C+yEvmpE4CEPV7bKtNE5CjFkCCEHh3E1n1v2b8I\n",
       "HC4jStZtXupGcOClkbU+47STwL0+JJenr6UeVekouYiwPZCNEqwhtwhmN9qOHPIngLWTHez5odip\n",
       "XTCQiD1s5Cn+4JbkoC197/cvFa4N3ljc1Z78WafufOZ6bBixtB4D04/f3inbdVBJXd4FdqF2vbCc\n",
       "U0OzHic0uSNjZrYgeVb0wflOHtVsy2Kgm+7rqoEdt4L2bsCeAAAAp0GeF0UVLG8DldtXf+gP0zWj\n",
       "kiBWiO1QSZM7GCtz0NddJZGKu8MqhGCkM9NeP8Nks3U50AAmf9gkBhiYVMCRDpG711vuVfTvkQeL\n",
       "OHCCQfB1DTqmsnlMElWRoNZw/XCTn38OF010u2VZpbTVttEJGoqwjPDndgdt1z8lGl9s0hlnRvMr\n",
       "E6zQD2mAUWGt6hGPJ8ly6L48Dmje0svYjqFPTzMtrhrgOM6RAAAAfQGeNnRF/wSUh/xIWqSEKELB\n",
       "hKg7uDVEtVyyOOUPeG88wpUMDTf6lnsgg8ztOMkF//OVJGSjr3EjeLXCuLHqhzcMxhu9R6k5W0tH\n",
       "V3fJEAELroZcT9BRR8YCOKhq+tTlUiEamFg6BggCR9h/eoVSnC7DBEFDJGHX38hLi9bRAAAAawGe\n",
       "OGpF/wJMMJm5zyK9xT4MWmYqYhQvmSoheYmtYUQscBOpJIyPU6kHk81tpWHSJXZq+9u7htvO/rfp\n",
       "RyhjWupkmoGVZNhPPqhALRiXc+g/LbkXRCdOohMewJD14AiIWwyPlokBkYgutp86AAABPUGaPUmo\n",
       "QWyZTAhP//3xABrg1QQ0Luu14PxEHNBLGADFi/tIe1whtxiOavV23wG4enBuBMeXc/bXlJ1aVh3E\n",
       "T3c4BizN3VCH55NN8/qm8UMLAdq6yg7lbqmCFX4BXVHgfO2mMML4CWYKfrIpEU9XRoC9OlGNEPWK\n",
       "syEfnrMxbvSFhY5cK27salEWzU9ExDJWH4ntFXQEiyKgx7/DbUxUWbYXCfQmhSgveNjn58CbzsWU\n",
       "7/q+zhwYLq2MiuW4mld1PzqGoWADB02ncxlqQVPSzAW0sbperB0DgJp9jE1WRfXJUoEog2bQo3hE\n",
       "G2p0uMkiGfU5vpqjniwEPKFZq1Nm72c0LPsaTPadgg1gn5VRqnHhQ09VPZqCOJQ/U3U+yhFJphKY\n",
       "CO59gAUYVj+DuQZiiExPLeSERx9XTKtYss1pAAAAn0GeW0UVLG8BzGbeaJ14sM8pUfkKeYf+WurU\n",
       "vjVm9+FlPR8BZGeq9u9J8ouRq3VMRwZsKPNqhj7XBVZiCmhDmJQ4gBYad2cI80vjC5Ji1IRcZyaT\n",
       "FTdaN+o7/6s25gu+Bc7jMvpXVFQbQOZun7jvO7RSEe3K7FGe3YopHMMjK3GakXWOrsEHKKQ3PNrB\n",
       "VMWG1zhrhJZ6HFfPywsUGeE2oAAAAHMBnnp0Rf8CSqMvYHa8XpBpxtHjZr88l542d/Nk0pF3tuZD\n",
       "1opCgAh4LDM2DDdm2+H7WW0hmWv+FglhwRRebqqCTbb1J9a58bBC6P/YCeuLCPymAcuv0eeLGJ1n\n",
       "tHJ02F1HhnuyWsIx5C99RYWEIfZNdqYhAAAAcQGefGpF/wJJ5NpW3GZke8ctX2VZkskecOnnSryx\n",
       "0xs189wv45oKXz4+hs1752aJgHVk/BNJ9UiB4mkFavxEeZ00rvJLeB/CRf5DX2ivk1XN7Zw5h87B\n",
       "4sjoyVrxn5w/YLVFduT0SWcRE0FOUo+YKFnBAAABDUGaf0moQWyZTBRMJ//98QAbDf9rMbLQqZjs\n",
       "T3b2H1jUHPp+89C2knGsAAmjMS5btR2pq7o8Q7U8G78B64ecUEkhXjbc0GlahAi13Xy2LwicOK8n\n",
       "evZL2QxHRJD/wTlNHo2xu2O40L33QGYLm9TjKlZGfxBZgmEZGw2g9RvqcywRUeIKYHdvhxepzqYy\n",
       "cnaZkY97b47SkjNyyVBh3t3jxGEBGXxIrkDK4FaegPSbGAiU6kavOZqIDW0Vfr2sD1Wc5Crntm4Z\n",
       "e1RQ5TpBe1N7ccMueXdEwxFAeCM2uQIF9fCjG79Wl1Ee1kg6EvVt1ANMndp3xt12wEWd4+ozKZVb\n",
       "UUMSwsZ+1pC4NQklggrYAAAAcAGenmpF/wJKr6c7w+sDzMmC6LcgwKJl7Nfo8C6uLwoiKPivPcOX\n",
       "kK+qQy91XSyVgiLMpCle85gzWlUaKgGlwfLRXjarmhC9pVNHHXFaXjOVHAxcA1LuZtxQ1TXjaxnu\n",
       "slP528aOHQ1tlEdyi1vC59QAAAEbQZqDSeEKUmUwIR/94QAj3RNsrzdkVobUT8GIDNEk6P2ngxOG\n",
       "oclBsLD4ngAFqh870aZBlcMwzD2T67gSF2dpjHL5og9/r4vcI6KwPuFP8jBBAwRroQSugnghqMGp\n",
       "rRqvXHmV3Lhifph555z30wQklFBN/c3x1HgqOvvIcjkN4qWqHbudCsBRwxkjiZg4WcJMlwOlDj5k\n",
       "kYa9rzH00jtqK/nLiu15rBmSE3MiIgHWxsKayZy2hm/eAjxjmQiUSEjVyCg9Pgt/uOXzLbi+b2lJ\n",
       "nB03g7nofoj5Rl5ngVEO45B61IIsC+rrheBiaWRu6OIpxIMHEO5zD4BI74aRTuggvqwLb+zzS0if\n",
       "GQitF3WzJ5uTWKN7hi9B44VQIQAAALVBnqFFNExvAYXjFoDWGSvYdzEMzOYEFy5ckWDqyYyUADYj\n",
       "Dflyz7AW+BTZ7Uwhbf81P5UcTcVF0p/CbWFglK0CaTeU87iTYRCfQrR1IUoeHjNpSoTzrWz/Db1r\n",
       "gpB6NqnjrOSgRDfljp+EewM20TKsUaIeA95G0Q8/qTu4FkHkqYOQc2qiFyDj6bpgie98xbu2lR91\n",
       "23DjnwOsjNlTq9Hwopqxg1ujXVB1tRkrNf/A9Dm8MOmAAAAAgAGewHRF/wHlLb5BAcsgr0DTKgUG\n",
       "fsrqQiSWI/4uoVi/ma7pXphKjv67TpyCpCoHYW1gHnHSwvrkQ3q/3p898C5Y/Jc5aknpakWcgyfM\n",
       "ArTwyFoIXMlH+ufz7RGS3tkp1ObzHLJWPjHvA0aVqpNoPGZpQF+tUQpkHIacf830RO0xAAAAfAGe\n",
       "wmpF/wEmFoDCbsQ+cZ8+umeCCPj7EPiKFV32ydAXcsTa3bYbddbToRstrlaPIHi51H5EUdMHQK5A\n",
       "qh7KzzP191nlywawhDRY+uFf2ANrO/Nd94Vqw6/h4tZZLQsvpYt2Ik+JlVq4nRvBgz1jIdQsMcsb\n",
       "QXBab0Ahwz4AAAE1QZrFSahBaJlMFPCf/fEADY7/sUgJqsDsY+WieXy5qyrOVeuOhLyu4AATBFvx\n",
       "4hyg8n00tFrbEJPBcX4eDDXoY8QuNux5toGOQroT1wZ01rA63eRrVYIWAuQidj809yV7ySOInFKc\n",
       "+70jDAvCGdjDidxg0p+UY2l4gTBmDT3EUxd1CulZTM9MQHq7wZ9GoBD9bsOCF9fFamw5Eo7TSsW8\n",
       "jNaIczi5v+nEpjQFufbxfk8n9rCdYt7SuBC2JtdJszLdOVmD+F061xCrnnCJUsKOVn8DFE74sRfT\n",
       "b+uQ22IETpfsXFQ5axdkP6HYXwuRliOGRpDX6i5qiE1wlusOSsHTUBsDKnps6GH/4WL4ItvOIfX8\n",
       "xX8Gct+VWyT1DqIEiX0g33oGtbTud4uvGlbgfOOVXhlJP51BAAAAhgGe5GpF/wElFr03BRmtU1FQ\n",
       "Ev+A2iJ+fjX81Hu8of/R2jygEqg4C+t0Hd+llt9qY1Me/vgvBjDWnv8bG6MXG+p++KRwGAdV92GQ\n",
       "qYwACC5xbIT/7QuVDJMH5bsJNW+CBKM0GhblLI5Hl20ZglUwhrgh4QSGAiKKwf7kirPKsrYkwHjG\n",
       "gms5AAABLkGa50nhClJlMFLCf/3xAA0+/7fHaTQ9nQxO8+Pft67F1f9joUALGZJOlkTDE3Rz6Pfh\n",
       "95FiSOh3AaKD1mNEPQ7GWLOOvuuJWFgdQZfdu5C6OpmeCRaxlsM+xmk6dFLtwvztt9M3fak1ysVO\n",
       "POLlVkWqppPSME+5K1HwHoelXhwIPBZZdG5LlV/G/MpspJeepq8j7DdYpuJx2lb7/nOvaYbv4HlZ\n",
       "BrlpjdKgO5uj8oVFOc4K2snmFNSMD9aTHfrnyMy8r2kA/ippyr1YYCZt9fvL3sze91J1aOQnQrum\n",
       "Gjf+H51Boi3X5u/XM+QiByFtsbaVXNF8iE6ItVLaZlPEeoW2AG5vA8xMY7CFTYVfnFc3qFDAFXDP\n",
       "PVC2VC5YyHgsUKuYlVh2vAD7yq+AdAMfAAAAfgGfBmpF/wEdYka7OjGSBiXO64KK44rZe6mx04kY\n",
       "P0VPCqRtPSJzCOP8xpuNu7oFb2HxmwaTCWi5m9lNhaDz610u/qhzBXkrbd6e8uABrw/pDPsEE8SO\n",
       "qPMZ0DB6pVSLTmuT6XNAVwXMWXHmbX1Iq9qJDSSOkVBU5Pd+BqxQQQAAAV9BmwpJ4Q6JlMCE//3x\n",
       "AAueS1AcKe7PLixaNem1unDWv9Q/lA7Yucwj30nlHmNUAqE+3Pl/CfYQDsPPKK8owX9wRGWO/dOw\n",
       "aFloPlGuoSo+V63rrnzGqUMPWNwGTDWfg15CgXW/270ZzfEC9kD6vlX/xXEMn+9Q+TvaUQr/baLz\n",
       "2muIs/vAEEmkMrrcewq8MU1mjEVuToqq+5PjGgi8aFF3ydwiW1q54KIobgvEdoMJqDRVHhLL9QeL\n",
       "WuqiuoPjm5GpNOa+FOQ2idYhrakXbq2PCJnC0KvfsIwYg04Lp1nI3iINtlI0pmLIimWFjA57P8yA\n",
       "Scy+ByuTC+O8YWw90i6RRUTHImEyCMo+M+USqAYiqG2zIkeBWKV0MlUQncuzC7f+vj/m2LkmOCY3\n",
       "pobQJl8uQ+Fnb6poaqsGCVOCRLg3pDYjSsvzydFcAipRHtpbdYiGl7w337aToGx4e8+XmHgAAACK\n",
       "QZ8oRRU8XwD4puc2eVQjfYqzkgzy1U4umykh3Ur1yBeWYXcwlKRBYy97OY+SSk7nGAEsmOJLnPH/\n",
       "zPupEtM9x/cb4KiiT6Sw5UCnZaLsaKUgeFTPLMiCCEhpl82QgKkesDEgehm7wZabFooUsh4hX3ZT\n",
       "Ia6mG2J5LNsGHEiXj1jF7GsrF427+hAQAAAAjwGfSWpF/wD4E4VmDVvCJu7FngpTS0kvv0+ffAZh\n",
       "9QJn6/lM9IANi2bp73BJIvSf+FyGcUlDWoyDt3kEPjZ5JdVZABuidaGF96E1KVSyDsOlP4h+X62k\n",
       "BxUhI142BWkR2efn4IBYfltET7H74yEUnVa8paYidQ198W3I0MpMRmey0wRiMouEywEQ6PtruFBB\n",
       "AAABdkGbTUmoQWiZTAhP//3xAAaWMtn8D+Jo03SFC/TO8oANMJDJODomHhMuUhPfYmOR4bgjaDAz\n",
       "njqtNsFJTQVdqtoLWyugtcY0r61reapSv82aKDDQljSQb1mzfG8tLP9akwprfpD+RZFhcrBNHqVu\n",
       "4nqf4Z2DZf1+4Mwm2RpLpGoclYG95Tboc6vbbpjmRnTHiGDstZ6V1CLDAJvXN54+qmkgATzwcZ/n\n",
       "tXu8xCNTOaTViCASCnosmOv9NG85BqbbKExAvIwfcwLQObDprrBsVU/azJyyfWvzTqx50qmry1wP\n",
       "Oe6oh3EN1TpRnf0LBwR8OtkXBOGwhbrkoxiiAR4xqNBaqFaRiM93fNTHjrBg5EICh2I0qZOuqQfB\n",
       "5KFjJVyXtCSKEXCW0qWcF9/ZTCOWMaBH3G5djljsjiVo5jN9n8r4H8dtisS5VynPmcxEft0QkZOx\n",
       "IeK5jLtsle1Y4pCuIiCPbV61Nv6XswTLS6USvM9ayD3ypytgAAAAnEGfa0URLF8Aju4hgI971MRL\n",
       "+QFhgIlgAhiZCzvVkhMXfOvTBPedMXw6tEASn8j3RkIhr2s4rZskM2yr97gBMfLiHZzXR9u1UWTZ\n",
       "l8t2m/VqOckIG/j40nFqLjVyOMm2fEX/SRTJtLtQ97XAsbUKOz6/MalNQUyXg3AZPZqn+1qZEf96\n",
       "g4RjfIzuV5uXE0yIv95YkkzYNdTr0DSB/gAAAHYBn4xqRf8AjpKip2CsPI4u0ajC9weBe8Q3tpjU\n",
       "hvrYgBXipXxh+/xbB0lvx1Eq7vhWQ15Re/dg9B9HwbvTjSPpnCTjbaQo6I7JaOkhTI/dQEv+W3ZI\n",
       "XKgVBWEfLGmncNZ+/2CUzRU4Xu9vRpq4YYM8osBX8ikhAAABtEGbkUmoQWyZTAhH//3hAAqPrZEX\n",
       "Gr8nPOCjD3in3qhqQA43b8K/LFruCCjnxivSUNJeg9YVwseifNoitVW46gRjNcunzzM5EbVGmaWW\n",
       "2jkXua0Vgejf1TGdMvC66t/m3CErdmvmbR8UbYbGXijERbjt2/VRTXyK5TGMBQrLsyX4+E5jLOXx\n",
       "iC75Q4KzbIZ0abezIVI99pOnXVbGnswfKnWzCom1Ythkl0d8N3thqDRasKxDaStUHzSywN3Qw+uN\n",
       "U6ZhYyvFsGaUULN2S3SCHj7Y51TNu9ox0s63L2TV7d1c4c/PTtkTysrzye58XjbJWUhkVdbW1m6D\n",
       "WjIaks0bxnODtvAqrwn+7cWIRQ2SeslukHGEW9t8wv6zWrXEarvVYk5YAcCkFVMdEWf0beZlnHhD\n",
       "05OcBVJvxtIRiFiaaA6f973oy+5ojbajwafyh2GtD4T911NP+j9bMxpBL8KLqaZH/t8XfSWo/LD8\n",
       "Enb0nKr4NCN36Ow5XQNbD20OfjjQD74IyeiTcxWvPS3oUCP8byjzA3O+RskG3RqcyFFWsbDDYJiu\n",
       "F27ei0xfFypoKz5zwTEULv8AAADMQZ+vRRUsbwBxe2yU9uC++o+GRk1ATS1f915ABbOciB29vzA0\n",
       "MAiRwmSai5WTwdzQ6WLyHt40d5x8+ewvJafP7Aseg1rkbpbKwdOSJZ71nsU3je29OhwL0vmq8ErB\n",
       "NTiFw04y3wAZLQGP+WMFlzI4IwJ3LDd6FPcpTSYZ2PAo08mrh0ZCggiPXzX74JOPmJcxPSbyP2So\n",
       "MA4GiHuOWk/skK4trCvERAVpukg5v9pbktiBgNkwadg/1k1kxl2FLd7omNps7CN0crTVlKPlAAAA\n",
       "fQGfznRF/wCOgeYXV2YVsmXj3nH7i+gfHJ4CsgzscINWDMRBgkRA0UFN0HFpwZjownWttR7xACDf\n",
       "hqKHHOnORG3F1OutkJ0jxosDM44hebBDdwNtyzYWn7IHizRNUr/3h5As05NJETRXQ3X1lNRW52RE\n",
       "vk5yeJGrO0rm9HEXAAAAeAGf0GpF/wCOq+06Jx1azTtf8xbpdUzHOuhaIVwAAPksgT2RDvcNnG2J\n",
       "vG5w+Dv2daI8flYIaFkE8JdXUUGXDmcQH1VQbyWdDZZKFLf1Ub8DXE6vdxBB3HRGZao0aDBW8XDR\n",
       "wyJshtG8kLTyMFrjtoRw7whY/yFM4AAAARZBm9JJqEFsmUwIT//98QADiBrGZVOoAHEXUJ2VM4nz\n",
       "BNa2HXYDB95g4RN1gRjCFkBbxxWqSA7wEJ+/34guGga5v2+wPApGNaavqP2hXqj2F/F6wYWo5hEA\n",
       "R706d/fEklapGQl1XXp55YmGP5PNPOmdoYztooylvvyCQXJ/zYRHEfC1y7V2LOQUC86HTeVYrMZr\n",
       "kS5HfmNasZjAZ5DRcl5D1ye+pZXmZwWVa5OGlSFaTDis/XvQs86OKD1Y65O3J6bluH1Gq1CWIvPh\n",
       "AdLwMNE4Oc+OS96ujdLCT1m3VoGmYtMlfknz7SfIpC+B/rjVNsnzi68fEsHwUHtrX/32QG7E8Ime\n",
       "cNkyeKm0AB69SC+5M/LCakXgwwAAAfRBm/ZJ4QpSZTAhP/3xAAcO2JLEhUZ2WO0c9KZNh+Fg4gwA\n",
       "lquK8h6W48kFYKL3haYgsO0ad3klMUmDWm7Uy0HvAKkVo/B4FYz38B2OCq/PVtLeFgVxQbtFnv38\n",
       "yyVySFAX5j7atCwUnLm8B3jAFi8XXjZvmg17etyRUqm6r2T/TEUUxUXhKwFNoU0kQb1yMugkXYsC\n",
       "KTqJoMZFVOwUai/MJZttuhjyWZ8xODKXio6LM6VkIZhc8Kn4pFAZo4sIWFszuQhKvQe8wtq6QH+s\n",
       "28i9i6B0rSrDjE9DtCk5p/ulKpxlV/gjyTUZ8QWFViNF1B5qWCpQ2foCMZQeM9rpqfUrYdwVep9K\n",
       "auynhxUV7RPRvot9928ZuXpAHUC+HNWWqMmB/3TLv2XTWd3qkcgU+83T1ps+2c1AQnigL74es60S\n",
       "LfVaZg8GH3a4bOvY6ZbQQb+QrYuPZl+Wq3eOZxwRKBvSd6EtUweOe7y9tk+hehaRzYyVgMsLcMCS\n",
       "C49tStGuNGa8Gw0i1EyZO4HO9li5nNewGT/ScbiaI/zwvS3vHVTxJU4vncaQp8keL6mWL5/XKgNq\n",
       "0CiQPagrSdm0wNVa9g7x4HXu4u3pc8b0R0bePCPH6HMW9T3RetfsRQXdRoK8NliokQmFegBXyb85\n",
       "O+WGjApNKj1tmAAAANxBnhRFNExvAHmdu6FSnMF5hlzUkGLwLLrGnm3uFJw33jyaADbCSZgPfdVD\n",
       "/g7sDFCx5chpVqZmmOuFJpWQyJvTbLy8BhGWEic2gU/NKSjTA6H2Zg2125qK2iHOWeky5hHxgTp4\n",
       "x1mOOCcBsQ0OivxbmXZhwzuBZkNXaMOt8tWKbBNHGGV5WKYYuKJ6mBy/NoYwIwees11ywdztXzxy\n",
       "pq54D6HAAZT1Fk7+7UZkMFDpR22DusPRZtp+k3dUV7IC41Rc2pmzHFSyqPeXcCFtL9ivL2hXiHof\n",
       "BQCotvOqAAAAjAGeM3RF/wBNf3A84UzKocL7H/Wp1MZL7Wy2hEgn0oMV7qOUTZ6SWCWroK+2Q7L5\n",
       "S8RFHoDFzgHvEFwWJdQtw5P3Fi00H8IHAAINURL4DOZFeskptBUy8PGi3HCK1gM8xZ+6FLBI3dHG\n",
       "TX/8Tnxrff4yaMf1nzajLgm3UxsYzF9/DLAoOZfwvfNsSQGLAAAAjQGeNWpF/wCa+U7bwS6HMBhC\n",
       "veD9jIZsbgI7qpTsfBQ0H82PJJbAmjjjIAIOGDXk3c4NJ0iMb3cA11vogAJ7rT6GE4F56NLVVThV\n",
       "wPfBcDu3Sjw2AHU5SvLX9T8MXOosfuwkqnFeGqn7qHMofnTzq24+viy2e5N5cJNZzCdM8DL2Yj1R\n",
       "FdD/T+8QhElBBwAAAXVBmjpJqEFomUwIT//98QAHOtiStZnCGfdJLYeaL1yOSuArMeZWAQAV3H9X\n",
       "hK8K8J25Ek/uybnBXHzoelUJnYbKELnr4M01vzpy9hZSIs8LEoT9HIxqaIEzn7FEZarrVyXV/8OE\n",
       "5EkeiDriuh4k1inR+hGp/mmjtqhjhQEyUFu7LA5DdjsBUrJ9VXNhIgVlMDlU72BVecgAlUgfaJgV\n",
       "ege1+mATHqZiflZmyRu/kf2gLs2R9hnkiiIZI/L8+wVKGj+B3ls7/GLRkHDU+hdn8Ou/TPEHgvM0\n",
       "YzlRpLlUqqsLiEiCzZHSDiUH7bd6k05pgQScN7efrt02lHct6AYZf4OD3GEFEF8/9gAtRTI+miPB\n",
       "M+yGc0AyYYSY7kFMqIXNyivI80wfsRXtHeqMbToEytFa8fRx36ZGDzEu0b8IsrtuOkytG29AikdF\n",
       "amUWFPwtL0561LwbDWAgkvMSJdbpyQMfLY8v+vFSj14RHCEpCz2FoOk6dWadAAAA0kGeWEURLG8A\n",
       "fF1iFVhaL8+iiu6BQRrLQcmjoXYHZFGwIzBz91QGXHgAt5OSXwFWaRI68Qph9iBclxUQ8E8P4tzB\n",
       "DAq2w+1omcIiDPUhaT78FfANbv4sNWWk8pab2OX24bavvB2N/ch/w/+kxF3qo7nPYfBsMiu77rKc\n",
       "KO3iKcPuMtsrg7+QEMMul+E82GcL7Jsi4RJ72lj2KdTragbOCqqHIs3biZgT2XvTn6ZA7i3XVP3z\n",
       "FX3QxiF39vAL7jbynXwAvv2wIzG68yHYgYqHuOtTuQAAAIwBnnd0Rf8AmvrzYGoZM3PB/g/DB/sw\n",
       "s5ngTD3IsjTohZPasJiVB6bJIAW7g0h8VE/uKGUzujCc+oQCv2SemyBJViEHWQ53n0HcUSZQKAzB\n",
       "sepagN8QR+78zn1588uD+0mAidmF8+Z9EymjPDzzaBhEQXvF5+nj2v7+hMDNQJv0L2i2+hYPjrSq\n",
       "pWEqcAAAAJ0BnnlqRf8An1zOtm5egqdmiStyGpETREFm5Rt4Ysz4kpQAQxNm/sMVvf9h2T4EZd2A\n",
       "Oa6MCszyMdN6hItlObdll+rcYOwhjnIL/q/ap4zk7XPyeLPA7Cfb6FTsEbvSjM1tSbNfM2mfdf/M\n",
       "gT50GTfZW/n5kJmCcJuQwXdo4EqzDb2FJq+/SPXtkGyTAlyFGJwfGoLxcsSBpD1EfNqxAAABvkGa\n",
       "fEmoQWyZTBRMJ//98QAON/TdDeJG3KxtUvtyIxI3HBwsbuoWsX8dhFjg5I9ckDkgpxql93uSz2Io\n",
       "LlqJq15x+2KEsuoR5hy1/7YCiaqQ6pn8gISuKFPEWkcsB13d5RA0kbV8zZyxVgaav5mqEtLkH9xF\n",
       "4GogYG9eMNf4Es76fVCiMCY3B9fJ5aMu8Ab9mUVR6BHcfHyClYKnrO5OQy/FTcGqOyhbGqYwAbLW\n",
       "kGn6JR6Qq5hp70EEw7Qz2VA/ONEfbQ8ukZsdyuSJKWEwnOPuXGRNef5sBfHOSKjXvGZ/uJ0IbnHt\n",
       "kiM0BRDxuXj2zRx2LKSxPzeP+BCRl/+DBalBvKuf8/jqx5X/U54T2FjjewoWF0GuKWzyeTu6d0RA\n",
       "Sy/wsPDJjjQxtHuH9I9NGdSVUEv48kUPwPHc/hlC4Jp1eANAxkgVLDTIKNHC2az01rOUNZ/4/6yK\n",
       "GkVsPzTBhoPRakdYdpcwy7s9gNseqK30uFwSsYCrCfwnq7b+GbBhOdEQspEZz/r4OzNecIUVAMTt\n",
       "a7r2SKv0VWjwoemvCjCRHF3ue/zkqcGffPYBnQVqfAYozLihq2HxwZ24xIS+AAAArgGem2pF/wCe\n",
       "9QEDpQUeQvdiaSY3h3QeQOZ+7FAB6SB/2Eh/obu79qBDB8BAPw8k6lDPjG0lfbJiUCyJD/IeWOHG\n",
       "rhxsDgpsga9Alj7IZUKpfgq83S7uos082ziBqZUeee1e5JEaGRsFaNTp/72ZmGQIaAd5A8NehQ2W\n",
       "2h+HuD7eiypfU5Ok0ZoriUxyFvpqkZjfoVupE+75K1nHmYJTYB3oSwklov/IXaymQEohYQAAAadB\n",
       "moBJ4QpSZTAhH/3hABdGj6E41oR4LoAtdtD0iM4NU3eXDJqdL47X8+ba3YPP8VIRf39283v3YH/U\n",
       "c3gSOxp+whA+vvykklLyYYXfym9eM29uXmuew9J2S6xkRjlEXYA1r4qAUkCNWzd3lp3sBSf2HBQ+\n",
       "pUzCDBIR5VHhDiDFHwr3Z9JZQqS/uLeVqldwUkPURlr3EHMWGwZTaJ+9o4Bb98JyUsCo/ae147zd\n",
       "8xmOPZNL6bhzQ8DYajkAnqri7TjudbvZY47RGmy1wCY9VqOPpF4j9CGwSz9+gOKWo3Yn+cmc6fiY\n",
       "7Yud4BkkVu4FjEAp7wMoEZNoCvzpjtIxOi1ZbFXZD1K/CQk3nfOHjkDqOs10BrnFzEn7fsGMJGtK\n",
       "yEmnn4tbBoB0FV8DmrWP2nYKS1mXOKbayzaeXpxmQSohZeLlLG3D9FFIcepSjnaHIPs3de43w1hv\n",
       "iEuV/b3Yzd9YoSFxVOjHHg1zHo3S30aH0kbS0iFYJtCt/RXYg6NbzEgL1Dlt9cBsvgONjOz82cf6\n",
       "vC4TxbIDa/OMEWRGVwn8Ry/HfjuBlVEAAADqQZ6+RTRMbwD4MPqvc+LeKpcXv1liJUx9HcN7TO8y\n",
       "TOkAAnVtZwTOVB4cc/RXAFg9K3BY3pEG/TDBdnxygrrZEW/8SapRzrhVtmfLTM6po2sS14w5vMBO\n",
       "BZG8zT2mq4D6rxrU1zbeaLqCOGS8xnm4rp0gmUj18v8j4rigLyplLLXWsxtv2J1uHbHpUL3E8qmH\n",
       "fBReanjKJdReJauptZQ/sA/aiWQ0Km9vUBfSyjjgsK4kwV3j0CE79rWi7Kxcq6cXkjFznIA6P/pi\n",
       "HlJQyNK5x5FeptG/XbClMNYcHYgelb4rdGWq/2iYWiiAAAAArQGe3XRF/wE+Ct23VAnyyYHeyyAX\n",
       "4hxJeJ0tAcz5KMs8hbfIRoBQGGwMz6PaSEGz3PABDP0lNl8lKAE3JytnHbFiHeJmQQ8PIkSCTS+/\n",
       "zeDEk12fUUv7nOQdZPf4zmV+LQ9SNyMBAdimJ/hneI3OLm4Wr8zoIKxUWx/2D0eZoNJohTUKuRim\n",
       "nE7CaB1q+HaXoNPsA5ynonQA0VpgAMQ3Uh9rBz/oT1DMEFzmI1BpAAAAmwGe32pF/wE+8NtkYJaG\n",
       "H0ARPgIBhS3l1/P2lXDFHYsPbN5FAANTBNAvS+DRB3sYYBSutmjg5x/cQwuDx2QLmgSKCNtkb/9h\n",
       "1uyj1bw+vOGzYCbAKj26x35nlrVJkzK2GuHkaHwy2+/aGdA9n4XBwEP8Wvc206kxlcYeHpccns3W\n",
       "taMWz+a6fg5IEwV8RlW0cPbv/Fn14wfprz59AAABaEGawkmoQWiZTBTwj/3hABc23EMXzBOn4aqW\n",
       "yuRB0KjUQCHFCckahxWpk2Zhp5YhNjc1sAfUjX+4RFPw9RCOSYWo/lkZNA+Xo1d4jwbK1FAM4axE\n",
       "GmP7Zb+LB5sl0xnKoHbAx3vS2IeLv4K5JlZlMENS9TCZ0+2Xa3ACFrj5AZUPnAZZxQ+YoSjkGVmm\n",
       "iMWYi1rq1NWKukxL9tjmQyKnTZxmLJfHKf1fiiXmeURXf2EQ9s7NEb5w5V729r91ih0JJ7SFyswn\n",
       "VnQ95iP1d5I8V9mLfL6BLv1UgGH6IMapl16ecEXnPrcwlOlHPtaUZHtL+He5xXjX3IzFDg9d/LCm\n",
       "b2rkDj8mHxWk2lrcdAAwSs8bBPwxIYtaNuDvIMT3IcHWMYLRn7RXtU4psVT95uLXajMOLet/+OLj\n",
       "gJDBkX+tz1fIGjGulxdVFVp5kYuwawyht1TyER0FTEhCo25/iVuDL7EtIIWhVrVSgAAAAIgBnuFq\n",
       "Rf8BPnl+aWYRnkEu9cbb3Ss7w75aD3KgJsHsRZ9ZeYM+i0AE6IuDRgYKNjx5zFcXR441U7jgVpd0\n",
       "OpQt/I1qJ1RMgPhDBg6L8403dVnTro0116QGzLOP+p6x+STPuICk73TFPc2rqx3KR5djZqPbPDAN\n",
       "giSFVHVMjUgtIYrPdlNguwiRAAABYkGa40nhClJlMCE//fEADnkn0Z25ADVyl1ZLnBmh/Mox1Vbn\n",
       "0L6/jB1Ek6mGElyrnNYK/xRVPEXRunzT/hSirxBZF8R+6GHw6x1s80dzNHz+5Pt35++rl3EjLeba\n",
       "F+QyPTYC/YmNPf034CYTSRBrLbCu/kN7BRNvcF3OPkKuf/of3A9JvV9wYVB1iCl/Y0SAn1ZfIsjw\n",
       "wSg1c7g7ckGh4TJHnS7InTXUFlxt7PLGAetPoo5quKUwVb11iQEkITVrTcl7O81FZdy3RntHS8RJ\n",
       "hrplcKXwHWWV8IW0bSxGRDNbEeHr3EJreAe3MFLvyJJNyD+bDOMywgUfg8hsWhejJv2xPp16K6Xq\n",
       "poFC7ta0hOuNFqVGDDPJ2ignm63ItMjjPiwlPjMhplCK7PeOff7S7s4/pWBUquZ/vgCuyzCzUZkb\n",
       "ZCmei2EreZfwV0yo8rYYY8zZr40fVbMiAoRKbbG1rKBzHgAAAcxBmwdJ4Q6JlMCE//3xABzuNUAl\n",
       "E7JpOVeUugbgawwskff8jIxFgvUlwcirPqBAZWC8WrmE1PLAmkLxFSRp3U8tHtNlBwBT/3BQiS3l\n",
       "xjeIi63kfWZRzYRKGNuzmNvXnvAgG8ELAWfi4Q9sevXwdRob3gMuuOChA2tE44/Uf8ZEAUtBX02V\n",
       "2bTE6Xfu6Zv85+kfvz43tAcAW1c72HR6Tmxv9SfOKnnqr3Vsc6QfhNvn9/oSLaEToOkIaZEKozLU\n",
       "HORCvxIaJWnKYwZXIzNhflDpFZGPgaaJp2y5oShbUXrYF3ZCUU0Ot66qdYntmkD0inulEWfoIbPt\n",
       "/nrHS3uxOpmf87mIIjqQ53u4VZn5+ggLov/ZHeIvQAj/JYzor4vBx4fDcaRcH/lVSVlsoivgpYRA\n",
       "NCDSLCgMYPXHvMADd9PYSC79WfGhksCC+yfiJnigran2UJxbd0N6hMa6R6fi2vdntLAg5kXZJks3\n",
       "hETh9ztIXRF81XxRyRJ+VUHiRqExWbNmFqt+QIcQXHm4DzL4HfSEtMWWKjJ02oCDuoMB8/uTLJLG\n",
       "OIfVYQNpNwHya2jgIfOwXNSPaaOpTSRY9f/1yteH+a2YA1q9ga41wwahAAAA1UGfJUURPG8B73bu\n",
       "b4+Y7e0nZxmR+DL2BeKD7MLLQACaBM2OJyg3nH5i5jB3sHlrQhhOYzMguMycZP38ddHi594ADBCk\n",
       "R1UTd0cWcsBtrZh9mcPPSeaX8r5LRn/R+Eldu+p5nuD+VHfDlilRhYSGZ3GRjMvkXfIfDG4VCyDz\n",
       "H0tnh5VL48l6jTdXXter2Q1ygz1F0WNA7DQZxVENNg4anzJ9RArf6jw+WUvKrNxo3UHv5pxwzoNW\n",
       "eplzUvGFD7qdK5ltFxz8eUd6189n+beO+PXHHtJDiQAAAJkBn0R0Rf8BPg1AsR+kxKOmNffSyCQu\n",
       "9tuRt1HRe+SCZphFGwEQq8F++UV2Y4ud7e1BG1oDJ8I4fi6NeKjEAUJhWFR+U/zLtu53oANNJAvT\n",
       "nKim369m2PVNhYZUnU/lJtuOq6BdYaMPgwGXv+rtdYOZ1P+NaqrJ0sUYZGP6T3UAFDQlklPUfDI/\n",
       "dM8peeByEGyQc1Jq/wz76AcAAACgAZ9GakX/An3k9bESO4x8FcvUJNlM4baGSensoqRM7lJj4mGT\n",
       "eD6/ZjfEkZzgltE2nWdK69BMNGCcgBCNT4xcFX4IU306nOKQyUHd0xM87hWr+vGBghh/D+mWvmxP\n",
       "5G3ezQ1wcEKpbLffsMZsqGIx4yRMzgXqriPQqyTwq4/Ol7oYS3IN8KNhh2S+304pUtqhQvygUHKD\n",
       "6EvF6vzRxA9TsQAAAa1Bm0tJqEFomUwIR//94QAuWelEZwuT55ttIgCjh7j3uO6gES434YmMUDzA\n",
       "/0QV91MHtpXOJCUe4X1RcIKr6N+YTFlrQXTgIHzU7UdplE0JGCcdyMHkBIb3KoRwpy6AF2tzhQsM\n",
       "8YvOn+6YGNWDYRwp9ac1Vmrc+q53G3fdEiaFMmNqInrEoHTY8r+S6zB+Cnbne3Lbk2ZO0gRsLjOs\n",
       "pxprfyMLA/07doP11ZU02hfYidxHOZz8DfJsdTYGtuRNZ4NJRgk74R+hBvsoL6J3xEf27HDd0JbN\n",
       "IhH+544hfKQGcE1ZSiPGJyMzMO2MtKGHID/NBJrE0LsbXjLQXuLeM6oJ5uRL3lyF5CiL7Qww1o6/\n",
       "OvR5u32/gwL2AfZ+RrhJfdiC98o7jlazIAL+XArj5vBuZNOt4PTIMJvRUOnn9fr1gYaCXM6B4KDS\n",
       "IxkWX9+VSKG57KeQiPvl+kctCrte6DIqybjABalyceTCGjeFxn1mRwti5h19kYzm6QBCaH5qx99f\n",
       "55tlqwPbGFRv/gqiyf98FeVGle4X8qOEb/Eno9KUHPIzC8F29GSig5MVjawAAADDQZ9pRREsbwHv\n",
       "ppkWOHEAczgq+ExzwONrvjJt/ONgzjWBPeFnHPjY3lROYtB5rlNHIuxZKsHrSQBY+N5pEV/pIPyq\n",
       "JdoENxUFcIFk04u34zHa6vaswc1QAkk3uIXR6JBHB0qjHpWv1IWrKgGH0UftNVvn9fjWGmFG7Osh\n",
       "bHbbGaovVMEq4CVN7V6pzUg5uc8JjJmZziUPUgp1+nx++nhdJV61CsPj/vJTFl3cwN4Lg+J7q2Zi\n",
       "uB573bHForXjA+yoM3OiAAAAlAGfiHRF/wJ+g+7LVfpvnRCDmnVxIhZOpHQX53ZYpcWzkrhDiFPk\n",
       "asYwYZWFZllxcwuIqf8wnIH0DU/GlbnpIMd2zUAHpNoiB7SckRGaY/fm0eg0oBZYw/MH2ZX1m9na\n",
       "Iz4JG2cSJQp651RYnJS6pP3gE3qvattMcl80h6QKVK87516ufzjRxCsy8rhByzVAmqbApIEAAACM\n",
       "AZ+KakX/An3hrxTq8IX3165cr+gwbdV+d7qVAhhIzcOg/uIWIVoQA8pmIoUy4pFWS3EXlOnLrkwL\n",
       "aGoN7j/abKR0XotwIANlzjWigvrsFMsU9MdzIzBL8Pxdk64azlPy1gkjpYExV/y8ipDABi111O8Y\n",
       "2HziU6sYE5USExc/gff080P8hRHqF5xV9mAAAAFoQZuPSahBbJlMCP/8hAC0qC8wkG8ZQKeyUuyj\n",
       "6+rTylXhQFuzOBUrfs5qlMeHrG6+U7B40MBf4gs4xMEs4bOTM/y3YR01qVJmBJldpu7b8CP+Yj12\n",
       "ALZgJaoJYl3nNk4sqGhHKYPE1H3TLAAAJzBmrcR7UwEdp/5XgTU6PBLHuyt/HZbEpYk7ZB2vS/dJ\n",
       "hRS1Fxe9kHkIqMUAUZDC7OCH2iz54fPSq6uJn0J5YEwfRFxk7gBt/rTw9q1taJtGNwHeTijOeG4i\n",
       "JgDe/SKvV6uNCSiANEBn/Ng6sf2McPxfia/Mh/PyBRVHTsXyKegYY3vKukTpUjif0OCmvSvFc1Lj\n",
       "hP2nvf9KNsZz4+ZlkpYpHLWrY0fjUn+zSEnOVPKMHy0F3Rkbwj3VjkMXLxpU6uDqDYGxr7aNR8zZ\n",
       "BjCdHBzhSaB63d0WtJhqFFLJuBLdBRHCLvfTHqfJClarxdbUO4AVE8O3VlR+qtbgAAAAxEGfrUUV\n",
       "LG8B7l+x1XlNg3Rrjy/tpPCIfl3whiO3UyzhoyYMigITmK5+kEABvwRkET67OmpYto4gBKYfx3o6\n",
       "3LecWaTvyrkv9us6ud4NZnj0ZXBNPSmip8jwOTmomNiMYyTi5lmZpoprOk4IlSraGIIFKsrMzYvt\n",
       "hO1eBVIp/1VvvZ+nQx6NLjFOHletTWZ4eBbUUX+4uZvUwjjtRT+X5h4j9hdpAfxyt8V+n3NvBQ/7\n",
       "/ZosXM3afVyFIfTjfOggsN843sEAAAB4AZ/MdEX/An6D7ssbwumV2YtxWwY8/j4BXDRfX83itrLd\n",
       "gjrQZu+xWupQfIMiMXOvXXJrObY4fIxJbN2YA+gTGwIzqHnyrQv4AGzgucUoVKgcgmnM/6EM53mG\n",
       "JULKdcMQoUs7lW8k9NzwtHiPCUd1K7eReyoddOPtAAAAfAGfzmpF/wJ95PWxGvrtAW7tYTf23Zqm\n",
       "CGyhMYu9S892IPRBCuZCnAMGcCn07ohHvjSm2IfGW70189pc+4KrjRyNAGhXQHTaSLSSpEuAw452\n",
       "IlftPCRRM0lPx59m4j5TKgXIEj8jDthQWoOzzcKNEOiaBC1Nq/taPIFvZqEAAAE7QZvQSahBbJlM\n",
       "CP/8hAC0q/iSgoAvftY1v+WpCCWzqMCj4bcSIE80Bg92e2munaJDSN98vAUYSUgvF1fB7kDCdomK\n",
       "4r5SV26vwm11Lg2DiiIkpDbS2noIh6+uULSrfnUxekpMI62wt8GC5q0lsrQZ5DJ2BBvIGS7DOgja\n",
       "Zha3uITRQgs1Nrpaa2ziptgB8Gri2r6mRBs7z/cQL9OUtjm+268M+A+AFJusKoIx7tlmgBuwBBaD\n",
       "vJEgdK2pjJrp7ePKTeECndjTchXCPFm3nkfaugj9lZ5laKw/4MtGFd/4Zx6laty7oDITWdvVQmpF\n",
       "hB8SSL74og8dmeYpQGPBe/Sa4pzrDHDBbvLX5+uSHGHyqM8iLT1r5n7ujozjaJwXlIeBi3FnLDeS\n",
       "5PBF95v3OcDdWditOCNn4Cp5+VnAAAAA40Gb8UnhClJlMCP//IQAtOPtClN6VMUAWFqr9PledpD9\n",
       "AVi/S5w9w6lUpumOHXp7SIypHRJs5UF+xjZkSb4aFxO3eP+adhrcgms2uhobyhC10ob5vYwA5sIG\n",
       "rv/nD5f96TnMgzVT7unZCSSUJnDlmBtm2MuvRWElJPhranP6bwftzFkgqUJNDQgajOzdwO/DS0Gz\n",
       "Bo731YA9Q++rJm0j3NYcIjZbGQSBm//VSboIkPktel+SFFGr4HpiczZ4b3ETkuMGFL3zqunt85Nj\n",
       "ldzuUZ9WyQxNBR/HFrWSulxA/dC0vgOQAAAA9UGaEknhDomUwIR//eEALk3BKaSi53/TrAglECGS\n",
       "uNi9OHnMT/0lcqIP/lQJSZKT/wnWy7bppdxXGxOArDfFr+iPy+aiLWpL7WwBc1F9gQYBJyCHMeCl\n",
       "PkvYfd6HUBjco+h2jyazlyiB3XhxBaIMpnpPWV7OBxyG0nYFwko3T9LSs2al0GSfinUZyWW8j3QS\n",
       "RfelpNHl6ccHfW/2NGcv4Oql2fRSBOL+g5JXfOkcaIB2q4geRGYR1H+/Er0cW6KQwnn9p+MnpjuD\n",
       "BqfJTUpnCsKPVfFmNB99/r5DJOmO4IfW0Fq42SRY3lM8yM+V8iIG8csu1BXRAAABQUGaNEnhDyZT\n",
       "BRE8f/yEALSoNCpGdz29NPY3QBEuCCslHyhSPcHJ4m38D6FwKDS5LvuWYJ5W5+yT99sJwOrUco9k\n",
       "n1M+Tfw+fwIYCyklBFIc2LAAvt+re0igiKFfmiIYsUCdUbg3wzD2RmkRpNntKBlmQ8hw9N3es6oM\n",
       "Q/HW3zKVIsKdQdNIFt65azuVSD7Cu0KsInKsMcLIknRP7kQ80m+S32uSf6Itd7ByyXFGSvshQlRa\n",
       "U8FrKbvZXeZ8pQTFTFI/xlUngY7TCzTzKNHrjqcsFtlx/IpAKqzrTc2NxfFhL1uduBI49RdbMJvF\n",
       "+FF+zX98/7fSv4OFtRf0Z0s+nG+ntvRVXHcYLGzqi68ITBHCUsAoiQIxAt0TsZpTuhiEW890aQHQ\n",
       "RzkcalIFNKU/7OH4HPhkuHzWpL8td+8SDK6pogAAAGYBnlNqRf8Ce8vTqYTJ7LUNAdN92KOE3Ak3\n",
       "1rYyJkoZ8ksT2QPFqkka8UKpU+5Y/DhdlXYDXh/EzVWGLQj9UPUPJKiHKacjrauurFf00SbakGxq\n",
       "OSojy+yGGOKHT19/ho+O7XMbTYAAAADzQZpVSeEPJlMCP//8hAC0rIaQKYIoAiXBkmAlQzbqwVEi\n",
       "oAV/71YO51cJC/WbeS87nyjhISh7xdP2HaUbRk2Mlt5G2pcdLPiDznZIQIGzL/cTrVZfPMbqQ7e6\n",
       "TN86ZJuezEgm4P3+oV8nbK5yMnmYFEjlVWWd0EPzEJL6lemsBnf/OUFqIC8T0bIDPvXsNV2raplJ\n",
       "aTB/2Zggyo4G6PCo397luSBSNNg8URcfPn6dUDH0GFvPiEyl6ulD8iSzozEGuQuRaatO06IJDpbM\n",
       "PAC4tcT0Gjq0qdWJsHG0f3hCGKuKLKXLZuehCMpYSSfT9EMLEasJAAABREGadknhDyZTAj///IQA\n",
       "tfHLp8AB06WITKph4I12QUJ/GAhA89+QVyAH/9bFa8jypJCimixh+OdEGZjqEm/7mw1Hm+nMhvrZ\n",
       "tubuQhU50o0ApOa8tbazSwrF6iccHGtF7lfUbX+OOyv8iTX4D6HYt8s2cwEfSetqnDVLsbrCga1A\n",
       "rB6DKAocKZQqHaYGEkWb8vxv0GxdtRjtcuzZIJEgt4likacafuWq0jddRl5Uy5UaQeHM0e8pVUSd\n",
       "yithUwp1cAubEo0MMZESJxJqLSW8ZlVmZIC3FBADuFGfFVP19zx0iDQq+kNZa60oeHZfh9fSQkfg\n",
       "EUVCsWrfVVUAr3ttMeeLWFY/qmFQofoXx5kbE/TBTArSWnfm9zLAFRORQMP+HsdykVdxFD7lQt4g\n",
       "wD6bZYDgQ2AiiSPWsKgiOHw986xT0gBYkAAAASNBmpdJ4Q8mUwIR//3hAC0twSmkoHWmhZRR3BMF\n",
       "9GDAADlUiqBpOFsoJUrpss6fLtqPyqEt174JC5y86eSCbJFhePktlgnNNGGK/s6gnclONKhXyuEs\n",
       "B1JIbvh3Tv/KnAvpQ/ga2Bqz/srzr0gNb2TPLm0vVTLjZxgK412M5h7tBaViN6ekBhDUuhwVPjOn\n",
       "KIqaNSwNuecNAUXK6KHYl2El6AB0vaCdusHwO9YP6dlGwMJWbhFeKEHSE+b1Utp21PiW03HECuAh\n",
       "1X7jfwSGXAv2NE5h+uWJ0JncYPPPvKH/FppGKeQIvWSB9njkQ/B4xMAkN/HxzK93M9UJci9VUSNn\n",
       "DhXFfviP5Paf90UYRx1dtXQ+JtQWoWq1aAP8MwbvMgdejIEAAAEfQZq4SeEPJlMCEf/94QAtLO2j\n",
       "h4svsdhS+fTWf8tkECwR6iKjui6PMmEMKR9nWK/KzzDn45vCOEiIOTbZfmna1/t5SXu3eTbFakud\n",
       "Yd2J7MjOVgpiVcZl/jXoX/egJlgXSRPdXjqZCk2XseWtPBIln5FzCQmqEzplxWSUbJsG4g/BAMpZ\n",
       "jrOmaIjf5RxHlU5yAeIrzUTjuuWxqBewqAvtOLIzqhRaBk1ByaNmJO15KZQ+4ehwdGieuLNRPqOA\n",
       "M59FCXl7KJgQn/R/+Zx+xweRHC0Vf7Ugciyd7pykRdyqTTibxUv9P06hs3IdA6X/YaI+mAQsRGmo\n",
       "ZssMZqkG+gQajEaMTYZALPvfb0ohtyJrDHDuUSQSmUQgOf17y9lOTokAAAE9QZrZSeEPJlMCEf/9\n",
       "4QAtPStG829fcP1xsS4YABLcTx/KkDBn/1orD3kpzNXZX+7xwUrc9wqEwl5u5rdVRbCegvnsptKE\n",
       "0TdeEeTqcs8RuP8j9G3MFICXJ2GTgMCOxU9DyjJkPBlKYAJ7dclj9VBhQTluRH9DqudsYLn/JDUd\n",
       "XjqxzJ4I3qtIkatQWOKP49os+JXiZe+ORCOU4ckdVmfREnvQRmUGKL0ZBnZ/scO/VYF95mnYp9Ut\n",
       "+oRT/7aSdIpXnI20ehAHp+Rmm0PnEmoeG2qFbrbZJeF6mIIfcuYSLiKPopLCYw24jvzuM2f4xAeh\n",
       "Ts2ZxyqdDObVppqjgGIjfLQ7pqWbww+/NDNYaMbADlpBqckw8jljNGyEz+y2JEOIDOUN5Es/bWmS\n",
       "66CtuUo76WwvxIGWSq5HdkTb3YQAAAEjQZr6SeEPJlMCE//98QA4yTAH/jsD3+WJmM/Ju+GpbFS1\n",
       "JCtdNV8rYPU8qZPqS8trTVAC1VNMDwVYtOMHnp3+wHE3PWIwdVGIgzjfnjuLZMSiSBNLM888ttg7\n",
       "ZwnQZvDATjXBvMnprgIjuixQJp68ov5n9gfOPTvYjjaagQJx4WJov1Tid/VeAeAM3DV+8DRUJXxk\n",
       "w3v3oFTBsKcXaLjQxv7e0aNK/zODvlxDkh3ouVNblUKdKOIDWM/s3qd2B+4l/pPERk/FC4QYHAk0\n",
       "YGb4181zh7kcPvu5oBY1UBGqvePEXw6cCVX8/MlD5j1d0rLNFl9oV8sv5SeFp83whuduXCHqVj/C\n",
       "/DvKwFPWZVBvk9+UqrnPgnRsyJlqimc4tbMOdjVpAAABsUGbHknhDyZTAhP//fEAOr7H5dheaxey\n",
       "tQWAcb8HCC3nskuH+WQBWNhakIHGhLQkIVDycKfLBLwq1hG3014K1vosuh6Luhsfqsw6i2z8/ml6\n",
       "OYuL01snjnIZpCNpljbOgz9AmlxDLrB6p6NR1Y2mcB4KNjYZY8Y2h2AqoC3HVQB0kuBytmSQQGxQ\n",
       "OOX1XdbktYAXcBUGpzSiFRisXb7FX4PTo9+bG1N86j7MGiNT3XdfbAA6Nf3nUgzeE9ulID/yU77d\n",
       "hRET/tSxMqj5aG5ILWEF5YMC98qItTAwTVHFh4hTrP70Vtq1A4xrebdk8AKnZUMNK88FAfbxML24\n",
       "bN+5t1OJcgzBcQZsGKm5MFpVqk0oMf+pKiohEG6PCHfk8puW8/JakAkWklZtgcUZFB/6NHHVQBsW\n",
       "cYWJf+nNo4COWfhH6q/JndspOOxZyL6ABszD0wFIz6CT3fFLdmdMQvRrtvg3OkUDHUrDGbQaOzVC\n",
       "P2Gznu7GQsvPtQYl/37eL82GDqbzetvLHBMRi2En0SKMe7BChlKcef0ILWq8t1Hmr83+QYdYcoov\n",
       "112bpIj4AJW5R3QAAACcQZ88RRE8bwHjSTbkldD5s29HZxsWVQdSK2LanVSvajLeuiAqtrRIu1y7\n",
       "PhR01b+jDwc6CLYDGONZs6O9/7OACHk0k3XB3aipwwSO8UII8/w8d3rGD4z2WfbeDYpnB73X2xQg\n",
       "w7R9eD54Grftta+F+UtDNbrlZJKdP30jvEVAjOybQNNnu2/qgEO0KOfd2VEDvwJtKZw4SHOQJCzh\n",
       "AAAAZgGfW3RF/wJr7ClBAJyF/JFLyQ4v2Qkiol7CC2iERPRryw0obR+X8s+VWfO6xf82hWsI19zz\n",
       "+b6M+a0dpuYYhR/s+7zmAxJXOfA9TxjJl5pwHrSSH0U2tK+hMe1E0cV1/A3goO2YcQAAAIABn11q\n",
       "Rf8Ca7f1VZw4P0w0d7CG4TlOQyOSXO82YukAgpLp7S8RmYCkCPeceD4gSufYJ/n5UADU6Q686oBa\n",
       "RRUmq3qr2vijtoQW+z3SDQK3Wh0LEreimHgOmgAR47O5tCASR2XcEBNtR0GJWqBIWoKnAoVdoeIG\n",
       "qXsNty9FPbuMyAAAAWVBm0JJqEFomUwIT//98QAcXf9ZfvOGAoKDKMQgJMfE3PU72AACG61iHt2f\n",
       "E3CU5R5FLPYX/jYFdcGXAdQqWm/8r3rqyZkOdyM5Uc/kszOxoSoKGdzsYBY9xlhIGiHHwLIqnkHb\n",
       "flt5bxCctap264YqDhttKs3q4KZwWb8QuwNOSPIwGu1NK9JzFzR3y9Ih4HYOO0KVneQSRtXxJdd6\n",
       "HkkExRc328sFzf+MwAoZnaUmnVKlEw2F79ktX0mq4n0heGTk1/642agGaOueyozqaO6w9urXken9\n",
       "usqLC4FYLYyMlTt0qSA0S3jvMY+w0gxARwXZoIdlhw27AWdBU7w7eWHX4InWNtBaVtin1fP4x4Q3\n",
       "fJs7RsM8lJX2PFwU8GAPuwUkyVO1Dj4O5dVJ6Snhj9v2zFUG15L/+vqSkLhQIUyDJv05iIc6z8y7\n",
       "MzGyKfQWdybd3+ll0A28Xv6HGURsSAiPrD9HLL4AAACiQZ9gRREsbwHjkpeRqtUKkJ2AlmG2OiZR\n",
       "nijfCR+afo4f7d2m8YQjdAnH/gxelqxAQcpoMDIEJ7cmDqAD0y3V73lmOQ+pZSCXNKwjm3Rv28Lb\n",
       "Re+Pc/tUDL0fJcJOSl+rbLxf0fs/109L5OviedIjUxuaAPEQH4mdHUoD7hUhUG2kIfcfpLS61izb\n",
       "UwgD+eD1vYZlB6dIWYneipsK43wuMF9BAAAAfgGfn3RF/wJqRQVb12WcxsAIOQkzTf2qWXsOHL1b\n",
       "Qge+grNI9Cg+PokigIrp9upDs2YAA2A2FtEHyed9Tipa0d5FF/rznjwvKVJLn/vo+2vTWvBe5ny9\n",
       "dLgUUKHitChRARXMJz78wNqSmfE3Z9Tx9QjL4JDhgju+8fY1+6HkIAAAAHoBn4FqRf8CWkkesHu7\n",
       "lP98wpVQZWr9MUG+aOL8uZlR1LYFzBo+2hSrHKeQ5H1XIks//EgTCEz4kG0l8BLZb981JJvs1EC3\n",
       "RpFNs4vtgIlFEG8RfrKFRIYc781m38xCQdqzBM+DS/29m7WnpMBQAacyFrzMouLPtttB6QAAATFB\n",
       "m4RJqEFsmUwUTCf//fEAG4J5gitsWdMTf9kzfP18fEEDkCAsqQ00D68Z5+tHCtlTAHsUobtsrltL\n",
       "CfNkpI0fIcUEXPj47vmFnNAJxDLz1oRig3R/TwsX+1lgQ1RvLgRDmR5NEe//sHKL45MD4zODZlal\n",
       "dd1VGkNYY9eX9Vm36QtWiDvLIDEVkXB7vx7RfOt+2TPreDYRtngDbjvXVi5rWHlKLkErvuyKAnt2\n",
       "kolidwfPfIRAeYWfgPBxUNZYx6Lm5cZeiC0UYSmT3zHBdmz8FkUYHMV13OiIqmuNx995c3imk/Yp\n",
       "UByApK6F2eBCk69s4sdWFUcWOqUGJ9p5nn0thCBdoN/xOSR/QnVCw1PhKAigCkqpwSZZNQKe9b/p\n",
       "fWqZ/bg7diutc9uNxPc67hg+IAAAAGcBn6NqRf8CWkqXu2/6AQ5nBUb6Cqczk49BCnYtx0ozzPJq\n",
       "OdtEIJUIBY/gai2+4OI2lgWFijcY0zHVTE2u/Mxr9SYlpto9YYm9gv8KRAVEvM3I+B1iz1KuyquG\n",
       "Pvf3WUYTMiJAfvjhAAABZUGbqEnhClJlMCE//fEAG691J6Ko9NtjOkHFaGuAj9WAHCwuN4t2/zqU\n",
       "47BUxNTAs/hCUMW9ILEUCBwJ25pRCv6zwT5Q0T+WFKW+R7ebpuEoPMIlYnVxWfFLtygEGjYPpBu1\n",
       "kbE7GqYfQWErfs0uf5GZFTNSA4OR24Hqb/2v6xaMRwZ4ZXu0vscbJn50HPwS+2a6wzJvNyjY9oIZ\n",
       "yN2SM+L2HTJYOu2TH/ZJZTzZIvDcytLQAXOWLf8jweMAA5xh8eMIFG/057lcCiBzpL037gxoAzRY\n",
       "UWviKISRGDPg3UZ7TsTyR/J1HQI4ILUoDg/weK7ZY0P0jdh+rBPpqqQRoX3xVvU11ZejhDfWCkaq\n",
       "LLbvrfXFoFOerKH8XXZf8N5jnomSNhanHM2bap+hUX2nA5V9LAz7LiapD1KmhSd1ycWlj6k2jDqU\n",
       "HMiBJqQ2KBFcImvlRGk3PhHP4qDiCHL2BwIJLLES8QAAAJhBn8ZFNExvAdiVotTO5OG68PRKAtQK\n",
       "72TMzGEvVM5V/mw7bnYGnOBp0LCjKfSADQD7/6355nk9ebhIwPsQjXxZDUasxmZgsyg2aiEKEpUC\n",
       "AMuFZI40ZwVohXqwMnryLIIdIGXUWVPAoHepd+W/7pSTExkFRBJXnI+D4+VsgIRbYEiXYIZulX9l\n",
       "ADyp8DUnyKTX/krjoChT4QAAAGoBn+V0Rf8CW+0ufgkqEnYZfOIJAbxIOfXvkIxPAiBAzXnc78BS\n",
       "Si+TYhytJSbNTxJJ6zmz0c5d79X8+ffNbDs5GgWT/9wxyS97oPAL2LhjWj1rJ+c5mTmL5Q/cdLXj\n",
       "XdUgIHzmR21RhZxZAAAAZwGf52pF/wJLrEcBirnPztPRc91Bdq6EtD3VD7xwc2GSiyCKyn07Unbo\n",
       "3evFW9LM1S+LegvZCp2CuZsBB+hKADYfMq1EV7k4j4+YM0ilq3WsKLLTXjLsA/+nYHol25MdkCjY\n",
       "8z9YOQ0AAAFUQZvsSahBaJlMCE///fEALtn1+gJUqRh0we7LNjJ8KMA00hC3zECJMBp2Y79hgEUU\n",
       "GdUPSWtwHq6+HbNyHx0sQXGHgeUD+QXDhRQG+QdF9kQxg5X8VhF40KqLJ8AWRmQ40lP7+cNFIu+A\n",
       "yzg74kvpqk3Dke8RggW3n2MbiXIqXWRaUsA0J+RiUGnO2s9s01FtehhUjeAdHdAhoAN6JDaYF5M3\n",
       "VD1J81WAGU/3230oLVqGEDYvcmyRiFL7phD2l3gF3t0TY6e2k+mVD649f2FdvFu5Gz335fNhlMyK\n",
       "RSUSON99qTlsOXNOSthpI8/SESf28wcLsvHr/QyxFv+J1+ZKe9ShkkYQg9Pu8PC1Wu8h871bJDMh\n",
       "vCu7NYbCPXYlBqBElDXtMH6U5L4jXpj9CQ+7TH2ptivnNDYWWmOFNujrI1nuiOmbvDfiDXKtJV/v\n",
       "YrBqJlmE8AAAAJ5BngpFESxvAx0lOZCAiUVXgzuauK8HYZrnZAIyTgAEvBMzI9U+v7Np1piTFL3l\n",
       "iWU9PdqqtOqTcC4+CV69mhscI1Mu6eMmVpOm2u7mjds+cfDDTVytoKdVl6XW2wE8fyGfghzYJwHx\n",
       "5TNHkzn4see5fY5xViU1Afj6wDBX4H630l0j0t+YW7DFed4D+UX3OSCW+6jtQCfjG7gTmOKHVQAA\n",
       "AGgBnil0Rf8CSgV1TtM7i1JL8iy8Vj9koA+so59dZW1vXzEPQVdrEzt/t4k/jU2Bqmp4iPV0G/Cx\n",
       "KbdYLaqu9gyLNOhIGl/FgWaVGPtKZIlOWls2Eo54sIg5bstfgAh+/8MfTDoB1z6wcAAAAH8Bnitq\n",
       "Rf8D4uAtZs4Ji51vkpg9VZ9DyA6igA9FDP8ZB9W6nlT3McWvRI2YKlY2OKAHLUGs27T7xHzYT53M\n",
       "VEU0kgt++AuUZbjRnn+/1/UOZhvpVmqcYQkGfnVfQm0QJ2jWYpOtIDsmxvkXLKMLJmtNj9Wh4kg9\n",
       "WWXm4QSl9cOwAAABeUGaMEmoQWyZTAhP//3xADACfzpntLHsyoAVaWUYfgKd1lIpY0nD6lxAVPOf\n",
       "hkPVBzoGpZ8HI5fZaadhN2avHxaZTkAGp/i6rR5n3g70DIaxrG46pzEgtWM9s46rqoJZ8JPqWHqI\n",
       "dlaxUT75bcPa4BKumolwa8Zhi/6i397u2E8SES25ZGnJFWjB6a/0YE7qkQT77ran+2dcIyZogG21\n",
       "y4GTXRCgi3TJb5mTqd3qMYbo+i3Xa/XZCPK7PMVjMAjUhBmojtT+WPnujmcRnxEO7PYOWqeKxVRC\n",
       "GBRh3e7UY2OAly13f7Z9tl7vSynDeWjEhMuAWjCT0+hGUTesEbCXNoOb6pPXEgvHzxROM11TxxVC\n",
       "NRv7LPSgU+WHB0pqRTMtyNR9uNDFvj53vFQhjey0qRm9maJBfJ6vXU4yQbmTZ2IKj5gr+8LOYNdq\n",
       "R3b+o/70aXiie91dPTX7c1ffApg6WxH2GR5Vlkcvcpu7Z7eNaUAs7BbuuM09lB6BAAAAukGeTkUV\n",
       "LG8DLHWwMyJCjcnxIWLJI98jSxwHTEjEPFPBCI8Cb6P0oAEM+EziIPnNrdFuh7NEXn6XSpaXGWTz\n",
       "TbintsrdwNzZbCwie0O1cAkYJQHk5Vfhfi+Gmf4KU0GiG0Qqz+3n8CJ+dYhjqEBv0JiCpNWmS21B\n",
       "RGdcgzZ4SupE24eltBGRcydznhd2l1wH93FIkeCQkI9CFNN2s9vIDkF9rDl+Wg1qYpgaUWUdmQSN\n",
       "4CaGo6P0UdKQeQAAAHQBnm10Rf8D+WaDrsdBvmGqYJ9KxFrzZIVaHj4c88TjQANTDTgOgdq1m4Gf\n",
       "y2qIHMcCZa9Vjkyyat3BoEh5Wdd623tIPOv4LqEN69Mhz+f4SA0AjykmQLIjCxRnm7dtEUlKzkWe\n",
       "GWibPqRmg7fFvpL53pi8sQAAAHUBnm9qRf8D8yGskG2kfOHGjoSbcVXlFy3kPFlHgKjcfb2JDo9z\n",
       "38wQfdB/ecaOhtTyetO9/aYT78cK9DCRjeHqYh6EgIXqY3lzFf9xcA8r8Y6MifUHnqAwArKLQFhO\n",
       "/9+yqzlkAIAIesxEz3WKgnqEWf7E5YAAAAE7QZp0SahBbJlMCE///fEAMAKKGWlYjzptvpAALSUK\n",
       "On6+yYZlctGvOYxWjSZljneUtATftzALBL1LrJWJ/zO6wq0stUDXEdwD8WHcaytPy772fi3WGv7J\n",
       "Q2p1xcLffdKrLDC9Y3TCrLT+r1R+WhMeN70KeM/W6jXpTkxYM58/HXr/oM2hISG4ZVJpISJT325m\n",
       "VbbgvLfb9R/+B3rccZEg40KPk1y6i03qH3tROfpRbMOkC2/+Y91iHCMYNQW/J4MAnsaur6VHeuKM\n",
       "vSfBcebWmKH/nmVocJypZTOYC9axLm09xqVy1r33DJFTAlvJcL8Z3b4HK6KRyKYWkoo5FF30+915\n",
       "TQ5s5k0C60oIQrt5ddw2utqrUHltNI8ahTGcVU8upctX9mefOpE6lfZ7G5sZxenvJn3828Ab6ilz\n",
       "AAAAikGekkUVLG8DLz9U1euN043sNwEvqB906A/C9o0PhYsavOcDChvodH+AATTELASYhFJGgtR3\n",
       "6YMuDJlLHWs9wxhJ/NTtYJi4ckXIfCpWmVka+S9uG/6CEOXDSDj5QG61mtGUg2edJkshYXuxMBcg\n",
       "kt0Dd+GlEuP0jCu+D0eaN5Q8ewooXwpN3olMaQAAAGQBnrF0Rf8D+QnwaIa/zTOhR6qcWDUZSjEP\n",
       "ZAWl07kNf9BflyKM4ad8Cb4BHBH7UYf1zQCsXPYctMo1yLpqxzoMnVc5nYQCP0Kgaoic6tKx2XeN\n",
       "P+dxw2VbscMkl7SWbW+G3MroAAAAcAGes2pF/wP2cRuX8LeNpRfdqxWV/A1x6uNceM19z0bGAAEH\n",
       "0Ydd1G98tdc5WZQ6n30dywrwagQ+TL13aIYawbuvylCrsSSFZnMg2zdGkaZlpVr/CfoxxEfSSshc\n",
       "M/28MLUheHvV64s2mBukSRuzGuAAAAFEQZq2SahBbJlMFEwn//3xADF+6thlR2Nq3/3rOQ2uII8n\n",
       "0rd5b9X2wxFOYI/Z77Vr3CKVJl1SX3Yc5voq27ASGSk7ZZIxSsxoqGRJzc4eM4qogledINtpA/cV\n",
       "ysWzAaEzyGXKr0gy+fUH5MB7EvLjdxX8eivnjGMvjOll6RNb9GbfmVFWOVv7HPAEJB/ifquo8Nxu\n",
       "gBVF2ui9Mjbw23tStWmYC+8J80K6EZ19NRokWzykYkfUShf2dEubqN8icroVBX0fOYM0jyZexjnz\n",
       "oL9UcT742ZqTRCIWxlOinARtYVBmF+yqmm823IWEbQIRllt1l4KQGQlURirBrj5iozlh27mzMtth\n",
       "QJcGU8vFPlFxoL0JDT+q5DVZfKzKgBqXUxFH+lAItGblB7+aEARmVX95JPJHUBQzFdPSe3Bs+A66\n",
       "kvCSMsSBAAAAfwGe1WpF/wP4mW5nLQSNW2L/G7Zgm7iv9WoJEIk4pmefyfCBLnYQQiv3ALnLEiBl\n",
       "YABLyQdK5tc4ievsQz3oqcqwWZOF0PbRBMPB6juucXowL8XM3DjgIWL6gZ3PtBNPg6FoVSNa1vni\n",
       "g7GV6JiWXSFO/sSKAcYc5dVltgofMJAAAAEFQZrYSeEKUmUwUsJ//fEAMRXxIu8GBuJAWsdqj5vG\n",
       "SVa4YhyW8sn7tNEmcORwecW5UazZVkIJ1/sJCO6whGK2kKNVPpFQ6K5M1M/7OwUXjokdCr65Tfsj\n",
       "T9VyfCI0cY/oB4JYknh9iTmkmq8s29qMVZu6brWkvmyMpo6wB+FI8xAEyAUb3mwlMzjWecDnis1g\n",
       "QDAmDcuzlDUFDgZMyHUVO06Db0P8PHLyHl6NNyfKAiJr/HoJclHpmhzpTXT6gZky1OJtwRtB/1ZD\n",
       "T9UNRnU94g901ARlTOMCQuWGx1xthMhFTCjknsWzQusIQCWI7tAeIQdTOClfeoPer4Lml8JNPVxc\n",
       "2OI9AAAAdwGe92pF/wQVZsehL69gadBaPRBE7X9Vm9zWGb0/eOthDiRxd4azZeZrME1dBoGcOHur\n",
       "v+/UJ4TL3Qi0T7QJjGKvBTKAIf4fze98wtyc9pPvaoy4x69YjTEp7QlGyyeiuYKdKtXpwuDRgL6Y\n",
       "8562OgmF5sFP3qkhAAABR0Ga/EnhDomUwIT//fEAMV0l5OWzbyL3BpTJoAVz7IBwoD+SMC7c99Rv\n",
       "IJV0sVWEc10wR2ige/GyFM59I/Sl0QbBkq5aqj+Wn6Up89Nf/2j3Bx2xzXMWhy1Hanj5yVSesmEd\n",
       "8+cNQAY2UsdRnOaEdR02dDbP+kzgj1qU2Yi3/EN1KMHxEPtAguFNtYdDwthNQ4BTFYddVy6o08uW\n",
       "qrLHu1VASM+swFSKq5UWKWBFtNVuSro4GKpf0rG7AzZTAOq5TaAf4rim/Bw/9pqYvhSVKWxynKPx\n",
       "C++6O3DzQBiw5813JluzAXAfBY9GTqGm2dQ0M2v9kWEFjgi0AZncI5fLFk+tf2osHQnrmBbAQQVp\n",
       "3KYlufekv/Zew+b/WnZ7VH8fPCQKbduD2PhursrbvcvYIBe2YAzVoxN61zm4B/oCGtHAV96LnOeP\n",
       "gAAAAJZBnxpFFTxvA0Tvk1Ekuu/AzvnbAPT9TEfuZn+2zPNXRilJ/qDK9M93pKTixMQJ90X/V8S4\n",
       "mxACV9lTe51T+KquOUbsK8N3a+3xE8MH61AewXi/gMaImiOjEB9weeCSwXYUFIrCKHUseHnNSyvU\n",
       "HYikPJxxsYQ3IxovhhhcmwYyc4UzGm/o7w6q3nOvaaF9kbwQlu1qciEAAABmAZ85dEX/BBfzD+iG\n",
       "v0YN0FONvjfqNbEJnm8ObeIXgSN24UdFgv1nUxoqW9aFy6MfcxtUjkJ1iHTYLNgJag3ojeqNCy5d\n",
       "gS7g6ns3UHpC4LR8egH4qpa8/d2/eOsoD9hEnsfaOSTgAAAAbQGfO2pF/wQXfz6ODwmcCqoyjlr/\n",
       "Qt7rWeN5Czdv+E5xAMsLO3+e7L0PLoocwAgntpI4cSNnyABhbcInuTdoi8e2YaKYXyXUsr5BIvpe\n",
       "bvr0NShTIZJ+Cup4QuDAaXSBLZnoIpSS8hS2pX8JSbkAAAFCQZsgSahBaJlMCE///fEAMX7rSRP1\n",
       "+GYxVAB8X7FvZ8nWYVgPr6mgmqIrGRXOM7uJJYBQ23ZrO/NuqKXwgMkQdrF3o6lQVF/CyyvFnJy8\n",
       "aD5RSTG1eMRa1GwDEhBU/HX7UcmMFzaFILtapdS+TmjTvCZlS9Wah9ei7HmMxPKnLxHRoHUaWupD\n",
       "KLZMweblY2jJZOnnhl/TJa8Z2zgOecRErLEsN/PzaWptzb8vGjjs55gLJYMO9ZOwuhGsvCh5TyDk\n",
       "S6hrEOieyh87pVRIkixppKI4Nh5i0Ugf2cxRZ4i+64DWkRqZHkTk5e1ae/MvMb5dIY5801Ky9vpu\n",
       "UmVD7tjRA8HnUqnJBwe4QTOwJgxRkv/47eRuyJJdeiP2TvL7mAru9JW4jtgePTnAl+h7TeegNskN\n",
       "3ko3ToZlaxGLg1HJZPRzgQAAAJ9Bn15FESxvA0HGUSt148uFPjmqDuMb4124UOgenrT4lQ8eqoAL\n",
       "pz4mUbu3kEl878mORn6Dbm3JlXj4g4n3rE8lwCggdPBLCY0oM1I3nHGd5nD82rCccl0sEEy/ZeH7\n",
       "+3j9ihVynCWXaoSXXJREksREOO7qPdQ/gkasaTMrATbJQdRi5wXTtjapF3pMNb06icLQoZD9t0x2\n",
       "kMwEtnR9cPAAAAB0AZ99dEX/BBfyveaDDHJ2/KbQB08gU67U/7oyTkcQAlqZ933wMcqwPJD59Vvr\n",
       "CmA96Oup16uNda7kBntJG9fmIjZ+RF4dF2Bj2BSMgpbmwP+8TWdNWinSxqKx9EJpVqfdbH2WQgf1\n",
       "jGHjGDYRrNNIgnQoN6AAAABxAZ9/akX/BBJP5PsnXD20aJkargnp29MFWao7AVDY5DSIJOCcvUQc\n",
       "abaZTS5Zn2nU3Q3hiHlnpDJ8p0zqfnCP7M5ezvtl6Uus+TbDBcCthb+D9L2+7gjMpDOoTzsn8ugv\n",
       "T00ZyvEEQwC3RanMHz5iGMEAAAFxQZtkSahBbJlMCE///fEAGQpsHbKYpMNACRbrakUC6NbAKT+7\n",
       "z1bqTiJ9NJkWM/qMjp9tOT9gFCt+zjC19lcfiXk4DU9BmJzffPT0QZDHFX73aVIbfsfjzxiFoyIG\n",
       "8UQhKuuG+cdD+E8p6vwVMsKJVc6Vgc8QC/79gU9+fcsmYKzzgxNwlFeThlP9+bIEC94Khke1t74x\n",
       "dxR9l2a0/PdJ3I9JVIzSv9JpnFsWiEVH5e8qzBOTWbekeQNN2YnT9ceenA7Uzoi34adApxWTXR8J\n",
       "/5Np215bhHUDbU4U71iZGJX5XDw0Z28tPjYT2z6ZtGyHv+0H4ikWJSBPf2s3iS0+aFAkNcM4+kO9\n",
       "k/vpuNsTrc6ryxWD7YU6eVc0imu9pQ0Hew0jTBi6SJFFTRhBc4QzpLWWPsrpkLfkGDWRP+rXvQC9\n",
       "SfVOFlidiq99qJ6lng/P74jwnCY6wyLIgAygoTsaLvHJAj8rvzoSW7MiDqWO8LaAAAAAq0GfgkUV\n",
       "LG8BrpCCZ0DcThRUbg9le5F/euNKBV4J5b88koIwAJqUzRWFLGOIr1vj6VCO0Yo2eSJ7P0F3I6++\n",
       "/RmV5HjMRrIkVsQuM9ClxJpOzkmz8N0RXfwX97gsHv9GXOSTGlxEPcccHRnh/nVXJMwavjMdks0u\n",
       "tQC3DAU1h2s+qU/BKUvm2wg9sjgEeL18fT71B18ygquMKRqZ5DlQvRF4vvQdQwGIA982DwAAAIYB\n",
       "n6F0Rf8CChQPoId+v04noO39gj3oY5HnFzJA6tFqftPLkJfNu00XBgAh13zwO3R6tTI2R3CNd5Mb\n",
       "jpq1w0gRcQXMhcLR0aNKLk72XEvC+SFZ0wb0KR5MUEmAGhvpmcgxqgAQgRomzFAE/xO/d3KWlw8k\n",
       "3fkqqWadzSgP/GlsJ+kXTRgL2AAAAGsBn6NqRf8CGmR71ac3fjk860gbgwWYpAc6WbkSxWjyuAbM\n",
       "NT+HopH7+bRaFntrRbrAFXu4F+FiatMPBXPJMUbOc35G6az/imjoF6W0bvG2aIHBbO2PyYif1aBr\n",
       "qXUaawbmrj/E3XIuBWj3kQAAAYlBm6hJqEFsmUwIR//94QAnuKV4D0xOSEkNCIdvt0ttVZa5NonF\n",
       "4Fxg/mIkuLTUC2OW/RTXiBMW+x3YeIl4QCShwjGWW32q0/rvK66OEejlpm9K4wgi1Ii7cMaQPoya\n",
       "e4G0A6wjDuiw1e7xXx1cTEnx1flyN/k24frgvv0ruWCkMoAc3X2+79bm9bVSdwXsgftX//DdekV+\n",
       "TPvEeNfSV6bo0kMu2Gx/DojzFLqrE2unTgoZIS0TcmcLUqJjuRuXyn7OHDsUx1OWO1B/jjEzaIpg\n",
       "N9ZmJW5QZ24WrDFO4Cf4eX5TcL+uDK6Fs2X+d80lChWsI8HNAJNp0V3euZ3zX+m1FfoxmrHJjjRW\n",
       "NGcd6TfmSWd6l1KUAS3eACrJauyRnbT1OqQAhsEbfkwoa76wEEHeD4xBhwbQNA8BmOpyQXGoICBZ\n",
       "waCBSKEvTXP9G5X8CLnpxs2+P0JYKHD4X2ioFKNRFX1VgQcIGO0AVJ91vamrIVV8xZb4s3Ppcr21\n",
       "6jrc1t88CGDCQrmIoocAAAC6QZ/GRRUsbwGucRKB192iGMCA/xV6TMrf7AVYLJapLABKQybYps6T\n",
       "S1Xcr/qzDSOTwTjFQmYD3t3bswhWAAzmtUtY+mqYwaiy+rZOLXrb7B+uEgmmDscSv3WeBfeCB8P6\n",
       "DiW8Xa8rNz9jkDSHPdJcKeV/G6XPstYHz+yqZjG1/D0C/XpKStt+FZ5th8v26Ewznz/MjOZYqmx1\n",
       "3NxYXiKMiJg+xLSheBLVgE9xgDwOtcvZOB+AhZYcQ0HzAAAAfgGf5XRF/wIZf+Wnh3NuR3IFQ5cm\n",
       "9NJyv8LCAMARMrHmJkMCRRXtAUaZXx48qxQtdIMu5ECrbyT0KxWIbZ/pGGN/GKPHMXlt1cJfyJU1\n",
       "B9+BqHS/WKkR3pYxHW8UuOimsCGePO05j/kAARAKr+uyNHs00tFGOsX7AOkkpV7l8QAAAI4Bn+dq\n",
       "Rf8CGkx3u6rvE9lG8tbUIoWqY0mXaBjLgJVAAP0wABtOdoUNgAVplmQx6LQY9LksSGY/aBYuBuUN\n",
       "E6Oay8YY2GNjGMQ8TzW/E5G6xqBVuSSPD69XiSEQiCM6jTFpZQReh5nBYkuGv8uGZYY3Kv1IcG4q\n",
       "vyBz8084SWX9NinDIl0KLJlFRJZqtr/AAAABdkGb6kmoQWyZTBRMI//94QAnmumh3ZpP0zf94+rP\n",
       "XtqoV5/DqIb7Hvbdg38xfzUnO0OJX73dg6z7TL3lZs3cnOci8MuSa61QBnQ0Jr/zcO1Xj5nJDxZn\n",
       "ZfTwfn3ouv/7BJK0KJjUPNQrVanxpKfB8GDQQUHYbD+KR9lKYZvs1jVIB6c+27Pb9qJvBeSptLXy\n",
       "CWrZwaIWDZFXe+PHZc3UFAXUJN9mVoLY4FCKbmaI/jqti6X94UG59fgnVy2SLuwY340C+V1g8mla\n",
       "JSBsSwM6U5yq2JHg8mU0LjsmmOvVhsEZUZpHMpvgeuhYED76fDZ5PVTvLZC+LGEekuDJwcAfQhHN\n",
       "truvgbSLMSzVjabymF4z9c9z49ExAgfwKfC3oHzXb/J8X34xuysyCaIW9ZST0oYeHysA4ChnYvLz\n",
       "6VfX8uIlDP9q4XitvT8SRkSLUvaXHwecX0kDq/LijU/zuZeLwOo2zkmLpFGeRDUiB6ptAAADAAa6\n",
       "xox4AAAAjgGeCWpF/wIbwNwGKqce1W/hJz+PCLpbT3t8qCAFmBl74USnCPIJb7au7pmADaXbNCeH\n",
       "Hr+6mjQg1Eh0/1axPt03QZ0JNkbCarMmDpBIU5R1ygm8Nf57F71jdOn+Rg0jfl50d7saSU1BFWR6\n",
       "wJ0IAk3nExJ4wS+2NfL48nYxqG9LhXcQEKICVzcoOX9YsUEAAAExQZoNSeEKUmUwIR/94QAn3RNp\n",
       "QAgb5GJYiiXSqOFfYH/mp3ScbFAlNlAQDrt3lUzTEyzWZOXAPJqVjJo8y8PbI3BxItfk7JrCSmP1\n",
       "oMMelAeRXgyu9GR0ZDBGc31qgNkLWtGfW2sFLgpwfpsoQ+xNx00D8eLd2EOVEGisJ5iUlG7x1Xnx\n",
       "24sR5XNEa6sLCQmVz5zrfohaFny7K57Rkl5F2UhxD2SDXIqpqEOeJI1ckSuuH7Z+XkxJnZqA0H9P\n",
       "wByPJ8KQv1QM7FDx6qsjPYm6YWWA0s6WX0X1mDQuQpdAlF4LKcmocyu4Sg6KFem2ZoqJcYAKFnkZ\n",
       "gKXDKwTV+rUCVEuYo4eE28qfU6jyinQTdv2oJTXkCiTjbZE7k1tssb/uExY15ZTOxMY6AwdOxCsf\n",
       "ToAAAACZQZ4rRTRMXwIbt74DFVKtzHCVyDbeLXvYNW3v2BvFx9zdralVXXwF7s//+cBC7hE8zAAn\n",
       "X4NlBvdv4jKJyUjayYHSXK+ZYw9JvhQw77VidkuhLWSQlP/oHK7I2hrH5YqeTcdJJVGOj2OXemrI\n",
       "XymMKmxFsNSsoPUn7wfRhhv2/Wuk9rC2VCSsFiMjSo4NJX8eMDpGLMnabXQQAAAAhQGeTGpF/wIa\n",
       "r03quEKWnDhiAACCcBt2RMjNcDw6fbPwl3ZL0EVzaL427/xTDI9r4pH2xZA7qXaeuC/768W8Pt9D\n",
       "ERHiUz0xZkLWXfkMLjtpXEFEWTtkdpGf49qsZ9idhVSz2b7JWN38xZuMx6F76Y2Ae1Ygzp1JaytF\n",
       "pwZ1InXkPSQsQqsAAAFSQZpPSahBaJlMFPCP/eEAFiUbk6QKegEQCgoAhkABMDKlDu3VlSWHqVrj\n",
       "Dfb0G7J+s49H2+fu28coKDI2Mq90UCrRd9WvT4iBkyNsITb3Z1Rs/kBIiEkxQIuTJvm2zYpm7wmy\n",
       "bZjXjpEsmA3zcMPXQClrOxZfGIgz3S0t4xa/1lnB7ZmKl9+32ID1Wyxne/7ifuy0WVfF1ZxypCEa\n",
       "lntHv2P+3n6sOtwk8wyuW38JshIWLJaX10Vb7VdkaVH2IY7G75Xl0aIYpM0PlPn91rTzhsmOlZjn\n",
       "c7lDRH3TpLbkPIhDDfHgPwNdJsVj7M7eLE7+rIJx2RNO6swJ7dHBAFF+56ki2/zazltyC3SR+8U6\n",
       "kpPCr/yZV1KXadfJV8A/mi656UoT5gsfBKIR2AK0sNbjXAjHFU++H03c1Ce8J1dKlg3HRduIZ1Oa\n",
       "H1rcsEntboKUUkEAAACYAZ5uakX/AS0uwHjwJe6/oETRdLRN2vp5hi5w2PAaA2knb0slZ5xn5+13\n",
       "phWQFoAncD8QULRACCLrNFluSR2HqEFOrW/vNjIskZWDn4idGXW0V7kKTaRDjM0SKBb5wb1hAsf8\n",
       "TmPOGYqZBj/zztyBYuOAciy5os3DubuEIa8bWfPwsXtHRZv4h3M9SsyHbkp3zxsAmT6vFi0AAAD3\n",
       "QZpwSeEKUmUwIT/98QANyZR03Vg3NoA/qugA9kJWE4clV9Q7jlT9K5lsuKiyXhl0+cpOqUv0QNKw\n",
       "i7w6pWSxWDTFlzHrts61+wYoOInc6E1Bx3ZdO+5EgpKWGykgLM4Upg2kt1boRNq6vqhRTRnYs/B0\n",
       "DP1Fz8mWffateyraZ+oBl3THcn0Cc/rfAlUcvvTX8cyia1SXbRsqujxmKC+PSVtF5OILCEcGi5CQ\n",
       "2vwr4m0qhOlog3n4jvu8/Oe/PL8tIlz1FQ7Edr1iVnm4c//pdR5tR6jernJHQYbduheFri7dRSvj\n",
       "B6XN3d0XVT1wX86Fyk9LTREV8AAAAa1BmpRJ4Q6JlMCEf/3hABYWOVOmj3XIjkxBRujkoVLjqhAy\n",
       "J0I2RKJVHrPNIyIA6XKUDdoJrGk9+jYUKIGedEh+7K27z1BWtjnPdxfCFVo9PTbchD7YDKgKf4Pm\n",
       "jg5sPkvpoM8025FShJXsC08s8RDpR49lOdzDBQJR9af0ewLan5oZEgRETOVdBHRTrVC0ZydfKS+y\n",
       "VMj6hYZFKGQuouHV+fH//5YrvvRadA9HlHDAJrpAfKPikSpEK6Dz1Sf+s1ytdLshAXG/3enMCZK+\n",
       "FbvdfH0uxG6S+TSorTR7Ishfpr0bXpk87IHyVoWVDZ4NC00guvat28HtL33wmNPtakTevz3wFktP\n",
       "Cu055WtY/6KCNFkiiLEq8H+791YY2iPT/Y7fCx8cd6awHhOc2uo2HoOkILNlwuAc1TM96khfr5M4\n",
       "VD9PQq+4ZaCfuBqyrBGoBXfzJElUMw/0jVC78/JAEnX+n/VIi+WnfjGE+/MwSE1+DXTCtKOzh7rF\n",
       "dvAdDJvzdR7AWbRnFHLwjknqnLJegNvBoJ9O5Keqp+fXxE83WRfqSMXYfqVO6DOhfPUfEfAAAADw\n",
       "QZ6yRRE8bwDtIi72bl6a1IUeRDngqZkSYZBF9kocUq4qZ48EqRybUAEx+uJq3/Hu7uVWl5U7b3+E\n",
       "syubE0CamyveB5YFuWTtMqHK2thmeDEkBSbmkl0+oiNSKjUwUTREJXPRSVaQ2fkRkVRCM2xDhSX8\n",
       "5IHoLiIUJGI2uhGz1ThSPf9Z2xaKfy609kFv4vHdFItpnmz1wr9Ui6QTXk+e3pXEJdN6hnArqjDs\n",
       "sQVUJjHiCnI48b+Mf99vreSLoLhZgCgdmEn6lhMTQsqtb+EfGkhuD37k8a77cVtN4qX7Ia8bUSfa\n",
       "QaJ3ix09YWKlY8BnAAAAqAGe0XRF/wEt9hSg6R2vNigzyfjBQAzg58JF1v+DhoXgZQCWQAgxcQHv\n",
       "k1I+GDepjBCTbhtwdwHXM2b1m+nSqEHRy7ezV9aQoLkGhmpCYIWCLdzlbDT2IcBofrhY9PR58t5h\n",
       "vm1BD0YFO2B3zaz/IZWBU1lphhXWelXtLR0GOrmOcHK7JAchfgZs+IWgQukJf3mJoc+PV6SiitOe\n",
       "N6UeKIOjUwVQyTLHwAAAAJcBntNqRf8BLS7AeOZTHkWk1RqDFaWvUKGpIjSdLJvhWdxOJGOJ3+ZS\n",
       "diBW1cjtm85n5KPIAIZZZ6APzGmPeMXRV5+gLPRxDtxUiWefviUplW+ORLKN/cv0bNXqMQKBsNVX\n",
       "rweoJneR0FYlRDIm/qxVjDSPmwUwIOMkPKFlwj59riwW9Sy5cuL7VedVyF27dTgeYwKchlRcAAAB\n",
       "kUGa1kmoQWiZTBTwn/3xAA3e/6y4bdLTEuJo6oz6+TJHRq3nEBrlcluLqtEoclDnyK4SeM2pDsoW\n",
       "Hy//9F6BC7QBXOEL8FblLcJEuAOh3wvGgGyub7f8Kpd9qmCfqjJxgoh3JjuPj4vO7ret7T/4ccLF\n",
       "HtCHkE9dpP0w0iddr3zxfEOQCjQInnjM7cAU6gDb17jQL1Cdf3Qys2g0zbAbaQjHobFp7ez9H7m9\n",
       "oU2jLF/8hVrv+prXgz70vm1ngM5/0IhkkeL1rzu7BpsoVwDgAN5cwwHbXw2fHcqvzj/MjNAHkE9B\n",
       "2FJBnjImOy+1xx429SaW7h77koi0BJ6JAdqDnD6YUUuiOusPTZMgmoAQ0cx7vbyVJP23WgvnKOoT\n",
       "uOf6IRjpTWeGPYaw1QfnAMWVZIHZ3oT2+s0I8QtynxyhKJvMZTPerWPK7zgYuzpA6ZbMujoin/6B\n",
       "lhwpH0P/FjHIRPMoPiU+6xG6MsczpgN0rij/hXoMwGx68T6T0SNa/pyWGemnXRSPijXxOfA2VmC2\n",
       "05e9AAAAmwGe9WpF/wEt2/qqtoz9j1WQoTMRuuJXFauC0biImj4Yf/iAEs7XvSY+Ra+RKNEpPV0Z\n",
       "YXkGD4Ialv9Q+Q/rozo/lpsAQfxCwEe9JgrABEid2B7n3P4n/V0LmGVR7gC3laIjzpOLrXO2NMCH\n",
       "HP9rek4mXInpFf5CfrnFh+LdvzmDWQeGHCy+trbjQSA0UZwE1H2JRvEA0oV/J/pAAAACDEGa+Unh\n",
       "ClJlMCEf/eEAFYYxijt2KgegAgv7fy3xL726vnEeTs1PcrWZmQd0akDmoMSpq8YKeY7Z01/Ke8Yl\n",
       "ucpk5Q5EOg7CUjZLDcPBMPm5Rknirf3MhiPxYHE6bG5+q0kW5LtUSOVrm+AGtIgzOyg2AkIih3eZ\n",
       "MGPdJJ5OredhL3XGnZ+hFyuGT8rRpdaqm1IJKOKD198IA92N7GclZv1lxkJKgvGCsesCSbqQHM3I\n",
       "+4lHJnnI+Nqjy8o2Nps3Y/tjJCuNuXA9v7WCHce3zxFl9D25hDST8NrP/KuNpNi2oisosQWzDUu3\n",
       "2rSLdFDd0eltg+0qNB0PMDRjrGNGYyZeqVA5qx+i4QECZNSWH2nlHdU5vuOSjogtQ8xtMvYNr/d9\n",
       "OVsMFKRTk7jw3EECCf8zgpkmA0oYkN+Ju7uCPZTpc52anxxCb6IVbi3onUlzzZ/MRAVBkpkKj882\n",
       "0FLdx55mvN8nqKBsfja+NF9Slc1B4cyY3yJyBqNLJS4BgCqwIHHhkk1NI3fQnu8RnZeCN9mI8Zxn\n",
       "XdHdlII0WcsRs5KkoTx20bTeBOtwYdpE1pThpzXj0hWWNqV//g1yRd/SHVzG3jpyk72nLS7BXQIN\n",
       "QytqUS1vdyE3Fwdr21ScYmzWxppM3jcxldeq1OQCowCfRBq+bEZWk2HGhsjK9c4hu7D3DuQWn7iD\n",
       "igxQtVbhAAAAqUGfF0U0TF8BJeCnr4PB7FWh+EALDmJmiEgF3w1BtSf9GACc8T6nvbTaG6J+c7u4\n",
       "CGh/9MidcOrbt5kQmMMg8dwBnY2LQmqPAeyysC5Dq792Vw6fd9CZ5YAwFbBumzoWFt99PI2U7RRK\n",
       "FZIEGUCXzliiV2hJmoTneL3FMOIJqkHlGTAgIX27FdXqVdeGxS5/0S3ikXDFLiAHrk4cH7tVvPLZ\n",
       "V8mYeOJG3OkAAACFAZ84akX/ASUkiU8++0+q+/75IW+AWWgnTIeb7XWk/jIAQoqhmZ5OlgAuThDX\n",
       "RvGJYOFVal41QF08KAwuGiavXdPE8ZWyn4mcxkQrzEj0RB5ZGTHWFAbm9F4XyhGf1zq51chSNPzs\n",
       "mUYfv36VH79bjejiOtRFi6wKIN/7N2bxzneQP1fJgAAAAbpBmztJqEFomUwU8J/98QANeThUTZkv\n",
       "MB2EANV0+9h3vfe1ovBMi0eWu2OF1/zBcPZH7fuhpZho5Gx0EkQDQeH7KwTI8CVxV0W1y347wvJ+\n",
       "5ZcxAcuf+65XNjF1PeRGhqezjkaGuc6fmCrMsQafb9f/jeuukgH9TqxrueggrsynczgrsNuCdOBD\n",
       "+V19rvzVouMxXz1+Q1eGupifoL/IGn7cVM0CIP89U+eIUHK2PhWNT970xKcnigGT2jsLwFYVWxkp\n",
       "/w2WbMLm7JK7Vda33k2m3zUH9bTnuCmmK4usNdwALAm8vUt/vd/7CdgSpp/v+mjQt5vVjR8c7C3K\n",
       "aw5GU9cUR0GT5JaxPmvYanFGBB1Npf9W6RJgIVqjVpjM6uFKpwDKwkutGA409w2jVSRwjpHqTRGd\n",
       "8Gb6YpisvaNDovdl6SvhXEpu7uRpnFvhDUhevF7pvmp3Hm7u1JTOZnPlanNzSri93SKe8J+AJC27\n",
       "lr699x+jRP8s+RaTddoBj1d/m67hRN/oS/ip9nH1oY6jsJCjm1raq06VJX22a2auDw1Rk905GOz9\n",
       "+nF6krmpiMODDmxQrvw+ObTwRP9JAAAAkAGfWmpF/wElJI9XhrcEFF/IVcsXBJ06dyQEAJS2MPNM\n",
       "Di+q95Ct80qTLIfgnbvh80shx3k+XO6JbbOYFtNfUGvBVUI8zqW7gnz5NCVCrkqlOtABJoJRi6yO\n",
       "6GMamR7LEqCabqyEg3j50V08YfNQUaWomlVCvxjAFJmyHUbk618qyFK1vzjQKejvlte9KH8fQAAA\n",
       "AgNBm19J4QpSZTAhH/3hABWvWydcDaJNupaoffLBTukPHv7vfSAHop2dAUuWBOd1n2pShsHf3q/g\n",
       "Y2XpmR4eb4fuJvJP6gZAjZL3IGdBm4MmUbZ+hl1qAENdNC7rlqlM8J97/CcpaYnH9lZIVXeLuW4B\n",
       "cENlWTgCDb3QTXGLoY41DjySl+yEw41hONfs81FtESFWLckQkk28ZU24CLeoKjI2n9UXCW8WUH0w\n",
       "y38FU21rlZMirMy8mbXiup/nmhCXN6JscxDGvzhnsLPpilBru3J5oMqK7iS9hPjZPyVVV6IoCzkL\n",
       "KUj0xUMn1bW1X74d4vj9YFHG8LC3fyKbyp5lufah4SW2LQ+6Abb1o3O9vbQGvvMgzfu/11kGJFxm\n",
       "gh6lfwxL/5OXWmMEmg8Pl5aU5JUKH4lNu0B6JNzcTrm50xp+ASBa1kYFUPYZ4Y9ERSAltYYaP8sW\n",
       "JKVZYOoN/4eBV9MHOBZnDb9A9dlFvzAaiFd8u9lZxhC50xccmleFJde3EtPAFyBecg7hPHFwIYvp\n",
       "3je00TyoBoyJGGSq8GtC6jyBQPS0dsCFMygpAAG+sbR98w4oBK/ViPSVxfjHKo9uKaDua+rI4OH4\n",
       "iyZJzt2Y7j+uomYc5buXXkRr/p806PF/Iuv8DnZmV6TkW2LBe0aF/vAdbNehbTbHfnSmMDenoaQa\n",
       "bbOTiwAAAOtBn31FNExvAOfJS8GCl3Ul8XbxkUyZSBp51mdK4dudIn/1zAllGRsxKztt4ANOvHiu\n",
       "YBEmlfMe6b4qEOw7ufcfaQ7HIcWr/2CiyuOOvH5e3KJeKxywCoH4/aGuPOL639fWMQJu4C/UUmnU\n",
       "HUsjb2wkEkNix62XnVsoLuKqrYTu1bt2E+sNS3K1U6qFGT3xFeambBc4gy/LXDDUHbyrgO7JGiQF\n",
       "0m+dFldwV6LsP75vdlXaj7E1QSyatUm7QoFhHw2sy7brj9VIvbCPvC7GO91CHFbPxhKZy+JciGZY\n",
       "aPyi36go+Lf/wRnpbMeBAAAAmgGfnHRF/wEl67xp0Iw01scJuxYlIOpEkJlio7idOnBPUb47AAhn\n",
       "5D2hI5JVFDd+xC3kJgtyrp3HzN124QIt6MUQs0wA4jArqQ1r/4Sl45avPPZ9MHMNSXz6Af4nlUJ9\n",
       "QAlR84vws0DqhvYMroN+Qr3j8ogzMcJsnSYkE1c7eNjX3b9zbK5z5qKk6TXyPFCc5FTt3P3JtqOj\n",
       "CLQAAACsAZ+eakX/AR0lTBGyOfigxG0FAB6QoINrNLS5a2fTGBw+3R/kqKh61kKJFw85fpYtZ5D7\n",
       "FHoizKh//TyNEMwfmiPetQMv9cVz1SF0+mDxQLUQLx9EcxuMc7dumazTWXeCrIyvdfrSBdcngSj+\n",
       "N6pQQ3TzsqngAPt4SGgrfJmPQ7VgznRQfcmOwZANpWCrVHzDXHkU8MHuuXV67+jEtYpfZJ4h52Wc\n",
       "9OAv2wC4IAAAAV1Bm4BJqEFomUwIT//98QANP/OZs9/L9OjqK0F13m9bTw3ev7Lg9yUzOzRytSGf\n",
       "SEklRADe5l/LSNrnwBW0T9/dXpxW3XivntVKZCYZ/HzjukgK0znN7UA5XqhDJLxnNQK0m0Vuf+ZH\n",
       "3L5iuIMn7DaQaSiYG1QKurBAT3zzYxS1C5GsbhYCfJ24yW2waiIBiA0VCvTJnz5jrlSmq+tsgcg/\n",
       "sk/0Li4iIqPEWXR57nHqJlk1ODviFM9QmUjAyck+8CTSfibi/Sk4yYp+2yYS3amOOR2TJPwF/sjO\n",
       "271cDkVVunAc1l9dZyMT3+x/7AQbeV+dJ6j8nj00XdFVXzQKOWH8FIYt+Bf1lzMgNTc80ia91mul\n",
       "eHvqi5MF+DhXhN65EQiQNjVK9gqMnSZn/s3CN+QYNCQO/tq03vK308G5wnGMImSMA3MzifoivC9C\n",
       "2mOU7uAPX4EcN+s/VVwKpFvBAAAB30Gbo0nhClJlMCE//fEAC57hD6tjGeAAcLteHWTYIAuPXs4D\n",
       "zeaF4XS7yTHLNIOOqom7hE/uOUxXsqn2gFaL8XJGC0wmUfXgwUDstAqkgmjXX35xlVVnE0ZrfoHM\n",
       "SUZ3muAV5AcFdO3zJW4CzQZPMrgafrrq8L/aj7Xg+446dg/hV9ZpAVe5ovx01bje75/zamKY0f0+\n",
       "Fpc0Q0A7KpEy9QRKpIzqUUYvLWlwlC9uQOwmW4VZhbfMxbku4HcjTl4Dz4345D9jiM5OFF+WYKjF\n",
       "Df1Kcgq20KnPUgtvivoRk593aWJhNp8m/7w0sN+BvUws8JR7dYYOhuVjxpmQCnkUzfr2Cmf+QqIP\n",
       "0Yw85z+oyZR6g9XMPV1u/x33FMoDKHr/M5LzQ4cAV6OkkEIEqJg/zsjwYo69N51AloRGXG7/EwJL\n",
       "UVfeq76sGTxk6Jk/QZOyk7qDq9/EIJNyGru/co8rWJmUnWnOAJFM8wOMTbxMhGPcDUXYZtduXaOt\n",
       "Ft9tnUjDtpGxu3kXK2aOib8NCTImKEBPF2J9ImB+2KLMk8jmHJA3cAu4pSWC9yrlI4Nad1BOK7W7\n",
       "wx9OlrCRdSKYSOnr//vjH7UaA+9D1+XXOBU0ALuBq5Yq7xvC8hdJsHgJKpApAAAAskGfwUU0TF8A\n",
       "+BK5Yc4yxCO46jorcWgE+wrw10Ia1zgigd7hXOIL7Y4MMtTHMeYogBZQ4sCf+dQtyPz9307Kbdvv\n",
       "MhJBBhsPgtzpqq16aQf4vRuExbSfx7TqA/53/8XRbIxPP/N4RK6LGOsHgrJ9CKbyVtoyU/p6KDog\n",
       "lufJf9nZoDM5l3r+WZNvqknomixAR9kX+2sP/nJJfiQCzoSgoLSJObOWgLZuqaACOMFRGQNygkMA\n",
       "AACSAZ/iakX/APgb3BcFDIpNsvniWYi0+HlYekZe4i4xK5vyjRkC4tQ6Liurkna10Qu4BLodqCg5\n",
       "thdwAmXh1nsex8RdJ9BgmXPyyjRaYh+amL/c/q/exFV5LOL9YBUqcyFnffz2lc/itEwRVY1KDbDd\n",
       "xgOiSFe7lBh6HqRTytdb1LX1/sy/8HOk9KDgYEirFf0pKwIAAAGvQZvmSahBaJlMCE///fEAFqfE\n",
       "8uAOw9QHhMEUmOI0gBYcDarwwNI7RxAJ+0gvK00V8C1vg4evGu9eHkhjKPuSca2sf44TCqdy0Nh7\n",
       "qoHIIuFu8GzgdTJXpeWZ4SjBQSHhlQZRrD7RRgnw9/JgR8/oYIuYnqfcIufQtf6lwTOb7fm1j4Gn\n",
       "JY/Y4YaIqHguoL+BvqEQLlWsbABRxgCtn3Egz8WI/EswiIp//gTFaJ7CDrags00DKysY2ixSz4nC\n",
       "2057wAdINRpHfG3/NFHW9scjGk8jKA+aX28IzOPSMr9NmlIe3Hthlp9oI9AUc5x+zKakKbFWQseL\n",
       "rq6xLnvvrxPvdRK1tQQSFzkuWEf6FxTy1nLOXKa1jW+6Lto0WE2v0hHw2tk3djCd94pXjAOB520J\n",
       "t9cDLTjeh0Dt/8aQM5mLAMQaklo06FH3H+kKweaDKvebpQMvnSnAV3OYbEpXaW202TsYXJctHbjR\n",
       "LxwBWL/70oM7Dm9L9oygfR0EAhEFTbyNqcghvmXSYNxQMXWXpPOlCRM+m2Z4i5W/haZbAUCYHoBA\n",
       "O9YfofgCdpSwcVBEzhkAAACnQZ4ERREsXwHmb+S29LODhmf8YTBrqE2jZjQMpNTYZJuoZPT8GduR\n",
       "bb4Je7wv8N6VaI+qXZY0kCEOYeJlddsGYASutBSo2KOTgQytsoVQ8A6DEK1R+m8o3iNkwOD2N5pR\n",
       "JaU7GET+acKtFItkFn5YvfKqhXxyc5BJkl304aH+lcZy5lrOXRKVB0zCoWl/4RgGRxA82K1hpsNF\n",
       "QMlRPoDyY3+l1UFmGpEAAACXAZ4lakX/AeZPNY9pIm+5axlbXmN3h96sK9GFFQQeB9OA/OCk2Ccm\n",
       "LoszNnMEcXuy2mftnYPW6VmzzxOdxsACBXYe1ZgMIhmxAYhkVkFB1xXxYFnlGrDa4usq++0R0JSi\n",
       "ar5iuzePB8105tIlK8hE5pg7FD1QA5MZVEFETHwWE0HsLMj3ZbCG/L7LF/VptNeHVpsBm5ggoQAA\n",
       "AelBmipJqEFsmUwIT//98QAtufX4Hy5lFAI+0xncols7A5GORM8/Hb7o8E91Z0EHCVjbbAqL+lhl\n",
       "BGf0y3NDOxMKT79eIkdscnemdK37+AMMKuTYXnZmDqtYKFSnMv9zAnswSQocHUXGU9QR7cNIN+Eo\n",
       "yBZtLDWcF8z8L/XT0nChjdrt0eob8w7E6auBtK2nBgC3b51+NQYRUjQq+ljTNXCS0NGomll+PVf8\n",
       "T1lS6/dTV6Xg9E7LYbq+k2fpBHIG0vvO4ai4J8JeO0cd5eUCIM1+15RpfR1IacsN1VSCCgk/UnZQ\n",
       "Sra58FUuJObxU/0NhslAdy5M6O0P8QjS44nNmHzr2J5q0ki9zT3vNqxQXQOZCz9xhqBwESRgHvHO\n",
       "NsLiT77TbfRD4JfaQgI+k3tywspj1EhbTlHW4d2j69MZ4hC+RmFXWCJS6HLQuknALS6hc35lFwYO\n",
       "qqlXu0Q8chbGh+R75tibgI/S46cLcjVoYb7/VxX/6N0KGu2ySEYbKwlT/AyGvfg00m+9rmke/6eM\n",
       "bu8nV4TOEPtvQrtoN2omqGpRFTRRsPP2WHEtCzsfF/hgNb7DnS3e2911ZYoB1xLw+TfZkzxzkXxM\n",
       "ckYUZf55GUhXE5zmrHh2c4lm9jLlhBIY280rO7jHfDTB6IEAAADPQZ5IRRUsbwMFssUekz4KvSgA\n",
       "/EfuDT/mTUucTFgpeFoUbbzf2F0Ky58137c2sWPhY+DgZ+MLf9Gur7YNHdNYyIC5Z+DOJtyGyqsC\n",
       "68hE3s0WGsiw2NZU+TVs6bomT2oJU9a+zL1+flTdw6bKzgsYAP2h9oGcMzwPRWbEjVBdkyilXVW1\n",
       "jBAN59gitvpf9cpSYJViRPBKPKiODyJ3d9PJ5V3PUtUaOWtiJ6S9wf15Qf1J2UsnyDxLpzI57cK0\n",
       "ySQK4JGzYSfenqVzMIcWoNaAAAAAigGeZ3RF/wHyE+XTfB7RiR4YsattNB8RgxmsPQQiRvoopaMP\n",
       "Y/hv19wPuyvuomZqudIFb27HReQFHIj3PZO4OYzDKF1dgA0h6+bEqRcsA0ehkhkdOT908UfMeSkv\n",
       "8uAU+T5+Osc8MIvyx7YbCrNVskIfmotjGd2RBUzZl9C9qgcwm3cGCXK34eoZkAAAAI8BnmlqRf8D\n",
       "zN5rmCm2/qLDSRUDd23grtGJyDi2bwFWAPX//OhIdP3qtMACBsFvLINRCGMANszDwqeX3YwVM8/2\n",
       "WTolisV4k/zzGNbBjqhIczxEldOsu1bbRGiX/RA4KtYgjHhifP73q0Gn6ZfbqMtbhIxdSfH0+CGh\n",
       "u4ieDwPzNe3xfM/cmoMVb5Boif4DZwAAAcBBmm5JqEFsmUwIR//94QBHaOfTx/eAIMlAmlIPXzNa\n",
       "X8Ea7xPxIlyp7MhUUdFxL/FrZvuG3pgZ3F8ziZtdXdz+iLlUBnO1M8KJfblXdOi+k5McsXDMBRw0\n",
       "MmjoNAeELw95YuUp8UUFl2NMmgoYzZga50bWGmwaxGIcB4+U6aye0Cfd57YDAl+QklHTHqA0pqSc\n",
       "fTq1l7tpY9AiP95mfZdqozWHgFSUXK9RWYaR0Tncj2bnTd9vsMxilPW/mb7PSYyPW4h9lE56fWeH\n",
       "28jt4XnXCz7FbEgZjtsRKyZbh9ZbS6sfUQvKl0e+Lw86K1pllpGAGQwBunbMGQDg271zYNyuFtHz\n",
       "C1Y6N7tIZAe2zdbsI/TLrp9AtvrlqDNbiIxzjj9wII9Wa+Md38PV/7VnaIrNBWmwt9wOGTfrmsm8\n",
       "gSplD1h40nJdhpwD+X2ykubVho4+IhbaQak2zvbb1jA85+NnamouBVMWSfFM0HHdoTCjIGi0ewN1\n",
       "4ddimlb4N9QMRCffUJUn8Kl7kDpRCia6tOisnyx3POU9ZHjkfkaG9ixzNSvHa01rmkLMzm3zHPX0\n",
       "3IuRwkGfEpZ+0206cUUKg8aUAAAAs0GejEUVLG8DCfvSNflJ0AHwSQ17kUsCVKnXs6GhHyAOTUFv\n",
       "eg0wmdqUhaC4Rczn7v6EyCpV7grduS0qCmP7Jj/q2V7l/6oe9BOHXt2q6t42mz8jTS7cuUXHvkcm\n",
       "RSTRYGjrwLeeA3+Ah+AneyQJYSN0F9H13jCgfP3QV93QIw2L+fOuASbeJLgasuW9Ff+lTY530vLp\n",
       "qlcDCHdD3h32V3yrwVT0ZYAZ8GLVg4ix99V1TYasAAAAggGeq3RF/wPKWqSJdYKDkuscsJXW3Kyy\n",
       "tsflVJF6Czh57bulE1A30oAIeQo1wod5Pscw66XAASMELku1H+NbBUfof+txCzpgmYCiObjz0f8I\n",
       "Ane1diOHSsaI0yUJX9A6ByDa3Z4HwZey7BWCXPfq1iV/Odrj26MBHXZQP0LEdNjrZKEAAACDAZ6t\n",
       "akX/A8ciWuyr7A5XmGh6AtaRvPM4EoANIhL9HNt5xw810DqJ3r6fJpq6a/czI/T+1ZzZFZRS0vfv\n",
       "ZcBfUL4xylXQmR7zqIaU6X39PPW0GlxjO+wztljBXCx0C/vBjJXzDSsQfavIOrnpbGRxTPs5okgj\n",
       "2h3bEEDxysC7/KiRYkMAAAEIQZqvSahBbJlMCE///fEAnvJ1TlE6KHhWVJl+fg3eNS9PATgUgADX\n",
       "KQYrvRUVm6hedWJVlzeKYMeuSiS/m0fxt/d7os2YgM0cfjt0aXe0DqVRZw1NmsLEkQj+DjWcl9hm\n",
       "cS2MLLgdXFwFhHv1YeDR8UB4Yv03YoWiTX5ETDtL5d3tou+X50+H6DRFQVgbAWmFj+DOZY1z1Vbb\n",
       "mwnF84DFH+cCbPcbsYORpeKKiI1g98Eb56P+1oguoKRBMc/Sv7YsH2hv2hJTqQJkaquVZO4oEjVZ\n",
       "AqTWcnqcHSwC94xio44z8eiU4WNdbh9/Xn05AyfTlTHSy2FXPp3KcL+nUYCDOgyoqhifjl3BAAAB\n",
       "OEGa0knhClJlMCE//fEALX71soTD6gBIGCgG7//l+f/58/CngBLvFIJDei6nTGHcJpEo/TdwATvW\n",
       "OKhGFwtifBVLZSpebvxd5b9ZMvTZt6j0/FKgG67scXIqojxLhKeDy1PPjB6LzIET5/lLWwC8XI6W\n",
       "3E5UMox9sH06BdktHCRjB9eu5Y2Jop0zhNZtkfgDfwmLzBAQMqGGAr+j+TkXhrlJPL+avKbdl4cG\n",
       "VtDj/VA/DMYbVGzENlgHZFNtK5A530O6k0TvkQs50HqK5+IJPQinfXNnHiaB9dmjmqLERvuoS3bX\n",
       "ehad7A4KSlgQHY6RPNd5CxyLjAY7AK0n/9RRCIJ7QKNKII6iA47nqc83hRIuFINBb75kMbNA+FQB\n",
       "J+DojVwGfQWc+PWybQ0LSSYSrUe4/kk9OQbe7AAAAItBnvBFNExfA8f188JxXKwaqvhX5ucBddtO\n",
       "4G0do23SADTz88mbvyBleT/p2bI675OBxwLhrE5vM+Np6n/wyvQSIYYu0lQngekthSRVTK6mQANo\n",
       "+FZKaU1Y51p0ZG7DKMyZjCq+6giBjRb1IX8S84AbIgw81LLXVdgnWUBmcPmVjgzlGAfeAlkgfqyw\n",
       "AAAAggGfEWpF/weVqug30+qgceLeKXO2QX+HbEgi6x5s/WA1yTbaAS944ABBJjlSqb5A6lPPwsi+\n",
       "0NcHf2anP4WjlkE6iClUiTvvg1tRt3g6zrt/bKQlby68/OWoYKtDhkFyuqDkD/HoJJ0FMSDjSsmO\n",
       "mfwzXqvwccK2LrKfVkWa9tRzvKEAAAF5QZsVSahBaJlMCE///fEAiHTdcC4IukOoAJEFz0tjt9Va\n",
       "yOu3daZNiEkZegiW3sQBMybAXGOccemUs6tRNrTUZRU7s/xWuv2+cq/o8Uh92eim3GqFmhoRdhHt\n",
       "zFo4py2srKzkvLBzNQQ+buoVb/ugSLZoYdSH4KBFEL1qCURMa9PkTkIBAV+uyziPkG9kn+61dfru\n",
       "PgWTOTHZCQjs/bsCMDHPM3w6QlxiiWezXSvVNvYeHJDhEMHhYBqghFIhPJQY0hUJkjPJLbqq0TrJ\n",
       "nkxaWqbgiJtjBapYRwVTuTv2AGPyHvxEafSEh6tl54NDbACJcVlQhYbeeiKq2CGjpRajOzA2dnAQ\n",
       "Fldn1CYaZ+nyrBiyWe1p7yq1KHSnbC8PJ/KaYUhTO1UVM8OYroB5AMqtr4jEG1X7New3ndtQiT/U\n",
       "J17NEyL7pYD5+PfNU9ML5sGLpXADlVDRHve0uBH8BxppyPoBT1U/jrxdUzWL26nRJiJ9edQQNg6S\n",
       "vEAAAACKQZ8zRREsXweYSLHwLIlwDVzAC2n9Hut8c3fitlmvnWvPEPFFya62MAricX97dPMc9Nwu\n",
       "Y4+My2ZG34GdsqUs5wKoNWCsXFA6PAdWGlAOWUO7T0el3EGPkqcuSAxhFKoYHFmOmtXMZbLCc/vk\n",
       "dVc7k3rCuf6ZsR23ChkxhaUmZ95yv9T9RoZx+GvgAAAAdAGfVGpF/wd+rDoaKZuPsaBdP+LaIUqX\n",
       "hlcDkbEiWmncZ8tx4UwWqbM6N2Qdiwj9HdhTIizivJdVngIAQHLYUJTMKlMyBDxGqXrnn2xix8es\n",
       "F+g6BozmlTdDord/IVGOt73EikOZTei9ewBY7Xw6NjO04A6ZAAABVEGbWUmoQWyZTAhP//3xAJ7y\n",
       "dMaVFWtexvVL8fuzTZ5zwAsgjj2qR9ImUBLKPUBTPUEz2KLC/unFsrR+5OgTaWhL/3c+C/XKIDFJ\n",
       "/Tq/z3irJvn76zzqXITSTK3ILRcaLKzwZGBpaB92sd+8nK8uj+kgJGbU252p2ij5/9MsGIgxXUNy\n",
       "I9xMJ5eFW17Upj059YmEDgXyxdqf7WMCYpwnYi6ET2efEZ+eG3RdYpe0ITEndAFyJos+CGGpU6oU\n",
       "1KaXWoJxBZZn82VhKyWdzeATxCsOfKVL2p4sqQvQCu/48ERtKfw1FovVKw4IdaQLSari8Dbu6ANw\n",
       "rJS6v0CRDDl5hZ90uEpT4viARauNxJYfHSDd0eGDrElnZCAotDWHtxM2aIqCpP6S9HedOFP7JQ69\n",
       "kzEbD1TzXhZpwu2Ljs30IJwezOSZbagpE29glI+j7ebLmaEOkkAAAACrQZ93RRUsbwX6q8l5xNdl\n",
       "HlTLxlsr5LUu6S3Ip4oxQFGrpylByZ/KunM+Dxnc9Fy/9X1VqDJ9Gi/gRYsKjnF3gjdgglUpmte8\n",
       "M6nww31AQw9TZE1Ad9lFB9KVJ7y5I6AO7KGV5TXcWRAu7ui62JB0LxqP2B0EjtuqeOiynppIAqkt\n",
       "FbRcMmzKCt5ZCBTS9wsgT/TNSLAQ8s1SxEZolgJo3Piu2V9loghKIYtTAAAAfwGflnRF/wd+rDSu\n",
       "ujpjs3LlZLIGrMipP1qVR3R0DICkqi6k+4oKYNCEbYEznmENaLDL8zUdRVqLr7HgAEvYs2bG4NE0\n",
       "9Ks2XVOS8wnXiQrPcQGVD4Cy47nGqIjl4roQUcBTZd90dNkyB0Eq+oKnpO7jw4xRMltMh4eV7GO4\n",
       "NmEAAABpAZ+YakX/B36sMvryiHM7dKnc8DvVnMmkL5d1/D/Xey44Ek7jkqu7JKx8CBkpZ91iY6fT\n",
       "pudZ3KYxfYIYZcit7aslbiW4hyKT4gBKSKc/XkQ8HfqBDUHRx+tqf7xPO7KdU/aazJDradbAAAAB\n",
       "IkGbnEmoQWyZTAhP//3xAC7EPUZx+0E2bADVRVEPoiqxeZNnjUsjZVC0L1PeWYynFZfRyoKioWGZ\n",
       "Uyf/kOqDe1H7qd3/J5KkDw0N7Ylb7jcF7R0HC1r2a/6iJjqs3ML7S6oern3P0cljuIKMOotWc8mg\n",
       "mB4omkhquJzfa97KAbN2oM9+SNg8fEPgaHNziOFraDOJ4zJn2CtUH000JEAdGiZ+fOBROxs2rIUl\n",
       "l+hNOCE+AjK6P1NpwMW6416LmiCo0dv9v+EtqpJLsY2N2689muIRu/bfBhOnMuOfHODNN1IaaNZl\n",
       "Exiz26MVrpvsoDetGQyg1tRnOZitrCmbwTuK4z+Pn6aaZqQcD8ULv/UBUOYuJIeL1ks0vu+LMTrG\n",
       "u/20PRLxAAAAgkGfukUVLF8HZg+CAYnPsCC7KBGyAe6o5ZIftLD7EDbpp/678JC/xG3bwFCPQBm4\n",
       "LyPVqXsSb3m2ASUBND/RZ6K7t3GwcFbdZUnbq5xQTi6rAc2e+2oHYG9t+dyB7nYIvXc6ge7PmVWm\n",
       "Ws/1HmwqNt8ntPdHlQXw3bFqFHrHERbXKFAAAABqAZ/bakX/B36sXN75Z4m3ZmtnF59zT5NkS7ce\n",
       "toQ6rCrvUbkhFyLiL+E0eSLPNuaoaEmkMVH4dc9xG/4oqOXDDE9NhXDy9qsYxkH0AxlvRatzDU5g\n",
       "BL3vUOgFu8PI/V03d9n+OhZVeCIgYQAAAU5Bm8BJqEFsmUwIT//98QA9XgjS2+NHMw/c61Hbm5R3\n",
       "WU6h3yX5EtMA/c6AHDgFsKliygPq1hASJ80c2e9KiLHb0s9BZvWRVp99fgcXHomhB/IpP7ZDjR5S\n",
       "oPGIa+hkKoFRlAUy7dUgl19ep+tW24Q01r9LEf0P4YN8wcDWs913dT44tlJdzmdxgXfoQVpEOevX\n",
       "39OsiRDFN7Atl83YFhfBtVaDzQ4SN43alOV7nGINCYa4FI+i1pW3/rVXOYSx2twM7C2n0DHuyYhy\n",
       "sOR4bBlFS1lAw7Hn20Wsv8AMhQURmDZPxZ1dcpqtJB+vD3Zdoss6kfM3dh1gBL0HIHm5hVHtqSVA\n",
       "NZoJ1/pwyidJCXEGzqQNsNKmXeE0UmlkYrxjrdP92KXV9rgoDkNYZrZfHN8zxTErxt94ytOn6yga\n",
       "vMo4cVb6MrAH5gAAGeZ5yjJBAAAAkkGf/kUVLG8F+qvuS+L8YZW67lYahFphG3qR44xQLVXmWyyJ\n",
       "+tqlcvioWi80h9Fxh/+Cqp4pl4hnyvygkXDFLkAJowBegn2HC9cqZMnnoYolh3Dm0l1Lg65d6Xx2\n",
       "EuBWL20nsn/3DHclf3j5ST9hSoL+stwG50u9RCX/AIqQNEU7jPezFtiDZTz2tCOpENh1JXHHAAAA\n",
       "bAGeHXRF/weQtUCTVrWW4Gx+OiabSp4W2KyjDiXiwZqnUeZYmoIoy2p4kgE+hwAGxCjLGAOdH0vt\n",
       "n09qCBTO4uLA7uUSkUHYEMXuKrs4CZQgMtfLOBd3SM5Oh5v3BBcZPt0jy1hrrjNMTT0YsAAAAGgB\n",
       "nh9qRf8Hlb+NboWpqdIKgKJj37lKS44hp1qEXLYp/J3IP52Sv9SezPTolwk/MVAjPtr7H6QGZdCy\n",
       "YX8u8jOf9oJgGgGxAdSAL7ZndIJK2aBT0xls49DcDyZKkGOdHLr9H+8Et1oGTQAAAUJBmgRJqEFs\n",
       "mUwIT//98QA82U74yR49k3XWJhAcQDLdLABOOO+ILMUoS5qKZFVXhOvrfw4I26r+jda/phoDdGcp\n",
       "LzKkarlMsFXCQLTe9Yiq5vadh0ng9JyMQ7apoZflMKek6LlqCsUWquI1/RTv97QQk1BY3e6JViSg\n",
       "A7ppKKoBFufV9LR0vqKTpSjuXj22euBLwvI8AkezIIxae6m/YRRJ1FHjEIr52HODJm+P8spb1qFn\n",
       "yLAMhPquDvtgXoqEMkwhu6F0rpgI+ryxWIXuGsXM7hBxIMO1xDLzRYz08Ul8m83KWNE2RfH63Gyu\n",
       "x+UJ49vHGZmupadG52fpV1Mbpb+NbD2qZdylRV7pFo1ZdHy5dAi3TSXJkoasr1vp7FO5xJWAaTpq\n",
       "KGF3v2NJ1RGh9XJjNH4Iz0UO9W9vKbe60wt98XDcAAAAlkGeIkUVLG8GD/oLarqQaU8hSFLNJIAN\n",
       "/4FwHrL0J0q8Qnal37VpIUbtuST15O/NMPvIc7TAsd+4XUOZmemMJa714zCf1PWcmFttGa7UAA5G\n",
       "UxlutyiyGyAgF+v0uXQBVeTbJdz5WYx3zLPFzQfCCkZDzFmOkIFPy92iEQgexPUC3ehkyJu0Nw8W\n",
       "BT7y9+9KBm4NcOqzAwAAAHcBnkF0Rf8HkLVIFKM3RtKPu3w+TmBkhfJqPiiggXrSGVSPUNowOhAA\n",
       "h/zyRcZ+eDx7akBg4QwJ6xUWX+K1QEzBQ2Te2zGTSuAKy69AptMeJiriIbLI5u9WUUx4ju8gVynh\n",
       "LpzVshrtmvkP8dtwyyofsOWZhPfNQAAAAG0BnkNqRf8HvfO+8haGj3P3EgEAH6B/rHa3Nqm0PZ1C\n",
       "bbQczBeb9JXbNPz3UQ5OijIGAecexsSXIHtJAEVFZ4GasvmOlJDMUUK4Ql9LgS4fiUm/ksb1/7BY\n",
       "nPZsTCrXGj19K/1vfoJUnvoGtVzRAAABDEGaRkmoQWyZTBRMJ//98QAuj22GeLoqOCKQAQ7L+XLR\n",
       "YlYN+f6DDqafh6ppHVHMyAszsxV8IQqNSNJavYxAfUfRwl04ZKPafo7J6Uc9/dO28phBv6xwv2oX\n",
       "94EvnRZ3dep6WKK5zixRONnVUkn02N0jeKNfoqlGU54beMvS/JWVZ7DTWvPd4Co4ZHZ3PnWygRGw\n",
       "opxptWhRV8TXzw8JACv8Mw1vRzL711ysP6QGhDxfoBttvLnPorYgPBkE1e6POoiEx7Ul1oHwCOx4\n",
       "fqLGk8q0C41AHaGUSStYAxEzpRZ/wxZFjkGUCxOF0Vs0OYvM0WOM1CsxwXSAg0rB5RMZgDJtLmHB\n",
       "CPhG268xsAkAAABzAZ5lakX/B5hDmjDAJYuBdgAuA2UBimCML/W4bd+r15UiUWG0Uf2V0Z/TcWbQ\n",
       "bTTEVD39afjZXhpnsSZZyiSYdFA6V8uE8DKtr9z5VJQ9qkFcv8POt4cyH92qMpPduO7koqbVFdK/\n",
       "FJgUkL8Tj0En93wCLwAAAWNBmmpJ4QpSZTAhP/3xAJ7ydWIdBqvABx6D0naI8CS48N5ncVw1sy+H\n",
       "9hn8QPj8YLOo58jHfn6WyyxtC52r3/V9StUz9DmKxyenL19x7C3n/7tvQewDzBpqth+6cQ8w6RKX\n",
       "n0q6aWbwMJs9VeG5HvAry3J4EfhUwGpuzS/Q3jwG77pKzF4v2/dUMB49Sm9wHsSGrKDBcCPznY68\n",
       "4DOxLovQIq4xa+C1JpimfRVSFBUaJ6JLydrEa2veGO6tvhpuorbtXmZXWycgPen//Q4LiEws4hl9\n",
       "SVwTNKk6JjGaByvo7ff9H+DQLQzG01DNTIUlfN53Vg9A3W9nJhXJu320HE4m4cXrWnUfM5NQuC1Z\n",
       "fMpucrlLmzkBUYcMe+M2iyiUwtxuXm2X0cpuK5lLHKKlITOLSULY/96/Nej0I1iCEpXqrFPd/aN+\n",
       "NOckN3kk9KgbZNo+R+pd3tOpnCBscOpso58w9ZmxAAAAmkGeiEU0TG8GNj+XmwuWboY4i9mhaLDx\n",
       "qSsOgJp5hmbuD9Cl44WuZAMTcKEJBi7UVd9gUztYRmifYpGc2wSbsEWyIFGKze8QAr07QE5WWlgm\n",
       "l7sqYB4kauub76f1MgAi9aA4hV/1xxq8IGtGmclZaWonRs5rnCvS1FyoO6vQWtGhVkaH9l8YED9P\n",
       "I1QT4XO7Owh+m8pbCSHm0LwAAABoAZ6ndEX/B5C1R+cVro7evQwegr2gTtgoK3aY+ldT8kQhsMsw\n",
       "bRIR5saI5DZE5Tp1RDCXITyHbslmR7uNmMvfvG/bDnG6ka7dgkXSJTyxuLpPoDGq4j33Dq2d2H13\n",
       "ZWcCda5pOmiebuAAAABpAZ6pakX/B8RDm+c91v02AAnP89jOnCV0AvFNzf1iTPEOG7py3BOez/zk\n",
       "Z+zKS0nMOWIZvlIJC/6/HOExswUee6nvEdYXj53ccZFBfwT/DiKDq74SEwwEoWN/4P/skkUPDZv6\n",
       "5yEeRWb1AAABZUGarkmoQWiZTAhP//3xALxJ9rMadw8Xnih85ACEh+cGTT3Jsun4yQp5y7mic4kS\n",
       "9uIbL9/l6+vAihZT4pnZ13AbIUG6Y3TVR6oXUL2N0L1vQdviHipkQNGe8s0w2RqrBA3knC89+z4r\n",
       "MJfKt1kGoPW8KyTWUKXiXY+LoIwyIwTrF5y5rfW+/hMDyRdK0t92dafhN5gwxx6NIWpXgt+nmQ/+\n",
       "JPqhWgDRjbsJVmAPDV5R+qD+CEF8b/Wc/ITx4vKB1YK4jd/b7Kw9O7VdsrTkYGYXi9JkjglUhRds\n",
       "QRQLJZyTw+LadoOmSg3toCnjhxXTpTqUdwesR1fU6aJoN0WVI+hNwahOPMxHkbb5Kvo63dN1JZ01\n",
       "QqvXLa0ADstYIt4IQtVWTMAm/YqOIoyJwZMyMaqpp6x97c9+Z702rgCNhQMmmBPg+eTmKFUD+I8I\n",
       "1YzkYNI2U13Qy+SplpssZ2mGc6U/+RaxcQAAAI5BnsxFESxvBjcmBTCcHW/crh8yQ3M1aKRcpCHf\n",
       "ajNsgB/9DPlMR/2lUnpiG7txDoNeBABBvdLgZfVD8rHbKUGH7JEQ7w/dtFk3Ai/9SP4Mc/r3ERPi\n",
       "DBMV+wBlmPN5KCpSJN5WrjOkQ5fW7fpcOohhmwI69e1zXJpRtCrqj9kQVX+OUyOPT4y3zawz+/3g\n",
       "AAAAZQGe63RF/we8tUfnW1q6lw8xX3gLWrzTg311CFmaxtvgT0tooHFsa6PhQEzfnJH4e2kyn42M\n",
       "9FBjfTn8EJdVSa9ABtOsW0BJsNRDyYF3npkkQBZkfXdMrvl2eup16eRGgLQL7AHpAAAAawGe7WpF\n",
       "/wPz5gPQ/Ayyloza2ZbsCmZ82mq5UiNaCI+AAQURLm03uIhGJBtP6wK1NRI9ALlBjv/0d5/RUzNx\n",
       "5exmk0iw/Qy8GD7FeJyJ/dh2nlVz1cG6kMOv73E2MPsFnqVUmgLSNC8yiEOnAAABf0Ga8kmoQWyZ\n",
       "TAhP//3xADAABrb4V0iAAHaHJ1IwPKiHFSMe1QBTX7Ax8bEE0DwaOClxp7WELvd+sYEBofvayaQg\n",
       "SKxONFNcv/SQASm02/0EQI5X0TjbTAhB4f5oNfhoMj/nzllcPQObb9xqJ4l2r5qxF/NCx35pGijb\n",
       "wqdECgtDtuLsZc3CRHkNLOwoP6Gztrumn429Q+F0rpHIM4CbuKiCnbTZ4Ya7VBgbKVICLirTxygh\n",
       "E6f9+VZ0t80s45k+z4LLqwhRLyfZ5LzUqkvjA3HfOCYyhpDxLP7x+VKm/4jiZ1m2lYMnn6Qxvu1E\n",
       "W3Ue/3BsjY30pmn4EgAwZ3wgMwxM0hs1wIwChK8KGBzTiV75QaGRfxpTgxZ4QCQy0yVzESU8hQe2\n",
       "c9hZQrBXYjLaBydl4cO9206OE/7NbSr4MG/wlFx/v0OETCCkTrNeODzQ/f0Pa3Fo3pFgoeOqgp3u\n",
       "RCxkYXFkBAiRdYntnctO/HnIwbDeXqSaKn57GVCAwwefAAAAsEGfEEUVLG8GN/oKdC/8cW6UgAnK\n",
       "VC/D1MktMZReyrGzzMOl+txof058+HI7pfTj+4sFPS3ONuzbgeR5OxCr2U1OE64elY5usgJNDLIu\n",
       "sHGEFMujVqmYBXndRrBGb76Ij1D0zaM4/GPAgWkCduWSi+2EIgwyyobBa1D4py5HfnqW9Plt7WH+\n",
       "cDlQW5qORSBL9A8KVRyetSV7sUUCeDptZ4b/Ama3lW0YMZVjei6mHn9YAAAAbgGfL3RF/wP0WTSf\n",
       "A4AIgD4U9FAP/5QQHlI1XGTgFD4ptfVWNY0iYpRy2STGtmsA5aKj2lA7VoAun2dr1HjVgV+o/FXD\n",
       "lkKd0bIwgF+8Jz0PrQE3OJA+ZISv2lpAErlr9Xa6mMh8hNy7lw9jAMqAAAAAfgGfMWpF/wPxAQkq\n",
       "V1wAIbgb3knmLSlL4zmin3IvXat4T1/kZiiQHoL4asjyWf1os+5qzYlsC9WDOHfV/drZ0uwxCPgn\n",
       "QRjxs1LrlzREL61Z+5Q/4ZLebdsarFZDMACkQyJHJjYPIZNkS1B2TG8gNaOX6gV9vioxHnzknB6f\n",
       "wQAAAUxBmzZJqEFsmUwIR//94QEr5Jp8G+j8AC6eG6OwjSgOFz/1shOATl50NQ1VexCgkudNLAOf\n",
       "xeQqemWHY5gtyHV20xPYxqi70IuxBqQKe25Pd2GBonpgSBpw1ox3MR7O33JCyZnJMFqMwlaM/lG3\n",
       "4v1obGsYZXm/Uks/bHCFHqP/M3GGBrCy0YwQj0ys9y/9+bg3aQvISXFVKKMqZWvA4A6MrkxNi0c6\n",
       "zDVWMfSPrZ+mP60rHcY8tNBpk8tRr7gmE3ZHg5zuupV9or48EqMvqUG8hZjOpH8oX3uP60/Iz6gj\n",
       "1aoTv7IGjO4Bp3xyqOl5yV5/MrbOcsTHw7QiHavo3jeX1U6QylNrI6NoGIdCOIkS8zwda4tfXpAu\n",
       "4qgxY3miYxHDYhJC2EZ6ItZwYt2BLBt/NQBoQ8gIFA+7WnvaKUzt7OOiXRYvqXMIcirTVgAAAKlB\n",
       "n1RFFSxvA0Bt04pwUCQgwZRSJuJXN6ZkeIUJ2cIAj5m3lWn3uO6vZI87AmYUI6sjicz10c/KhDPN\n",
       "sulnHetzkLAlBYHXxhMy8qAC09RNa49HvgmszIj0UU8WL/wi9cFYZls9t80F/U+eMZd69kONiUwu\n",
       "EHS2Vhb3xltYUBGPU4ODTMZcZoAHVvHBWt+nLiRmCyPRLfA1C8hhUeYhMB6ROHUqzQoQdnTAAAAA\n",
       "eAGfc3RF/wQWXtBbnZkOQM362JYV1U+O2chgLYZO0Ig6BZOtraEdo+2v7MzTR0iMRDaUiM4ABBNN\n",
       "zQ2r6VQffvjcqeftJiMLeI+9XrcdOAo34i8AUTcnqDYfpzAsf3w61XtAyN2nmw3okpzqsRAsiRbh\n",
       "AGINPchgQQAAAGcBn3VqRf8EEy4zj+Ga1nmaQwWQQsCSRuOAV9pbzsEM8u5wEJuVH3XnL0JV4HGu\n",
       "FeElphMN68QmaMS3xAVtTeD7DCTAXLdN7bRnUcDLixcj8fh69/bKi+M1XswqoZBBfedRO7/17hMw\n",
       "AAAA30GbeEmoQWyZTBRMI//94QFL1sqW1Hxc3I/3MBz5iXavtX/RHw0oOYq7CMO41H3WP84gGXFE\n",
       "ZajbqK2n8HbDfMdwgp2c2ZoY2R+skk5mJPj2JZCJ3V3pcmj0x1KE2Ji2mhJWdAQHccIq9FJ+sL+u\n",
       "1A7vosGnwFq3k/myiIjKHhbssyxsEskVKi4N72rsxIXWnGlWeS4ef32xAnzb92a7jfz8MxoQYTtx\n",
       "ENof//2L+xBYQNU5JWUBbLVwGqIj91wWkKIZXKlBTp43Gs7pjlpGMn5qjugMSxWtki1hUgIHNMEA\n",
       "AAByAZ+XakX/BBF9IladBQl0i9fNYC4zCrMKmCNEGadtVS2sDYSlH6PX5TMcw71JJSAJPIqhB52G\n",
       "0Nrpdg+DuM+zcN+BhwX6NGCqMr2Nyxhtg9u2MyBvXzjAfyXn1StMw1G+W8F+AVmnLGu+lc+deMK7\n",
       "mbqbAAAAkEGbmUnhClJlMCL/+lgBJ4bnPviCNo4JuI5JvBrUTR3ROIn2nTNnbgsbiLd8yYu1W4Hd\n",
       "xED4mQZJeYrOKcgAQfF6iRVwjIwq6SCkxfNwW9Hr8AS+AwF/t263DkEt62UmahCAAqNE5CgKnhlN\n",
       "pbMnm8mNl3V21bc0V9Ovy2TOK7SkeH0Nv0k3IMJe3jtLCzu1KgAAFfNliIIADP/+9uy+BTX9n9CX\n",
       "ESzF2kpwPiqkgIB3NMAAAAMAAHkV/Ax31AQRizqiyqNPotDVQElThckktOScASZXAOTLyOQ7JSy7\n",
       "BaM0dSW0/vlUTYR0gGAFeRPDtDnASVoWvAAAAwAyyKBg3hHhuFk+wZ1+G0pOkWKxuDUO8M3sPmMg\n",
       "1Vmd8DLV7LaJdKvBVQK7+wWrojViuWZP15GZF0mfJLiIgd+/HnKkfE345b+uFgmHIgUPOPOagPPU\n",
       "jspC5D/DdM5g1Gt18/U4i0MLpRw5m0HY5hjfDd3mtRu0q787MyzAhA2rrV/o71d0zXePxbR+4A7b\n",
       "50B2R5Mh7qcp4Z//LZ179sbz51g0FJs4XcZlwxxBxip4BKI4dq1tL1PLsGH4X+wwNrWLsA6EMQ7W\n",
       "x1Pvg7Ee4bXEy5Q06V4hM59HP7wM1jXtJpAd93JDxv56qCLPDuI1aiu/b0X54Hg4YVDsxuGDiRYP\n",
       "TO3Pbi2QzCLjzQFISfXayNhDglElNOccPyzyj8Ob2LDwksRBstutZKVRBBrzmxnozSm0BeTFEXl6\n",
       "7PNmDrKsAP57u3jT6xAFTjihEy8u4s86Jqdu4BmbgXAbSvpdDandUKs5nR/98P9zQdb0conuAv1k\n",
       "mAmK3ShJmAYsMcBmdgnTP+dAb4L6MIL/GDxUW5mD7feOVI97dA48v85xhrSir3RvY+AfDEedbv4m\n",
       "+9/H0ZzxjygYEH2ILNgX4Q2tM7wCYo30pQaQhRhOkCs0nHWh/5TCTqLS4cqLImMPbzTUlN/bMO9s\n",
       "VQYMhIndBTG8D5fkJIksl12W1fFwiu3mu0yfqHNK5/xzrH2Ctf//HLXIbB/yH0ybavwOMwVYDavK\n",
       "ketqlSEYL8fmFaQtQmP/2liI9Rehmbk6q4Rj8QBqCwu3lU4iOWUty621nqllJCld8ZVsfCC5YSEq\n",
       "pIkVkJ8RxxNVDEGQLbc87bsuzfnjIXi50HjgrmRv/D2DYnvbz5R73lA0wWf0idHbY/C6EeCviJAx\n",
       "1vTiXQ6oIUGAC3fcWzfvZbXIEZ+8c0Obgjwsuef4YR3zGR6HlRHHj7NjsmxQhzcv09MNh3pNiu7/\n",
       "Va7xLg4E8MfyLC5QgjYQMgWQ12xZYX3TAndT6Y/XUgN9sRTGeyEy0EoNDVKEKkv/Bcss/e8NPQiH\n",
       "1uUr7/TbVPXJRQeoIkh3bQv6A65S7yOM3Ge2+8FKp4zOejuQGKWBKzJvClsPXqLcRjfcovZV1hO+\n",
       "LRZVzO3Fqf8cqpcjNHuwrewf+rHQFyxY50IYTNZUlr2E50vbXUTwURl3pfwQ02KVi50SudpbaUgb\n",
       "jCCuIOzLyuLbi3btXpXYwOSXSg3fdf/c5LnmCvXxZ+KOH5vYmHFxaaBrW2UzYTavuCxmpVwpJm/q\n",
       "G9RkEQr0/Y4jonVTdqJ47AAetGM3rdHxqkvO4y1367UMMlWC5YTCaMT8W2gwVGQhJEoxCwPayYy8\n",
       "M8aty6DgjMLE3PDDS8nTk0ZcnsMFdeLDotzaDJq4pGZDlf1Lq0+7TMJiH3U46p4jD4EygAgui3ys\n",
       "S7j0UU3FNRFjXQmq5aGuyNQ6kU90kVu71uvbQX9/P5gMbpyeyVxWKE4vGMxsGAsRnFfCSoUiFnjd\n",
       "296HhMqZODH/3q7yJSZpm92/I/oOkUUPN8ANnnyIw81Ori6b+iarkSqjCmJ+HNKHu07vkctluxqd\n",
       "1YK361A5pOIzcAmpnNKkXXw7YMkVO2SHPJpIolg1Q5m7HIV098D8rAbt1mquzi31gJuz2mXe8We+\n",
       "NLuHdP5yIDtAQgzfePNQrvVwlToZQFppieo9dQ3zueMqUVDKSsMcBL0HuO4of/JkXMrvswr4Ob7N\n",
       "lUvkE6sxfy/6Q7d2dbsDFIz5S6iElFjKQ2t77VImYx302gKfv+BHehqnMuR7cr1EO7ogVDm6vhg3\n",
       "yTVYPRS/HVkMILV+wKnRKbYrNi/6pYgq1GeWUi5XCll4JNOAXdU/suoK/91WbcxXATU9VbZ8qkHW\n",
       "djxWZfsJ5Is5a/x8+zcc4gMxfZsubJeSIAyt7zGakX9HGO7bfAQfirCQZd7UVdFOwwjbm42IVjQq\n",
       "iDQIvo4QZ4T3jxsGq8kX09RvD2y7Gcc8fDGTWEX8tudF19/CCM5tH2ODky7FddH0xe1WW6TPsrJo\n",
       "8Uqk093Cw5nzMm8ZeYNuAeRNpGT+lqzB8WsLL4sJGWgQq0oirfZrPE4pp/BPJ909a6FuIcLjX2tK\n",
       "VJSBob4X8BuDJUC90C0ZxVvWjdh+gCrSjNc7Yi1ElFvs9eyfD2l/iXEuWJE9yfebSVU0qjQWCZgu\n",
       "1x6ehjJMP+sfdBIIr3Hy5UneBPw/Lr106hsHNUor4WzpS6tIqwjmX9KYf/yxwm+kn+XQ84gSdj9S\n",
       "seEK1Nh8jGROJS2X3+ATFYLKnckPFWYNlMAijSJYIY+cV5m181mmUf2vfdWPofTS50gaKEFBy0nO\n",
       "DxXT5cPAlA1AbMBizJGOs4QMhtbt0ORX8py+dNefjeGPbZgw3qJ5reK2VHCwUQCrhZPlJQE5B1Et\n",
       "b1J4jDyRNJKZ5vdR/yw7LVgpbveT47MLJdWLUsmz4MXvM3KjZjzHIHjSqBfg5DZ933JSa/mlogEh\n",
       "1jA1ZEiLyij8lAkYmKtAeTTqz/vN9b2uFIs1bCsO8i+/9WVtMxs32JeTU1sVxsblDu1aYTXc0ymf\n",
       "qO/VY2VGb8qCxXdsNHbwAtkcPGAi3tn1EBsbwz3CDAeeFw5pjGSulroe9QJZu7PikYnFj4m/REFZ\n",
       "tw996jKKkcXLtTViZDVfGvEHCq379tLzMWdjtSxxgCdIKs3UizMBTUPwVIylFsr1JKsgerSr4hIU\n",
       "esTBHVI9vildNXGnc+owpoUZdjuVgDtd+MNUs7WdVAs+BVVyrOuS5XVlv+M6jHVxIaIrVnArZMsb\n",
       "NfEAjEYJa5P/Mbqxwk/4wAInasOugjDvr/SlPV1Hqd0PLelFYEmoTCO5kwfV3myj0oWOlhjU6B3w\n",
       "jgWtU++fIpgbyy4duDZb3J2tlNF4LV9+EbmBJwYwAyLgvz7hKCi73buKpXa6LV5fvrCY1SX0Gt75\n",
       "ip32iz7Mf9lO3P0ch0Fi9IURQMW4y48J/AWA3N6MXjVPBjiP369EnbWSyuutf+VGsgwduFqLNO0f\n",
       "5T8BUhBIjkmwoAz/8pYNg8uZ+0x8BUQth/b5s3u8pu9t2nCrLytopBmgua2ehMVdDhzmM5qep0Ka\n",
       "EIie04qbJj64I9TMhnUw3cmta8r1qgFmXexMoGJjPzVyqoP0VHk95pF9RDPjY2OhduDPBC8pSWR8\n",
       "nHVkpPmel9NyyJqIHdvjwKCmdbiE+Bi1NYxp4gsHupbjLPmc6pRgAHl+C2O4r1eNLeqDepfp/Lc/\n",
       "ihMDk+tjzdejU1xt6zla1o/4PIaJ1OGh3yYSwqLU18tKxLjxhNVWCpEBBqR3EqELply9Zpx/kNnv\n",
       "ceqZkQl20Tdalfy2BCSMZEcrMQzY39IJFLfaNLoQ9ts/ZzogpeJTLpndc/aYfPr6J5eVpQA5i637\n",
       "/jYnW+A8FLSOrafSgpbnGXc6wiqX9/ku84fA4KkjJTqFY5YIvjlCWIQjWlhgGGsmzMOcx8pBHIKq\n",
       "pLlD78H/q1JIa1Dnj0e20p/Mo7ck/Z0h4Zv/3eL9Heuf1ecgcypv51KH/qdAi2z/Ok3DsCDKQq0Z\n",
       "uoCfa1O4Oq6koTTqiN9HhA/YtRObsGONY2VY0YuJ8gWw0JZeNgin1y1rHDpi6owfmNrOTG3j4tKP\n",
       "VXz0YQpTK1KiTzIoMwu3Gd+moQTp7e0pJDY4maTuDrIS8nnaHya93HEN4pne4kSr51DFAT9kmP67\n",
       "bviOX1uz80sKk7XWVlHUIDW9BPTaLOwDIcyjJ3+KV985KUVHkBEEMWBfOjhL1rHy01BUl9WafmOn\n",
       "m9PJiTQ58glJQvo7DvuIhp9T1xjQrlCdO3PzVoXC/8bOdwBYhrKUjwkmgOUJ0GpWBhDmIRyoFr0G\n",
       "c5O9aDk3GX3+Qh85xoD3qfE20SBqAFQXGTzLfjakoYIRNH+jhAPhCcNJ7Rz8Uq6F+UQ8vc0hPxZ2\n",
       "krb588b4UYc/B+3lS1oL0NnvG4MpaH011PrWIRX6TCpk0rPtnXMqQFVMQXHBovGEkN0rQid/iY5v\n",
       "IM8q/ts4Y7deYmhp+Mpxkyo6armHqPtWwchlfL2YRe5Qzl52VIar9JboBRRo9gVi38ApLdWJIDCh\n",
       "S8yPe+nz9COIo4BL69nkLVVrG4LlmxFmFwOztR2NaLOi+AuLyiICoel+DqGGP69c5ryS4EXyLsUs\n",
       "4QeKZMtFyXy33dz+ikFhwTiC7ikHTz8T4n+qgtLc68qO9NifBpmcvaIF581uoTVdG/xN/stwezsr\n",
       "+IdJTDg9CP/gcSiFmSzh4+IFOP34Q06akujy6Pd7gl7WIASQK8ztkoOe4Upl8dt9paPPtLHDp6+X\n",
       "ed+EGpFukMbANMBqaWMbAwfAFMCIN4/jej16V0P1/CTsFgm+Ch5m1RY41DkFUXIWldg6wHKJ/yYV\n",
       "WeW+njywcY9vdV0U+cMunUSJmD4atAYRXbafvsF02aJPM10rcnVyhyckO2mOKzI4XQJ33vZjW9QI\n",
       "4dYPhX0mGHSRIzGPAE6rrn7Stguz47gX3KXnCYmP8zgRxtK8SEhsyy7wLcP+519wjC5y7SehFYFJ\n",
       "ZgG0pJNWUFgyK5n32T7pPY5RKbQTuUyQmVlw7mEsskTdSdEPJi+vxyqoa1lMB3gELt7YNsKyU/mS\n",
       "cnC8sjAwPlfGT0TPR6VBqk6mpkzzcIbs1Vay19vEF1nIAyTePQKrg1OGW65eCrHaiytuyP3FvQiU\n",
       "O5e0NlQIPgFu2xpF8JTYsCa7imjLa9t8WfRS37QTS3j4/N9wgdu3V1ddlCUg6bLoqOp6aTB47+V9\n",
       "Rkf6P85/2PsgBjTbssVnGJ78hS4hoZtx4YDEP3g4kpjooznvKc8jia9aaz/G0jcFnUbzfqi53r3r\n",
       "m8VrNaXEOX71x4rPrNsfPrh0slb7DbS012JZNUgMa9VZzHjIzl73F/wTEPuVII/MhKABNTQiRI4X\n",
       "UUFgzwXtGfk2DbBrcfQpkCljFO3/8BmMA2VAXcwJBcRQ6UZrSV2e828c9Q94bmbEKHBUxjHISnnU\n",
       "DVQfP6cNwuYQUZT4cT6PKeuAbNYudXbOWDQ7XP4uPOqFH0bQsFrjKB72yR2bJXi2q82yW9uf9tZV\n",
       "Zl/fyEMZBzeGWk+lv5sndHocxmaVV9WKwG2XvBpIS0slngVBmWqLqMM2xZE/NKaUBsiUdwF5kDkJ\n",
       "2PgcpyTM0u7FXqnbCUYKqsOPYz/f62sGVa7kOVjc/cdleZGUhnQooCQL7kW+tcKih309Ld3n9cYv\n",
       "98l2OUFh56K45HiP66ML/DpCNCY7G6bx/verUgL82XkXkAeWnfnwrGzyVzZV8pl6pEQeXb1JRmK6\n",
       "NmDd8N/RWDxSnBVYP5ccdYVYC1ggbSpVqX8nNw0fpT6S/aCL8rjEouqPwy9waAN3dkzfKy83xs6N\n",
       "TyOcw3mhiXQDBFzIvc6UvcO3r0yLJmYXLxx0cQNW7DwtwhEbt1GYbRQTPe3RtkS1NTaySHs44HZ6\n",
       "P4Q+DNADZjFIh0dw+MsJxZv9Me/A48IsSimUNE5sNoVb/u2ES1SOMOyp196rpsk70+vqZHFaOBTl\n",
       "UW9AGp7JCh/zS/QCS5jfELc3whniE4IfJOVsT2kFzbNJZrnGqOflb9NPSV6Q5fwrcj37qoU2s5Nt\n",
       "YU6ixHaIKEdB86WvNMspGm1qL9TrxVhLDeqwXdV9WvOd+MbF+2wZXnZ8YQLuxfpL5BQafztfP9Si\n",
       "SbLaPChMDM+bElDjfcxGtXhuFSDZ8M0aKQl62wPFbuU7PwiUWZOPVb9SUKtf8UuR36nMRNN+Fvma\n",
       "81+tiISUTSpLZkfHkP6HoMXR7qKZyNuhHGtqQDhv596kpLgJL41kwnaSIpK8KWm2WDMi5DCD7vSO\n",
       "ZqL3l+ouNn8JvVJ+GCvyStP76Zhq4uxSJpCEwg9NuajKs1FXzfJSZ22JtXRlqMHuql2deHgVzirU\n",
       "UW9SFI6H2SRb4El0QrBaPq0TuF8tESLNVS7mSeZfRc0eJFm0csd38AhbsQ2YiYH62HqIUEC/gS+V\n",
       "tz72viCZoxFCKH7ecNf+sANRaeJfWCZkaayLSRfROhxXCK0B287j5haSch4dfw+qLTaQDch7FVrw\n",
       "hUdNllmdjg89AeGgVI3EFp9/lNpH1RKyoBU7NNV1jzNQtnJAykYHsM5eTsOUkDc7cUczjzutrEhD\n",
       "QZif6Grx7nZorT97gV937mIgCgvxK5quP/J5A9FdL8JaT5NlY6HVVj3vaAJlMJFdm9wHM4a/ul8J\n",
       "mIKdRkPlnFgZIOGbp6cIkUalaJw3Fjpt7wpM/f/qFm6d5nsrQLChJESRKNtdboUyyc9jgJz2ZZ4b\n",
       "0jcrx0hXh9ktsG0RWqELEFIIvoe/35u9aWJfCZHKIn45vIVD1TmWzPL7W38usit86kQ+H9LnR6zE\n",
       "QZLZ9w5ip47/XsGPMafz2Pa0ee5607XlwfmtKmXEjAohO21ua3ozoIoWcdiBqgHFDoRqMPVoalk6\n",
       "wCMaN9LmEHvsiW7wauYB+dolrQuihs5vCwgqu78P6cYG79vRJDqk8bkZchWMYFVCgfSNlkvQsE0S\n",
       "P/c1pctXobbq6Otw80F6OHF8WRHZV1qowMsFAW0UQv1l/PLfooVyESyw/7mv+1LYGexq2MAvHYy0\n",
       "qhVG1HpnQPH/TyZf+u/2S5ftNUVBVMH3tbk6KJQujH++JcPpSrDMysor7SOpDmNH/IwNX0jmtpDe\n",
       "6rC40Q/vLLugPVAXDcCS3uHRfzp6b6OToFW940rvacSVgZbJl+0Q2ws2iRcIDO1sNhYHq2u4fTzw\n",
       "MfkNBob1vMf6BNGG56OP0kPuInsDEbbAa9/Un2oWScjVE473TfbGbVs8QHGyqKZ4mjF+LMoWUQnt\n",
       "+gUkRcZ3xumh1AHMSWHKoehB4k8L+byBake7tkUGx939Z+SKcG4cArxd27UgbrqdvfXU/8iRECSZ\n",
       "KHEoK7OfWo9UvFZkchOoy9SKYgUnr79BaDDEneYfnD9sw48IC4jrpAAV0oZZa8pO1fH/Dw2p4/GQ\n",
       "O9cVsmDxfmr1VX3mYUJGe6DvXIZ7gFzCJoVDKPW2ssMOwQNM6N3x+yszQ0K3+D0XGm7bc3uEjTAu\n",
       "MacXzsR+KrVnTM+cLmr9EUBDXdur8TR5ufloncAprXDrtX8eEdTcLHDEH2wr0srcgNGCcL3SKl8r\n",
       "MfwmkFnH1DHgnmza0hP3YlEqH1QVjGndCZaT0iMu3slPy6PRUAs+gLgxjaXCYvFOXr+0vKQDA46S\n",
       "KpVBdkQvmszHs3GeegPtHCVFuwnv9MjufKC7UXRGkBgQq6ndrvrc2sch5GsaNjSDrEs55D6ePmYl\n",
       "EzBi6uTiRGyAob/kcj5rgqF2Zs3NdVMW6h8BjeQX1ACp/wuCs2xfGmKrf1zBniZiCj1Uf7c8kN4W\n",
       "/umFMo6n4wACf0PwgGTAEhEAAAJnQZoibEJ//fEDc2IjeJ4mA2Uys0vV9tqCgD5EOJblJtMi2ukX\n",
       "iHIN7riepCFIdpLbwDGfCSIGK6POhl/4m1Fy7CQaMuw7gRke1GGnrborfu60pCUPjknZAP1PdimQ\n",
       "DZt1qBsjT/TWsq82dgxgOiaEcHknTjwAZXojXiLXEXKzgG5co35/Inkv4nw7OYQXkbK8LC06pp/z\n",
       "0rhuyPpCHb/OoMLBLkOezjTAJ1G+h8Ets2gf7dVEHQoj5OhDXOHB+v/gZkmuLZvtAUrA/ywk5sAC\n",
       "AScGbwk/rq34hfu7ejgK75Sb1zk1Cc0Pnzf2qYk5KVKFdEEEgqrFV4abJr86ZPO7BfOFU1tsxzPQ\n",
       "oIn9HywO+OY8F9t8SHOe9re0yd8C5OQYp+8fMnQDNJ4yyU5uJ/BifzcaDEdMtRikvpEffiOziYBT\n",
       "y37DiSXaFT9Ut3ETuAb32ob6tcqyIPesiv8vD2oSi/+Zdpsdp3md5yfECdLdxMkMfW8YdOXj8LR4\n",
       "muuqGrsgYFQXaDzv9bxaoCu6QHpoIOkWPwnzlNyhKMKuHfZ6xlhWeQcTp31odwuT7QeNKyu9yuct\n",
       "8SXQNDIkG6smOr7fwWr+5GQ92H38CpOBFzKu0L2GqsimDUGo/S3TNa+/ovJu3OzA323H6MF8aPee\n",
       "bp/LDxDLcDM/p65Xl65QSQNjAr/XFXtihT5BbihVzK+3/AgyseiLqUeDEm5Pxc3y5IdaI1skNAqB\n",
       "qE1iSrW9Ptmf8lu0IDddvO0LtS2iIut/ni/GAv1/nut2DmfDxktcJmBa0fydYMvEEwhxD3Hz+G3Q\n",
       "yL3AQBmlj7N2AAAAqwGeQXkX/wvOSWGk6H3Z0AHhDJ3ymismoHKMZb+7igWDLnmPzTAZZUbmr7fS\n",
       "ZZvRpC4WOpBIKD9uYiVxvQZThbsPjnN8dj1igO0ayP36ru9vOhh5inEjIufGbZycRE8r5DYBBakV\n",
       "IOCXHpcw2IcQWQAGD0A3gQh5BZAIdFBRYZjGhckgz16lCeMrdTsm6WakNoPhHz8GEPX4PB5O2mjA\n",
       "HLonM6yIr45rvAoioQAAAZpBmkY8IZMphCf//fEDc2IjeJ4mA2Uys0vPi+GuvoBOgsXzwRMm7tYf\n",
       "f681IBEEiW2tUMs7hCkxNjVYgKJh9m+9z7A91x+BMiiV3OrQQfd4KGnuqrGAtdigvFds10qpJDEW\n",
       "Ub1rsHpSD/7TxA/NMZ4xdpC7nmfYr48LY4X+27StMqECsvYoqy0Ft39rZESeSwNILG+t4vh6yx8z\n",
       "AvFi0FE1t1gHNrTyAC/BHgGglYmLYrbhvUfy8nZbYHwP0XgY6L3p4HD4K7IImfBuM3lx3g2xxAgY\n",
       "tNFQiXtsvMdMilpowyoSVu4FhsLDOzo95F63tce8Iwu2nrFxoEAo1AFaV3paQvdYzAQr17uT2Cgj\n",
       "M6NpL/Je5s69oLeE/3T5eBqxKO+NO0YQSj1Xyw+qwIeVBSfAsbUynuhqc7E4c78lvQfDSPs+o6Sp\n",
       "hm3PDoHUGqN1W+sAt0Bx4koR1tF51RlH6t0fYYngkDQZZVl28MW0oCGHVnTEQAbHWlGq3dZwe9AZ\n",
       "Pc1BEv6Ne8O99BbR4hXAssFmn522ltvrHSwC5wAAAOdBnmRqU8b/CbLchnusmpypR3MwIS7fYbYz\n",
       "S7A1fa7ZfFrGypqv8wk5VFYApT1tdiJLuJnmyBU5X1s7KY3DsqOxm05ts7QuoSELxyLMXL0ABqXN\n",
       "4JDt2w/lVfzm3URfL+pyrEbMyP6Vb40dSnBEyYT4mQNYCFggXaBAx3W0Kyj12Y1/199DczxPgC0s\n",
       "Q6o4Pzc9l75WRzdjX95XeQGt2LUscpWcuCAsYXqgVxY53pJumbF38eu/T9vV/WJmTftG9I/k2iI3\n",
       "tBOFgHDdYgFBhzDyzjQjJ/5xWAL0kcPqLVDZ0F1qcT14AeMAAACoAZ6DdEX/DBb9NLU/yCUA14p/\n",
       "/PfiWrgiPdDUse1Z5WdGn+5DAxar/8JrSSk/PTrbuJuUToR23x7WRs1mZ3mEjWXqjgA/xVCGOET8\n",
       "by7Gv+3MtUzIkOWAH2Z2vJVaj82FiSRsVtrcvRxO0Ewxxahrls4acfwnH8G1PRbcNn+pHK5nG8Dm\n",
       "RSFPZ3KtDdtQLr9x9gbmdO9+XwZyaPF0c8TKoprGnxa70YPqAAAAjwGehWpF/wwRikWJDTCMlRyz\n",
       "J9waHAExeD6eCNH3VkBlngf18GCm9QnKbvNE85LNpVANApBiHfd9wF/NfUfNsbCI3c0JEvGhhID8\n",
       "sI2+ODVpJHLN3DIWgagzE7god56oMJHDFPRLAGRAA1+seH5dIwZpn9I13MuoQpVgEmFnRiDQwFiG\n",
       "JdyAaklIlNNGd+RJAAABUEGaiUmoQWiZTAhP//3xABkt/24dIxJO/sh/DNUnP4sV7DPerJiAFfir\n",
       "mu0FPy8H6xT/Xi86osjsWzdxObOo+XOcJLI/1aJmLv97KlWadRU1IaS+5KkbU8aNW2vnWUzblZR2\n",
       "VYewaVdX3G2X/xv0hVw2a7D5ycxN5qKkx28TE0tdrbIawzGk9R9tXEyDyEI8d5q3y661vZBt+YNt\n",
       "/vkrQVV2QuR0SBaIdd4UNeyr+YieBQDN74c2zgKTnI5EVuwWPYPN9KzxnACdcji+rYl3Pkgu9BM4\n",
       "rexpEI1frO1Mxkpf+T5Ih7ESYKV6dQF8NZxTj8D+hCUnAGtz5diBoDHWG+IUmsW+S+oJycq2Vw2G\n",
       "73Bn+eF76td0OrGGt/eorkqcMzAdeL7sw5UGv2og80VBpmqeJY8H2ElzLThOq/db2iEI+07fHe3u\n",
       "tcwBKFs+RXOZSAAAALNBnqdFESxfARXxTTcuWD5eHzA66IrKAE3n95nZN345epx1b/CxoN6d+qDu\n",
       "VYlNeo9O951lNGS8kLUXHiv6Z4zYqMumb+YLLJIVZ/5HD5PXyc/JCmjTt2fZp8fACXWvLz/rMhHr\n",
       "6y0QiIV88K+Ts0bpp4GdKMTe+YeWMxeloxWcrj5Kpcdep+vSW+Tc/xc4LBcjc54LI0b9gnImcjue\n",
       "3NURU3iEEjUeO3kbsEOYyw3hrvMjgQAAAIIBnshqRf8BFfJ2ZzhkcDb6TLyTXmEABsf1yr4dPCVc\n",
       "N4wubRaXqKM4q+jTxUkjXfrNd2/p9fxndPchlvq8tdgHlk4230N7o0P8DiUED+SjAUTUOt6QPzWG\n",
       "AtQof0Qtmyd8VAMHCa/yIXlCfsQm0tNpey58g0yFcR7ZZFcCiJJIJbqFAAABX0GazUmoQWyZTAhP\n",
       "//3xAAzZSSSfiFi3Tz4AoMPyz/rmwgmVZs7Kw/FFhYXzoUWZ3EPcrdGilYptKSGMJmK3CjQlh7X/\n",
       "X/dojVyP1Q3E6KGfet7wloMAr+ASSq/SeXlgCKnW6tmu6rtTLiAWoVl+4102hP/Zg99o8ceIIa3b\n",
       "ToLl6dPLJRc2+0/LETXOdfFWtvV0Ov/o/S5OidNshgCt0EWuVhCFZBbtFv9brO6xIj1gX2Pi5T4K\n",
       "hyD8jDuv++sGzgV5HFmHCBA7GG+2IKWlCuK3oeMTaCtGGX+sVrwRQWR1TTSo5lo54eapcSDLdTmW\n",
       "6/8++FHWUChGN6RpQ0gjALY+w0RiZwYGJ3QPT0NfxngTHOmiM/LlnB0RRXw73Q0zdtAhIYRwCZ7w\n",
       "2IR99m4inrrAJarycDOuWxmcNr0kY/p6hLhkBN7PCKcXG8bHu5O7nIC1Ap88M58aXw+vUCg4OQAA\n",
       "AN9BnutFFSxvANzK4Bfe7EEgXlMut4wii+SAAuuGO89L8snQN+yX+DOAMT7vzpZJiiwTqTszaUTY\n",
       "tyF6b3vrhZTBaNUXC014ryAREBCfP/2O59YxI2VAuHkxZ5zzQuNGR1rbSW1ut/qMHptWq6V1uEzc\n",
       "2NMl3ke3LOW8KwpoRH3qsRRg5nWMRJfAVHa0f077PFwOOasn6BUrkvgBfVjc9Pei3E4r5fPddeHq\n",
       "aExifZAdzdAPWKXIzL+l6fYyJH/JJJ7we3hkGeyf/9OkNHljgO5eKUvVzjKaRVJVJr8bcnLrAAAA\n",
       "nAGfCnRF/wEV9e08DCoSTGzOYzh/2GDJT4RpHOLUj8xVcADabOsUNQ/nESSmdJ2bLgqYeACgSjkH\n",
       "LmpSgUkvUhd9VzN2IEsukuZkbEBCZBd6lyLa+jP2QR9OrjqcuJWTorW+aFgII2LdX0hIDKFopDqb\n",
       "Cp6D3Y0pzEYW1FWxELhSjEWJGqZZZHDAoo8c+37xHt6Dgtv8ezaJy/5o+QAAAJ0BnwxqRf8BFSY7\n",
       "009e6RxS1W/f7We/F5bnIvXMnYKtTgaaGXgD0ho5u3jYRGinodw81dz5mNH9VcAAh+cJL3APnDh5\n",
       "7YpTH2iyyPvSOwT2YnEmlXU9TkuxKFQrtmXZN3qFEchMIr7wpF0mpMcr1UbKKlfhp2ItSVolkNwN\n",
       "Rn1RDmFnCws3HUnZ8pghXemJ0E0nzkmX4LuXYwf/egWVAAABU0GbD0moQWyZTBRMJ//98QAM3TZG\n",
       "Y0W4zswh/H1Bhr6t4pxgOQSDrl72hvZxmLWe8iMPGSBBc/7vdGZl6m1CN3dXpCOkfTfpCkWDcXiL\n",
       "OTYNDb0/RZRgO+35xnxLd8W7SVM47Ntd5Pvyb1SuhT8E10NuIDshcbQwfAo6PLXyTw9ciEuLqxQy\n",
       "Ilj+CI/4z8kNC2IrgzucV/bXhDkK3blJMjLgKCjpdP/6Oay9+9cJhEYLY3ET5BPaZSlrFrRQbJct\n",
       "nMcEfEDU0NnAXqmXb/B72rBnl5x/uI7ZGs/c5ZfImAcNQ9wro6Q9BCOzviSPkb5Qxpan/J4qea80\n",
       "5Avg6NhCZlOkyN9QWKRyCnRxX7ejze4ceZowwE/jq+h355GIcgium+o9LdSP5XWnmR4WWmDDRowq\n",
       "Xh7mgj79IOxC3vq4mXPqk4qOc8kjF61jp6sUvbdQVURg6AAAAHMBny5qRf8BFRQUJ4zBXqorAxR3\n",
       "dlkc+xBk5/tHhmixPSzUNbbX/CNNAjJlZNHfESRYDXLbUXrzUANKj3D6ddOYnpG9YnU01b7XTveJ\n",
       "jmlYnct9SaeFHQjHNcq0tn0IOIPQTDU4/0meAyEU6ytxPcbdPOuQAAABhEGbM0nhClJlMCE//fEA\n",
       "DSlKaZ44mS1wC3KUALQtL4asMVQdbaHjpYhxhMmACR4ax/xyszTL/nDdOZr68mW2giKRML287WGB\n",
       "J4pUcSc1+jNvY8T4bGPNZBIU8iVbztuRed410vVOWMj0pETea4XexEIYaCcJJgQUidbnwWSnnHvU\n",
       "ZPy6XXSXKie+jNLX/6UFc8cXUT9oLmnVBLSMzssldlCAEnziWHofT+ZmCAWfb1th3matUaidaLvG\n",
       "FE5SZ5wT85Y934AIlECHqpKP+P4O0PSlqwXrsMYe1ILdvgbk9bbiTvfYUyBnUPhjdRNXJ46YJ5tI\n",
       "eVtslqmTWHXILmnoLLbs1k5hPgon47Yw4tJiMctlQXtmhYIao+3MkiQaORPmLmUgzkwDM4ftHwNC\n",
       "zQnNMbJr9a23+tt5Rp1OyDA7ulRkJGZHHEEnAqxxqPPpwWj2e70F0v3384fjkD7nHeF/2fak8hw4\n",
       "Q7EwIKHjqVfRLhMvvU3sH2YvdxRVC+Xaz52JNqYk4eMAAADNQZ9RRTRMbwDiu1jvStVBaSikFvp0\n",
       "nH2U5MdAWLJ36rVJkzGjwAEKqCoT7bKZ7jxROeDCgT15+D+utvyKrmr14vc/nWSDoArGuTuAC9CU\n",
       "nkVFRivICUkPf7O5dcMqAzmLtwgeW6J7Ix8vza+m385LmgdsKkbDdtt4uybvso/wTcjxrEmSte+3\n",
       "BoRF83qHBqwTYAy2TZT3YUsA6Oh24LJtquFGMnd6oWCxgbXwEro2GFcFU+PI6dysFdr7mPJOR4RX\n",
       "R/u8LIaAfMOzydHdgAAAAIgBn3B0Rf8BFfbARGe+78Ue2JqgWFkshYUzrmli+nD0wZwt1ExKCbR2\n",
       "4FkVHYJsXLg5cUq0wcR2mldZw/+uRt+Poau/QfOMSbpo0HLOxM1GWwWsgaoB6W5egSZWyCcBCq/s\n",
       "cUnmAbqqg4nb7lrpoAEHBZdjNGbjzeHHXjsg5zI0NLpXyOAK5R54AAAAogGfcmpF/wEd8nX2K3r1\n",
       "44vA7z5/6Ai+AWZuWxzXP7V1M/FniJ8zuiIlveWbtv0d+aT+EgBCSllfR3tyXyoWq+feeGvjh17G\n",
       "5sGpe0MvB+4NJLtnJ+nvHEINPLzQ1whLcACndpY2cg/Xl1ttuoIXnFOr8FCmHXuh40DNCHn67uoX\n",
       "fxT5yEXkxgA/v25a7FjqmaDo58tOynpDdsf+yvufEe1RgQAAATRBm3dJqEFomUwIR//94QAU9kl7\n",
       "DWLkD6D2+E+itgAXQMdPUPb4Pu6M6VdmD4oIilF8IsI3eWCU1wNixcMeXkJJH9Rrk/47V1VeSoy3\n",
       "rFNrl/I5+2jDg4Wkn2NHk/k2IBHl5DN8N1B01lRlhn9sxpvG07p6KibtvKauLkuUDvY7pjOTR6Zc\n",
       "PjcBRDTKyZHjwv5TIfZ+rjif168swi5zNrVXVV1Y7rul+7FTCTKQo0Ylq43Z+aj7fNqnqzBvtv49\n",
       "CgOOyZ3ve5j4Grvj7Ee7ZE3yUv3sLjPlfkEUBrcNHcvmASolXIcufw6AWXD2icAtabcf/0IOA8s5\n",
       "jjPN6PktLGe1Moe+Mtr/WD1l/4/GcofmgJM6/zwYsPznF3g+gIwBeHoi7Erum0mWw6qY6Y3AGuEe\n",
       "qq5WSQAAAOZBn5VFESxvAOIkqDrF1RGPXasaCGlLYCqBT42uCsxpFnDsoY/ODzWAEHEwZ4vs/iQu\n",
       "a/eAYVqScZTsw1ryaSCcFGEWxYBtKSqTkZa0lUBgv9E++oqNnIlYmCsMm7RR5czuhxJ5ltbuKCTO\n",
       "3DHuvkymrHDtjLLA5OwYqxrJaZmiF/jemrSoTv8b6igGHpAyCqdAEOpnD9kFWlAbfX37ZSEhvmiQ\n",
       "Rfif6Nf0SkWJDIvM/UC58Ep7eHX+kemZe5NbUnfaw53v6DYBmdw3SMze3T47NH0vyzDMSRdFE+Wj\n",
       "f+tyX+SIo+a3OQAAAKUBn7R0Rf8BHfVomjFvN3GHqLDIf8n1ZbPXOjG3nWrrP853MFyWnfzwbDTu\n",
       "XP8wdnzwfDBSyF+/pAnk+HrQAJdEtO5/mzgMhWDsH1dUKrw+XUPZ4Nt2EiLvdKhVhDN0dhHRn/Ov\n",
       "w98fEJdvDx5jYs3+779YaVq3vt9YQ0cTSx6esdjTxO7bePYfHUqbYg5ND9feUu5qvNhWKnhlo4xk\n",
       "jLgNSJLoC4kAAADDAZ+2akX/AR0leU9ivmEN7xQuaj0kdHOOhCv+fzFi2fPNxEA0ACZTdvN7gBIW\n",
       "Hu/Cza4gOiHdWyFl3RI+BWUrRvINTSO/hQ3ulV3pjDmjeDWUrrpPOC3Va933JQd+yA5VOrI4nf0x\n",
       "K6dg/uiVL4oI+Qp0VbPkTA9WqGUUpwi967E6Z8UaieNif0NLvUg3bvQ5JhhtRBFIVdsCsvv1FVSe\n",
       "WZb+4qvcEjTFBXfAIIAxCFGtS6nqlTWZDN3nP+asSVVLcpTQAAABJEGbuEmoQWyZTAhH//3hABT2\n",
       "bz8MDaWUynVKk2MUzYVwARgMqm7VsQHiexaqN9JDmh38VxywVpytAxHjdF0bwFr+JKEFVz2mSDj9\n",
       "/lMzcXvVmCqbDXP0wZvZPtiJwVBIQorT7tVf5PEAeWVMkzwRTsHBcm5Yp87NzZ8rd6v1qeo3hWtu\n",
       "kLosASunr0NN4GBjXqkfBgGoFeRpaRte0HjrqOAIJPUv3O8AVGQ+VcldhThzoMPwIn97OwzLEFqJ\n",
       "0s0OtuI39j1aA/7NflhlawnXjecsQ+NQHhMabSVsTG0Aa3zfV64AjyWDk4/SRrm484PG3eGrP9qi\n",
       "0Bl26KJ3/ID63y/cFVro25g+MhF+YFYI1tdDuy2ihfdrYBUcAAAUqXdvKOGi2iEAAAFnQZvaSeEK\n",
       "UmUwUVLCP/3hABWtz4C6u3eb29Db+++2EZ5P2//RhJwQ9u5VCNo9AckahIUpwoANlRC/PSQdcty0\n",
       "PGJARXQ8aHOvI94nA2cgXjHwZlh+pj2zEa63QAUMS/azDXzW8laH48+YyZlb8cTfh0TjgE49xTts\n",
       "G+I0ILfmQB8RVUj6/rheS2OaPk5OTmL31BO/n7WyrFV4sm94C2JzVLRQOMCnxOzzVNdBC/NiD5qz\n",
       "83ax8p2shQYYSIYIjrHwm0vjlL6hjyvIAwR9BRXexE4my4bTizmrghkqTNjjLJjtCwWUzi/t+rAJ\n",
       "DL1Pgi7CMqVt8ANItsXf+xWgd0V5JVOP2OwFLYDzmL52z4NHitoVBOy5Agmdlv7TSUZ7W1tknmvH\n",
       "S00Y4Enh8Zh2xwDtpshhmyRvsKcZ2jen1eNmStsTfUAq7DyQo+niVw7iI/oRWhJHsiKk5wTlKr2D\n",
       "U0SNz+luuMC8ZiAAAACdAZ/5akX/ASXxW0BOD3OlpyWIr8dDzaPJ8HrC3rnKgAEE6Tzz+dP1NOVd\n",
       "onaAfFlcLQXc4vVAznw7be5wkTtJujfuYUii13c5Xboh54jr1HSnYwYRNyJJXuwdPgULPoxEYl7J\n",
       "wt8bScZhtTjx1xkcX3U0p1bcO72iASfSjZ/3FqWGgzczHFK9547Tk7EOfVBXB8Whb89PprC/fZRX\n",
       "cAAAAeBBm/1J4Q6JlMCEf/3hABWGL5XqgqqyljEUVgAnWSEAf/48GrHRCQVZ+w+RIqqssL4OZFDp\n",
       "/myPAeuMes3Ja6sOAehVB9EJ8wkMlVKJ3n6g0Ws+FX4u7oydexifL3n9I+ycevFmNmlqIp37DUBq\n",
       "/0HSpcJ3RRY448wRL5E6ytsOU7AC01+fFMrkxT7i2k/yIJ99dd34JRvB3p7eDw76tnNVwK79X5OC\n",
       "VldFY2UMHUoB8Q6tLNi65xCwoySZsbEvWI2q0DlFWOBkKMz784KFKBWljnoApygTLgFPbpVJ0M1/\n",
       "IdUty+YlKPMqN/3vcHvRRWjYNsGoh2fXHZCx2bp2zCPt87AqStlzcsJhxv+hMm/YT0PKuNgiqKNe\n",
       "xxScD++MENTGyab/ytPkwtly5jCKMvtvsR5U9EoqpGSJzzDxSFClPlgBfPjOY6PiJGqNbhRQvJwe\n",
       "fDa1jXU3bzpd9Q4tX8fNheObF/IGBoPx6eEMD/bbwX1AinmyXR7i+t+gMSUyPqYhNiVclhlUDD6H\n",
       "MKi1Toh+3N9i6MJQ4ZCy21EiFJS18SQKeSxsJ0wcbF5PPR6/Ncs8SbkCdQNSgpOEGbUm9e98z1iy\n",
       "2z4NSZJmIo1DLdKnJ0pkfwKmSpjQ/Lc3OkGkR/kAAAC6QZ4bRRU8XwEl25aom/JIggIAJzxRjvq+\n",
       "Y6j4/uUStuh1Cutx7eF8D7k7lJclOyjiQQrbgHYva1t9Xo2Bv2wo81+641kES692XRsncMxNg2uv\n",
       "hY8Kgnvw6oIBadIducYiEWLegGYHGZpfQbZH2iN9SS3jmANSi1idkCASowy5OeJaz6YH/hrNE6sR\n",
       "9w0mBLBD1oFFSHx9jkVvf3W7rXoVjAUuAtALB0ICdIo8APpg21Bi2swhjcCamEWgAAAApwGePGpF\n",
       "/wElJX9mL42enm8wcAIRxH1sCElBHTTi/p9ZZCOVFCYGWHsKWlf2kAqgv31/0X8fcUke2faun6RT\n",
       "P6WwUNBzs++heHTXsR3QwoqKh3mSqHzuNgQaGtzJhZAC2Y8vMSTek+CeStYxs+kETSfzKdRwkx0h\n",
       "ygROdCi83yE6OhMCHlZCPMRnxld8SvrE+khXWovHWi2qqV7QKFtHkrQagjgL+LWBAAABc0GaP0mo\n",
       "QWiZTBTx//yEAFPxh+RWSqrkZN9vL8ECAC0KrFPvQ1qYj5eDcfHEguclBw3sA0RsPUQLNZQ6WvwX\n",
       "B0hX/cNyttCVvDP77OEKm+4jMYAEBTIidch0AChyWoSNr6JyjJq+TsaXSJQsRHqGf5BEFHzYKX+5\n",
       "Bq9SkoXzeUeviGfdXDyoU0XtPCQLzQ+r03TNka4AHHdQPKCf4sevhspxxh1aKv6BAOw8GHdfZBpz\n",
       "kYEMRhhPa4vskRSmmo91750AFTBAhaPmA6nPKzfWsTXIp3BuVS8ByJVBv0+ZVVNfWTZoNC4zSqex\n",
       "LqAJ3CkU5XjPzW1ArYoJCxyZnIBs0Az8cFdCbnVHUd9Q32fGRcTmjIyZoTky13xa77MFtSYp9uq/\n",
       "LqDgZ/lmq54w9LIXcr9vQxwQd5JdP56eh+Pekk1URifQjAAGQtrNVlnRW5gH2Ds6HnV+1txEqVoL\n",
       "cwbO3OPC5oYuvdo8O03zvJHynqyfearBAAAAmwGeXmpF/wEl38+jWF2nK+EAzA6nHzxo3uBPeJt2\n",
       "UwCkPHqLI21Ye4VoKfCZnzroACdEbtqp7P5S/C2mYzhh3nVrFQn7YECynfmhkagJETygZRinN7ks\n",
       "/idccKOj4CwF7xvf6GDtQrP9euz7Bk+D5u+1exMQ95azR1FtwL6kOyeKQA4bJw37mEkbxO+E63JT\n",
       "vMIWrRBAkz75yV4+AAABFUGaQEnhClJlMCEf/eEAFYbdDpraUd2Xhu4eBgAODWDdLvN0KE4z5TCY\n",
       "1CpGoMw9sBp09b1ERIxKmD4bYa8dSdZGsnZSn98XtDgHgpl2dPOS7eb4R4Ap1OsV5GLKq8t+TmFp\n",
       "5xsVIoM+FD0R81OR0j4XsSEQR3B5P5AKS12+53XMQXw+RQnvNpf4RiulKuk8YQgQrUdy2iy0+fxU\n",
       "0dapzJ6PBnCB01py1pcGjI97bIoOiExV39itaG32Eg/nsBqQd4lwa4r1m/i9mz004sQCftSeDAv0\n",
       "MnsiGkpzKpz/Y7uCa44BANfJ9JSjTWbAZlxmeW6cjNUMSNw1xSXpRhNIgZxpi/dFJkPJxeFEEGvD\n",
       "0LnF/vrwb0EAAAFrQZphSeEOiZTAhH/94QAVjM+vFDJPJsKwAcGIVI+u/FhlqqlGQCdNpPPPdezO\n",
       "kAh8CNZ96YiBiOpPUkelDNU0IkWOF4KD7DoInDbCIDfiH6T8D3Oar+7njL4Sw0btDyvw7nHqSsBr\n",
       "FqJArkwLpw803ymTMDEXSUhnyQ/NjidggXsRUeosYr48JWue4Pp7DbomQhleHUkevPp3PO1CeScN\n",
       "dp+JehVc//YoFak/+razi0v52Bz1LBOm5eGvh7npwh5wS8277sbz4+Eqy16o9RGPdB77G1pSRIWP\n",
       "lD7r563gc7Z76bPDRd+njZsqvtXg0sHsmTJ3pD0meM4IoMG4oOg+KRdq3yPGMv2ZhTRBtJPkz4LK\n",
       "pduMhjWZEb48Mx1OS8CU9rjYz1lk+O4kOKXcP709+l/pBE0uRdfnDMGB6cu64bghrHm+Y72XLz5I\n",
       "gfE+6XthTioZfN8xfQzTx0cSaj6J7hWmj+/K9160sI2gAAABY0GagknhDyZTAhH//eEAFaQYfV8T\n",
       "RonjgBwXuJghEY2gfxdkz0Lon3QdAsM62Ru4fp+SIrSvJi1vz9cBGDWPeNaDdPvfz6dNGtWigVgB\n",
       "wcGRyl4CbH/CEmp+2w6cqizaqZGRimJojK5P0hTCtVp2Fm+3+25W+KVMK1GTuKIRiUn4Itw2L52X\n",
       "qtZPQXWQVmicyuITaolucJzP1NZdAlce1Il4LSRGCzxCR64GqKzxGhxk/L5kxsHogGRzszZXZDtH\n",
       "9qcsEQgUbqC5+RqfC0WYBy9Ww/i3zr9XWzR2zKPzOm8TYPbJ1iK6emtqiD3pOCYSmoJ8dXGYed/a\n",
       "SS3KaVH2A12RNSZcBuX45SJyyMJopG57FltGSEvb9zEMxRECvrAN9IlUiwc90F+5tLguowylD/vO\n",
       "hM0j8S/GeqAxs8binX0W6DEBjS2v/OsIglRY6v8l6+1pV6+OlfesjoZ1qZ4+aM6jQvkAAAHEQZqk\n",
       "SeEPJlMFETwn//3xAA15kiIOoAayM6yfE1UhRjn+hJx3GX2Wz1AEgnXYtDG1TRVtbkb07w1yV2j1\n",
       "KpEkmYbrRWbdCL+k/EIsTPMaXKhjA2mQWWi+xAm67l4K4njJZf56o34Lnz+b0/9Gn64SnF22gWl5\n",
       "rw4LbiBcTeZWfeD2J75XPhKrmElEpupsYtp27uyydtZ3WCSGi5WizvKUVGSyyOS3WAPy1P/zsdyR\n",
       "eAuMkLBCGgXHGM5/Ou8Tos30rJkmbrvCGME1nPdMO9RVqppXueVMjQAL5snQ4T/bEX2jwBufdiFO\n",
       "6aALdPvPbNPe8zIVpcADI3upPH38Y3vYkSDaesUjozEVX8vTKLwPhrlAtuIYBapNAdOabqSXcAGR\n",
       "X+aaBse3tQgmg57CfoJMJgQgiuuxAExU1sIDX8RJ/DH8IzdE1tAJVEkd30v0wWQF3ZRXJS+Y4EvG\n",
       "klmjx9w9OkxBHwIy2iCV2mzdZENE3pRni25JQvmngiLg5WxxGoE1MVeloao4Y6kiI4wkt0nrLuhm\n",
       "tACJMOq2U5FudafPVnMGiidcKN/gZRHksxfxE9awukpP3VN4eS6lyue58Li7ccLRD/0AAACIAZ7D\n",
       "akX/ASWuBrBg9lCuxzspQx9dz8wwxIcK9ZWbZMgXwCXAfm6iwWtT0sASPJNOdvjlNCDbNCu7NNQo\n",
       "2srACdf3iucvf3BN7tfqk6/YfxFe5dbQ89chmv9SUakFdKT9oLY+nXkeHQBSU9lYpEDKmH0tCJ2V\n",
       "PTRSlrIk0/cvjHvbcn5sgm2cSAAAAZdBmsZJ4Q8mUwU8J//98QAa6WNABwbWjZ3CT3tYuH5/Tken\n",
       "AbYubrNDzfsAIBcOhMeHW8rXP4elMGId1qwRUYWQdXqLRAyEv87rczWsiBHigEC+ovF9e3vXfGEb\n",
       "ioVIo58ua8NwgdkDGSQ3NrB7kub1ZJQdNOEsFEhuH8MP8zZY4gbgOZ+mnXyw3F3e/ZPvpSjQ6Cu+\n",
       "dRUAUPlLFPLeMMjHcyR6dWWNlSEMs1AT8w947b1Yb0Evql586Rky/xzndog+M2mBHqEL25OO6LlA\n",
       "mV/vI0LSU4hK6BvfT8ag2+u+tl8vhejFDkHvlYia9jiCidSoWJOYjhSyfDpaun9wiRAfEL9cgEzo\n",
       "esRhdcj3wzlgu2tUj03roSEi5MrrYz6LwCkIfW3jL8fYBrdCUpQgXmy23fzhrNxcOyuH8Zt/y2OC\n",
       "mGFpXHIHcWz7w+QCdFxKbP7Nr0DCipxhFoCBD35rFtNMUTMDQIuMFGTjKevLYtv5CQ7nwXLNP884\n",
       "H+dhY/Fcj55LZFtJ54FmdYlOiAYLx5hA3PPim9Vl+QAAAIkBnuVqRf8BJTIsJNgYAKWK+jzJquX3\n",
       "vzxsN7HVarlJQLecb/KgbJ0e+YQ55h0mEfXzuvLCJgvWMZgBCf7zinY0MUJp1CUTkHww1UnTuthu\n",
       "JCPHn9wZfRe4IMOsUcaJn92b+8c2miX6gfLYvuGKj91zCK8bxZahSJJGB+Y+ws7pCGrCBMTAKBGT\n",
       "gQAAAaRBmupJ4Q8mUwIT//3xABrnjLPMwdZZCpQSG9D44fV0rUL4EnRjQevLGFuznw/kJR+TJgPk\n",
       "O8ZXGwox41OEmAMp9tcBYeR08gbh2P89rHjAveRtbI3pDzwBGr0V2R7WuNKEYxBYnwvMF7fHYElk\n",
       "lz8cMSMy1N9kcJgZimK5f+F5s3gW9aMgl9agrmmwaQul7a7XtPu3Trd87feVRkt22pChOJ/ecTEx\n",
       "+NCO4wRtUoSy3VTI6MH1KiWkNT+LvQ6UIbPj0FXgi6AhSZum4g721UYNVfEOuFXOB+rc1gt+vjnu\n",
       "kc+SCGyZTWo8bnwJzDR5IuW9KyzHS+GPf+ID2z1jxFIXjHlKTOUjB9lqWNnDQFOkm3l77oLewN1O\n",
       "/zUbAkTHNr8MmgZE+GNsCYiybnViVbstP69yQ14WNLvaYEEKPtRRkBIHJmuyDOL/RXglkofGhJZA\n",
       "GjwhnWkiznwOyLX/hifE8JjAtU1+VoLmBLFjcFi6HdsGNXU27DXLtPquIexrD42eSpSDO9ZabM30\n",
       "ALaoyaQvKC+YXyiw9D5MFR1j6NQUhLdge0AAAAC3QZ8IRRE8bwHOdu6fWArH1tJncX9hRZejlC1X\n",
       "U+Sboq8wACybyt3SoGSDdQD09AbxFQd521/QtIc5jy1uD+rll5DIz9RC/jgoq3siYhhNDi+EE1WZ\n",
       "RTP2YfaKXNV55hqPdl264YvfQAV0ZGefQNpih9L22sDuNRNJPT+tiy4mxUPQIT2vry8bwcgxfdA/\n",
       "vq7gBhdKrTQXe5SyI5pWaAn5w4DMGLQgy5frTnY7mWNHKzAa+Yr3cElBAAAAhQGfJ3RF/wEmXBWN\n",
       "Cr3U1I0IElF7VzSseZGe/Q6c2z7HowQDggRvjkR965dc6TbcyHR4J3uZgBCiB+Oov+SgchTFxQOC\n",
       "h5ur1EkEKJixyDk90/by0Mjj+FnQOnlQbC48z7zFoMiiyzJK6boc0ycVRwGm8qzutzSsWFyiATon\n",
       "QjeP2vK4Zg0AAAB/AZ8pakX/Akwstx4m75VXa9Piv6uM+Qo9saIsYgg0JU5fbHsDu1frJtGXU2kt\n",
       "l8PPkqsyjeg/vQANQtoYDr1GX+BeytW4pqnif4+G8Pu1W8x5jZMQs5ZJVXeoK12Y/lUeBROGH6zY\n",
       "Ed/b4sd3bQzozdHYR0LrJD24ysnLJSsEwQAAAVlBmy1JqEFomUwIT//98QAa6gnIdQA1r+Wm4yuz\n",
       "0QiAHm7NIuz741wkdeydSDlzjrMUXtiDZk+lI4Bn61p1km/3hGhJB93S2yffliirPSeYPf5rvNLC\n",
       "leZ42tEGd7WX6iyo1TdQp5c8WC8W0fWv1oFOI2lh3lgNxnGKnD1z2o19WsmiorfQu5I18wNdmglQ\n",
       "WzsIdMXlG4vUdeBUUDgXUz74ogX4CTBmRLPbW6UVISckRM6LTnWmjLww+ek2KpAjwdclMOU3h+2L\n",
       "9cFTuW/owwOAoTq2T87NjUBsgpB8CGkGuhWhfilmfzloRD9LxegSps14UI+bQmdOoQvZo59h1ADh\n",
       "Ce9AwSAZ7Nb+9SzWy7/a+Mh/Al4uR/O8SkC2TDlfVWLIycMuILTTD1v5Ql1B8MjL0zIWhdufclDE\n",
       "D6b1MCsq5y4Gw//CowiItvcDloW7zna/4i3BuhqN20EAAACZQZ9LRREsXwJLXATSzCKa75Q4QXVC\n",
       "xkV6MGcM4VqsHfgHaft5K07oSWHuqmQgOeOPX2CNpKxgBBTPOdxtWeNspdAXXjPFB6f29yV033Yd\n",
       "FkjnvB3ZugmoFis1ZQFBtSu4Ib7yAsjBYIm0Lo9BLXi5MML7QxSClaAJDJYnBwJpZyDYkJ1gSY6z\n",
       "nxtoCeulyjdhDUBITm7G8iN7AAAAcgGfbGpF/wJLYytUy+aywTzwvaF98pyHdBTy4aeaytwnBFrq\n",
       "bPrjASACOawkVa/6I9Pu4uZLlelMw+GQqnWBkxoPZxZlHO1OFhv0edq6KtgSTSe4h70WiXt46hrK\n",
       "wnjnh1rF623fQdYjGviAnhR4nKbmXQAAAWxBm3BJqEFsmUwIR//94QAq9m68NQgDRJF47TdY4Smt\n",
       "97o2D6FyWtLsTHBc1IgEsLyPC28bEQlzvETDFLhcb2yremiImAoYyq/at0kM+ivyxbcpKdp13ohd\n",
       "uACfcSuu20cuFjkPE3rvnP7OJXDc24koFHR14R3PCJCof5xlAxkNY4Z7d8kEHjUG0xBuvt/c+epQ\n",
       "cPQdjmHP828y2m4clEU+nOawpdR5DSrtnhl4JhRuieGfQ0qsIZQZeYAPKkGcYq2JlGnYI9Nb0akQ\n",
       "5Wne3MPOS1QJuUxCME0eLKzJ9Q4VZIHNZGlPXu38NePGnE4yzeNzGcLV3CYGFiyyuNO07t1DrL7M\n",
       "03sgP4x5PNHYNc/X8AZNkw8pKJUG9Z5C6vyvfFzM0ZWeaSPvtw+gClK+sQn0DvTmjwVg3x93EIbU\n",
       "bpSnq2pF0kyZDHvs7+hs5DaD+uyVNqDXtW0eodw3wX9faYvtKt8I1NipVEkBYVfAAAAAc0GfjkUV\n",
       "LF8CS1wNYL/u1q4NbZt9JccsUwwxSgvPOwNXWTfmzvFWvhcXpyj25m2TYgMGupTaONfQkboYurX/\n",
       "8UeIRFDEWVBkuEeoHtK38TY7bxtjJr8BcSIEEAAwed/VU6cPHVamK+rvDZFtHyElpuMYUkAAAAB/\n",
       "AZ+vakX/AktjK1TL6HuzLDFlWFOdtYyLR1e4zI/KOd1efq8HPN6162/+SpUzSPYZK1VOXnADgpvo\n",
       "fLvmzVTDnZq7Spd1CIawvrffxIWLvfY3/AN5xv5G7DlLnJpBn1rqboWyP6DeYAQ2OqGh+b8s2VAn\n",
       "uGucAZEm1W6lhkrCQQAAAR9Bm7FJqEFsmUwIT//98QAa3J3kI/IbOL5AbX81SJNT+1P+6QBvhtbe\n",
       "2XodS69enRCFTsRejfFlkuu5AgYi6+/2QA50o3KsLaFW40NXUp2p8+BpYNN0KVbhTC883oN4pGUq\n",
       "pD/dm3vANDXd36Mx5W5H6JbU+m0RmdCv2guhx5jCSROF7MzJwfOTWvvMkK2uXEgDLwgd6P5gxK3c\n",
       "b0XLjy+bXSJ3eIRQcQIWJYbTyR/+uEmnGmOXO9/CAChbDJ9iPpewDCsT3xgSbx7V1qFxHU80Tamm\n",
       "YacUOKvtnZBrOct4fm2EmCyx4UGKoG5q94Q8s4afmv+DrAiqFXSOAJX+u8GFvF/Lo8vEr5r0hjgH\n",
       "2hn4teoFzWt0Gs/LBWdDaRDaSAAAAXtBm9VJ4QpSZTAhP/3xABrjOBh7+9JhRQYj100AVp9/Z5lb\n",
       "vYbtH40X5Jra44oOcuRNVd04K0pwDex6DY1UH0ewsG/fuKtUstG93cCBSlqzHp7ORziW9spR7Vej\n",
       "fSH3XCerikjzau4goDs3xtUZfO6D3cJ6tk8jV01u2J91o1VZ5luBsHdB/8thloM9plzEv8VLtc77\n",
       "MwrnroIhtF7qfGyMtEAdJKc6FYPY7d6rQhP9wsrLGuZWuxinaTMBjBtz9Zudh3ounn+dAunzgHzG\n",
       "Tc76gqiM1otxZdEKas7zWFrPYN2brEzcgtZcX/4yabj9azvDxvhL2Cnlw5tGlzEeUhzQHsCqvdDq\n",
       "KF1apjDpb1/E2iowfYuBt26vEUvss1yYhZ0nuIwE4wAk6VKCMhmGP/llxBE9CbgopC0MdWjO/4al\n",
       "N/I9ydGw5rCl1wVNKO0fMvqo+JTJQ/YhgVJyYmfNmxsEkNHCC64gqcjumPFedpwTwAnc69XS0hhL\n",
       "AikgAAAAnEGf80U0TG8Bzqh1eHnfl3RWqL8QAlJ1P9UTvfz7hTwwPMMp5qbIC941aBW5gki2SITx\n",
       "KWOqbHVthrdJ0Hq+h8/mpw65J+oSo8pNDafzuusjQMmCwo8aLb/zPalX5Dk79RxjlhXr5j+HQFQC\n",
       "po/ucxNMrSk3M047rf61Y1xn09yrgkbaLcfFubcHXDSB/X8f1fyuiKqtRmQ7fhml5QAAAHcBnhJ0\n",
       "Rf8CSkIENaTdASszhsnLiUUC2CFdAJFyjSHK8zld5yTmiwfmCKO2sUgX5fBEfgAEE7Qwnq/tan5J\n",
       "+Xe2fn1skelTj3rKHw+fuSQCuebteFcuGYiDTi6pLp2EsNCRKOkCX0UL2MER5uGZA4oKEwLz2Tpd\n",
       "gQAAAG0BnhRqRf8CSq92+M2hun9HiyGH7DdxR9kKJ6LwsjUC72fO4xH0OIT6xzgQW8opBnBF6b/N\n",
       "xkLJXdtkzazPGo5M0KxwvfCrtGWjVDqaipgapbtXi//bnjcL8C5wxMRA7oOR2Ov7OMFrY8iRG0FB\n",
       "AAABPEGaGUmoQWiZTAhP//3xADXcDiEV+uSDBgOPP2UIYrGxfC+tZBsq+OayRdn+a6g53zUdTzgl\n",
       "QjzXznmFQ83q480kuC9vNghAH7fzYilicK/E1ITKvXaQ+yEQPSWaqxmd3DJ3QiXhVgVZWe+3BZDt\n",
       "dGkjKNOJqVo01Gkbrv7HEx6tzfnUfLMCA03TagJwjRVFHuneG2ycpy+CaIcTlcH6Q+ZIukMTeOEi\n",
       "+xngKwEpOGU5sJJnHRwDzb6IMUl+NkXTkKxeJg1NyC5LgRt5MR8ZQk8SxlB96v6SYBQFU0OVDarO\n",
       "PvmMCSi/RKnBNwupqpaH3SrciiryXhtv9HcT2y5FtG94lDA5MMEofRamrWxoMW53e2Z+BfZdK739\n",
       "IIxhwZagwF5Gm5MrrJv4++yoFesLyE4jZQCbGvGxFwapPXQAAACTQZ43RREsbwcfmeUSEYVrj31I\n",
       "nk+WGccYvSTaPF9PauErtOYyRbr1lDAv/HjIrK41rk9mGS83SIZ/gKhNVCcs1RptW3/yAVVMIlLd\n",
       "9pVsfL5XiQPSjpMPtk3+pkeIAWUKgXvHdmY1pzddkFTdx+GcwBbq+1Rph0jB0/pIcjDVk/BzVcEZ\n",
       "HV4MS7yihVD/Gm6sRt74AAAAcwGeVnRF/wJL/FgvQ18E/rsopfnRgz9ULSYZ2NkutX0fsYfWGFk0\n",
       "N2aW0F2mdd5UkdtNnUDWfy0KQIm2oKXKWRUQ+wqsNHSk/rwDR3T5+YaqSgigz+NudtxQq21h+PTQ\n",
       "vua8hlf05VtBCqweOQA3S9PoE3EAAABvAZ5YakX/BHfSoFg+cmSRecUtWnW/aUZAz0jJckuPe5mE\n",
       "7J6+LxpFHlKMSS3QAgn8un38w5gOb6t+s4FGekdMhsuI1pOhqXEezsTlEnEkT5xoiFMrLEdtZhwb\n",
       "lV2XuNJlolhCabyZgMepQgGcpH3IAAABrkGaXUmoQWyZTAhP//3xADd8DiEV+uSDBgOI1c5KeF0x\n",
       "UZZlaO0fj+ALlzqeIjHekUKb6HKRxyQfXVS0K8dMIxR+vVoRJq67sbv/x3mt/BOe67oliJHX65L0\n",
       "z4Ewr0u/RtSjiWSog3RKNNbWQ4xx7+vZ+aERlxWW5MspzWzmD67n2p0q+DzqpIUZpmsF9MKR+nLy\n",
       "uTEZuH0S6Y0H6wMeWRKtO5Wp9JRQBp0mLz9A1MhZyi3o3xmpJ1RtrP3BjMVYB3cGdjP3kfiQAXHw\n",
       "DRm270Zh0uZzo6nMJh9ivw9lJgueb6YAbTmwPDwK9hJpDl4kG3DFCKgFpVjVXjnUoiBKLHBoX81g\n",
       "jNryQaqCqaRcwjNkXnTGGXsBSdpzDRo6hkCh2s8w4m2WTyM6X+LFzfi0hgtc5Bu0cVBBXBFa/OhX\n",
       "CqabIg38xk9ADNSVie9Gd+kqyRL/C7KWcFqEWitOMU3TuMhsDloGXrC/MZs0JGUyg5T6qzdulDg/\n",
       "KgugvvK6wC2ytIrswQZX5JJOJpFi/3pCQ/0M85lsnqVfQQ5s1Ii+X+uH7hGwm8BBtcySiM4Y2YAA\n",
       "AACjQZ57RRUsbwdbmeHnjD0sIA6vxCm307rswkOyuQsIJqTE7mo6EKtHTu8Qm1Q4zFu/oNhpj3HA\n",
       "OYtPPmUNwaWLWkQzfbIE76/r3QQAIgDHd/Uh/DT/OSvsKKHCdxhDgDwvZdq542NfftbAF1eF/937\n",
       "3R3hZO+Yk3dnYUc5UcmWRafcqzIg5QidhCbq7kGyWORPjWYjjBBiiovgIkEIjsWNITxzFQAAAHMB\n",
       "npp0Rf8EdJSbTZjs98tFG4Gr+g3NEu43+nW1/XOvBG0Xb+ACrbX6V/nZsQ7t2jFXgewzba3Qk668\n",
       "Rhs8r3jPt81b9f9dNwRBabxm4FC/ABydNcs7WgexXilU5ncVhn1x4/w5Zwe2mNXO+BxkotSY7E7d\n",
       "AAAAgAGenGpF/wSXynbbP0L7uTM26cIki7jU19hFRUkgmjdRu/piC7lh1gBEMe0D0XU/09EPYMGQ\n",
       "VATdSH4lz1GSr+x+q9BlGQ1bBKr6L8dABB7CoRbpffwBpiXhF2sJP3wCqnVZYO23Lmz4uINZzwZ5\n",
       "8C+jAykLOIijKf52qQA09W2BAAABQ0GagUmoQWyZTAhH//3hAFd9vHIDJVDCVT1tUhPwLURIOhc4\n",
       "OCqNccvAUWIEvDxM94PmmdGfqGvRfTgmPFJ23lkR38Tf3muAaLAsoRddyPvZpr/7Bk6kmi8TdlM/\n",
       "Yh3W78Cy9BKsVVR3+Wg9QcbgCNHegHPClxwNPlB8dKmz16kXA2i/e9o5ZhT6MFLt6KK7litbZqHq\n",
       "SmLQAMJy8r7HqoJePjtMR4yeSDA9wbeKPBeMzREtP8bJUA/TOoIGR5zV049viy6M7JOexHUM7BRi\n",
       "5RLnyFyDdSmbMdROw44JmEJ42OV7ZczxXh0QBOcrbGqu36qGizuyf725HRWlzvQaK95WKLp/udqw\n",
       "B275xNdsfdzN7mRU2V+28teemx+M/v9hnIeg3WnvtU7pouImPULZNpebmdrN3in5RYlD4rY2JZ40\n",
       "BBNRAAAAtkGev0UVLG8G6ZATCtBL2TcIBkX2jzayTX3Bcrz2emy1diKRffC/Yj5zbIvSXC4Vm/0S\n",
       "R0bItieQe/roGSBJBI1PuovJSxAiCu+RBRM94InBjvCMOcYEd4dZngnYnrdH803xA8SsLdTICxjL\n",
       "Ap7cZh0VXy7b9dNqPM5AqmvrzEBJX2zyjDx44v9YZS6hMWU2p45YHE/0UlW/Y5FMi7kSttuGbl7l\n",
       "veATbLKBIEJIpRy7jd0wZJMeAAAAdQGe3nRF/wSWll2LFqRZNf0LtbGeVeL74ed+NwHzLtNNqiCY\n",
       "P1vU/albBxNWOS26OauwYYbQb4dGNOAnbUJex3PMHjMSNBsb0KRN0EDsOHC5snkfa18BCpWTsXlV\n",
       "muk8h2tHOs/Wyfz4ohXthWq3It8pPdVGgQAAAHUBnsBqRf8Ed8p6Gdox4iEyKh4dlUslVq7aOLbk\n",
       "bT2JxKog/sVP+9WZb3ezBsUuxQw04IeVhdl6IDc8vwjK5c1d8ChpnznELms1tU6LckQ7OOTPF0lX\n",
       "DuNZrE4PZ3rxu/b7KWJ/FSSvJM4S2BFyYce6MrQkTIAAAAFCQZrDSahBbJlMFEwn//3xADWBVAOI\n",
       "JwuR061F7sVpj7oYLys17EsVemDj6vEDac2/kjW2vWlZR1VFFIl6/b8j652OIcbby8LpAFMTnXKe\n",
       "hRSRG+llMmIa+CbOnieyJKFl87pc//FHdn3NS7exf7C6WWgorZnEEdY3YIv9YLjDINSd3R+leiI4\n",
       "1gt56EPgs4hoJSuiuMoaxQa7Gc7WTvyHxEzi2NuIWIRExE3bzRoK6OIQWKptoUZ3Sm8sA95cCTFI\n",
       "XXhf6oMFT9WkWOzfb/JWsj40+MEMS8/6TTKs70wrBMR7rMrX3x/TKfApXLrOkDCruFWglaoI1eeI\n",
       "vE0wgov7joD1j/8rc+1cF38m4vJ+4Maqe20lOLJY5qqy4/qfRcmm5gd4OtESf6mVgPiSyZ4dvX1T\n",
       "fOfvt0nnI7mBJQoTW50nRwAAAHUBnuJqRf8EdV8M2bD1680O8Td7eBFqcCLHo+5git3aRnT6qLAw\n",
       "fxIyMf3H9VqpKTZS1zoOWgoXmE2YuYvgMYTJJidCHCJJrp+rNndE1qLACXYaomdmCIYM1wQkKiiM\n",
       "K2piLE995x1k9fFFLToeMQeMKNj1a70AAAESQZrlSeEKUmUwUsJ//fEAGkLFEYcj1PLTgRaCMWvt\n",
       "S33UOro7OOGnCQGGWvgSTxHoHLD1xlrfomWwIwZWfgOeiKhfdi/OaK75Tsc//iF+GK4d1IpibGQX\n",
       "p753wWXHYhU//qhzGGpw9mwAUOcrSSbEGIwAGL9frtVcwwNAUXFAFzi8PNNEMP5eNO3tggdxgDB4\n",
       "cUhoc8EPuNYlYlQhUyO/xxJ86MWmrk0V85IdQNskG6EiZejXUGc+oyQQu0fTfJ8hVPj68m/hbvJ8\n",
       "z6v6RAgxiILXwqtwZ2KvKnL5NWTcXLQiYIWBvGTg+D79H9PFcwuc4fS7ZlwZlDt4QiSW3pC4jziG\n",
       "FGqUBbZL7IeCQucc4/zAgAAAAGsBnwRqRf8COmCQY11mKFcue5Tj0oS0KWE1NkUCWqmKsSZfPGaQ\n",
       "gEo8ZV+ganevpOEPx/lBLPzLbQFEyqSlyJXiX+lFQi3cEqsepH23nYtgbUdVK8EFZeK0Uy7CxEob\n",
       "Kj3T9EaljPbQkR7vbQAAAa1BmwlJ4Q6JlMCE//3xABpCghx7Uj45Ynx4wH+6QDVDa22iegTbHFTi\n",
       "aKA3xTy2Qco1ocGLsJXk5oYtYDhJSMvqFENhW0aFDLz+hClrRZhPTmZRIRhMAb0SeJeZZBNBk7+s\n",
       "P3K2hgm3FUMTpCHMzXlsSt+7Ivt0jlsQQ31XpgbCic9H2auSD9XUH/7BNrt2FbVm0cDL82BZlbDc\n",
       "WFwqbWavhGuqjV9FXS+Nq8ciGbssWoWyl4G39Qc/PIxJCReyz/+L/os3kvJoWuv1rIV01wR+FEla\n",
       "83zHH09ysQn2LI5l9JjdcX0OTccs3JVOqg5HwHSSOb1t3hpknt1T2jxsTWYTe7ZkC1vszAX1V0MM\n",
       "sJjJqWMVFxGiBUz5xHSuf46df2JuilKW1y656o6CDx+7ZkybCqf7Y1OeOo1AhbblS7eUi6kdlGwZ\n",
       "UHInqAqxKKQNBgYAyn8+3jeLS1sBtnNYPMYzIx+j3CYDR874XoyMlW8m6aaVj8jlSAms1fsWuEJ/\n",
       "uIwO0bdxhO6cHMz30rWemxCjzUQlM7VdWku42HBLgNK1fjxdz/csx1lH6AmXyEkAAACSQZ8nRRU8\n",
       "bwHCRMstXxkbNO7ItWK+kqhsTfiuEHaJV3ZkpxYmmHsUNnsjG2vq07vOTrUzXKhUPJfOgMvOvYAw\n",
       "Wz3iXxV0LxAALDpbJfkPuCPBxm+5F1DzCac8ijFCzDP7yged/0r0tL8n3reqppL/fPdsaoiAxQ0p\n",
       "Cy4Kylm4whOa7tosSVjYqiEka+kMywIyIUAAAABtAZ9GdEX/AjvtMlFph0Jc3ghMRbS8OyDnRH85\n",
       "GA7Ca20a41IdalPpAMo3H5MwY3LQ+HS/WBdky2+wAbKlt96zoOhpqbqMbOliJbN25T/Qw5HjICCO\n",
       "HP3gZaohSjRmIivD6x0XnQXwXlMvkJPP+QAAAG0Bn0hqRf8COkqYMPWq/G2+ADQD7OiSng7Q1ivf\n",
       "qMUSRGWLxgh7hRHNOJvd1PWkTbnnGnFxlFK3oTY+UFDllGXdwIDl9W50VuyehgMDzPgvzIVW+IEw\n",
       "2FsGRR0v5kAEJ/uwlF5SmGYchadIiRaAAAABYkGbS0moQWiZTBTwn/3xABpt/2sxL4oZOdMsC/gZ\n",
       "RhJy36vthmVneSz9Y6FQwODLsCiY1ss6I2jcIKtzueM6I6IGJglWYRYeonwL7ahY3UQot6LRisO+\n",
       "eytjIAgbxf6/8WQt28T49+vFYPHeqKU6m7C/EqaHhMV/qkF3xH24x/P+T/2akW6TIXj5vP5QBDH3\n",
       "DhnlhGGVajicPcmMGJZATRI/43prO6at8/XgGdytph0YLr8UaBE8tbwo8U3fJLX3lfKB6xQo9xNq\n",
       "72k/NhF1dPeGXCNT6keUiv0G/9CGMLZgSzuVTqWtDB2etx4otASdCRPcgL3jTC3zasjTG8/R3Qip\n",
       "1pAqJPUYjDlx/RM6Balxoyw2gHiBMtkcNXF6tmLC90yMY6elxm/wW8RWSUvWysKG4pf+pFis33k8\n",
       "UQ/zopwBzKpUAGIJeKRiLzrCWZOEzQFLIPlewvyD13IufcB1/cqQgQAAAGgBn2pqRf8COq9H+FXU\n",
       "Z3ApZvrdlTs0OLHbflrTupjb/eEbto9KubHjfBtd7KkYv8LEPzEkwe9PcTiMRk8m5xsudJFWf4RC\n",
       "Mq1vGOnW7puGyCGIOBP4ea3cNHt7/vRMwXW2SmeHYsSm6QAAAT5Bm29J4QpSZTAhH/3hACfdE1M0\n",
       "OJGAAQzINCSGF0jWXbxhjYd+xl8YkLbvA5PmAVpwc0cGl/UMFuLyShuPyeej8Hk3r7vTt5KihTYX\n",
       "ORWTm0LkmOK7YaW0HsnLRNoAyARMsRDYTxMVwUqPohzoZ5OXPVD/DfyKLzzOTuqiL9Q5ytAVR6DN\n",
       "9YI8Lx5RfDsJyBBm7P1KEdzBWnjhskTYnVcQ0j48o/i9uFNqHNCctmhqEOxd3Gkdxbzy/1DA+rqe\n",
       "BsaKzatv8Fvg6awQUonxjOOUi94OzY0FVMBziovLCB00UEptVcqZwBAlU3LiJy6W57bHJ/TkLK/Y\n",
       "y5aUk2kWKuxF1SLyPV/E1KdazN8a3uNjkB70AjXE4mH6TTSKyi4lMqEdh5cfCs9qPy9lThkomMg1\n",
       "dwntVWvWxDj8l5ybRncAAACbQZ+NRTRMbwGt22UM9HOViC0oeKhPPEk8SqKa5byW7w5Almb0IlNH\n",
       "K74U3bjYlZcmy0LlGeEeaAun3EOaZBiwCf/DI5XgwACYPKkBiTeG3wFG/d5tAXkbUd4E9eq/7oT/\n",
       "h7pq+nQmflqcMkGpKhl4eFVNIBWJBwWGsFbhJ6tFqAVCWpHyjNNOgsBh98qv3Yus1t/sSGe04afO\n",
       "Bf0AAABoAZ+sdEX/Ahv+gGduWLeCsaSEiAT5INxFwReD62LEWXb2/nOc9L8lEo1bYHGfDg/A+1BW\n",
       "K79hoNJBvM8n38/ZvCfBRYX22eVCox3c+EshSDeDxR/U62r+ZttZJwVlAB8ETbV6V8sug+YAAABk\n",
       "AZ+uakX/AgpglGcBxMI7MriklqLzeOg2K8L+/Yki1H2RaHi6Iq7b4tWYHKDAAIJVSYGiH4Xj/5Gh\n",
       "/caBTANwtHy927IRsiERJE0JDfZPWy1meAQstfI8O/ZBbUrIt/yLUUCkSQAAAPpBm7JJqEFomUwI\n",
       "R//94QAmmgwMTiMYofs0rAj5omnYaTaDw+CARGlaQFqajv8MHgGeFCJ2dSeWb8G/VT33JstKAmYZ\n",
       "rW/RBOQc2K++KFmC3STkDha8yFeYjC26CO0U2W86d2MqJSJaAJEtqm/H68KWEGFZzOnJnKdgi6dZ\n",
       "QegqjmZ1qgmMKvw/q86km3PKFPpTQXE5oa2LJMVnPUb9Hz5vjlPFUBD55oWe7/ArBvt+e9qUSsKr\n",
       "Km6rCkh/JWbvn1xpj0QEEjk5KQ0zUYXf5XYktO4fB6bhkreU7gIc+7i1z2UhQ+63GBT5kqiPITcA\n",
       "I8V5j4A3wwe0D3JRAAAAeEGf0EURLF8CC8FPX1hGNuVUAyZ6o5tOjqQPEmmyU42CC+EGJnbIAN6L\n",
       "w4HmmIFUhPB8JjrQo5ulLSPiGgZnfx+m8sS/m5qxuwoW7BJr0vaBARvcA+3S82JAvaccldssgKFi\n",
       "YmzaUs/fNZR5boKcbwu+tJspFZNUwAAAAGUBn/FqRf8CCmCUZwG6yqZfB+7ruKHUn3cB1rKysJ23\n",
       "eYjjqGsuZjE12a1OLnnqPscRWFDt2wK6PBdQUkLK/4Ep8jcaRSDMFh6IaV0XpbIUO46gxolJ+OCH\n",
       "W+KgenTUh7LydvR9MAAAAOhBm/NJqEFsmUwIT//98QAYYyvMgBrXgDn4BCgvIf8LhTip515BWPcr\n",
       "9HX1k2lMmm9bEnRPVmr4j6jtSH8PlnCnCl3jS5JTrQgIpVcFmpAXJ+0/7l5yAfrU5T2PoXBT/+CZ\n",
       "xrkMaAZt+e4kWS5lYprtLF4DSjwqEWq6O8h6eQrqM97N5rSr7ke74lnOVAuuXmKRZYBYhlUwXrxr\n",
       "LvJ08v4Wk8sagFk+k0DjmN0pKJWn8y6NIHwDl3JXBchEVx23m6EowxlDBvpD+TRidHiSXHVxOGzH\n",
       "15/WG0cQOO5Y4QBAdUn4Dff6tI+BAAABI0GaFknhClJlMCEf/eEAJ90TVnu5LC8N/2pXHXNnUpkA\n",
       "Uxa05NYnFR8gPsdAowa4JUANXRQ3LXiT3qmMr4q2+CLpNkKFZL9x74iz9Woosq1XULzRun+RxBZ6\n",
       "5BI270LVFIBGHxeZol3zgaStWOPVzLtAA04m9g1JPnMzqUeFgggPg3AAMnoVflLG/I5lLtMZt5Ct\n",
       "jJv4n+fG6gfxK52JziTBnKq7sSFdM9/1N9QnAKrhP2zZRsebCxPSK7tM5O0JRi5Z5gPZQsdj/bLH\n",
       "4no34ZSJZH2DgK6gvrxYUqIGOOygwVtWjXhIjsHIN8OyPSjRv3KZuXj22k1hO+v3SxQMBlMBaPaj\n",
       "C+Tv+vvhCmr6eFXqAnSPtQmEOMje3yeWUoVS3AIiwQAAAHNBnjRFNExfAgvBT19Y/LviMneieVIA\n",
       "HPqKAZX3Vf+1KuN8oJ9ganBJ/hPHWnrVJi9fgMPdIuOd23SMKq19Uz9eGw7IU4GrMBbwuuB/hTfV\n",
       "jJh7RjSakEYLosX1ZM93O6DWOzLl8DywwfiL0KA1M1GiwJM/AAAAfQGeVWpF/wIKXYDtYYBWujZZ\n",
       "4vIzCKlQEk1PS1Tzaqnu8aoMd1O6aKbhXLY7vACElLn1KmmKUCsBurUNhCAsft0DAO1RVM3IZU2/\n",
       "znwRdOHOmjbTWLW3/fxSsDJmj+k4ZXwYIcDKBP/mQWxTp7SpNQ8El0lAWqHDnC9/BQiIAAABJEGa\n",
       "WEmoQWiZTBTwn/3xADAYLfgfLmCBbGWycOikFn7Zm72Xwkz8WKhlZNQdvpc4PFqf5ZvvKhVZNVsu\n",
       "etkIMy/79//5nDlD9PzN6t6PkQG9L3z32bkWwiu5+8GtvbJhROc6kRgkoGB/9AargweD7sVaSyX/\n",
       "M+4z0oludRO87To4V8gcV74DbFxN01/R9n1dv6hJgCg3NDEA2d4L/WOfIsh/RkDAtZirMrEuTzx4\n",
       "pOSFkQE93HpAEKN3NIQFAwlY5mjYkoqcRQBB3jiWwPzUnvmZP/unzBHI2sokOJnmKAJgt4fk58Fh\n",
       "+adV3tKTmk6oWGPyxK10ueQtc5HROrSmiZSslIM+d74tqImhwXvvzbkjDtqA1BOk6OwtV62bU4H0\n",
       "/Cc+h6QAAAB4AZ53akX/A/jfxrFUniiN7a8m2NtOxF99eInrsUUnm6b6dy+JzWucxBnTdrIKCtlO\n",
       "gWu3hXJmsXxqU2/ikpwACCYwdObn8lhg37PbXm/d8t1e5R2nk58R8H1v4JcdvCS9Rk6zAZxeT2dJ\n",
       "R2al3Yq4cfBEmYsdQ5dRAAABhEGafEnhClJlMCEf/eEAS3V38D5WasfSPTN8YonbLM4GlwB4Bkpy\n",
       "CjlLVaoIUZ7GCwfbsDod915gKkmSLEr/+cNLRwF7onMplwYuThzfsd7XqxB6Q8GEQgJDUcC7Vso4\n",
       "4Bjv250f2U1nhsIAMVUsoRTv7ushX2Kvhc7t+CVNGksqPbJMGkIkTnfS+85zXCAvfoc6plqEw7kR\n",
       "Mq30RGFqfsMxXIKscBY0CDDaFWPvMoWEzlXTRq6RyDS4jt+25uwcDSLEtsJ0NRNyNh1jTc8ZCO1F\n",
       "OQGvhySod1ZM3pXexFoScXyYkuGqNbqK84AJbFsSMqEP1GX2IVNxQcQ6LA3+tPgnYsI50WQJHhQu\n",
       "qYegxb0pf0ULXninzY1OCD6rkX/3tiUQ7rdfUvnU8w61yf6Ap5RbMXaIi7JP19QpwEC0e3j72rge\n",
       "MEQCOsDsAgFM23tmW3B8FJ9kiqvUte9NTcrT2AZzNWx+NKbNSlmctqPKO7GiUdrc/yGrWGy7hY4l\n",
       "pjO7H6efNoAAAAClQZ6aRTRMbwMvxUt/bVQC+z/z2mkXEK3GW61SONdtHwACXtCHXToePFrr4sBR\n",
       "yIxmkmOgWW8yAJ+3Uowbz5d15XC1fbGJVBUGMx5AMFtRN8lQSd9kMsJiljl10/T0vq2UeAZzs8vy\n",
       "Glotw3WTcw/4nAojvJ1znNmp/DM5bQbBnrZC3OPWWm4hYivkURENws5Vg/N+7agCk39UZ6e3o9Sd\n",
       "DBz1u2zgAAAAhQGeuXRF/wP346cCo3LrSkGXRaENw/wWr4MXIqlOnzu5rBvWFYBYYbH5Z1IUKHBm\n",
       "nQZFpSwAhQH3GevJwSHhI8bkk00NKxIYme+uVd52QOtMLdV7Ak87eGEDrU520cLKw6hW4qt7LLr1\n",
       "xvmceTFCxsihYATmAcKQn7qxtetnRO4zIo+QNmEAAAB3AZ67akX/AgvBT19Sw4wC3VOx+JdIcuaZ\n",
       "9UylkW1R3rkFKCUZuPj2FOGfYutd/BIWEo84MbjezXuHaHL/AAJeI6qfXr0JXmGCrc4IqxwpU1C5\n",
       "/AUmHohpwQsb3CbAolxZhFhTBVikbuZVhwy/Xsg8E8dk4W35DdgAAAEUQZq9SahBaJlMCE///fEA\n",
       "DY7/rMjcrhN512390UZZaOX5IGhO1aPeAHLqXKNUBV4KiCZ+npB8oUGMdWGi/a6IY6diA1GMDObg\n",
       "MvEZBZlFcCFpRMubrOzbJBwRskwBUeWAKmlZQL53SBKvm4j4LyRPm68cKSucRcZzHpXwtZLqCTcq\n",
       "oCCfs00fMxJBWJM2GNlZwVB1Rn2y4/dUnAQmHC3JmQ+k/bsJJPzZIplOhWIjbWLPJesTX7wMzzEL\n",
       "amp43D0OUmmS6WkLVWV9iF5vMTI0UYXvtuFSg6OxX1hvpj4hmisXePZB86/o+zy9mwpZROrQ6+jW\n",
       "y+qiDu5z6OQhvDnhgNdlC4JiuneS6lMxf9A1h5uJyIyBAAABWEGawUnhClJlMCE//fEAGI3+k2LA\n",
       "LGv0+NXuW/dTZN73pnRGoeRTsuELQRjWL0lDGMH5WCaAOcMDekgueoUQbNDPFJqUXV0sq3G1oDRK\n",
       "o0GN4vofT5SUyunG+9TEY2xysKqkyt9TVkxdlE+Z6egEufL24t1m5rOs8Zh6U3xSCMASUd7Lt3Z5\n",
       "9fyeMZY+R1BLIY6dZ4Zb1xU8MEgBy3tukWJfZzMIhbY6KUIuEuPHa3W4rNBvirZV6Get+LAVypcW\n",
       "397MUbsmzIY+wIRP6kRoZME/5A58XqPpeld9mYnAnfCj2fYT6fV5YpjPvZ89JwrPeqjd0ABnw3Bw\n",
       "7FwfSzmA+VWm3jNiZ0pDjMYFcGnasMHsCoublbiEqrrZg3p+1bsaxw0zm8cP3hThMjk5gV2//GxC\n",
       "tbs4MGK4VEyjGTEi7v0oTkyNOYPMUVJO6qHzL2OnYIKdTKbZOZkxAAAA4kGe/0U0TG8Bo93EMlFX\n",
       "HeHNcKvi+kvnEfCUGjzLkt2X4zP91dpME8jbQQ6kt6QY4BHFQ/lIM98G49eioAE4Dzt2YQj5ILPt\n",
       "WTA9iFjolFx4FQZXLy9FeLvAXbmJ7iZke2P1VgMCP4FTTtrFYZoApsh0eQ29kFj8pzrbdYX5Uo1s\n",
       "NqklyDqbJJxcv6iyK2W+/gp+8Tp+n5f5i5RAiLCFVdmTUqJDMPQMqmyLFfG5qLFUgmlxb8OQmmaO\n",
       "sKL5vJbkoauCkbxdmr2gg2uArVUe1uA/Md3ePaMy+w+a9JQB+d/PhoAAAACKAZ8edEX/AgoP5gSI\n",
       "iFqY08uMRQnqKgopLVQlbb22qUEimUX0+17OE6PFDQbVsACElLJzAmCX62SuikHmTUU6N8uMr/4w\n",
       "gTs2j0TIHHhezfq26wrm+QcXuLKHLYCQANDRgzqJfaeGeHB1A6cNLKWmaMf9XA4YoMAWVs3tKaU1\n",
       "JnE7UhRe7z2QPQNPAAAAiwGfAGpF/wIKsheZvD2b5IOetv9fzC9tiAocktolymYI+H5zotXqIdNZ\n",
       "NKSuwKjHb46AED5ximcUAaF2I7qKQdgPvSFnfbvMwlHF1b5R549xtXZVfGcttLfthy75YVJdQVa1\n",
       "6s3Gphd14FsVdX7ldJq99Rat2nAoAG3QsDV5evfREXXWE0qkZg0WIGAAAAGWQZsDSahBaJlMFPCf\n",
       "/fEALt8HERVZ1ak706b4L/zJt2CMP0mWUw/I0drpI1fkg0z7zZkKgDLfEtURvI4NI8pL0pLptD9z\n",
       "gC75fnoIkNcWYMgg4WP3Nn+qNBqDPiaQJ34SiEKvvgQGzPsOcW5Kq8oe7UF+wEj0TNt0F1HgjXwq\n",
       "BnT7w/ASNCQ+HPu7gS8P8y5BPvOYEA1Ck23SoIQGQ5Oz/BaSBkOb3vljbasgF5/xr6bJEAGwdwi5\n",
       "C/7r4hrGzQ+nYeRFKJ+EE6rH8HtOx81rYY1GBx/46FMo8PygJDoqb4f6LTskhUs1zgiS+9fM18Pm\n",
       "kVLGA78zC26KJtWhlBpcZdRgfEoHwldNwwtZKsGZ65DH0F6wnhSWSP9ZskX9eBG/n+QEEzqJgQPB\n",
       "JTAG+0ZBbj4arCldPPCVIy8+jcm9IFZtmaF/Pf8tzrzzMXJm0zv+hAY76hLUnH+2bRNWIP7iKAav\n",
       "HqB1Sht49vwIFx/sMkCqtKNMxx5E/pJJQRBaEMQoyW8Yi8tQrVNM/bO7iopcLRd2cBgkxwAAAJUB\n",
       "nyJqRf8B/E4noExzJryKNo2AHeimfdvGvyW13JQIzBfjorNsZbZv4siiMxuk0yhmpT1LgBKd+wds\n",
       "YfMehUWgvI4LgRtgrHfk1GMHeKupQjT54i1x1I58f0gcWYrrJrBc9DWTlnMunEiZf9QRiDCTCaCg\n",
       "Z4gGw5z88aG96wV/ETVzvMklBAcxGTULxoSqMTft82ZTlQAAAY5BmyZJ4QpSZTAhP/3xABfHxOPC\n",
       "QLqmFG92HZI/3X8KZcQQoJ6Un7GMJivvXeQo4DPBMLUANzTNQFX+aCkWKeQ0ITrPegH1NxHAerSZ\n",
       "0Rde4E2Q1IP56RXdIwzDmMt9Q8nY2dzHFUeoRpNQG2ZgS5YuTIjCJDYZQDiiRPpMbhoBL2zSMqew\n",
       "8Hv0Np+ODeBpzwMg5ZtRbNUk/3r6IWbIl5+URCj2cFYL2Lq/R1pWs4EZ0q+958CH2bVNoj7D//gm\n",
       "z9ct3+PWdF3RyMzeLnF1RJad8XXVVJZ3/kf+knmJe2oaa6UWZeupGrdq2PrZuY25te3259xeqtSW\n",
       "yE8L+gR5OBzMhz/ZZUDzMptvi2B6T5kdU2ohe8V71+ez1fK6C00k4GUWncHVb96zGQctdhyCiJh9\n",
       "2AA/v7eod7wW1cXuWjgc8WlP1f9xKD61NOa49JOD1QQWoPAnJ0S2HER2ve3tyFaGi4PTskVm01lJ\n",
       "qyBfY0b7t/b8T1/I+ijleUECbbe08QLCMIRo2ZLON9b3R5pjTAAAAKxBn0RFNExfAfxPQlI3r9dC\n",
       "FU+n4ijX41fE99JQK6+UQ6rtIIzDAABZE8URCXhAY1v339XSqXVvEzly87clvbwEzxgChdRz1Pxx\n",
       "Eml4CQMDaggj0+zvGJBWFamMxeemqwmV/l1MZVfHsY8GCqar/ycY75BTSbIxfrnX0AU9OdjqOyLr\n",
       "u2xJJsc6qEdxK9ierqxbgCMElbyBy0NZHDGk1CL1qcN4hsOVyFPbpPIKAAAAmQGfZWpF/wH79rQS\n",
       "zCK1Q1cHCTrhUnf/9SBKIp1n/pd5Alh+INrcmP/xA4zn5zORKgFwr+55NLvYO+q4ksZvxK79LLVE\n",
       "onimGPTmtPVGACICuAvSgkdHIYoLrLnJ2xV8pBCfzNbnQGgk85NZ3Dv1k/l/fQCeGNLkEyFBo1lB\n",
       "6ycLLIX0qQUnStiKSbrx342Jm+lUyEYyuFEj7QAAAY9Bm2pJqEFomUwIR//94QAlmvnUBAuOxIfp\n",
       "uviG1Fxjpb+fIY3MGiVOzGDhUjGJkAcw2MrAMGHm3xLfFsa/mjre72s78M3sr9yEm+CXmO1+T+21\n",
       "4JygZ/rJC/Wzhf3Pphmc3KqZeCZm2yot/mRUBIaMcsDxKJf/BOMRg1Etqh8ARbshVUPihVryb4Z2\n",
       "bkc0M9g/oaA0ASKyhs5FIpSrHsBzLFGDzf6aXhMj3GLIXl2X+tJpNLwxTqP/BlsTTeEiYSN/T7h/\n",
       "dMvLwaCI6eW+bNUKdeya3c8nTQY3jfVwwntYIqTu/sPPiduE4GV6faXS+YmHEfK2yLA+ifRGQ2yy\n",
       "hDbztjbTDboxrEDh6JpHlSmCoghjbDae3IieGF+InDFhWB8NNIuCCwnP0AS/R6d+w4HhM2D0SNTn\n",
       "vMR2wOBiwbY16O/cZYSiXE691mD3UQrpo8Mfw4BY1lHtvCVAyaQHnurjomDDZpkj1j/a5DpsXf2f\n",
       "Gd5hd+O91i3eG1HYbqlghBCIol/lqBYrlYRCnVdFA7wAAADpQZ+IRREsbwGafpYEohc9rT/gM3z2\n",
       "OKh4KsR/SyTvZ5sDxpxUABMgAdasQUgGkX5pwdgULwEI8vHgxQ8TfZPQ/hcwLR2RofJzsi6kR9kh\n",
       "KqgnRrL5DT5Kv+f+OgPR7rIWOp3cSdMJgi8V6GBVkO1ZIkSsPsDEuH4emMmUzT4m1+oyL6ap4YGO\n",
       "qzWR/1SkqGX//8Cg/OuPYcj7TPbiDCp7v/F/fwTdhhiGa4/SVq5yo2Ywh/+ggoIt+ZVwMqSONIi/\n",
       "2M11XHFsOGynNbIzXT8PGL2hqGy7fFA1E1P3A+VHyVg7ii2PkgN45GEAAACbAZ+ndEX/Af0cuwp5\n",
       "CLj8x3RKGX1C+zlzxvbdeEWPbBwAa3pTYi7O2QHIdCX80zEF7FSuebtGcptdB3Qp0tLeCMbKH3l3\n",
       "QVsUB9YoNPY1jLn4zgRAE7T3FACAMiZU2cxn4a2qGm/nQo0KzWhaZoElCcn/bjGyNPQ+xor8gRRG\n",
       "n5c8Cor4JSoyR4QVkzqeWGMW6JFmhqVka/WTXCsAAACZAZ+pakX/AfysnhbuLLFPRb4dj+xot6jf\n",
       "rXgW0owGWSMhmKdGIKpvAAIJzoLIJU3y2O1d72Y8teHEZ3a5LBpBF07QlHUOp4DZrA6MZ/cCkj7D\n",
       "hZfGNdn0tZKZZbjn3eQ+dyq01IVPnPuMkmPvtf05VcuHpWEYCwV8lF7ZkK/xyY/KnvYTBaOu8/6r\n",
       "MT7JebMaQhym8DrKR5rZAAABz0GbrUmoQWyZTAhH//3hACXdE2lAAaHVnr2rqSvQLVkOC7LUuxql\n",
       "xUJSeqQuD94iOUSvT+1543cB49tLZsvhL6Nox2waA8yV1nZFK+tdLu0HC/fxuDOfbbJ8oztQMnRy\n",
       "jR/iKWFFp3M1ciinEE0gHNbhQJ6w5rHmObZu702HSHggMBb8NhP3qQRcoLZoPL0bt8XiYzPh7n33\n",
       "mhXjt36Ku2D1N4hYFUlmkAgTlMSi3DXV3aBGjy96kAIXZWVGPqQH0hWhZJAhsOgdylvF/NRInEz0\n",
       "mCyvhmqlptnkmHyMIsDeQjj+dtj8WJEpEnftuOwkjNUZ+C0afuUwLoArz4RK0mSjR9Mhbea3vRTs\n",
       "0DSByT3KU2keQAqTpco0NZUw0MWJQtsVpjnFs29eQUNM57nUmY5XT7oLJ3Q/z+xJ4JoLQmVYUa/H\n",
       "oSvg/0N2y6SW93aHDapZ35VLAYkOrf/sMLzMiMNV+c6VH28pI1zsIYWy9ocqSFYG7YbkcIKIN473\n",
       "Naex0Gd3RuR5jk3/7DGgCHEMzktxzAHl/anz6zbxlhuC11PTgDpdP0kNyOON55N3XAeh9E88aBl9\n",
       "PNUn+VLj343b8YXO5zu92dYByD2XYG9l+VEAAAC6QZ/LRRUsXwH8rJxVvBMM0MupGCqXjARLHxhW\n",
       "G0QAP9gKMc+wKft0AJoRn/hWdghpTa+JyBEjMqUg7gDGFc58dJ1bXnkQMShAgkLFooR3MRhkpNva\n",
       "GAqSg0Q2nQe0gXhPt9Aajny7PigcqUu4+PEbYBK5h4+EtgoG2/tjP6nAowF2HdEcQWEnwj46jBQH\n",
       "jj/rr8RaTvC5K+qr5Em1CAU+yH1mN1PcwAPUtQaUXFdtR7vJP0I+s7QM15sxAAAAiAGf7GpF/wH7\n",
       "ef6ZoGhR40sE1tFvU7qNllMyYa0el8YnKlR2KkW26of74mezg0O6CpblNdCGsV1XFwCshd31vAO3\n",
       "HbzAC18rrtVjqe7Xf8TlW2qozbcBmjloV5jvjRZmYOsuxGoZMzGhg9IGlnTUlAfmjgbwYjIoqfrw\n",
       "OTq+O94mDrxocgNyI+EAAAGeQZvuSahBbJlMCE///fEAC+vQWKPs3pXFnkBJ3Vf+vSim9xpnbUyR\n",
       "oBh7ACB5BGy+ciuu11LjQwYLy2kZSNAqdeFNQX+5/dhc9r6ah+XaLttxHMhyZHmm6VoSMy4X/t3D\n",
       "d5wdUPvneUFmHQCTnl8a5t7FUbaxh8mMO0ddmx3Mga6a2Im4cbZuTvvndVma8WRQXIaIk7aoWraD\n",
       "fdLvZ6t0ORdeMEbZR6yRXg+ork+8bxHTWpwtrfVUTngj4TRHHm9kWujLgQQKc5tW8Qgb2t+AEnM7\n",
       "aJAjiw7y8HWEU2RQORCvFpA8eEZ97t1Iylfhq1OXR13vjfattfEtFuc6ZFPqydjFjxE0CZsUw4Qi\n",
       "OSIqp1tLxZLSFnkTxnusVo8y5ffwSe64JgK6+JXa1Wwy3RCGWWhR6pp1ym+BynQJf5hHJlNK1Rmz\n",
       "d5ZmRy/uOhsqL0165u8BZY4KA2LNwDd8Et1UY4G2ldOD3ZFZO9IoPPbUuH9dWfDd0aScKYkdAw4A\n",
       "Yn6/Cfp+ZgK5zIs7ObNeUMrnxRgSaJ7+1qALWSy4HbhqAAACAUGaEUnhClJlMCE//fEAC+04MmFi\n",
       "kAvX2Cv1GY6qWwZzAIALVmA+yW6U1ewIg03+84DvRavZcwPCbm6yVegq9q0Bs6TtjQZC0z4E2dH7\n",
       "ubX6cVW/9gLrFjRpYYUUOuE3f12XhDpP1EKb/DSgs6+RcDizudwgn9gDij+sfYOg6mJZaawoMb66\n",
       "hvKzWyPAP0kkwS9xIHzGqsfI2oRKt9iTZ1XFqeW48KG7IYMSiXR1shd6uxHQGL/8J7gefw2FLSTz\n",
       "gRcSF7rEo5TXK0Ah4z3Cnh04LLD2e3AIBbHakL+hzhy4XzTL/dd71NF3uUKkRkXkIN84qj9M/n+0\n",
       "qaAmEajfT3DFxnrJjrwB9YVQmlx2S3BvApeWnSt2RYRdn1il7m//A27YlWRZApgAQXMNEMp05hY2\n",
       "o3nS/mteqAxebalIz5L4WxM8UimM5gL0UxmlUSKoqTwGCiE8y+2/Datz8wVgehNULYtbnrle0Zjw\n",
       "HA0WFnpTR+OwAtC/rhO4b3zNM9qnKcXBIk9kA4M+WEmwVmqsZjSVy6cp9fun7l41avMNtLkK5oiZ\n",
       "8LSFQXi9rzN6DxQaqLBZ+J/pTrb68mxb1EjQLwBLp5d8m0gbnCu5SVkVaq3LeaBfBI9Z0SMxG44K\n",
       "hFEA8rqr9wnaE+jMf5txma15bsZBCEEbih5zXIwykZEsUh/LoAAAAKNBni9FNExfAP5WTwuJfMnm\n",
       "fQs+SbzTw+Vc/OzLgj4sNUht3K249uOFN7TJe21bPIN+jnOOsk6xBtXsqH8mYSjm2qWlbSrujV+r\n",
       "o0QVikgiNfnhi9sMHKXAgCkP9oL9M8JFe+/Ath7feeT0GmXSxFTVZ4qbQeuXLFBNXQ5VGeMdEwdt\n",
       "7bCnlVpB5MKrWJtpYdUIjKl2p5n3RoeGJKp7pNBcqryBAAAAngGeUGpF/wD+VNCez3GGcqFyJwHy\n",
       "XX9jACEa/OKdQ+6g/W8r9bVsYWYLvbdcNuxZ/7LQMWPct4Lewu3KKZcmiA3IY+X/zIXRHSGNPK6X\n",
       "MX/uhSwZwvWScXgO66Lb4/724dvBSMzfL1NjyWuK7U1pQkseI+9wnPl2fqNrtKcViI8pev6ic5WA\n",
       "nbbkv3HoT8C5uTBCNQ3Vrk3tJa5A0dkYAAAB/EGaVEmoQWiZTAhP//3xAAvpnBKnQCtZatF3Xef5\n",
       "bvGHujJR/tubpZh7BpvVlxmfgi24gDLHGZeIGllhx6ovGSHmdBNoKM+FMG1StdkU5SQVuyCKhfD/\n",
       "/OjNXGTNYy9KDtOz1cLvY6zNYBbmtVZoVx46ArYhB++a53pjv2ojCUY2HIyMh78goyjKN9y402jY\n",
       "q1zKWzxURbznePbyJZgEQzgBpxdXEAlfSfBSoBLkq5g0KZhkdkJPzLI9i8WrQtx2tf4uTLQWvXXa\n",
       "RDUOig00tL///Lu10CzyW9cxkNp1dyUJoxfMa9oOmcgTstyHJ8hTw0Yqk/41D0wPUiRVg8TNIJRB\n",
       "bX2PcB79pnPRB7SG4D671cF/An5hjSY30tYfNd/asL4x4O6fvor3xcHmQV5i/4Qt7I8WddDd6LYq\n",
       "Aoh+VgmA2teFhGGr5x87xd7aL7RaeDlKelz4YPkykMRYEuxCMd+JCKNVFVjTra6RkAhjxSyKT8Q2\n",
       "rV6/+1GMJpTY8HkhgovOm0XbH/kI30lsKzY5voqMvS++RDaRCZZ1BFvuKFuHExBops7VLNy/Vn1g\n",
       "aMt+xDxP9/8vbgGhxlwkkgErYWkT7oDGv+iPT8e8oEYmJmwQnErL5JlWE3xCCzyysKpBOD9YNX0+\n",
       "k7oaB1OBtUDvKfrpW/nwPaliIXxjVr4AAAC3QZ5yRREsXwD+Vk8LiYeIZqAYOOSLGAEsfBlG/cQr\n",
       "t66fBsI6PaPudy0evJAwSwCO1z1Ih2DEkQhfMuwkHle+eqx5VyyJ4i6DTpqpJd9DDsMCGGu0gNcg\n",
       "HjdRtpIt9luMjL60eTre4Nkx/sATeMTvrihLwBYGwWUzKFasRl8vFyrV82bmqcYP3H1h7tdfLwyN\n",
       "gz6pcB4KU8vM5XwOKJsMtMrGxCeJkZLUkNgsJG1LW+iwlY1bOlYfAAAApwGek2pF/wEFWcNoImKQ\n",
       "qO9mpi1YahHzAAQFvXX2scGq6L6Fg/XwvBROYIAeJX+ilaGNozkQlD9ur/fJ1UJyCZn5YFLceycy\n",
       "KSXOi7ff3sgE9lHuaOeZ5iQkgLUi28fAaY2Bg6YKd40S1/LSDSRbciWYOc6FyT6LkudKdlyaeoJH\n",
       "k0rRjeKouq5zoGb7QiNcjqieM9/YW7U1VcI6n0KC+m67ZcZxoP3BAAAB1EGamEmoQWyZTAhP//3x\n",
       "AAvtMsYdLaDXXz7cM2XEeMDhd1xE0RwIAB2RMckzbvE2U9wAJuLpCzCwMfZVbG6qJ7JwMkdg40R3\n",
       "nlPX7fpNTS77Vu9ty0va8uWEAqsmTgnzzTsVNlTx95OjLrSGCMZRir31ItxOgjdGz3RbazKFs38m\n",
       "eRhcglz07e7Yzqc17aJ6UCioEnJ6+polB6IFA11NFFInsXjyk5/ZBaduIqXqOksA4Zp+DuARv8re\n",
       "R7qVR2ZqryGJ9AR5IapVT3x8yhYBv8x7wEq9y+vREgTLn61/faKn/pNqsCCfvfCQrMjVRIVx1LWf\n",
       "Hce198mWRTp6BagXKat40t8FSGwPXMJdhYPG/0qT/g+NdWm1EChPpLaeTpt9+d0InPTXXMgF/shB\n",
       "6O4fr+c0Tx/OcFjY+vYVihfIpLqwI6PzjBsHanSCrj0gRHqfqQMSTYsbvwLYm1mpEFR+ryOXC39u\n",
       "+ltBu4KkloRu8HFWycepUsjwx1TVUfhhUPiWFl6C/o75G5sj+UplVUqtvjFXeuA1zyovVTFAse6p\n",
       "BhWcL4S5jcGx8lm0q8GmviHxXCJCErKlUGdbrUwDs25lHIo3Sg7LZLV6D/daRIe4eC8Seu+GwQAA\n",
       "ALNBnrZFFSxvAM56Qpd8mQcFtvTcblX7FcAI2acAEM/xhcuxxmFXdyaKhMS3jYxbFBMKgfAOc67/\n",
       "7QCH7WzpLFGEUZ+txqPdfTDyf5v03QBBnu3sHlcUZFAqDRVm0MHRo0uhh0HQhjpSwH7i8/WlbHDK\n",
       "ek/zHZtJtPFTVDTX5STq3E3SDzWhNSdtVGdcZAyjmbQdTHhhTWpJmNeya3FJYvhO4EU9BWGpXtEA\n",
       "pwUGxuzQ28UtoAAAAIkBntV0Rf8A/ZN++zEkOjUVYMOKMAEPI4+H4VWvrw9cyDekm4J+LUsqc7VX\n",
       "wxUpJH8u6JhCDlF3OVjASBgJ7BJBwNOoJ2V9MNjNSQmebhhhPlh0ID9HT6s2YbJSrRGLahHXBuOt\n",
       "D3zNQfqOrARCjUGk2b3Mq8fDPTOVSM9aRzF2eGU1noseXFNhpgAAAJ8BntdqRf8A/f6aks/sVQaF\n",
       "fZ5HQReAD9qZijaTO15E6PzTzeorQV1bMPHsQ361DimbAxSyHjGRKK8qfpB7rhrybXki7FDx/JXm\n",
       "sSbG3AaOoxuF0lRPiRfxhzLF5qeTEdub+Q8x3PU082Ruk582jSP3AmKelNJgQJ/vykB4qO9E3K3C\n",
       "uSLMeGYKTUYCbaElfjr6f/I456icnCwX8Vb4cwkAAAGiQZrcSahBbJlMCEf//eEAE9Yxf1dtlIcx\n",
       "mgAlegPze3hhInz/W9vFINX7J1+BBnRjtVbOImi9sP1TldRRSVzBl/Q1LrPEo+WjnQFm1PWyPz+/\n",
       "fSWBU7ArV0+PcAV7gMCpXBC2FwSz/itpPye6OdJ6KYE/WRnspCwqcplEIxacfLZU3tgUCuZeLtRn\n",
       "l0/9bGdEIwUqWCO00JBI/Pq8tpc36f+EXHGAOVog2MLLJPboI450lEheKjQDDDqYFw+wgEYZSM6V\n",
       "79cBfPJwBX5d99BOXGG1/YyuC/2qt/u9LSJaooJpfQGW1DxxjvQG4UUGEXmQ80ovUfzyclIWZJSO\n",
       "rYvGMe6axiHs6RN7Jh/2ij0AxjAOBmmpiX/AJN8Du9Y5aEA49cV7oJ8Gz7qsm0DTkS1uDqUmFBhu\n",
       "pRGE4+ZsAWkFdkEpxXqp2Wd4+mqU/RDSRG3sH5+rvLgqIYHxls2nvuCMGHzlAC0b1Doh37uQtcL4\n",
       "lmUK+hswcaeDsdX035cYHyS6vBRBisBN99c5KvYm/q1zxGTpo+cpLWw21PvAPQfP6qZICAAAAKFB\n",
       "nvpFFSxvANhKFk3wmj+NMe3Z9yabJc7ZWLzMeTF08DxBmvXwBYXmwAA/ZkDGIk5jTobwM3Z1ruH3\n",
       "rYLVecmudH6zX1KDmhNB+ooDEsqYaBiJxKFVemSTji8v9yKDRXFjFGLchvma452diZFNK9zbsqjK\n",
       "hMN1Rha8hIJCksbKjPUcUDrw9fcAZUL99RtnTWoi0pXs1MVwpuJ1/BDI/3PcQAAAAHQBnxl0Rf8A\n",
       "/ZN++1WaCqSa6+pCZyekcmCTF220k6SxVC0+oAQkjP/DDfP46nBN6kIJCChfs3WCYMq1kNJi5geP\n",
       "oJpQcb7sUX9S0GlriQLoRz/iZzS20Bv6buQIAWVAh+xhLHSA9BXZn0Cw/mdccyCM8CM7KQAAAJAB\n",
       "nxtqRf8BDfbS98JkyQhHBLd2eVVtN4AFoW0N7eujM/eLgGYTKr/K0OjBcmFAT6FKfRNbLYQuAEaG\n",
       "Sb+76vnFX4uIN/68nGyNdkaYPri81FFAZ9xtLTqvFwZw+RhP9gfCSGvc/U8CXd6TyAfnQ21Lh7L8\n",
       "+1WiiST4iZkmJCOjE0pv+vdmwH9jy3q5dP70epwAAAEzQZsdSahBbJlMCE///fEADImbzp6SxZx2\n",
       "xtwE7i1PwATt4+yfobnKVMm+ZWQ4X0LGVpMkIFjrzIuTYt7CfB6qslKR1NVpfz6h1PpqbnGSNlj8\n",
       "4/ePvPqO9saMGWfmrNpf/iAb9Wj0WoVPbd3/swrlzq6BiG+Vgm3HvpFCNUxp/zinIhwo+HbBR/wh\n",
       "n8YXWXrPyYziPX61QCX660AWQNf/ghO/xWJZxIqDOzRont1P6/lbKFS4Tumcb+gZk9sIyy9UyMlz\n",
       "w6/kYLhxAyq1dMRmhMt7hro7pdw3ECJDrWX4lWEfneNw7skyQrxeSwBaUyRtJH/rNl9bPDRTAZKs\n",
       "Bl0MharMa+keFTUKyX/uneb3Xwkxj6uMkZtveSJ9XFQdnpZC6+9SaGEtei2m/0ByfOtMSXL04QAA\n",
       "AaJBmyFJ4QpSZTAhP/3xABkIwiBJQYdafjDVUQARBl01fmdv+g/Bt0B82vsFCvWTF5/vUx0PnS90\n",
       "62wjhPwmvyhaJYv3/1bvJ+ywsN7qomTGgek1QhJxrEDR702jrK4/QRiZpZoDfKC8X8ffwUngNXDh\n",
       "0CU+1if6N4ZzxsLU98xUsoDW4GV0gIOz6Q/feLhmGiCH9KRXkjFyb0m5emq4Zz4bXf38Dyk1QiRB\n",
       "nf/yK4BRvAMLskID1pG0n2KxTodVkbeATiwSce4QLWpHg/x1lhrVoG1i9uNPr/zXYhwOSrh5IB9m\n",
       "pGo1iUngRY2TJdNvya9yUL0iloaJ69sKsB/XST5RVQ2VE038YG41myfVc/6r5d+i3gl6zTId5V8a\n",
       "ZDWo/P/FhUzzO1Tz4X+RcUIc/NjPF9VPxau+p7P1m2eKfVBP0g/cyrKLezYJKOR8H0Eu4/VXMVBt\n",
       "N0B0xwR8GNKpNL651driPPONmk+hzVcfWdEgqz39A7kSpnRHwLRhFJ3CkgRyxoeZyJAMPo43lWH9\n",
       "9Uc3VbRxSxQ39mWSIL7+DL41vh8ZAAAAxEGfX0U0TG8BrpCpY5YmzFIzBEO6io+k6mDhFNv+mjwb\n",
       "rBjFbE5irYqzW14UqvAgAJ2TxpLJ3kJZu1gWjbpTeFyV8tl/V7XJ2YV0bVooLaCbwRysYDG3OFE6\n",
       "182HOHyF3itlC740ZDigHfcNnM+VlMybwyzIActgO//eWRyxNK0T/L968nG5e3slTFrfSkNbiwvF\n",
       "ivqJfYD3fxBkLQmyAAwZMcti8ceU21QNTrXLtWzktM/9teb0Yh7h+llmEamSFepTZRwAAACFAZ9+\n",
       "dEX/AQ3/LMFabHvSaRRPsifDdN0NiSXKR894Hz+MRFJFi8yh1MWqeoAPR+Rwd/IUaOV8O5C6o1Al\n",
       "ESECpNApFUonlaHqSwgPwuszEnCsqhYVC/ujAcTHDCHmeBWf7ab86n19jTAz/BgnpuT7nDBHY227\n",
       "FgoSeNv1oz7XKB9+SWQRgQAAAI0Bn2BqRf8CG+U7Pq53QjW0gpEM2IdkQzimk8I9QjH0TIzS06Lz\n",
       "uizgAiBRLcHfQ22awNiMF1nglUdDhMB0lDb4V1B2R5M/z0evQUFrKcQjlGE34CXEf6XTbd2Mr87R\n",
       "rcDOm4Cz2x0q1tlxWbe2EHpG63u2TyAvVfmT/hnGqGA5Fr50eZxccLM3rKdx9OAAAAGdQZtlSahB\n",
       "aJlMCE///fEAGQJwfoktB/LsBJlJ0aFQAsVKZRMT+NvrkrJZ+W+ngKVi7fVjg9Gwz3tvDvm7VrOi\n",
       "ByC5ada+JkBoUx9vb1aH+znAjmxJLRUxuY3DK8sgZw6IerePpRbnO40OZFO6StxElOQdDqzglF8F\n",
       "FEdKmJp9+iJ3DMGU40RXvk2nG7ZZlH03oGODTLaU2DDvCTi0vIm2MqqV+KHNV3067O84+wf5eeYB\n",
       "ZUTIvOz8BXAn8VkjajRPvP+Ur4JO/A2SZNaKc5dI/jxcaZ8nZ+Mh54VL2PlVzRmKbCn8NUDJvsZk\n",
       "YPQvrAtsX2hg1YYd7wTIzaG8cntXyPqUelBI/9uxkB9ktPVV1DRCCkr+69r8HrUztnHVXxlQ0TOO\n",
       "vO0M8kl5jxSozYp03mor4hzSldh0zsusRHtQYq2HPCAY0SL13zoLRJVtPypadBNvnof2fceuQhLJ\n",
       "YOUaPjDdpazGTyuRKCztqJXNqir96VAx2gnJjF8lXLXcPcrQc+ROh0zNRRT4ARcWj+cMb6aTAKAP\n",
       "rg2fdjWwAm8AAACzQZ+DRREsbwGtn3HsJu7xT0ZM7DGpZHQRc91OSa6pObHPKgrvkJYknJN0crDY\n",
       "TcOyAB9+p/XP/TiF+wvOfi1EF+91et3Rk7Ax5dkpVLwzWooWfDP0oi1mdAhdSrqpClQSoPsxU6et\n",
       "VEI/G1GV6ifkmKTDt3XgT/+NWme4QS7iVmnBo3EzUSa+IIt0j5vc0R3syW1YgDo+xfL/sjoKVaEL\n",
       "n0nsJffivHR6jGEBdz8v3yQPkekAAAB9AZ+idEX/Ahv+UeK1WjA87dDlquh8CiN7Z1mrXTxYpdLc\n",
       "TNxdGngDIqABKGBHgdJXszjS9bGgmwYEmbK38CtkutrC/EVIHTwUzD4ycdeT7DiThPxoK4dkkPOF\n",
       "Qf7qPmorOrESKO0GtPsdS5vs045mc+4Pm3gFRLg3+8iI64AAAABuAZ+kakX/AhpgWeo+ZOiociut\n",
       "a/VlXtq206GXUNDZ+uFNhPL9zSxQjr6bz4aG0dSzD8/wH6CkGMwrFieB8i/Lh0l1/YBP/9DFNWnR\n",
       "7HL7RgGrqPbP0ILDuue/APDqQIByDwACXiO0pzwBKYNHeSAAAAGcQZuoSahBbJlMCE///fEAMr0+\n",
       "h6zCk5foRf3SAOQfT4Fxw3s9oSVlCJvwDWTg9hY8QhdifKg7NMPPi/39P4JmZKR/GU7ALq7h2DYv\n",
       "XbmUYMxWGqCaZ1uAV0ajx/taF7+aUNM/r7mT/I+T2yETyfD95mSaDe+OorGlE9MrZxCOuLX/e1dd\n",
       "4QuKhz9mCVCKR98wr9nlwXD2Ry/fGl2wcoR5nIYr6/28AlfCnA0faOnM5RjpugUrAjWuwQQ7HzcH\n",
       "Gu8Fia53S14bPGCMG+uAQtuWKufCD6gvLJQ6Ogq/JAsxJiRi0Vku5Z60YIpNjOiV2C1ZZxylnfhg\n",
       "Dc2lLL7GBZjxbRWN+FbploLgaKP3oEp85rT+sbTVe19SResmu3ynj//uvkS/Jjio6vkAqqBQovyq\n",
       "fvXk+vqTEpk27jucq19S/i9mVrsss3riCVUuKBGD0WCqVx8HWY1W8CuUL/QLL/WG4ZbJnvXLlPxb\n",
       "Ensx+OwM5+IIOojv4F4KM4nnf5jJiXND6Hs4aU7TrIWJUZDzIvnHC6XShc3Bc3lRb6gx4QAAAHtB\n",
       "n8ZFFSxfBDCeI+jZuggLt8qnkWVv1FSaHQaID8LDhkSEcE6QpJRc6bocRUUSbov2X51vJv1b4xed\n",
       "guPwu63YGIATQrLQQxmSEsyG/b6hubSEg8LhbYBlltGA//O1Rqidnb/zqWSj8B9nGgR/L8fCEH7Q\n",
       "Whvj+vdDYPAAAABoAZ/nakX/BDBwvk50eyEPyl6jOHhBcNykgOD3N4paHmgr+Jk9aSEtRtauX6dY\n",
       "5gbymmeGzDV+8eAqw/oVr98I6qWULAD9oTR0cAB4NTaoMkCgpYOXl9qGJnF16l7c/vnM4VYY2/Ub\n",
       "qe8AAAFdQZvsSahBbJlMCE///fEAMr0YnBWdoAF2a25bZh3gXSn9QPWSTRzKGsPm6fuUrDLPviU0\n",
       "39BeqV9OZUZ8qvpwMLKmjPN4unO/Ks1I1UH2ZEnfwHHNPdmQZZ9ozaYjRjRsCl/qGkkrW0xKyXub\n",
       "M6GpaQQlmcYDa6GVb3UmHQoy9gg7gl21wHiPtWKlD7XdCUCsBBah5D3Za2b14rllpmO5u5dJwiiY\n",
       "Wa5NRkFus/cTj6SPY/AG/s7TeDjxmBU9P3OhjW7VKd7TNkHmh/ZSc65YZ37D1zoMEX+DZGC2gvwg\n",
       "cJ/QjT3cafcSwy2M/ao6zFsN9ZpARRPAvTPcsskMc55R0NFOfzrXcdf38Jqfu40XaK6IxL7sOy9W\n",
       "remw6/8mpkw/RVGaVgCWDXt8gPP2C4IjgKAmbARGaLUt3CTE1xR0t9PWt/lh1d3B6xKFnxuaqlc6\n",
       "Q5O5/NuDF4JgaNyNiAAAALRBngpFFSxvBo3lAHHXGHUgAfxHeDJCUfsimiNpgSYJO9bJREoGXUj5\n",
       "A3Ez7jSP/635Ta3J+h/HoPGIKIjgxjTtqjSSeOlqwFHh+hlnAvqjOuks7LPRc4lPEd1ta0Tqxt4b\n",
       "C7MFUj1lVZbjGiBmAdwdd1uwUrdSYCyzQGvi13gChNc+wFZB1QJtB9LThVhj3JgpCwgUTL3iUEIH\n",
       "Lb6sYLP1L13RpjzjfSVKAOv2P9A5E43JRKUAAACEAZ4pdEX/CDjyU9fIpNHCQAQ8lIHqsFNv9krA\n",
       "FrZp3Y7DHMm+TApBBFa9z60K9r4nJ3vl/U5lnZxZiTk7jpSwSra11QzuyX9/PTeaJyK7+MH2Q5As\n",
       "p9COrw547f1uRv8rATLmtbTtIHhcGwEPpUGHjy8sIxbsC8FsDh+BPNnAKzsiylXBAAAAewGeK2pF\n",
       "/wg6t0cyCAjXvYWKsEyRe4FkKxFpdfwi0CWazuwbZEPg+QRCNn403X4xpFKjEP5Zh51hYAEHAkoW\n",
       "8hUx6KdqSU5ItuAK74G8UB6LpL62D3CYEOKnqdJGBdyDjeOs4+qJSgq1cSFtMLBikNue+jVazRHx\n",
       "r61c3QAAAThBmi5JqEFsmUwUTCf//fEAMrraaF2/XmBuUO8P4dULy0eDkWpS/CgMlnlpUIAjhAOW\n",
       "+MyKAHDiFOs+wIwLv81K51rqCs9V1me5A/dBKLA/haQ9KHCZkttl1VzUqDURNVzg5ufbPjGDOxSt\n",
       "z13V7exGBfcqlRr6uAiki5KkCZf/no4as2Vp/g3EDAH8Tn+G1JIp8VsmP29nc6b3mVXyMCPpdEtD\n",
       "0z/P6dM6BCAvXLsYKiuF/NWx1O5KiJb/vw1syx6VAZoxAzX8coHkPcnR/IWQQFUskcmMxogFx21v\n",
       "BsqJhObvOBnmglRCzO7fvsmKUzqGfpwQotMbV0fiWLpf1StYiIA1Zs5/kIe+RU2+6Vf0shDuBnw4\n",
       "1bLUHTLAnqjTfjmjgYcYYb6h2qpt5SYiEuVqlKkM3GcJQu8AAAByAZ5NakX/CBhk6HlGsJ0PCY/N\n",
       "/wQNEH0PaIEkJI6DndnPjfL3YNSdaNb3bJIM1JsD9AtAJ6DUW1rmEz0mBC1v/Z6wsk5kwthrjlCb\n",
       "tytScte7Jn4z38wS6iU2bF17WZpal9MJ8WTKJUYc/x1kepZKn+NfAAABT0GaUknhClJlMCE//fEA\n",
       "Mt7rSRQydNggsDBgCHBWRJPYbZxtTMuHqqGaePWg0QDUNg80hmKYm0qAljYAZE8RV8VA0MuCeoXL\n",
       "kHVar4E65v3LMwO/VHtkhK7+rYo3fvdf12HYAhKiq3gGkHji64gtH9eoUN3GC8aEM464wBd9jzHR\n",
       "fEsLGxjEAzCUiBbBlFD+dQ4nrCJoxXLUNt5AuzLZZLFcxVs4UNvKOMycucvMoVDQOqM6ATWu8T6L\n",
       "IS44oH5Zsw9eQq+h6nkeYPwNWDx23g30In4XEBvCz1xdqDzxCoOSBYYhQDsBSKSAKV7Z5Ukyko0O\n",
       "liRe7MYa2ZsXr8juEuSbnB0xfuRwujYeLbSrxmEcU4CUapEv+B7TFuEUg/nkkx3BPeNmGwwTsgqY\n",
       "yhYPPwRUz4aywSn9pTsO3wKIH9CKDd3aYUmlx7VZlKtgUIMSAAAAn0GecEU0TG8GeB5PSqWKMB/W\n",
       "UIAQnrZ02Op9OzUy0E2/8sDx+P4rmmewnaN25/IhfVBHUtL2dW0UUNRdgJWaQF5aYyFnWtuFmWG+\n",
       "h7ZcpxXf+Q73gWfGMBYQll8s/+W1MO39opRQud63JYgiLm2UGDo9zDnEsArJZYsER5aOiV+z40T9\n",
       "4QZofLrT+KhNB3yay9cryRBM+bO0SGDJ63ej0wAAAHwBno90Rf8IMSkt3eVrxjwyADZcI9KEx0dI\n",
       "KGLZQBfPhCMoj7pX0SCKCO0W4EWb7zYd3JvSvaO+OjoGtGrQWKXICXl4sU4EZPCUBiTRfrvOQhPf\n",
       "E4TK5dShjdGf77sDFkdRf160w1YKeYwOP5iBBa33F30Ma00BtKiFeoeAAAAAdwGekWpF/wg3nfTg\n",
       "ACUhtZMErpieoda+R/+MaX/fk1NTMIcNSHas2gBUUwWW+ARHsR6ntl7n5QLcFUiBRIol8OMFoUrb\n",
       "OryiPWVnRCZ5EkfI2/XHpqXzmZ5VH7anBhv2Wz2wdccDTknO7voXhmQTU18jWm1mT7lgAAABUUGa\n",
       "lUmoQWiZTAhP//3xABryFiNpVx2m3sefbi7InRFbEQiDJBOMIGBPANqChw/TZN7Ieo87KbP3qXAG\n",
       "Khaf90BGxt/eQSYeKnjyTU6IgEI3pHavjASD/yVtMB8M6PIBuTLVJOiTbMcPFXHru3N/KOScFcHe\n",
       "6PAdgcIgR1OQ7+LAtKAoHzV3Oerr2nemH80xMeEbmOv0F9+dc7dWKYyeArNeo0PqDrs+A8y/bMf+\n",
       "mGvy7xco53U4WRGchR4kqm6HA773mfcLbOZcsqYW/0LvYrnZZCd6VKvyd2vTutLthR2L/W4pcr8n\n",
       "L7+iMKa1enGrm9aY1b6gecqjinZuuLXSvFMGy5CZP/M5DTjlFpGBiQG3GwvjAMiCihwtRtenSIAs\n",
       "V0pH53ZDM+qXTSEgMvbSmwgMUf9k9Nh0t7Sjoa/wZK/D/dz8J26CGeu/Zd4QgU0UCHkAAAB8QZ6z\n",
       "RREsXwg6ttf4Q/otolKD8933/xqMvYqwyYj7mDwsPit//gtdX3Uv8Ohz0h3Yz265f+F75C9WqaQu\n",
       "MFM+3UhidCRwR/D+loMY9Nx1yNe7mzT5aMPYsewBKnJ9FLAbu33zL0+JQ11i+gkP1lwT9nFGTYBw\n",
       "vAur7pob0QAAAGgBntRqRf8IN6PCiWNhgS4Hhyvt2rKjmLqmBOtL4JzoTzBd7q9Q9wRYKjbevX6h\n",
       "2hRW996PZzm7UTtF4/WXZJKXYkMHcfepdb0R+nRmwzzSzW3u5DTJo1h638HgEF058Zym5cfYnDS3\n",
       "rwAAAXFBmtlJqEFsmUwIT//98QAa6mUk4AYbqHgETGLId/F4Z68fWKk6085Bxn/60md5wcpXv1WY\n",
       "Omj5eX11EvVcGiIvqJ/2ajkrQM8370dc3BffTjfQIronLfbXUEzw3//htDKhG94vzaA5zoc6c4qZ\n",
       "QC+F008Lg5R+euQFfHXpCHbsZNv77RxRjw8GoSokDJAPgQf1PllUtZ4VjgyzWYo92jZGdlAzc0C5\n",
       "x4YwkTgI+rOOKk3KZ0mgMdOEtKcJFXSSW6V1C1Ba3793W8YYk+eSVQ71bwdCxA4/6D7b0L0VpOdB\n",
       "d3fYdDVuJ6RZ8GcVBb4+4SzeSN9X84RoI4or8J/PTyE99UL+peDOBnGSPlV1LtGZyRsDRuPc+4bB\n",
       "o6L1mFU9ORJK8LQuSpClXMWGP+9rSKvTyF6moye9eQy2ywkLFkSfhZxta9QDXglnmXNXevgPfJn1\n",
       "GXaljUbZ/fgtOVbyLfJayoanMpWOYas9L/yOrTq/qdsAAACJQZ73RRUsbwaP7a5ZpYV0xNsG/cyI\n",
       "stcFQoN8wrwDLvequUkWagAQ/B+fgAToODSmSqhCV8NtY/+idSgD7hqzRA5ijvI5oCG6ZUHOaQsP\n",
       "SZxEAshSEeHYYhQb4GNsMTnS6POY8OgOPJ71gFTyR6MawuiU7QrXHfNWl/qTLiZhVekutX8nUNwg\n",
       "CXgAAABoAZ8WdEX/CDEnYMgro7VEMrvm54j9+N2cKAquDoGdkSkCP1CP3Gqg6jgrppaBy0/CvIIp\n",
       "/foGXiqJEzfkvi6ETgFoKxAMmJcF4g6qmbVCS/7wyz9Ndit4+FGJ6tvkrrMKmp5yM66JxF0AAABv\n",
       "AZ8YakX/CDejwZMVEqGOFsEQkVlFJi+6ijnx1vjTeYXmitjozlXy4vJV+yzC/nzPzBDAmf1UYPow\n",
       "YSvXaym1PTV5asxUsC1VZ+2q8fLUFM8jkC/+DfGOL0ZmV8l31vA7JbuuWmi7VW/z0M4xtKRcAAAB\n",
       "NEGbHUmoQWyZTAhP//3xABrjJJjOkb4BQrbNiJuXjcJd2gALi2/jd9Wdxmx5rLwKl6Tl7E9uqmPs\n",
       "cZ8cYDngATVlc6u1Y69O8qS3Lwv/X0TBLTpKie+dvsFdPtox3u8pTNRZeqjQoTZFfI4prqwDvVxX\n",
       "evkdaX1wkyr0EZThuyDrgjBEHo5xRzHBTUY7ATgOzMjYQaVo+22i6xCjn1phEOI+W+JiioYeAUKr\n",
       "2jm38vZwCwyz1GsY+vfo3xcyUzsjG5eUexDo+iZQwCNrQz2MlF/UTpS0AQp5XZ/xfAyFcETIv4mm\n",
       "ZQn+CFTxQiJl7GT5unTXp/53m13z8SMt3HAXOSPOtP3VOlXJZALwH9NIUwAU6S4GZBDFdkRpr0lL\n",
       "a4WAn5OLeS2SgDvVEm3m7dnXf1EVaRBwAAAApUGfO0UVLG8Gj+2uSA4qZNStCP57yp1CPqLdKbBv\n",
       "hh0Fw7QwUTQk2azO465CBMtR0NgHuU36hLr6GmV4ZtizR15srzKl0hIZVwV0LcUagwVM8R7Jt+s2\n",
       "UGESckVpYZ9PmeT/u5UHX//93Nf43b9OFmmQHOydvDoGOeEKEojYTGcgShFn1sNPW6KGlxpi7dAf\n",
       "QeniIXrnzp/SLYE1Z2nxT5r44RsKiQAAAGoBn1p0Rf8IMSdeqzES1HzykYctH4HqcHRwDQjsBgcS\n",
       "I161oyRoI+m7DAVE/WxlV+DnuTf6IkTjicRih4JaKLHFVxZOyKdlmBe4+ugmWDWzOsXgA1M3K7Hr\n",
       "T3hwbtBqs4cwvFv0Go1sEOqAAAAAaQGfXGpF/wg3ouM2o8DlNCGfuD4jNf54SQmLNT1rtDraiZvE\n",
       "DDjtkxDPyv8bmrlsl8lTJS2g/dyn4p6BX1ss6NFc+iK7MnsgMr2LIuDmL/J0GVAh1bgFq1tqUXe5\n",
       "XNF6uaP1ivlxNPFVsQAAAUtBm0FJqEFsmUwIR//94QArKDD6vhUO7uwa0Cui2B3/qr/qk18coeqN\n",
       "J/vcWMBigBVADh8jODhFJ3t2UQr8sv6yvkqRCC5WWLmdWYOnuHOQ5s2M5GipsyIpqB/BYnlu8J19\n",
       "CSFCrBtNwtHKvm9kqa3qZYPgVP3G4mZmH7YOWCn69tYhqlNcs+CymucYWTdiUkLm+zuGWYHWfsIh\n",
       "q3Wd6y2aHzgb9+qMWnVig4hLXD4Gg/NpWOjdLz3vYl8G1GnMDoHHRgV629w63AflBIKI53tMXeLF\n",
       "VbIemV5BGTi5uCyRFalf5uenuvd+XLfDN94WTYghj2SQwM0/sjny53uLYGxie7rypCg2OLL//wmn\n",
       "oxFhxnY3vlId7PjXscROHyDbcnzlwtWrkqhmhvySrXH6WcOlLZ6SqlzZYfkCKQ2DaoY29GEaLsOr\n",
       "dMBgE7DRAAAAtUGff0UVLG8Gj+2uSA4qUq4ETB23ojap/Wdb08ENYH8bIKbpntuX1jQ4tUCS+DWc\n",
       "rQZ8qcyYc4jWC/PvB41f9khKOocSNcmLABuyZHS0Pm1ZsI+bpZQrnotqtW21f7p5NCrP3ma5tGUR\n",
       "aVbx89WvPJdgBIkSJPZzBg7zZfS+zU0Kqzsdpwg2pgEGNb8/q+vAQSEjUXgtrZoEdfk2HzFaxpLA\n",
       "Gy1ECZyZJ9Hw+7CwyVOdHD08uQEAAAB1AZ+edEX/CDEnXhzu0BM75whhMaM/XixXPMuDmqvlAqI/\n",
       "IwAhRJ1HTw+f2CoF0nIoxzC3+thsGrW1ISdRVi3fbNDSHIjjAuq/rW2eIHcI5a2jNI6BJK3FcXh0\n",
       "n8jE+Oe8moXY1eyB7P1X6y6xE+RCPTG1ZuX1AAAAaQGfgGpF/wg3ouM2o8AhBX2WfLs/vwVgmAbA\n",
       "f7vMZOhCQPjdjGgoROV2JweGd6bPfl+BjYRvzyJOXJ+zp7ekXBda50XU8d5hvjEcMV3bHAUTUbIe\n",
       "A4pmxttuU45l0N42gfS/G6EFDFrunAAAAMFBm4JJqEFsmUwIR//94QAUZt0jt2Q8SIMABUKf7D3E\n",
       "UQvY+esJGPnU8aPzm7vAnjBIKMVXG7h4Ik6Q1tL6mFecg6uJDtdPz04Ru/EYzv9uy8eXJIQodsjY\n",
       "24tV1WFkPIAL9w9wNQd0HVgJEP1x5PVz4iKdA/8VlqlhEdQiuxGU28hwf47Y14hqoUYln6xcLN/K\n",
       "vtTH1Tn61wc8P6+ax7BZXih3HVqUXQd/1vM8779ZCZbI5CUyF1G2HgeyGeDMmqxhAAAAyEGbo0nh\n",
       "ClJlMCE//fEADd7/t/73Sh1cDZlJhU+LpFXlxEAUk6PeQDOpR8PWYAVyIEIrTEISGc6rC+kZ5g5b\n",
       "Fp2GRqkScOwhOsFCIBKUwmX9adU/JbqD+HqPgkowtMAc8TqbSp+dBvOYTW40OXGjcAJw4IG/wPi+\n",
       "1EI6oGjlZ2TaTnXu7CFXu+mqXceqh9hV1njSN4OF+Jtz1PXoPepGrfKjR3BaRNi75zZ1asCf2gWu\n",
       "cdXVFcED5vA9YZ1c9yw28g8U28JZQ5GBAAABREGbxUnhDomUwU0TCf/98QAa4yjpstbnRwASvr2n\n",
       "VQNlpB16kxPq0JMWZKGOQVXkJ6Rl/wUpZdkEZPBjbYW0RFNkhm8tRNESdvAwwEqlzRdaVhq9pT3p\n",
       "hke6zrb6tfAftG8Z+C2cIzsaOQzNt/Yz2DMKQsdAM2v/29lt7jwOrd7+wLTJo+FxyrfU9dGe4wkv\n",
       "YhzRf/2AlRVeUiok/fpA9ixpIVnO6SIaUVaHvLtWdTUbJ2FpxYdL6bvis3Alk0VWRurLGPVeqh3d\n",
       "GEwecRnUoz1VleCaVbDn1JXilWm3jno43xedZTCvK67gHmFoAMAE4LOOFaD6Bbwe2/heWYum1jBu\n",
       "rI6XdpFeXHnoIkLR68ns802aLVnK32tzYUvWzfMjx11nkT8nQyW9/fzOJvhRgCCltpgbIKW9ccK7\n",
       "ZJFcaDIIAa5keQAAAIMBn+RqRf8CS+U7gL7iVlPWk9tWcXyqnmwJBRGyhn9WygIOGskZK2DAZJ/i\n",
       "SjtGoqanUeoAIWZCp908ZSA8+AuqAOU9xEG8yTTeol4YY7la/ml+lHk/btVC8iu6y2heVfDlaFQm\n",
       "BUcMA986SyTCY4UgokD1Y6ou1jWi1hcz4/aIoNp0gAAAAYhBm+lJ4Q8mUwIT//3xABrjOCMOXBw5\n",
       "6sxkNJDBiuk6DM/VIBbQTL02PlHGkBBMhqpK5293LqNNOm/Q/CK98p2FMUT05Wwh3Eln03msQBSm\n",
       "nPWstAmSyQcgEC16XXCVR7SHEiToYD8K4W0lKeyl3a+ZF0czUUQaMNubaklV0jCJxBv6teJo+I+l\n",
       "0lfH0dSgx2WVO9XKtnlR1eZQY5IAZA9Ejsf75UJTRsaImXq2s1p41CaFtfaGVjO7OtAk3Hkjjs22\n",
       "EpcdujdNpWXdg+Cus9HgeP2n40n6NfFA2TVPp88rGlhF4aNVZvxFNAP+s/bf+8++CO9Ty/Z8HCY9\n",
       "dXBnk1ymg2hYN1ZactLqDuMJeuz1vfums8cWHvllBtlujSIoDWYiAWXPsVCYarSdCLuVJCyeZqyc\n",
       "NO7A8VUj5EoQXoZa7hNHt4XUdVcoNSRWnqhw0/weYmfhdVDSGJ58ndVCm/v9aQJFU0n0esltDH0N\n",
       "n4EOSwao+Ad8HPHApzwaoq26ZeULhpJXd/21xQAAAL1BngdFETxvBngeSW9pMnDlUAWJELci7jw3\n",
       "dQl2Xy37hpb4WjZhNqx/25LaNqosrhrcJodk/9gBKv1JEp1q0SKNUuGVTLh3aaXSwCiABsel0ci+\n",
       "yoKfsqnu+PyBK1/NKaoJTfVFfYpzsLez9LgzMg6ACRNZrKfz71y3PPNo5xL6chmWWOygDVTRID07\n",
       "wY1e1BWVN8EDC+lEC55OjYJNuewh0y7ZEOfZLRbe4Y4I2jPO7TFvGqQts2XElylFsrAAAAB1AZ4m\n",
       "dEX/CDEnXhzu0Mcx3jzEx8a2gA0gAMWRRgpMZmA981UYe2t0WniXHeyKDpkxlr6RUOkwAdcpBS44\n",
       "9QknIjTreNPwfftXSuN3uENmJHqpiaYS10nXmZTQbJEk9ykBpayAWpjMT/AB1s4B82IFYwvmXvaB\n",
       "AAAAdwGeKGpF/wg3o8IgHn3fwlXqTFJvjt2AAEEsARp5s3YOdzg6f7c/TeDZs0ysAKgOtbRTNyKD\n",
       "4FkQ60Ua+qhUEUvLH9uOdFop9EYNXss+05YheCeGvhyroA2cxk036Ihyd3cduAJ0x/Puet7uBKYn\n",
       "E6uIxouBQYkYAAABbUGaLUmoQWiZTAhH//3hAEt1d6edjowAmSPnRMkZmcyqyXD2AVNYJBt317XC\n",
       "+h54IEGyGlVekOEW88dFi9qXvztB9PO6Ru2CPJwMaGksfY0y64zTYelj7cwzdndK96jcQIzNlc9Z\n",
       "cBYLw7nSPkI3lp3m4LD1rKrwFQIWSIMVy7A/FN9xH9MhBc4o4B464K/7v7k0cc5aJGjk8rvBRRbR\n",
       "qOuqiTOmaOJe2K+HyPzpsFeDfzTJigrXu9kfa8fCa4G9zBGiOgmTyr/uG+lGZxHBr+LFh5/6JD0x\n",
       "emdjIUxgVmwHC6sWXetUeh8ReJNQhs86P35xxAScNK5Y3nmP4ruUvuicnyew0JoKjHyug6iuN+CA\n",
       "fwuEsjqlPwuayL0YoM94P9FHLdVl7oPVBAuU9fjw0mpPcSuT1h5bdFVsZ5t0Jr1i5E+2E2dBDYlG\n",
       "Nx01GV9060gIRdvjrnNVD/gLNYgSplbpISeOBLSXzfBQcuZBAAAApEGeS0URLG8Gj+3eGRGC3WTC\n",
       "pGJRMsIp/0YJ0fWNp48Bc5FsrpZzf063S+eV7NNeOYD4Nap5k7BZNHp9KgA9HjN4Zljj6kYlh/Uu\n",
       "5ufSDi5upC40ygXS7XUEgW3CGdyGTKlS851B8nIcnbkTiXY12HS2gqATg0eT0LGBSLoLKvF1nnCS\n",
       "5SM/Vz8V09Yt5mjxzfr0rSamGvBQcS+0BUHifBumnRypAAAAaQGeanRF/wgxJ14c7tDGh6o37PXO\n",
       "Ht14LE6WA8+NXPdAcCkiyVF5/zKaHdxha7RRFOcFO7u1qxaKFIszJhs7FoANUmxCZMhPHUV0kiwi\n",
       "MB09hyGtQ06HLCTIjDkvy9OBGXbmIXGPrKq6QQAAAHUBnmxqRf8IN6UJY2Z/jweaKfyPus73PeP5\n",
       "JbQsSB2WdN+FqHEpCsLP07yZzz5oT7n91MYvlF+xgBNQRGDoWPcpyQmRqerByZzaEe566HMWRGjI\n",
       "yeujuypdEibfQGT1XemisJSV1WYHl9WsGb9kbzROEBvu0WkAAAFvQZpvSahBbJlMFEwn//3xADEW\n",
       "snYk9dcEB6QAF1yJ/2zgxF8kjIQi7bRc+oPtrHwuatF2azu3OdpQW47BynOZnQymdKICoBwrOQdG\n",
       "arfShjaKUQUHW7WMvKZI7hBNxhsjlnm69X+EgYZd6U7lsk+OJAfQZsml1WVBAhID7LFrQeYvfHhs\n",
       "iiin46gm4R1MvK55G/O2jHhxvImugtiMe52+eZCIsTA3BJmL/od8dThO22F7eUiF9jIeeO8AgNLv\n",
       "v2QeUX8jeZrLzSJ4Zz2kXmggabiBtfnJJkuzUWaLmEKVXzy2HX/8DF2zrC5oWxzzJWpCz3DY7QQn\n",
       "PS0Q5ExXYS6LWWzaaTNgEWNQFkXJda5sC+0SFWbTZr9nqsP60RfjTjf3iXrXpvlOkLcMS/lybtD8\n",
       "RV8KDwrzzlWKxor0TS2pnVM3CJN7obwHzGBJaNzSSigcDGs2xzyHEy90JO2Tf0rec0gs5CDfeHFK\n",
       "v+MuzuYbcAAAAH8Bno5qRf8IOrYxqVz+P3YAGyX0fe6kscKiQmmgwgT2GNOfd3O/VtNDLEPd0Rno\n",
       "FA8OVVuj/B2trT66VyWsq3Ik0hXr1ecVIac7kz73F9pTaOiTvRJTmwRPS29SD5olA7uDITAVPsWQ\n",
       "6ItPyOPUpZd8lOeDBx6B+n4KvtEcEq9XAAABA0GakUnhClJlMFLCf/3xAM7pupKU46IAW69IFCK5\n",
       "/84a1z59ohJ+jLa+3j/3ZmE7nVIwMSn85Zlg1UFF94NPcYkmBFWudcUwlh364zRyAq768bDWHd3I\n",
       "733gNVgHlQ3dO2SDYYHThWIzNTraK+VpVUDFd/n9RMALSAtqpJ4YUIwzDrp3QLpoFjjcXB38TpQs\n",
       "rIdfYnbJkFaTTPZH0eXy06xBbz8xu4EfKcebJ2wCRzo+QiMz97W+tmKw/eSSrxhyoA100KwibACy\n",
       "4BsIT6NaD9NoGBx+NkoLRpg193tnnoLL2iW0hbkRapATsni+rJHKPHfEhZ+PQ2DCHkNhtoh6iRbJ\n",
       "WvkAAABtAZ6wakX/CDLmow0/JLWxAuMdfXom3hmJ48eDmEiNAtpuayGfnSDMHRgSyAHO372IIRAw\n",
       "zznrp/KQ7KMHpiJ9KxDDPSzYBbUDz84MFauz6kxUxTyS5ESd5/iGtLPh1uBMXeQLuw8++W4uy77h\n",
       "QAAAAYVBmrVJ4Q6JlMCE//3xADF4Lfgg71AAXFgfieF8ernxNxgvHyCWCGVv/2yDSX3CtaGQqQc6\n",
       "W6cV4xGLwo85/6VsYS1IeBLFmN+XJzRM2F263gyDObxw0GUlwOOu2jQqadjvFOdWfOpWej/WNyjL\n",
       "gaMExeixXTKEuXa3SBksQn5pYP1L/vSGYyk1gFSMGaHexndcsfl5x5+O5X4Kvk/rubT18sPzZfAP\n",
       "muMiuMQ+dZlEZIzrJo8pgRA4VvU4isXI6Y8s5LMpQDVEJSX/LrdJn9uMyexEf4pVztPepgETAv9y\n",
       "7Nz/fqT5CD08aeuA+/U6WaF+EjjCilvi9hANFXM7QdLUcYCMgcjaBKQ5gHrr7jzIqft+eigmo9CZ\n",
       "iKVYUetzLOFK2tm4hoGS54TVoR/tfeqHS6wwJGUb0kXgZFik/0svnaq88Ekisc7Ft2o00EVTqIAC\n",
       "/v7ekTrrc5esxjI7Mvc4sqnomTirG9czuTmEis+uZ8NIjMCd6J7WTbOX5STBwk/GgS86vAAAAJ9B\n",
       "ntNFFTxvAz2P2cdwmgATqp7eLKsW5UTaI3Y9JzpVY4ikP7XB52wbpfwDqts0DeuOIdi5hpWvqhjp\n",
       "K0bRsVXp8KvfKlZyWf36YpNSSdNuM6zCX/nCTGPfgCguJHtZ3CCF/HJjzh4/dMnkTxrUDmhXkMZA\n",
       "FJaaM7a2d9jtk1SzOVecwcw8uyk2fJUmRt7j++CXZOquPt34yY/IVcu45kEAAABvAZ7ydEX/A/Rm\n",
       "K5wnA4lFVx6hXuy+ks0GSdau0bSgL1TCCN0QNGm2HQFowwYYkReA0x/Vm2nBF53ckJs06p0c3wfk\n",
       "nD07fFx87amt5ALkd17e7JOxkvqmqE/7aYLeeBCu3u+6atIPMoCi0GDcl7pbAAAAegGe9GpF/wQR\n",
       "bTXIWwp82UJs52Zf83D2RC+4t7ppxacplOluFw+2fkeIlXi/WzuRkXUlRZ81Hn7jrVDcy0RdDDOA\n",
       "PP7Bzwzj3ipZZRMm4RzNRS2dcWKBm3V6Th9qhApvBCunZrW6ZJy0p+lxvpRdGzAwtgjszpgewCqh\n",
       "AAABf0Ga90moQWiZTBTwn/3xADF4LfgazoBCPLdluCZa6Z6EleRp6bnw0jjDCwocqcrpaf+du9Zl\n",
       "jOdIomRhRkEW36Le7CAv3b2HvYs8BQqvTq5vm7ocAAKft9PnpLhEyKavMH67ORhz3dPxO0KKAy+r\n",
       "17i+mHCL2yD7GfvNw/u2m06szOXVWDg1te14AAf424FxUopGLiB+lMDAmrj1O81RNBTEwO5OV1PW\n",
       "v/fV3d3pcRanCVKOPJAbtAz+kferRSZ7CJVhyTKe+OSyVPz/zXr/iD1jw6YLSAvd7nOjXeeAgYVF\n",
       "uzHTJLeu1zkGamEHjwav3BbNOEdZcDQjujnNGyagoDO/fN6XF3W8F9VjdBzTwBDVxZTuRqUCP3EK\n",
       "17ZxHznuuI4tcRs1tonI1F/FN3Ud0gzUALO44N4WvTL1BdnLfj91X+Ho+wFJA6UfQP2VPpLkYy7B\n",
       "Uf0qYR8+9oR9iHfHldzikKKIvGM5tTOPX6AF17KBb4njUmrRvr5nBFi3P5UgAAAAlgGfFmpF/wQS\n",
       "YOLpebUts5CqgG70MHd9jNJydVmsJYNB5JAzCNL2gupEIcAAl3Y4xSGrb24Nnk757mOcogXiCSXx\n",
       "C7WjMTFwUJnv6ye5l8OTd1gncKL/kc0kQzErlACeqxPtDse3K7ItQ9xIOba3bVT5/nRULT5z8ekz\n",
       "r8OmmyNPahIOh51REMxSKmLh2m5rE6qSOqJDIAAAAUdBmxtJ4QpSZTAhH/3hAE1+NJU4jTbCxAZJ\n",
       "tz34WGEhr5lDSYYawna+Gulyq0k5GdlbvXuhfpHXfJaLxEew4kBExg7w4e387+ZsxX9Ys0mQdbDl\n",
       "B5CIILu/D7MLmo4GZrs6Y0Twi/t7Ja4RTm2/H4H8QoozRbT4mCpleh4hdEqhuj2zeKAfcU1MBRwC\n",
       "kfyqWhAStxbZFoQOfiAHeNpbotaJd8KvQcy7CgPqgHoQevUxeQuzbTuA45h/gpsHGVa/svbYekge\n",
       "K8kWJIWzVVjsQGZvPYKQG8HqBcmYVh+WjYLucY3ZHK1K2FLGBzzmp/d0whmWLbsDebtTWuYg0b85\n",
       "kRvtfVYRitWJ6G2pQMEXVLlG/TS+SdRMboGyAsDY4QUWYNsRWyFU7NVcXu+6kYhJQldNgv346w+y\n",
       "h6X03mf7dIlEBIvJpJ11T4EAAACyQZ85RTRMbwNDuFip3wHGMlo4DlUY0nGDmiSHxaNq/wjyRil/\n",
       "hMMLqrHV6t/KPJnJpYM2n/mBKz+YwdmYEHCEW35eUT4Juup1g0J/z4t6XONDSQBJdRovBF5CxwJL\n",
       "qs6+Fl+q+lhwWgUtSx/QDwZtoCgiID8y36TnwXsAUH+aW854NlmNBunNMNX5o4eNyUh/tmLtiAp1\n",
       "nq50YcrQx0XpDBqZ06PL5TGcsJ5xPF+kU+LWQAAAAIEBn1h0Rf8EFpKtzjbBmYwCAP2Re+oYxaUc\n",
       "iBxqiETOPbJsWLdBU+DFK3IDJaPLZa/LQAbNoHIFV330cfvyWRb0ThoPPcGA31Gy6N1XCMm6AJtG\n",
       "Ki7yrATbAu22nl0mfxpVQJ40R7pPndpSveeWfbWbmP7lrwIvjhI1kUqw516BEC4AAACBAZ9aakX/\n",
       "AgtUNw8LhrdLOnThVhqyLOu1L26F5/Gb7iQakm3NVb4T6sQOCOfMiHwkNqgGIL6f5Rznkqy7gwJE\n",
       "xCOxrPX352oXMfPcAINrplx5JN9AngCLaBwo7ddyUdZo9epUZAgDvNXeV0G1igzDx0GXHj1mPYRx\n",
       "ZSKxJkd864KjAAABaUGbX0moQWiZTAhH//3hACbdE2lAB9rK6eqGx+eI/Ft+npoIF/yIFvhIAA1y\n",
       "6GapchQ4lnMW593Upzh2CJYfMs7ctqbu/ueIsnQMEGlntgWu5TLA851RJXN3w2WT+9APW0OC8aXY\n",
       "Ja/PIwX2OZF4f4QQzcsMRj5AWpW418f2ufDTA2ZcEazetDx1GNHkUanf4u/v9smnrrLG1L3RwzIb\n",
       "WBV7od4lryFl6xX50XGTYmbzgmXZUUyxvqyTkdC5v2X2/yu/ms7pKwsy3v/hLnpuC1znPXPA63lp\n",
       "JE2Iyku4ALQbsX9W6lifogU3UvQ4RcR9hDre3g184NX/XRB0iNWOH31ghmOcVsOTGDi6kzwOma0n\n",
       "VP4acft4sp0e1Is7QKXjeerpdxrOVUk3jV/YrlresLiF0SGbQQGK3DZ/J3XO7L1rh2wOehpXIOPx\n",
       "aSek+2j+VE7EDXvRP5hw+8BtOSdir6FpTmyPHVTK2IAAAADCQZ99RREsbwGj9OgKhUf+7VY3RP/a\n",
       "gNdxoUzLI2xVCmNF98C3e1gAAhZ1UY7EncHu2cbac8IAAe3O2POV7BVPEiaVKz5jNCr8Qoh7L24Y\n",
       "gjAcyNQkHLyEcGuy66RHJzlRVm8/Sv96TPPBve6EOq9rAe6qeelrv6TC7tgws9SHpqyZLk+dZT1G\n",
       "ZSfKSYgQ7BIkSuXlKDtrhHD9SnmnQp9Q9T9Tou0Yi9IH+qC8DjpIkFoGxD/sxsWnVtLvJQOKL15w\n",
       "VcEAAACJAZ+cdEX/Agqe47V7qFspuQ4ma86Ceu80NecSu9gifbGu6g1X4QBud+8SbXws2bNnuBGn\n",
       "Sy3NvcuwfGfA3v0+O9LGJk4aUe8rBypWfUeJUwCM9J9cLpXzn4YdTLwKGABsHtu/V076ysek90Sp\n",
       "P0+7e5ROeRFzQmPbWUPAnsgFkxLPlUL6R7M1P60AAAB0AZ+eakX/AgqvK0DWmcBEwAzphquWvWgk\n",
       "MErP+9YOKzgT+GknE1O6gpuopENgBS1ar7xU46PqDuN9xMcmYHCiZIqlBLGyE3assdHchseAAQeZ\n",
       "oPTlKAxjLwofTcckQdE70apt2v6ens3bU0Si+n4I8CvfGPAAAADdQZuASahBbJlMCEf//eEAE03c\n",
       "Iiwp5UUzf9zlzgZImBlWdJY5O8t7xiCmCVySqpz5GW0rlNwFmTtxlXVA1EzSD3y98l1QLBRQCe8A\n",
       "BwHzOhOJw7KsVmBPEl8U7Z5ocJdnCC6334zC5HWQdRlixpwIy+37alwySYJyWmAYYdBXRxQPHwms\n",
       "TEJi6XS5LArJI/25qIs4+arx35bXBrk2AWfvFcfdMgnNKQZE6LLv7qAuCTVlMqDvbJ/H2x+D8kY/\n",
       "1PhIfIlq6KipFSlbW0MF60kY2Yw7dbjA8gVwyE7xDHkAAAERQZuhSeEKUmUwIR/94QATUbBVDPz8\n",
       "+436FAAXPgzUQQxob1R8gRh1IM6klt1A3jiUQEt2n7hCdgDRHEvM+mnYqTnWyTPs4SbAHc5NjPUL\n",
       "U8OeD4vHBFuG26LFsk4AzNMOdxyfshdVUpFcJuK6ptg1n51gAbYyE7XrW5sDTrZyQGOpN97Q5/Ul\n",
       "izQ70NU8Abzs0u4uLAMvxngLrlc/q6uODhn49/ljAyu7j+wUipAPEJBW4ay4bIqsqaZXZ246lm2y\n",
       "fwRKUArRPboFcYpl16U/kSQn4GgXpVdqVhevshay5TkZM9Ra2MtbKPloNZUvdnfzlwiqxNt+7Kih\n",
       "iZNUPzrnaj0ItgHBL6DfVEibshJ0hjeAAAABbEGbxEnhDomUwIR//eEAE26JtKAEEBDrb1492HXi\n",
       "X7UCtQoknba39DIBtEjQSRlno+kxsbR+hWshaS+NbwNpOE8TAwn//QBn/M0/duyypGY5SIYCxpA0\n",
       "7kuiU0JJpcS5ZA22PL3MNgDhSPK8HOmoo1hScQrqLYv8ZKoqV701NuXkixUXYOYpPmTVj8vZbp/G\n",
       "uW6Zvr6lcovy608E/zmh6JxcrmZEDcy71F/4R3/ahYsyqNpgvNvKoK1j5abw4ZhujTJtSSKk5S0Y\n",
       "dz1tgdvSeRE1nNGjp335btmieKZZ92FW9MwfzkZ6qSj3R55T6zi+MbjHMPupmvz4ddKjIu5sK2jY\n",
       "o6/Ypng1no31+eQHTA6J6F5WU6fvAAfQZDYdsqAf2AxUTq1AQzCB2e0VmWsBOs/4El4L3RTSHCBQ\n",
       "E52UUQ2xDmmcm4vBhxLN5VTuRYYU9yvqGPDjRVgXZ0ahvG4YchHAs4aOY/C9E2kzGFEAAACbQZ/i\n",
       "RRE8XwEGFSrgEijLiR7eLnzH+T4k4aW9AA2eWtH8lv7MJnDkmrFn3uKJ/Co6PbFbK/lN9SPpLAnR\n",
       "/ZM2sOrlNgvckv/c+qgmjHcvY05XoGUH1QP+fchvVARORLABmrH92QgGcXwMVI0Vi7BRbcPT5q15\n",
       "2bmHKWUGxNIg6iWkXHutd0KyU5JN7k6a7lUTxEcPTka1fsk33PEAAAB4AZ4DakX/AQVXxGD3vsM8\n",
       "V9kWR9U71SGHh9xF7JwwUGZaBXiRJwaunyNJNBCtuFDKQACHw67U7DfeHuwJPym+FpV0/SljdQHD\n",
       "FVdmYyxJ94eegHaCdjYCezaER2YYJbz0OTJl8S2VMQiyJASCuL9PAA3ND96UXk6AAAABGEGaBkmo\n",
       "QWiZTBTwj/3hAArDGMUV7uoQAATGzu92irB57BGoGHMYsZq6AGY5Cq2jfb+26Bv9QvF2tn231LgG\n",
       "zdiP/WAsyUstq40/1v0r3jXrbfByI3boVka9T0+OS7FjK5BbpIKsyBaUDW1QOFM4nMdz9qN7N4XU\n",
       "+/Gbosl+dO/0nxEmELQxZw/N47uVuUjfGnenS9zYdfV0c5BRaNLNirnbz2KF7DRrN0UGQoQPZyNh\n",
       "Rt0c9e1FT7ncrGkw+wc9XZvIOX1ZORvg5UeUOmzwosvpzBCRiX1+nkMqcDSPYcRvyfWN5nuNz3IP\n",
       "qPIs/KtyLny4nhk9U+bijtseNwEEkYF1+CkgdG8bSvLKRJ4UPFZnqaCUq/nn9dAAAAB+AZ4lakX/\n",
       "AJKSR6w4zGDDsqIMgMxfmOErrHaHINsAD1UbQhHiGYwC8ffMuaK4BspMNflG1BWReu7ohuxEnm4R\n",
       "+wmQekppAfe9FagpFlFwsygTVMfQiugotkV3vXR/ncgleZ6lFjfND8IqRWcSF230xMWwJjGgcurN\n",
       "aKBmzFBzAAAA5kGaJ0nhClJlMCEf/eEACs3ETm9xezhWMr8WcDOfE51v+UaxMDpAwAO0DqmsG/03\n",
       "icoWjgFyg66gyIYuN4J/742siDMKZHPI8afLSLtL+Q0eFJ4CnxpGYmMvVa6PMk/yy3tzmQVf+j2s\n",
       "H3axOzQMSiNs+DjoZpKMQERCzE/oya2T9eqOIECcfn0VS52J1dvnAqmofflGQ7/+rU5SOj8sGA6v\n",
       "VvNboOPQaGPquBf2TUyiiUQxIxTGPU3YK3AwdLsCoJISHDc0Ct38u6yviHsod1aooOiyQ5XROBO+\n",
       "dy7MlA8QDuIzi7FIAAABpUGaSknhDomUwIR//eEACnslrQ7rvlBZKBz7W78IDl7Qo81mPYfAAWCU\n",
       "T5/iP+25xaTKTi6u25AtIzQNSPHQnTruOTwjbBmXv6dUvlzlbKOaD3K5TVbjQf+yQYWAzyV+i67c\n",
       "vXLqjfFaYFkD60Eo+DXDTuvoRGIvuG/uGzpsRpin/RW+wE/g8GaCN78D+HLlS+0bv5s5pJzcISlp\n",
       "sCGM621dyE464rgqSz2V+E0ZawS2cfhniUz7HkbuKHP/9JvxSwOwnYDum5S1Hp2h7zh4jDH+VOl+\n",
       "Wx4uTDnNm56adQUy//K9GCFLOfGNHlW2g7MxLgpB7b+VS9aTfkuhGOTOse2oWcnZCQjEuNp7L8+C\n",
       "f9SvkNzt0WIKHwVppdZDN8X51EFLi5PDHs2hmuqNoRdR8Ir6c9GwG8gg8d8iEmP0fml68by7z0It\n",
       "qhfDthTbQtcOl2/SWxKAJVN1oopjXBsBjdNpvPMUsPE712uc5jiNiU7VP0wFscktR5dsaQ6/+E2T\n",
       "UMqJO/dwc0+t/2zJxvYQQ4n8QNVBqQkno+XJ8RWMgXA4+8Buq4EAAAC5QZ5oRRE8XwCO6xKjaAJ4\n",
       "1aSLKt6i8MmzT2nlHwAQ8jP+6eC28uP+CX99fxgBTyqY0bcsP0nQMtYzSiwefP0AlpgraSCyqv1w\n",
       "b359zhmFpd+DfVmkHIrusqcNXeEdIZUOafEVkHTSD4tWZrnXg/Hsan9dLWDishGjnRCfIMRhpqJ0\n",
       "dWd7Y+9LDaGsurIKiVCbaZbX0xW3Y8OrE4vuiD7kbjEr+PuDs97xOKGZHYr6INwzI9dlkcjTQnoA\n",
       "AACMAZ6JakX/AI6LlDGEmbiBgQwg7wHiuSjY5XAANnYjEXOvKKH1u2lYHp6a5nxrZsl+MFepn2TN\n",
       "IdxmfUjvOijGHnZ9LmmwGq/gabDfbYuA3exwtEf0U1TuHZMJUdKrup2q3et/ElI+pZlmoWowGotJ\n",
       "t3tV9xj1OqJfHjw/E/sOcevOFz6cnR42HZKmZuEAAAEsQZqLSahBaJlMCEf//eEACnsDFFcSl5aS\n",
       "ZYu1Hv7d4GpdKv/2082YqMgbyLR5wBG92hxeKT1SH4S4PCVmgSOOP7P8Bbn6c4pgBXTdr66ofuC8\n",
       "I/Kr1OPpc64Q2tOc5icn40Ed+huF4B05mzojKd0KK0wnNf37QHQKlK3wnV7Jk7X4ECad8kY22DSe\n",
       "Ek4neU8+5Pwux61Ma5hlRCDLRx9s3mWaTZ4mDuArK2BNs2b8t+QNMfKLRYa0NGVgR9D5MAOo9XH8\n",
       "axzISeUIZ2Qt7Ci/47pAuFAM7mr7MSHRuxu5smtT8ErpTyboJoR0wDcThify5SImLw7QjPpf/aq8\n",
       "gUB+W/SUL7pTiT8S5NnLYAqoPzrSAMEjCuz9Le2BMMo8K7E1EnRAAB+78Z0xFT5BAAABjkGar0nh\n",
       "ClJlMCEf/eEACo+oF7H6I2RrO6dZwcRAJX05vgu7JuAfmslJdvUIh2fPzGw31SoK0PPICEao/HUM\n",
       "h9kLn61n3rD2hXtdHaK8+WJvidZiElHGWHw7/mxySgrH/+l8Qiy0/V3GoJF7SaBRV8cniCBzu1dc\n",
       "dHqArjrA3svJ1YRCFNUljd3l0xaOw7BgZP38X5/2IVYxDgGz4LFTor3NPHEg40mnDzy3Q4Xhzl/l\n",
       "KJ7W15mZG5e39OtgN+EsBt0xhembsjWQhjWhHchQsT+uLEfTkK1DglpSGCl2N9kCqcTK9KzRE6wS\n",
       "/YSOSKG56pvJ5grlkM2G1PEGiXEaXQq7ZPQZbUP9ujVenFV8T7ohIkkFs8RSkNxE133WO0NrVglv\n",
       "Kdem2UKxf0HtnT8jqWcR9msohPPJb+w+IuMyMKdAgrSjN7E7Ji0ABGIFoTpWatkO9B5Uh1hKdN8f\n",
       "khktCX2tnujNa5dg//hcB4VzptpPl1gzlNcjZXPamkH/dQVikNLh0WRPn5hNhtyaQUTxAAAA20Ge\n",
       "zUU0TG8AcSSl3G2BfkuUbI0AHozptJ745h/uwcxAzUIcorUp1KCQ3iTx8T5DePEAp9tU472kI/6M\n",
       "rvqPNRmBOKZcL40HsXBL92Hzd0+vDFsQemuLqD4NWCfJ8nNuKijEmbQd06fyvo4rm8PDrq007Aok\n",
       "mIyOliGLuPep9Z2modqWN843RVH20doSDkNoPUgoNm1JirZJ9Y4MKxyVOeJ/20FdXuLK4pvjxCQH\n",
       "C+DJj65bc3HSnGnrkoCV7/rs7hXHBhQyewh0DpIQGWIHWKFDYCQ5K5Noad8EkQAAAIoBnux0Rf8A\n",
       "jpBWZ4yLJrz8q7cSI9+4gU4WbEXu/BezRrkM7QIZBX+MiRjGh5Nc/JCsvV/qj4uI3S01a2uAEI/x\n",
       "E/gs0ZRPqU4ELrAWmxfoihKUDU8bCAPpnX1xuPWcfpoaRVEqX18HMgGqcPY8p+KuMsbmhBKRcohA\n",
       "cIXM8B9/XT+1AOW7A994Mv4AAACQAZ7uakX/AIqSorrfWd7fimzl0Kzq0Llh+cGVX3tRD68WU/4M\n",
       "Ipgo4CR0/eKxVAGA3NklKpU2HYwAg1TojUnJSedrykTs9fImdzy5PbM7dgyp7Ri3ZP8Jki42ie+O\n",
       "ABmNVOpjikfIR7FPqXmNBFLS6jp7GOVk/ktQ/w5Av81YZFg0vLxN5D6Kf8KfOPFKGgdQAAABJ0Ga\n",
       "8EmoQWiZTAhH//3hAApHJ8Oj/VIeoruZq74048H9CbKetXzNorN8QBoYbP2NTVjH94cPt2Os9yTH\n",
       "Oa2u0jYB306x3wsdwavJIJs+brC3OSCkWWcldKP6JGOrethOpjHd8zSeSsLuCUjT2Okat/0wr/uf\n",
       "uDxnDaXUqyVWPDloJmWZoCoIJgZX1q1Hev1KxkAuDrohF6RbrontWbZ3emlOFzos8En+zGl9HuNd\n",
       "Ep1/huxXaSyLcL4K8lltM1MkaXlj74hZYXf1MSZwJDzebhvn2q9jhk9mC36c5eyynsdqX5Weyt/p\n",
       "2bk4bh9L1UNZhN8B9YLgBmHS3vGHMhbGItin70R72Yy3QXnG+NtSIWGzuIJZJYzrK2dAAJU728tS\n",
       "57Q1Qhp4eaMAAAFRQZsRSeEKUmUwIR/94QAJt0TbHvKcZEgnKpWXBb0BACvt+S8V7BI6dhzpXzw/\n",
       "naQXMyD84ehoPUhnE28R3tZNlfaPJk93ch7JIuO5UO4uy6sU5XzRlAKGt/lTZOo6S0PIxU/Iz/pw\n",
       "/pEH1/TXSuRitW9K86xjKVMGXr4jgS+ilT8lJRXmWkFnXfjEUiLumaqcUJuGCcjtlrJc7+oGpZHo\n",
       "08Kh7zzssCHIoAN8X4ojBdL6XfmfRngEh/ZO5bAIhuebf+NFWdy0WPXqYfGG2YC1YRrEo1tx81E2\n",
       "Iy0zJrbYgRqpOLnYwu/ELKp6hQgXHqsjFlI1D9HMFYwIeB676BEbqTnAnKqqt+tgsCsLNwvd1JnN\n",
       "KB5QQqFPOjsCctSUgNCOU6udLkcJQfZ/L4Il2uOlRhCz+V3DPuaiKZbDKDR0ncJwARuXlsk8yGcQ\n",
       "6tKCAoRVwAAAAaZBmzNJ4Q6JlMFNEwj//eEACTf6+IIUTCES4+xPWmk0bwbfFi+RGh86YPMVum2z\n",
       "o5qpeCqkDelinDCSdXsDSRHfWggTU/GIxiaUbO5WbWvdsu7oBboNwLMScVsXwh+YmO2lKumVxwBC\n",
       "+PLIkwdwkq3Ew63Id/Z06+WUa2whDkjfKwtFGDFS2TBdrW/6q+zBNp9tdKpSP8Em6AWD4UL6+qj4\n",
       "uALt8LFWn6k+a40y2MHzk3fpG1SOlMmOYRBpSNkG6vyQ/PMqhjYJpEyeQKE8OReocg46m4KhfHL3\n",
       "0VAOblsvJuvndn8fzv3TzwrY7+0REuhps7CXBvcsJpKUKoPpzDKhX8cyS6m5V6MYEo8c6D+mf68/\n",
       "y1ZgT+n2inMHwTJaWLTdottw6EBGFc7AiwRowKHMQpl+FCjnUe6xsjHXKPgZjZT57VhL6agJLrP2\n",
       "P9Q+McKoq5iIJwNflIpyCyThJCFcG7EKWfW71vG61Zc1/va4nerxKiEgSDhLbOtfLxJeL+bdijHU\n",
       "HmiOP2T3HGw+PoJn7/UbtN5A3qC4PN/YSeSn85SFczD4uAAAAJcBn1JqRf8ARWtpwF0c37JqPJJ7\n",
       "JInow7rM4jln9H3NIxCvutJfoM9Sdn5OeXiZZQAf8D4zKGDW0iII57XpMPFUfv36l4/+Dim6wCSc\n",
       "2vWcexKT2Xudne46Lja9clLc4TsZJE3h5gYWfPHk0ZUldo/DmD0dYxkugoHXMLZDKfCD25SaDbr2\n",
       "u4KZX+NMaRgaNsykr+yLWqvhAAACAkGbVUnhDyZTBTwn//3xAAX0mw2M5cG8LK9VqL9QARxxsdq5\n",
       "PoFe79K/9b5mea+c8wo07wTqdKbD0R6dSvy0ncpiu6QkmGiQbg4/A0e3xZzAss4+mLTzFq2ghPsH\n",
       "225R83pUEwQWxIHhM5wP7pxVHEA3xqF6Wm1+aEWKcrNtA3n2SNMNzV2uoddvgV1NaI74HIK1J8ok\n",
       "76iTFAYCi42V4XrDddBOSGkARwtSOYjWI8tlYiljBDJyLZra6TRaPHjgk9kbI9pznZkhvBGcCCNt\n",
       "s7j8lXkyTN1gZfFtyYhXNdgOKzEqJ6n0RYtKmCCTL54rO89OsNUNhQh3+RAQOrWWam8L7MJ0xIRf\n",
       "j4eTS/1WMDE/9xPYjmERBbhQD54GZ55NUFFdo/vozV7S8r5uBCIxbvCIu2twYL/KbvIjP2nqQfgU\n",
       "NbhOZiV7fVKy1zyFxgoToAAlWFZSlvBmpBTMYCSIg+gjE3HJ0Qx0CHNPofTx7Sw9dKj4Bfz8xVyD\n",
       "39vokxZyk9Ffhf5TP04xyhGChkE+gyHVHqpqlPWzkU1MuUbpKtcCkovzHjTbQ632p1R0AeojovU6\n",
       "ny9OW17EQE4lkzDC5c1i4d4wJzHT6gV8FVgriF1E0SajlK/ljRaug47NQpysmEYOYW9h0kF98zgm\n",
       "dKcR2pClUm9+MdTF9k/xxuUKtnNAL4EAAACJAZ90akX/AH8bEU8CD7lu1Roro890oQeUCAGuWJTY\n",
       "unpQ2kbYGd0Zqp+0lf5fCNoIBoiglLL9VgQJLpuuKpZRIv31/ItBOeC6DJxNkJVw7Kw87Iyvmqfk\n",
       "ABA1JBd36AHmxmZjzUrqTFdnEa543/nt4nIxEp+IstPe8xktXFu0RVfJVhC67x14puEAAAFhQZt3\n",
       "SeEPJlMFPCf//fEABfSvQxnLg3gHAIe3QgYwmfATxop25kACV1cu78QCAeAB0c302r+CTN4qEf3J\n",
       "mdULatZ0D8Pdq0w/OgzNzFEv+C7qRqJU28nyGzdx26qjr/K2TtJ5gbgpZ3hO9C4INcms2Z94f0aV\n",
       "780TRv+lJ2KL1hLZpjTSOwjDHEmAxCaQPQ0uH9w5VC+5kYK+pW5diYvwaFETPyedHETXQFcBI/qy\n",
       "uXVkvhIIgkobQTFx1ExPN4WmNgJBvzZhYpCd6gB89LcH87IOUhpRyeWh9dev7Xf9i4dvrBO7rQTb\n",
       "lNLeGqV8HKwzhF1B/ZMues14lF9ORG+LnFaSGz6NztuTYzklg8zMhYRUfttzJw5dAufSn31yK6H9\n",
       "SHFv22I9UK1tXEVU7A+SRt6wRAMqVasahTy1q+jyhHj5Ca1vyj9diHpHCh+jmAHeK7N9zwT5w/XW\n",
       "DrrBn1OPZuAAAACFAZ+WakX/AH7/Scl7lWp+isLDVTflHO1p5OACHkcdb4yL0fo+nxCQR9GkBsTI\n",
       "2ndJ/BeSk1SMQXKdMlDKxlow/TeqANZM5jEdI+wD36sSHtBFbmlP0X7ovCME32vRLYoD9V9bQ9Ph\n",
       "1ABm+OdIlhxYf7Hmf3fV36o07OEmiEbtXY52pf9XMAAAAYVBm5tJ4Q8mUwIT//3xAAX2moa472kD\n",
       "2lRmDyM7p6Hn7dckl/kJLWLvBS8K1theVAS5aCCRNggxR9PgXHDez2hJWUImjASVun1/e/jzEqLC\n",
       "1EtEhgh6KqW7UDJRxzrFuTEgZpD+4OCq5/lhTPNENV3uReQYVlseDb/a2SGwXEi96O3vUoE2FPFp\n",
       "9rNXtf13Pb33rHxSMN912d+wTjTnFuP0h9Fk255eik1hB4JqC7c570rh2vZuFofejcqqdCU/jfvt\n",
       "xiB8tWKz6NGHhAVrSqzt4qNo+9IDHdXmuk2Iyih3CSDcGcJY1VZW8eVzP/A3fsk7F7JaSmA5pn7v\n",
       "5elGCWpTIctLqmFFZ04udghn7ERaseJcwQVHe1CQC2MWRGpVQLXqlN9DoTvF5o9OT5PtfsFx1eXX\n",
       "Jgu+pRh/MhXw+rqFxlrrYtlYTHC5uOQCrJruOifg2SmGbdKG+Afb+D+qX7Hi9xe9Pacz7VQj1CVA\n",
       "7KRD0U5rfKcgy9KJTSrjP0M3cMTwj40ISQAAAM1Bn7lFETxvAGcOQ4mHen90avMCYn4xxdamPOE/\n",
       "VGDqaQkE1u1JoxB+nVKyYY5mqDSZxH0OSE1n2zGYNrwV9KQWVmpDN2H+01Vfq4n1OGQALyJJmFbm\n",
       "leDDFheDhPZ/u/QGja1mCnSjHU0NrxlmYd0AyoQD4iFL0ev7ikwpklBk3CFy0XWbPyL74/KBBWRM\n",
       "Qu2MU9ctkbex8TYLFISOjQ/VXDZqSKZKYPbXMmMBnWy9uWoih0aq65Mllso45+4YMSNi1YGwbBoz\n",
       "m886VKqYAAAAhgGf2HRF/wB+3EKO3I59GzjBpwLtjwGpwjSLHE/Evj/XXT2//FEI7JNsEL7gWjiO\n",
       "KSTjqmB956XrkAMfmWLknv0eNCTQPY3CQDZ/xPB4CwpwZwgAP5yFABmFroNxWYseez3gqzxDSld8\n",
       "RDgcPa+GOv8cpWuz1b/1KwJK/LNdhls+WoRexWHEAAAAjAGf2mpF/wB+/c+yUJ4SGbUvfv1ZogRW\n",
       "3gDhjYDnmMa/qrBghDGD5O8ufJqA85Ggu7d5K9n3siJaUuFw8duRwFlEqAC5VRp00pORLko7UgVA\n",
       "+/38tOqDrjssUQxRPnleQGUoB6Mc1gt1mYczjWRaNwd8J1mYkrqjCVUWS4Z9AIqdSnJp9oDkdprt\n",
       "vA4/AAABXkGb30moQWiZTAhH//3hABLPqgBBimXaX74G6MaNeGt5X3JNbRt9W4vOBpTFyS+gh31t\n",
       "I5NnE+dCMQqYUrNqhPb6nZa4L62qq6e2sxvwRwVzeyJ/aDxFxY015wZxZH9VpdqeL7WiZ9P4/2Sl\n",
       "9jJGqrcTltfZwWlQaRKY7SeKxJ+qVGGDVQCLHqySh3ul3K1tKfQF4LfFT+tFza9CEm+LLQZeHOxR\n",
       "Km2Qy/98KKLbKlmU92OgYdfM+PW1vsfEWoPzBnF0XhGh8L74DLWXdgkdTym5/qQQ+wNdQSbjpS24\n",
       "mfDHObM6K9Nic7Km34aCMUnjmuh+t+nqcVwwHrcBfaj/YGtXRTPjB/EmYKcDx4XRhSLaeeJcb/3y\n",
       "I6clMrgvsF8gR8AEhA/MzLQL8rr6fLf2/75MX60AWQg3w0prIsj3R2zKTKDGm+hK9TX56SpJlnPx\n",
       "1SHwDLZ6QiU/NoahlH6gAAAAs0Gf/UURLG8AZw5DIvcXSbjDcdPuvRiP74KvwCAQG0Oai+Tn8q2v\n",
       "iGnzDHt3AJ0M5hFXM2wrNviZvAWfvx78rigMGY5fwFYAW3P1s3OH5eKkZLScTuYF/fjzO9QhFO/S\n",
       "kDjNHmVv71u6N2Ugf/9kfZRwNtkw13xKYj3vJJM31jrRo1yOnMALBcmdl6Zi4ACbrt2m1juDCgLC\n",
       "dmh1ASyup148kC6YzphNPGLjc5gevQ+SDHXBAAAAfAGeHHRF/wB/Rvy+972t0Ttr6xTunxstfM6u\n",
       "5ml57bHJqgLz8c0EsM8GgATudHMQoW+OkCEwNZ9gAh/3fe7pr8uvUbcXgb0fdP2cFoANJ4NNd0AL\n",
       "tsdjOHJneVKYsJzcG3lZQLBpN3Bii13grQAYhRbyOlj0f0CtioaN34EAAACKAZ4eakX/AH79z7JQ\n",
       "uWlvB1mDKKA7U3GN5pklyBakVojZ2M/91athA0iRzPerPqGaRoxeEyPa4B/t/nGfnz1q9ci8CADa\n",
       "c5JITQZ+JOK2qYs5HbVEnNOZhXKV0j2xi7pgTKTmCY3fusuMYNxjfkIeahnMCuQrIYQZ8J4f8c+W\n",
       "yYlu/0E1j0jvevdAAAABS0GaAUmoQWyZTBRMI//94QAS2trqXNvo072E13bL9kAAa+kqaIpY9j94\n",
       "s2N15cUq6Vt8H13bncReM2FAZBytSGAKSsiM3b6nw3JeevQ6rmcC4f8EchcBpjPR0o+IxjzMnPiv\n",
       "/v9DqRQ4UVR89qJ7CwMKkr9io5oWC2hUaF+TrOycWaIGe3tPD2jyq7cKaEEp+w4/DY6Td+sQcvGr\n",
       "80Pi3gFpnHuHMbEb+tmJa6GFLpMyzBaJhR9zwU1vr/NM8J9JNoUG9WltJ+CRzgEx5qOeYdON4tsI\n",
       "P8LlX2O5+njJTwFZE3IPSQOmUKiynUvdYtd1T052oFzpNgErRjEl5VuwpV5h+91M3dDWJ1sdXpvA\n",
       "Zj6P4g45BnvzwEmtHs1tIy8mTT7zTDX+uQSHSBClD9fneKrrhQ+nz88rucolqnXvVKvO6Prrtw+4\n",
       "jX5P0HMAAABuAZ4gakX/AP42IaApMBQ3+GB9dJDHmObghkL94pA2VkuNVMwZXRRMmfJu7IJgeHFP\n",
       "CmDFE7kIbLnAqGWKBLnYbAbdnCeHABoejjsaBEoA2HqzTgjc5dnksO1M4sqTmO34AXGzV1G1aNZJ\n",
       "zXFL2bAAAAE/QZojSeEKUmUwUsI//eEAEtHKLOgQBHCWT9SQlbqvlb0NB02IAnCXtC0PHLYNX6FK\n",
       "n9bS/q/G4qgp4JPVINmPrQh2YbOWLHu6wdV2k5I6CRyvAxaQFd6SYhTRUJwtEAnW+hNlUvQsDtYy\n",
       "5pFHgb3C0MuoWteypjPRRmllLeTqLgthIIR9Ww8MeyzgmvrC4hor/jBmkoxkBr64WMOz/+AIfzlu\n",
       "0XFycO0T2Uy81Nh8jgvqyzHVA822WKHSvQC0iRy/XfDS5KEj9k4r2CF+Rrs8VZxL+/EqvRkyLZKy\n",
       "Xa8HB62+evyH608KWQs8JMHx/wmPg6iKutZ7aDhgzJVeJym+tM10hoDLzpWfDGdJOUG2UTXCfxQl\n",
       "jo+Z8TbvyOd0xi1KtABwRXX+cd7bUI8xKghqvXN8g3bjpf3WIe66QB49OQAAAIABnkJqRf8A/OrG\n",
       "YcMyOA5WCXUBEBleGquCoVgYagC3CbSiDlV/+IyFQk3i7Ngdf1AS+e9e4b4JvUAGkAIYJs4xXsxT\n",
       "oynnQlpVUmQKQO7yhpyw7lLtfqg9jN8P05ZegkN/lwWalNQvcbzo+Mgqf+5SsSxxVsoUV9GT/Bdq\n",
       "0cP94QAAAQ5BmkRJ4Q6JlMCEf/3hABLR4g1/NB9+/m0nNE6W+AAQq/Af9b5YTZwrZOshzU8ybcN/\n",
       "sXcgEOhCd8hy2xRmWzfMh93IK68hHKcCfkjGIFE/nIZGDmOxXHnVnXpEAlBiyREO9aUjcQQ1XOk9\n",
       "9PUTL/Y3DOeAv9WMMlV69oJvud6lqZ/m+oclUtb3K/qGAzF/sreUlhxcHVRapTwAPTxyF3CZw1a8\n",
       "PMrnRFktTDGn+uuzbRjBfUD4Gzxq5+pWUOJKPhSmC7afDuJcoNJqNIoaAMpT7dO1VjMEMq3RQTVo\n",
       "Cp3Fg/aKH3SnQkIP2AB2TWSEgo6Hr4U4jA7PPgMDUsZPidFSbn8xCktV3Hjl4IjBvIAAAAFqQZpm\n",
       "SeEPJlMFFTwj//3hABLRyj01CAEWNB5PyjcbM/RNQ4v1AjfBL9tFK/boUbutTx4rg1yU/flyatWn\n",
       "/AzeesRyrz8sgctmSNhwdvnaHXb5FBKyckvKa4Yc3t6GbMC5T/jYX8aIIrrTWdg+FstEf/eJqwgI\n",
       "Oz5U+Ytv1TjtPmTCjJPjwKMMLcy8aW5sgLs+n2TSnGYl9wN0CWgVXNorMi8ELmwkJOHFroZQGJQM\n",
       "EES8qqBloVVPgQtrIDAGImV6BcZk94e+eTHTmWfj3ol6yIDSZO+VhUjFLkKtXc7EKfcmp1GkkHGC\n",
       "huVWpE2bEANl4rLrIdtFa+LZ4BO8F7+o8hayfda5p/3/9FroTT2GzLYvLH8FgYRHYE0FrkgVy+R0\n",
       "KXKZLzEZ9lE+TPBdGbu1V6jVrog05PT8E0HPrALbHHX5n4V7BLEVewR4gvtQ0+5e82DIOOn2FCqT\n",
       "SOhVGs4vsdCZSBy78UTH2uoAAACIAZ6FakX/AP3+mpJl8UF9z/My0IHNc5AD4hjZc87TZzXDWITi\n",
       "McaTsAIUT2WBvJIaBriCabLyqcQIcH6a6cFrTRn1j3+q3y6alDkb703iflTwd70MlIhL8W0+LZEZ\n",
       "nZmDERaaMscDthDDdjqg24V4iAtGoOetQft/Dti46fjBtXx04LYuPTiogQAAARRBmodJ4Q8mUwIR\n",
       "//3hABLUpwzPUx78QAD38E4BaLZJKnqGb3e9q0fUZp4U7PfZo5PVu9Pgh1/N0qVC1tKeImfUe3VY\n",
       "Di9ZPQIbk/6kaWZNIkmLi7S0qXotTY0h6uNJml8EXd7XeS7xRYnwnQQJSSGk5DM17ZFE073m0Wff\n",
       "9yjqgSyd+iNgZVbc8+Cmxp+YyIpUJo3xTaIjEn5rCQ8hn5KkCkwxbDEAaytu7DZxmblabpP5rcdD\n",
       "3q3JUHP20YE6kDd71t0frfGGbG8mUBp7l8B//VRcE/gah5JR/GJI0wDoMqYW2gYnM8qby7C/1HHY\n",
       "tOOVE2L1zpQg0kOtrEmfvUnPZuLZsvKCrxSo4LKLgBEuRdR2NOAAAAEdQZqpSeEPJlMFETwj//3h\n",
       "ABLRyhptTtbqeRNFGNy35+XjV7q/YruiS50sAa76TPU8jdREKaZE1dhN8mTnCm0UM1v8kd8ZmHw7\n",
       "J/yFBhnYZ0FMub6SzpmEuxnyfB0buTROu5uhdlP1YQ6dncs4pk/gIjczKiqEnlOJrLxDES6v78gI\n",
       "Dle/3XDxGbigYtjhKLXFRBkhVKABDG/CCMN0Rmy2+qwhdFDqPLrScYQAdwEuodHFN4DlW4zQ8q7v\n",
       "yId61NPzVZyOP9rWBhetiaf7ihej5WghWaUgaQ3e5FbF4Vl8v7NStf5WizCKsqT4Tiip6txrgJFI\n",
       "uIlkkz/mcxpNVemSoDtFbJDBSBaVeLTyK81iiaSwpJjenv5ONBLaXYHdAAAAcgGeyGpF/wD9/pqQ\n",
       "9AryHmMWizShH1iXGNzyYcglBJZwRjByoObiUQKyo7beLWWTB2DkNJIOta/8BKsqDsPUGdJU8YRV\n",
       "JdeSFdOZVOUlAN+Cp7vKvQ07CMLAxTdd7GFB/0cQVzolDSeNd7Z32j3IGGmENAAAARFBmspJ4Q8m\n",
       "UwIR//3hABLN3RK2AGk6xxXTud/A/g3K081tvNGvM8SJU2zApG/1aOY/y1W/hehg/V8M75V4LTU3\n",
       "vWxDj0O4x2E49zsJFZ4vZSm0Fq/hDwqrSz9EEyXRpnzEnjbK5AQaP6XU47btnyTZjN+h1qjYISJy\n",
       "n5q4rTQtGgrRvhH5mmiRL60248oeuBWg0LlkYlDA//e+99jhyMVT+Pt1IMIGleDKiKDpLNE6lJuV\n",
       "pWs4EqIrhvT/v4VBPZUKhbZbQTE7/j2rUryjm/TvSh0NWkq5wMn7W24MT36a+vT0KvZ2A7Bmfooa\n",
       "IXJUEW8TQjsKpwAIQFbLjmBtyGIbZUxWj5ruGoAUBQ7t6Pk4CaEAAAEVQZrrSeEPJlMCE//98QAL\n",
       "695joAVsYxKBRBUlxl6JYXo/0tu0bF8seN6sHe211A7CMo7RDMxxb8WeX43X+abACYLlwUNlfcr7\n",
       "/B0/OMx5eBZRqJvm+HYw4cVsiYNz2ZqasCrH2qdBXJJCAD/rG1YtLcfVOXpRjJa+0k++QOP+WBaJ\n",
       "tcuqAYAUfMCEOAsfFdnAJlPm1gWG2RQ+R/MpfSWXeCTSkmBu/LfK3okHgRVu1A/40qLGV/U3uXQ/\n",
       "S+B42t6Ji8XCgBnDHIkB/yTAPdXpPE2S6BQZ908faGrG5+PzONWg615PrMzHAKkZ6PYyHKYwklre\n",
       "PR3HUWB+z2g7eDq5sZ8SnLRSchMK08zHW135mU69hjag4QAAAVxBmw5J4Q8mUwIR//3hABNuiamt\n",
       "Qy2HFkJ6yMI768IMDKofbsA93+FynQZp9cwMNEun0FSMhF28xmTis7ZzgZYzQqmjepXmPmx3em4S\n",
       "5HKmxBJ5M2HVouQhwk1WUHTTYMLTQy96nbSec9eNNtiSBuzYLzkcZIdmQGA/IYLezUq6zxhFJnN+\n",
       "3sEx164TgAxbysJWBBrJXykyiG8kN1WOIHXlwA7ojTyvQ+ILJgfD+uyt1IJVB2QStw21sd5bg3Al\n",
       "3TIpinAzz9KwPcJDB+Nk85N3B0UhFdgeK1IT3s0OHi4jmMJRqKWESghKcf8FCmtNakn5iaNrRZTn\n",
       "72EDbg4cictOqjkwar/rfuOg4GFomHxDpeiQi4usO+FfApkGEEY76mpgzRTWadYFdxcq4hRoWSfw\n",
       "dmt4Qrd+ugR4IT6hRvFUN0zJOZNMdMZn1y+YLuHti3myG7ByTKN1BR+lwssAAAB7QZ8sRRE8XwD+\n",
       "Nh+HwC4kg3TLE/gU3L/1b7iwvRjtCrReanrIohXnns3qOO0hyYx2YIIuVw978+Jr78/J1c2G7cl4\n",
       "gBXtjjjok3BWGKNbXJBvqf9G2sKk78E7E8RsRclW63u5OvsksbF2xUhQrKTQrEkxvJonES+BYFTB\n",
       "AAAAfgGfTWpF/wD9nZpjqebSaiOM2SIecA/nz3r1F+ulMlVzwCXJ44wBJZpneXJsebNTlD52AAQT\n",
       "WdOk+763Ee41NGwssxby3XZPla98tXoYSQwMWbfFHRFCMIZgGR2EYuFIWU/c1do/QL7TckJ0TScJ\n",
       "nyD0Y+cNbnLKBEar2FYfgAAAARxBm1FJqEFomUwIR//94QATTSQ2J4O//QAkmykESGp4Aul2eb0H\n",
       "8BTC7OgSMrtQAsmPZMGlnP6gDknypOIOmMGFO8BL2GYyHeMjEIVXBUoSO+9XPyzwOJhPy8yty89f\n",
       "8ZGMb3K7wprGkx1zg55ftgDkExN1U8U38ngG3jpbCJrWMg9S0YrCQH1BL2qJUna1XAfGG98rLsOD\n",
       "uvQY7l9+jxAe6U+wnR/4TG+xufa47lEEwxsIXeERJ23tTO3w48b2rlc9P3G5jqmzE8H7130QKrwD\n",
       "D/Yd2FdqfYSU7nIS0YYMbstGNFfv8Ud0MJeGY112OWd69+8V9JLOt5/wNtevIaI0XdUrn4NcqGsw\n",
       "rd6ZIU6i/6Qu3Mn9vjHqcM2uwAAAAIhBn29FESxfAQXyfU7p+yx0qrws1uKwkG1rUuZI/rYKT7C7\n",
       "ol//DgbkPDxsB57u3ferWettFo3NRLJ6cM8LceVV2kb466lNNa1r6mzrZMqkS0hcY3SsYqybYWdo\n",
       "3sHYAQg7wKBvZAAVuHy9fqJ0/sPIBxhrZzIn25urn81QnykcmSrKnJw3vdq5AAAAcAGfkGpF/wEF\n",
       "8VwyW3z+MPrCB1+bTglIaK+0u8o20yoRCg8OPKROISjH6FILXhTXWGz6/s/bL5VDJrMnZgLC/4y7\n",
       "azr5/CZtwcm5ir6SaRqUBUjuuJM15clhllEbS4zqOC0OKbzwACDTuvKnj8pSN90AAADsQZuVSahB\n",
       "bJlMCP/8hACWW3mso7VkndUyNmCYnaKqUaDt2Km29WpDt2VoPufXN7he0I3ptvak39YhsECXr0+n\n",
       "Luw6/2spT/SZ8zsY0Q/mcY2hZu+4iJhNk+tqtb9k90Fvhbv85+CQpfLz2mvSDAgysmmOEY/Mj9ni\n",
       "/ojozLIKqvHx8bNTsXIrpDcoFpuD0jDC33bUC7BbSwcNYOLN4MizTQqh5L9iSn6nNRKjQkj1JBQD\n",
       "M6Sp2vWl9zyYONGfJqionauifG0cv/tkVh4YLCaFDAXIY/kcBVpzTKtWlB13t6YQgWi1V1wSVBCj\n",
       "5WkAAAC6QZ+zRRUsbwGkj5BcxzZzGNh6deLTsgUTyF7RItBwJEnbUfkJw9IpWYbv/gYJA7MbYcNM\n",
       "qtOzFPZN7M2xmmuys221Bl05HXkyCESmry+JH8acXRsAAlpTMUL3msRb7CruF+v3PJaAKwG/VilH\n",
       "+eWT+pXOSNUOy8+G4vVa0kKdHP0k3pE0vcdXK/j+hdOjsxkWTIx9DdNGv24IWKmbijNgBfX6zP/1\n",
       "WHpXV0dgEiS8ww5yGbkdeeztoMyBAAAAcwGf0nRF/wH8v01iTfT5MnRE91vWaTaitMAfIgo3vYX7\n",
       "An/vvXu3Zrln9uHsUEvz/SAJM2WG7529DycnpV8KIGy94AEQJ7LAncKb2CDphaIQN29JwOYR3wk0\n",
       "/wsegA5HZWagcqp7jYBYzVw7XEkUsOxGTEEAAAB+AZ/UakX/AgtdZPvOvXY0LG3+vIRHmi8A/+Ze\n",
       "zbHzYyPEChNIiZiUKB5LoPVRe1vP1HOUe1AB79CflyKTTyMut3bPjJOP90GlIzpQN1UECNWrz4we\n",
       "YNvoCFiq5D7j48derhntQ4DZmCGisvlEBJZMraZFW/ufWFQXHf+PjZDpAAAAqEGb1kmoQWyZTAj/\n",
       "/IQAll03XyNVdv7e2IXIdGaHMUSweMv9ABNMG8/JK3NTbWhrpMLzUmh1mMt4VWduEeddtOEmcDA9\n",
       "ygws/kOqVK1cFjTvWsmt/bhAkTrJ6D81l31Twq2f6XfjKvXgkGQuyrBUtELfKrga5wrbX8lGgtwt\n",
       "wkHors7o+2su3Gr4DgpmnELX86FgocLieiaxXJGOV2zlXLoO5uVhn91Z0gAAAJpBm/dJ4QpSZTAj\n",
       "f/pYASeZZFPjdtegxtmru+tw+CSTrq9VtnYE0U8P3EFWtFcAAl3CA9vyNgPehZjYz3BRp6BCm95T\n",
       "H2vohl8vbwM/+nrfn5zUJOE6dDC5qIsSUaFEL5Nw6uGLdPHF1NGqLqETD71UtdNqJO9vl63rJiBZ\n",
       "pdQ1E6+m8VBoMzv1Bi58b08m2k5BnC8TeRS6mLdEAAAAqUGaGEnhDomUwIv/+lgBJ4Zt4MzazmKo\n",
       "JDgg1AyWcxklz40Vvy4coTuz5XgAH+mIUjkgs+GZmYG21aTwyEZBaj4bfMverP/5BJF89g0OMzrr\n",
       "WzW9Fz/01C03W2yZyW/LUW5bQ4t9ErzccDxmXom4mT17jsHxs8Hl4j3DOaCBWgtZpw8cWbaBOF+/\n",
       "5c6kYb1hIhpK8YS7wDs2fxd5CrGtD3Opc0sTA7DRXoEAABkubW9vdgAAAGxtdmhkAAAAAAAAAAAA\n",
       "AAAAAAAD6AAAE34AAQAAAQAAAAAAAAAAAAAAAAEAAAAAAAAAAAAAAAAAAAABAAAAAAAAAAAAAAAA\n",
       "AABAAAAAAAAAAAAAAAAAAAAAAAAAAAAAAAAAAAAAAAAAAgAAGFh0cmFrAAAAXHRraGQAAAADAAAA\n",
       "AAAAAAAAAAABAAAAAAAAE34AAAAAAAAAAAAAAAAAAAAAAAEAAAAAAAAAAAAAAAAAAAABAAAAAAAA\n",
       "AAAAAAAAAABAAAAAAbAAAAEgAAAAAAAkZWR0cwAAABxlbHN0AAAAAAAAAAEAABN+AAABAAABAAAA\n",
       "ABfQbWRpYQAAACBtZGhkAAAAAAAAAAAAAAAAAAAyAAAA+YBVxAAAAAAALWhkbHIAAAAAAAAAAHZp\n",
       "ZGUAAAAAAAAAAAAAAABWaWRlb0hhbmRsZXIAAAAXe21pbmYAAAAUdm1oZAAAAAEAAAAAAAAAAAAA\n",
       "ACRkaW5mAAAAHGRyZWYAAAAAAAAAAQAAAAx1cmwgAAAAAQAAFztzdGJsAAAAs3N0c2QAAAAAAAAA\n",
       "AQAAAKNhdmMxAAAAAAAAAAEAAAAAAAAAAAAAAAAAAAAAAbABIABIAAAASAAAAAAAAAABAAAAAAAA\n",
       "AAAAAAAAAAAAAAAAAAAAAAAAAAAAAAAAAAAAGP//AAAAMWF2Y0MBZAAf/+EAGGdkAB+s2UGwloQA\n",
       "AAMABAAAAwMgPGDGWAEABmjr48siwAAAABx1dWlka2hA8l8kT8W6OaUbzwMj8wAAAAAAAAAYc3R0\n",
       "cwAAAAAAAAABAAAB8wAAAIAAAAAYc3RzcwAAAAAAAAACAAAAAQAAAPsAAA5AY3R0cwAAAAAAAAHG\n",
       "AAAAAQAAAQAAAAABAAACgAAAAAEAAAEAAAAAAQAAAAAAAAABAAAAgAAAAAIAAAEAAAAAAQAAAgAA\n",
       "AAACAAAAgAAAAAEAAAKAAAAAAQAAAQAAAAABAAAAAAAAAAEAAACAAAAAAQAAAgAAAAACAAAAgAAA\n",
       "AAEAAAKAAAAAAQAAAQAAAAABAAAAAAAAAAEAAACAAAAAAQAAAQAAAAABAAABgAAAAAEAAACAAAAA\n",
       "AQAAAoAAAAABAAABAAAAAAEAAAAAAAAAAQAAAIAAAAABAAACgAAAAAEAAAEAAAAAAQAAAAAAAAAB\n",
       "AAAAgAAAAAEAAAIAAAAAAgAAAIAAAAABAAABgAAAAAEAAACAAAAAAQAAAoAAAAABAAABAAAAAAEA\n",
       "AAAAAAAAAQAAAIAAAAABAAACgAAAAAEAAAEAAAAAAQAAAAAAAAABAAAAgAAAAAEAAAEAAAAAAQAA\n",
       "AoAAAAABAAABAAAAAAEAAAAAAAAAAQAAAIAAAAABAAACgAAAAAEAAAEAAAAAAQAAAAAAAAABAAAA\n",
       "gAAAAAEAAAKAAAAAAQAAAQAAAAABAAAAAAAAAAEAAACAAAAAAQAAAoAAAAABAAABAAAAAAEAAAAA\n",
       "AAAAAQAAAIAAAAABAAABgAAAAAEAAACAAAAAAQAAAoAAAAABAAABAAAAAAEAAAAAAAAAAQAAAIAA\n",
       "AAABAAABgAAAAAEAAACAAAAAAQAAAYAAAAABAAAAgAAAAAEAAAIAAAAAAgAAAIAAAAABAAACAAAA\n",
       "AAIAAACAAAAAAQAAAoAAAAABAAABAAAAAAEAAAAAAAAAAQAAAIAAAAABAAABAAAAAAEAAAKAAAAA\n",
       "AQAAAQAAAAABAAAAAAAAAAEAAACAAAAAAQAAAoAAAAABAAABAAAAAAEAAAAAAAAAAQAAAIAAAAAB\n",
       "AAABgAAAAAEAAACAAAAAAQAAAoAAAAABAAABAAAAAAEAAAAAAAAAAQAAAIAAAAABAAABgAAAAAEA\n",
       "AACAAAAAAQAAAQAAAAABAAACgAAAAAEAAAEAAAAAAQAAAAAAAAABAAAAgAAAAAEAAAKAAAAAAQAA\n",
       "AQAAAAABAAAAAAAAAAEAAACAAAAAAQAAAoAAAAABAAABAAAAAAEAAAAAAAAAAQAAAIAAAAADAAAB\n",
       "AAAAAAEAAAGAAAAAAQAAAIAAAAAGAAABAAAAAAEAAAKAAAAAAQAAAQAAAAABAAAAAAAAAAEAAACA\n",
       "AAAAAQAAAoAAAAABAAABAAAAAAEAAAAAAAAAAQAAAIAAAAABAAABgAAAAAEAAACAAAAAAQAAAoAA\n",
       "AAABAAABAAAAAAEAAAAAAAAAAQAAAIAAAAABAAACgAAAAAEAAAEAAAAAAQAAAAAAAAABAAAAgAAA\n",
       "AAEAAAKAAAAAAQAAAQAAAAABAAAAAAAAAAEAAACAAAAAAQAAAoAAAAABAAABAAAAAAEAAAAAAAAA\n",
       "AQAAAIAAAAABAAABgAAAAAEAAACAAAAAAQAAAYAAAAABAAAAgAAAAAEAAAKAAAAAAQAAAQAAAAAB\n",
       "AAAAAAAAAAEAAACAAAAAAQAAAoAAAAABAAABAAAAAAEAAAAAAAAAAQAAAIAAAAABAAACgAAAAAEA\n",
       "AAEAAAAAAQAAAAAAAAABAAAAgAAAAAEAAAKAAAAAAQAAAQAAAAABAAAAAAAAAAEAAACAAAAAAQAA\n",
       "AYAAAAABAAAAgAAAAAEAAAIAAAAAAgAAAIAAAAABAAABgAAAAAEAAACAAAAAAQAAAQAAAAABAAAC\n",
       "gAAAAAEAAAEAAAAAAQAAAAAAAAABAAAAgAAAAAEAAAGAAAAAAQAAAIAAAAABAAACAAAAAAIAAACA\n",
       "AAAAAQAAAYAAAAABAAAAgAAAAAEAAAKAAAAAAQAAAQAAAAABAAAAAAAAAAEAAACAAAAAAQAAAQAA\n",
       "AAABAAACAAAAAAIAAACAAAAAAQAAAgAAAAACAAAAgAAAAAEAAAKAAAAAAQAAAQAAAAABAAAAAAAA\n",
       "AAEAAACAAAAAAQAAAoAAAAABAAABAAAAAAEAAAAAAAAAAQAAAIAAAAABAAABAAAAAAEAAAIAAAAA\n",
       "AgAAAIAAAAABAAACAAAAAAIAAACAAAAAAQAAAoAAAAABAAABAAAAAAEAAAAAAAAAAQAAAIAAAAAB\n",
       "AAACAAAAAAIAAACAAAAAAQAAAoAAAAABAAABAAAAAAEAAAAAAAAAAQAAAIAAAAABAAACgAAAAAEA\n",
       "AAEAAAAAAQAAAAAAAAABAAAAgAAAAAEAAAGAAAAAAQAAAIAAAAABAAACgAAAAAEAAAEAAAAAAQAA\n",
       "AAAAAAABAAAAgAAAAAEAAAKAAAAAAQAAAQAAAAABAAAAAAAAAAEAAACAAAAAAQAAAoAAAAABAAAB\n",
       "AAAAAAEAAAAAAAAAAQAAAIAAAAABAAACgAAAAAEAAAEAAAAAAQAAAAAAAAABAAAAgAAAAAEAAAGA\n",
       "AAAAAQAAAIAAAAACAAABAAAAAAEAAAGAAAAAAQAAAIAAAAABAAACgAAAAAEAAAEAAAAAAQAAAAAA\n",
       "AAABAAAAgAAAAAEAAAIAAAAAAgAAAIAAAAABAAACgAAAAAEAAAEAAAAAAQAAAAAAAAABAAAAgAAA\n",
       "AAEAAAGAAAAAAQAAAIAAAAABAAACgAAAAAEAAAEAAAAAAQAAAAAAAAABAAAAgAAAAAEAAAKAAAAA\n",
       "AQAAAQAAAAABAAAAAAAAAAEAAACAAAAAAQAAAQAAAAABAAABgAAAAAEAAACAAAAAAQAAAgAAAAAC\n",
       "AAAAgAAAAAEAAAGAAAAAAQAAAIAAAAADAAABAAAAAAEAAAGAAAAAAQAAAIAAAAABAAABgAAAAAEA\n",
       "AACAAAAAAQAAAoAAAAABAAABAAAAAAEAAAAAAAAAAQAAAIAAAAABAAACAAAAAAIAAACAAAAAAQAA\n",
       "AgAAAAACAAAAgAAAAAEAAAEAAAAAAQAAAoAAAAABAAABAAAAAAEAAAAAAAAAAQAAAIAAAAABAAAC\n",
       "gAAAAAEAAAEAAAAAAQAAAAAAAAABAAAAgAAAAAEAAAKAAAAAAQAAAQAAAAABAAAAAAAAAAEAAACA\n",
       "AAAAAQAAAoAAAAABAAABAAAAAAEAAAAAAAAAAQAAAIAAAAABAAABgAAAAAEAAACAAAAAAQAAAYAA\n",
       "AAABAAAAgAAAAAEAAAKAAAAAAQAAAQAAAAABAAAAAAAAAAEAAACAAAAAAQAAAYAAAAABAAAAgAAA\n",
       "AAEAAAKAAAAAAQAAAQAAAAABAAAAAAAAAAEAAACAAAAAAQAAAgAAAAACAAAAgAAAAAEAAAEAAAAA\n",
       "AQAAAgAAAAACAAAAgAAAAAEAAAGAAAAAAQAAAIAAAAABAAACgAAAAAEAAAEAAAAAAQAAAAAAAAAB\n",
       "AAAAgAAAAAEAAAEAAAAAAQAAAoAAAAABAAABAAAAAAEAAAAAAAAAAQAAAIAAAAABAAABgAAAAAEA\n",
       "AACAAAAAAQAAAgAAAAACAAAAgAAAAAEAAAKAAAAAAQAAAQAAAAABAAAAAAAAAAEAAACAAAAAAQAA\n",
       "AgAAAAACAAAAgAAAAAEAAAEAAAAAAQAAAgAAAAACAAAAgAAAAAEAAAIAAAAAAgAAAIAAAAABAAAC\n",
       "gAAAAAEAAAEAAAAAAQAAAAAAAAABAAAAgAAAAAEAAAKAAAAAAQAAAQAAAAABAAAAAAAAAAEAAACA\n",
       "AAAAAQAAAQAAAAABAAACgAAAAAEAAAEAAAAAAQAAAAAAAAABAAAAgAAAAAEAAAKAAAAAAQAAAQAA\n",
       "AAABAAAAAAAAAAEAAACAAAAAAQAAAgAAAAACAAAAgAAAAAEAAAKAAAAAAQAAAQAAAAABAAAAAAAA\n",
       "AAEAAACAAAAAAQAAAYAAAAABAAAAgAAAAAEAAAKAAAAAAQAAAQAAAAABAAAAAAAAAAEAAACAAAAA\n",
       "AQAAAgAAAAACAAAAgAAAAAEAAAKAAAAAAQAAAQAAAAABAAAAAAAAAAEAAACAAAAAAQAAAoAAAAAB\n",
       "AAABAAAAAAEAAAAAAAAAAQAAAIAAAAABAAACgAAAAAEAAAEAAAAAAQAAAAAAAAABAAAAgAAAAAIA\n",
       "AAEAAAAAAQAAAYAAAAABAAAAgAAAAAEAAAKAAAAAAQAAAQAAAAABAAAAAAAAAAEAAACAAAAAAQAA\n",
       "AoAAAAABAAABAAAAAAEAAAAAAAAAAQAAAIAAAAABAAABgAAAAAEAAACAAAAAAQAAAYAAAAABAAAA\n",
       "gAAAAAEAAAKAAAAAAQAAAQAAAAABAAAAAAAAAAEAAACAAAAAAQAAAYAAAAABAAAAgAAAAAEAAAKA\n",
       "AAAAAQAAAQAAAAABAAAAAAAAAAEAAACAAAAAAQAAAoAAAAABAAABAAAAAAEAAAAAAAAAAQAAAIAA\n",
       "AAACAAABAAAAAAEAAAIAAAAAAgAAAIAAAAABAAABgAAAAAEAAACAAAAAAQAAAQAAAAABAAACAAAA\n",
       "AAIAAACAAAAAAQAAAQAAAAABAAACgAAAAAEAAAEAAAAAAQAAAAAAAAABAAAAgAAAAAIAAAEAAAAA\n",
       "AQAAAYAAAAABAAAAgAAAAAEAAAGAAAAAAQAAAIAAAAABAAABgAAAAAEAAACAAAAAAQAAAoAAAAAB\n",
       "AAABAAAAAAEAAAAAAAAAAQAAAIAAAAABAAACgAAAAAEAAAEAAAAAAQAAAAAAAAABAAAAgAAAAAEA\n",
       "AAGAAAAAAQAAAIAAAAABAAABgAAAAAEAAACAAAAAAQAAAQAAAAABAAABgAAAAAEAAACAAAAAAQAA\n",
       "AQAAAAABAAABgAAAAAEAAACAAAAAAgAAAQAAAAABAAACAAAAAAIAAACAAAAAAQAAAgAAAAACAAAA\n",
       "gAAAAAEAAAKAAAAAAQAAAQAAAAABAAAAAAAAAAEAAACAAAAAAwAAAQAAAAAcc3RzYwAAAAAAAAAB\n",
       "AAAAAQAAAfMAAAABAAAH4HN0c3oAAAAAAAAAAAAAAfMAABQfAAADpgAAAQkAAADPAAAAwgAAAXIA\n",
       "AAE6AAACEgAAALgAAACeAAABugAAAOsAAACnAAAAowAAAbkAAACzAAAAlQAAAg4AAACoAAAAkwAA\n",
       "AIYAAAFkAAABkAAAAKAAAAGDAAAAogAAAIoAAACKAAABhwAAAKMAAAByAAAAfwAAAUQAAACLAAAA\n",
       "dQAAAQcAAABvAAABfAAAAKUAAABsAAAAcgAAAWgAAACsAAAAaAAAAHMAAAE6AAABhAAAAKcAAABn\n",
       "AAAAZgAAAYkAAAC1AAAAcwAAAHEAAAFbAAAAqwAAAIEAAABvAAABQQAAAKMAAAB3AAAAdQAAAREA\n",
       "AAB0AAABHwAAALkAAACEAAAAgAAAATkAAACKAAABMgAAAIIAAAFjAAAAjgAAAJMAAAF6AAAAoAAA\n",
       "AHoAAAG4AAAA0AAAAIEAAAB8AAABGgAAAfgAAADgAAAAkAAAAJEAAAF5AAAA1gAAAJAAAAChAAAB\n",
       "wgAAALIAAAGrAAAA7gAAALEAAACfAAABbAAAAIwAAAFmAAAB0AAAANkAAACdAAAApAAAAbEAAADH\n",
       "AAAAmAAAAJAAAAFsAAAAyAAAAHwAAACAAAABPwAAAOcAAAD5AAABRQAAAGoAAAD3AAABSAAAAScA\n",
       "AAEjAAABQQAAAScAAAG1AAAAoAAAAGoAAACEAAABaQAAAKYAAACCAAAAfgAAATUAAABrAAABaQAA\n",
       "AJwAAABuAAAAawAAAVgAAACiAAAAbAAAAIMAAAF9AAAAvgAAAHgAAAB5AAABPwAAAI4AAABoAAAA\n",
       "dAAAAUgAAACDAAABCQAAAHsAAAFLAAAAmgAAAGoAAABxAAABRgAAAKMAAAB4AAAAdQAAAXUAAACv\n",
       "AAAAigAAAG8AAAGNAAAAvgAAAIIAAACSAAABegAAAJIAAAE1AAAAnQAAAIkAAAFWAAAAnAAAAPsA\n",
       "AAGxAAAA9AAAAKwAAACbAAABlQAAAJ8AAAIQAAAArQAAAIkAAAG+AAAAlAAAAgcAAADvAAAAngAA\n",
       "ALAAAAFhAAAB4wAAALYAAACWAAABswAAAKsAAACbAAAB7QAAANMAAACOAAAAkwAAAcQAAAC3AAAA\n",
       "hgAAAIcAAAEMAAABPAAAAI8AAACGAAABfQAAAI4AAAB4AAABWAAAAK8AAACDAAAAbQAAASYAAACG\n",
       "AAAAbgAAAVIAAACWAAAAcAAAAGwAAAFGAAAAmgAAAHsAAABxAAABEAAAAHcAAAFnAAAAngAAAGwA\n",
       "AABtAAABaQAAAJIAAABpAAAAbwAAAYMAAAC0AAAAcgAAAIIAAAFQAAAArQAAAHwAAABrAAAA4wAA\n",
       "AHYAAACUAAAV9wAAAmsAAACvAAABngAAAOsAAACsAAAAkwAAAVQAAAC3AAAAhgAAAWMAAADjAAAA\n",
       "oAAAAKEAAAFXAAAAdwAAAYgAAADRAAAAjAAAAKYAAAE4AAAA6gAAAKkAAADHAAABKAAAAWsAAACh\n",
       "AAAB5AAAAL4AAACrAAABdwAAAJ8AAAEZAAABbwAAAWcAAAHIAAAAjAAAAZsAAACNAAABqAAAALsA\n",
       "AACJAAAAgwAAAV0AAACdAAAAdgAAAXAAAAB3AAAAgwAAASMAAAF/AAAAoAAAAHsAAABxAAABQAAA\n",
       "AJcAAAB3AAAAcwAAAbIAAACnAAAAdwAAAIQAAAFHAAAAugAAAHkAAAB5AAABRgAAAHkAAAEWAAAA\n",
       "bwAAAbEAAACWAAAAcQAAAHEAAAFmAAAAbAAAAUIAAACfAAAAbAAAAGgAAAD+AAAAfAAAAGkAAADs\n",
       "AAABJwAAAHcAAACBAAABKAAAAHwAAAGIAAAAqQAAAIkAAAB7AAABGAAAAVwAAADmAAAAjgAAAI8A\n",
       "AAGaAAAAmQAAAZIAAACwAAAAnQAAAZMAAADtAAAAnwAAAJ0AAAHTAAAAvgAAAIwAAAGiAAACBQAA\n",
       "AKcAAACiAAACAAAAALsAAACrAAAB2AAAALcAAACNAAAAowAAAaYAAAClAAAAeAAAAJQAAAE3AAAB\n",
       "pgAAAMgAAACJAAAAkQAAAaEAAAC3AAAAgQAAAHIAAAGgAAAAfwAAAGwAAAFhAAAAuAAAAIgAAAB/\n",
       "AAABPAAAAHYAAAFTAAAAowAAAIAAAAB7AAABVQAAAIAAAABsAAABdQAAAI0AAABsAAAAcwAAATgA\n",
       "AACpAAAAbgAAAG0AAAFPAAAAuQAAAHkAAABtAAAAxQAAAMwAAAFIAAAAhwAAAYwAAADBAAAAeQAA\n",
       "AHsAAAFxAAAAqAAAAG0AAAB5AAABcwAAAIMAAAEHAAAAcQAAAYkAAACjAAAAcwAAAH4AAAGDAAAA\n",
       "mgAAAUsAAAC2AAAAhQAAAIUAAAFtAAAAxgAAAI0AAAB4AAAA4QAAARUAAAFwAAAAnwAAAHwAAAEc\n",
       "AAAAggAAAOoAAAGpAAAAvQAAAJAAAAEwAAABkgAAAN8AAACOAAAAlAAAASsAAAFVAAABqgAAAJsA\n",
       "AAIGAAAAjQAAAWUAAACJAAABiQAAANEAAACKAAAAkAAAAWIAAAC3AAAAgAAAAI4AAAFPAAAAcgAA\n",
       "AUMAAACEAAABEgAAAW4AAACMAAABGAAAASEAAAB2AAABFQAAARkAAAFgAAAAfwAAAIIAAAEgAAAA\n",
       "jAAAAHQAAADwAAAAvgAAAHcAAACCAAAArAAAAJ4AAACtAAAAFHN0Y28AAAAAAAAAAQAAACwAAABi\n",
       "dWR0YQAAAFptZXRhAAAAAAAAACFoZGxyAAAAAAAAAABtZGlyYXBwbAAAAAAAAAAAAAAAAC1pbHN0\n",
       "AAAAJal0b28AAAAdZGF0YQAAAAEAAAAATGF2ZjU4LjI5LjEwMA==\n",
       "\">\n",
       "  Your browser does not support the video tag.\n",
       "</video>"
      ],
      "text/plain": [
       "<IPython.core.display.HTML object>"
      ]
     },
     "execution_count": 1,
     "metadata": {},
     "output_type": "execute_result"
    },
    {
     "data": {
      "image/png": "[encoded data removed]",
      "text/plain": [
       "<Figure size 432x288 with 1 Axes>"
      ]
     },
     "metadata": {
      "needs_background": "light"
     },
     "output_type": "display_data"
    }
   ],
   "source": [
    "import numpy, math\n",
    "# All the parameters of the simulation\n",
    "box_length = 10 # How wide an area should the particles be scattered over\n",
    "N = 20          # How many particles to simulate\n",
    "dt = 0.1        # The timestep\n",
    "k_particle = 5  # How stiff should the particle-particle interaction be\n",
    "diameter = 2.0  # \\sigma or the diameter of the particles\n",
    "k_body = 0.1    # The stiffness of the spring holding the particles in the center of the sys\n",
    "\n",
    "#Now we generate a Nx2 array/matrix holding the positions of all particles.\n",
    "#They are randomly scattered from +- box_length\n",
    "pos = (numpy.random.rand(N, 2) - 0.5) * box_length\n",
    "#we also generate a Nx2 array of velocities initially at zero\n",
    "vel = numpy.zeros((N,2))\n",
    "\n",
    "#Calculate the force between two particles\n",
    "def force(i, j):\n",
    "    rij = pos[i] - pos[j]\n",
    "    distance = numpy.linalg.norm(rij)\n",
    "    if distance > diameter or i == j:\n",
    "        # outside the interaction distance so return zero force\n",
    "        return numpy.array([0,0])\n",
    "    rij_norm = rij / distance\n",
    "    return k_particle * (diameter - distance) * rij_norm\n",
    "\n",
    "def body_force(i):\n",
    "    return - k_body * pos[i]\n",
    "\n",
    "def timestep(step):\n",
    "    for i in range(N):\n",
    "        pos[i] += 0.5 * dt * vel[i]\n",
    "    #pos += 0.5 * dt * vel\n",
    "    \n",
    "    forces = numpy.zeros((N,2))\n",
    "    for i in range(N):\n",
    "        forces[i] += body_force(i)\n",
    "        for j in range(N):\n",
    "            forces[i] += force(i,j)\n",
    "\n",
    "    for i in range(N):\n",
    "        vel[i] += dt * forces[i]\n",
    "    #vel += dt * forces\n",
    "    \n",
    "    for i in range(N):\n",
    "        pos[i] += 0.5 * dt * vel[i]\n",
    "    \n",
    "    scatter.set_offsets(pos)\n",
    "    return [scatter]\n",
    "\n",
    "from IPython.display import HTML\n",
    "import numpy as np\n",
    "from matplotlib import animation\n",
    "import matplotlib.pyplot as plt\n",
    "\n",
    "plt.clf() #Clear the figure, as the animator leaves particles around if the cell is reurn\n",
    "fig = plt.gcf()\n",
    "ax = plt.gca()\n",
    "ax.set_xlim(-box_length, +box_length)\n",
    "ax.set_ylim(-box_length, +box_length)\n",
    "scatter = ax.scatter(pos[:,0], pos[:,1], s=250)\n",
    "print(\"Running calclations, please wait!\")\n",
    "anim = animation.FuncAnimation(fig, timestep, np.arange(1, 500), interval=10, blit=True)\n",
    "HTML(anim.to_html5_video())"
   ]
  },
  {
   "cell_type": "markdown",
   "metadata": {},
   "source": [
    "The example code above contains some magic to render the simulation into a video, so that it can be viewed in the jupyter notebook. If you want to view the demo outside jupyter, a different version is given below"
   ]
  },
  {
   "cell_type": "code",
   "execution_count": 2,
   "metadata": {},
   "outputs": [
    {
     "name": "stdout",
     "output_type": "stream",
     "text": [
      "Running calculations, please wait!\n"
     ]
    },
    {
     "data": {
      "image/png": "[encoded data removed]",
      "text/plain": [
       "<Figure size 432x288 with 1 Axes>"
      ]
     },
     "metadata": {
      "needs_background": "light"
     },
     "output_type": "display_data"
    },
    {
     "data": {
      "text/plain": [
       "<Figure size 432x288 with 0 Axes>"
      ]
     },
     "metadata": {},
     "output_type": "display_data"
    },
    {
     "data": {
      "text/plain": [
       "<Figure size 432x288 with 0 Axes>"
      ]
     },
     "metadata": {},
     "output_type": "display_data"
    },
    {
     "data": {
      "text/plain": [
       "<Figure size 432x288 with 0 Axes>"
      ]
     },
     "metadata": {},
     "output_type": "display_data"
    },
    {
     "data": {
      "text/plain": [
       "<Figure size 432x288 with 0 Axes>"
      ]
     },
     "metadata": {},
     "output_type": "display_data"
    },
    {
     "data": {
      "text/plain": [
       "<Figure size 432x288 with 0 Axes>"
      ]
     },
     "metadata": {},
     "output_type": "display_data"
    },
    {
     "data": {
      "text/plain": [
       "<Figure size 432x288 with 0 Axes>"
      ]
     },
     "metadata": {},
     "output_type": "display_data"
    },
    {
     "data": {
      "text/plain": [
       "<Figure size 432x288 with 0 Axes>"
      ]
     },
     "metadata": {},
     "output_type": "display_data"
    },
    {
     "data": {
      "text/plain": [
       "<Figure size 432x288 with 0 Axes>"
      ]
     },
     "metadata": {},
     "output_type": "display_data"
    },
    {
     "data": {
      "text/plain": [
       "<Figure size 432x288 with 0 Axes>"
      ]
     },
     "metadata": {},
     "output_type": "display_data"
    },
    {
     "data": {
      "text/plain": [
       "<Figure size 432x288 with 0 Axes>"
      ]
     },
     "metadata": {},
     "output_type": "display_data"
    },
    {
     "data": {
      "text/plain": [
       "<Figure size 432x288 with 0 Axes>"
      ]
     },
     "metadata": {},
     "output_type": "display_data"
    },
    {
     "data": {
      "text/plain": [
       "<Figure size 432x288 with 0 Axes>"
      ]
     },
     "metadata": {},
     "output_type": "display_data"
    },
    {
     "data": {
      "text/plain": [
       "<Figure size 432x288 with 0 Axes>"
      ]
     },
     "metadata": {},
     "output_type": "display_data"
    },
    {
     "data": {
      "text/plain": [
       "<Figure size 432x288 with 0 Axes>"
      ]
     },
     "metadata": {},
     "output_type": "display_data"
    },
    {
     "data": {
      "text/plain": [
       "<Figure size 432x288 with 0 Axes>"
      ]
     },
     "metadata": {},
     "output_type": "display_data"
    },
    {
     "data": {
      "text/plain": [
       "<Figure size 432x288 with 0 Axes>"
      ]
     },
     "metadata": {},
     "output_type": "display_data"
    },
    {
     "data": {
      "text/plain": [
       "<Figure size 432x288 with 0 Axes>"
      ]
     },
     "metadata": {},
     "output_type": "display_data"
    },
    {
     "data": {
      "text/plain": [
       "<Figure size 432x288 with 0 Axes>"
      ]
     },
     "metadata": {},
     "output_type": "display_data"
    },
    {
     "data": {
      "text/plain": [
       "<Figure size 432x288 with 0 Axes>"
      ]
     },
     "metadata": {},
     "output_type": "display_data"
    },
    {
     "data": {
      "text/plain": [
       "<Figure size 432x288 with 0 Axes>"
      ]
     },
     "metadata": {},
     "output_type": "display_data"
    },
    {
     "data": {
      "text/plain": [
       "<Figure size 432x288 with 0 Axes>"
      ]
     },
     "metadata": {},
     "output_type": "display_data"
    },
    {
     "data": {
      "text/plain": [
       "<Figure size 432x288 with 0 Axes>"
      ]
     },
     "metadata": {},
     "output_type": "display_data"
    },
    {
     "data": {
      "text/plain": [
       "<Figure size 432x288 with 0 Axes>"
      ]
     },
     "metadata": {},
     "output_type": "display_data"
    },
    {
     "data": {
      "text/plain": [
       "<Figure size 432x288 with 0 Axes>"
      ]
     },
     "metadata": {},
     "output_type": "display_data"
    },
    {
     "data": {
      "text/plain": [
       "<Figure size 432x288 with 0 Axes>"
      ]
     },
     "metadata": {},
     "output_type": "display_data"
    },
    {
     "data": {
      "text/plain": [
       "<Figure size 432x288 with 0 Axes>"
      ]
     },
     "metadata": {},
     "output_type": "display_data"
    },
    {
     "data": {
      "text/plain": [
       "<Figure size 432x288 with 0 Axes>"
      ]
     },
     "metadata": {},
     "output_type": "display_data"
    },
    {
     "data": {
      "text/plain": [
       "<Figure size 432x288 with 0 Axes>"
      ]
     },
     "metadata": {},
     "output_type": "display_data"
    },
    {
     "data": {
      "text/plain": [
       "<Figure size 432x288 with 0 Axes>"
      ]
     },
     "metadata": {},
     "output_type": "display_data"
    },
    {
     "data": {
      "text/plain": [
       "<Figure size 432x288 with 0 Axes>"
      ]
     },
     "metadata": {},
     "output_type": "display_data"
    },
    {
     "data": {
      "text/plain": [
       "<Figure size 432x288 with 0 Axes>"
      ]
     },
     "metadata": {},
     "output_type": "display_data"
    },
    {
     "data": {
      "text/plain": [
       "<Figure size 432x288 with 0 Axes>"
      ]
     },
     "metadata": {},
     "output_type": "display_data"
    },
    {
     "data": {
      "text/plain": [
       "<Figure size 432x288 with 0 Axes>"
      ]
     },
     "metadata": {},
     "output_type": "display_data"
    },
    {
     "data": {
      "text/plain": [
       "<Figure size 432x288 with 0 Axes>"
      ]
     },
     "metadata": {},
     "output_type": "display_data"
    },
    {
     "data": {
      "text/plain": [
       "<Figure size 432x288 with 0 Axes>"
      ]
     },
     "metadata": {},
     "output_type": "display_data"
    },
    {
     "data": {
      "text/plain": [
       "<Figure size 432x288 with 0 Axes>"
      ]
     },
     "metadata": {},
     "output_type": "display_data"
    },
    {
     "data": {
      "text/plain": [
       "<Figure size 432x288 with 0 Axes>"
      ]
     },
     "metadata": {},
     "output_type": "display_data"
    },
    {
     "data": {
      "text/plain": [
       "<Figure size 432x288 with 0 Axes>"
      ]
     },
     "metadata": {},
     "output_type": "display_data"
    },
    {
     "data": {
      "text/plain": [
       "<Figure size 432x288 with 0 Axes>"
      ]
     },
     "metadata": {},
     "output_type": "display_data"
    },
    {
     "data": {
      "text/plain": [
       "<Figure size 432x288 with 0 Axes>"
      ]
     },
     "metadata": {},
     "output_type": "display_data"
    },
    {
     "data": {
      "text/plain": [
       "<Figure size 432x288 with 0 Axes>"
      ]
     },
     "metadata": {},
     "output_type": "display_data"
    },
    {
     "data": {
      "text/plain": [
       "<Figure size 432x288 with 0 Axes>"
      ]
     },
     "metadata": {},
     "output_type": "display_data"
    },
    {
     "data": {
      "text/plain": [
       "<Figure size 432x288 with 0 Axes>"
      ]
     },
     "metadata": {},
     "output_type": "display_data"
    },
    {
     "data": {
      "text/plain": [
       "<Figure size 432x288 with 0 Axes>"
      ]
     },
     "metadata": {},
     "output_type": "display_data"
    },
    {
     "data": {
      "text/plain": [
       "<Figure size 432x288 with 0 Axes>"
      ]
     },
     "metadata": {},
     "output_type": "display_data"
    },
    {
     "data": {
      "text/plain": [
       "<Figure size 432x288 with 0 Axes>"
      ]
     },
     "metadata": {},
     "output_type": "display_data"
    },
    {
     "data": {
      "text/plain": [
       "<Figure size 432x288 with 0 Axes>"
      ]
     },
     "metadata": {},
     "output_type": "display_data"
    },
    {
     "data": {
      "text/plain": [
       "<Figure size 432x288 with 0 Axes>"
      ]
     },
     "metadata": {},
     "output_type": "display_data"
    },
    {
     "data": {
      "text/plain": [
       "<Figure size 432x288 with 0 Axes>"
      ]
     },
     "metadata": {},
     "output_type": "display_data"
    },
    {
     "data": {
      "text/plain": [
       "<Figure size 432x288 with 0 Axes>"
      ]
     },
     "metadata": {},
     "output_type": "display_data"
    },
    {
     "data": {
      "text/plain": [
       "<Figure size 432x288 with 0 Axes>"
      ]
     },
     "metadata": {},
     "output_type": "display_data"
    },
    {
     "data": {
      "text/plain": [
       "<Figure size 432x288 with 0 Axes>"
      ]
     },
     "metadata": {},
     "output_type": "display_data"
    },
    {
     "data": {
      "text/plain": [
       "<Figure size 432x288 with 0 Axes>"
      ]
     },
     "metadata": {},
     "output_type": "display_data"
    },
    {
     "data": {
      "text/plain": [
       "<Figure size 432x288 with 0 Axes>"
      ]
     },
     "metadata": {},
     "output_type": "display_data"
    },
    {
     "data": {
      "text/plain": [
       "<Figure size 432x288 with 0 Axes>"
      ]
     },
     "metadata": {},
     "output_type": "display_data"
    },
    {
     "data": {
      "text/plain": [
       "<Figure size 432x288 with 0 Axes>"
      ]
     },
     "metadata": {},
     "output_type": "display_data"
    },
    {
     "data": {
      "text/plain": [
       "<Figure size 432x288 with 0 Axes>"
      ]
     },
     "metadata": {},
     "output_type": "display_data"
    },
    {
     "data": {
      "text/plain": [
       "<Figure size 432x288 with 0 Axes>"
      ]
     },
     "metadata": {},
     "output_type": "display_data"
    },
    {
     "data": {
      "text/plain": [
       "<Figure size 432x288 with 0 Axes>"
      ]
     },
     "metadata": {},
     "output_type": "display_data"
    },
    {
     "data": {
      "text/plain": [
       "<Figure size 432x288 with 0 Axes>"
      ]
     },
     "metadata": {},
     "output_type": "display_data"
    },
    {
     "data": {
      "text/plain": [
       "<Figure size 432x288 with 0 Axes>"
      ]
     },
     "metadata": {},
     "output_type": "display_data"
    },
    {
     "data": {
      "text/plain": [
       "<Figure size 432x288 with 0 Axes>"
      ]
     },
     "metadata": {},
     "output_type": "display_data"
    },
    {
     "data": {
      "text/plain": [
       "<Figure size 432x288 with 0 Axes>"
      ]
     },
     "metadata": {},
     "output_type": "display_data"
    },
    {
     "data": {
      "text/plain": [
       "<Figure size 432x288 with 0 Axes>"
      ]
     },
     "metadata": {},
     "output_type": "display_data"
    },
    {
     "data": {
      "text/plain": [
       "<Figure size 432x288 with 0 Axes>"
      ]
     },
     "metadata": {},
     "output_type": "display_data"
    },
    {
     "data": {
      "text/plain": [
       "<Figure size 432x288 with 0 Axes>"
      ]
     },
     "metadata": {},
     "output_type": "display_data"
    },
    {
     "data": {
      "text/plain": [
       "<Figure size 432x288 with 0 Axes>"
      ]
     },
     "metadata": {},
     "output_type": "display_data"
    },
    {
     "data": {
      "text/plain": [
       "<Figure size 432x288 with 0 Axes>"
      ]
     },
     "metadata": {},
     "output_type": "display_data"
    },
    {
     "data": {
      "text/plain": [
       "<Figure size 432x288 with 0 Axes>"
      ]
     },
     "metadata": {},
     "output_type": "display_data"
    },
    {
     "data": {
      "text/plain": [
       "<Figure size 432x288 with 0 Axes>"
      ]
     },
     "metadata": {},
     "output_type": "display_data"
    },
    {
     "data": {
      "text/plain": [
       "<Figure size 432x288 with 0 Axes>"
      ]
     },
     "metadata": {},
     "output_type": "display_data"
    },
    {
     "data": {
      "text/plain": [
       "<Figure size 432x288 with 0 Axes>"
      ]
     },
     "metadata": {},
     "output_type": "display_data"
    },
    {
     "data": {
      "text/plain": [
       "<Figure size 432x288 with 0 Axes>"
      ]
     },
     "metadata": {},
     "output_type": "display_data"
    },
    {
     "data": {
      "text/plain": [
       "<Figure size 432x288 with 0 Axes>"
      ]
     },
     "metadata": {},
     "output_type": "display_data"
    },
    {
     "data": {
      "text/plain": [
       "<Figure size 432x288 with 0 Axes>"
      ]
     },
     "metadata": {},
     "output_type": "display_data"
    },
    {
     "data": {
      "text/plain": [
       "<Figure size 432x288 with 0 Axes>"
      ]
     },
     "metadata": {},
     "output_type": "display_data"
    },
    {
     "data": {
      "text/plain": [
       "<Figure size 432x288 with 0 Axes>"
      ]
     },
     "metadata": {},
     "output_type": "display_data"
    },
    {
     "data": {
      "text/plain": [
       "<Figure size 432x288 with 0 Axes>"
      ]
     },
     "metadata": {},
     "output_type": "display_data"
    },
    {
     "data": {
      "text/plain": [
       "<Figure size 432x288 with 0 Axes>"
      ]
     },
     "metadata": {},
     "output_type": "display_data"
    },
    {
     "data": {
      "text/plain": [
       "<Figure size 432x288 with 0 Axes>"
      ]
     },
     "metadata": {},
     "output_type": "display_data"
    },
    {
     "data": {
      "text/plain": [
       "<Figure size 432x288 with 0 Axes>"
      ]
     },
     "metadata": {},
     "output_type": "display_data"
    },
    {
     "data": {
      "text/plain": [
       "<Figure size 432x288 with 0 Axes>"
      ]
     },
     "metadata": {},
     "output_type": "display_data"
    },
    {
     "data": {
      "text/plain": [
       "<Figure size 432x288 with 0 Axes>"
      ]
     },
     "metadata": {},
     "output_type": "display_data"
    },
    {
     "data": {
      "text/plain": [
       "<Figure size 432x288 with 0 Axes>"
      ]
     },
     "metadata": {},
     "output_type": "display_data"
    },
    {
     "data": {
      "text/plain": [
       "<Figure size 432x288 with 0 Axes>"
      ]
     },
     "metadata": {},
     "output_type": "display_data"
    },
    {
     "data": {
      "text/plain": [
       "<Figure size 432x288 with 0 Axes>"
      ]
     },
     "metadata": {},
     "output_type": "display_data"
    },
    {
     "data": {
      "text/plain": [
       "<Figure size 432x288 with 0 Axes>"
      ]
     },
     "metadata": {},
     "output_type": "display_data"
    },
    {
     "data": {
      "text/plain": [
       "<Figure size 432x288 with 0 Axes>"
      ]
     },
     "metadata": {},
     "output_type": "display_data"
    },
    {
     "data": {
      "text/plain": [
       "<Figure size 432x288 with 0 Axes>"
      ]
     },
     "metadata": {},
     "output_type": "display_data"
    },
    {
     "data": {
      "text/plain": [
       "<Figure size 432x288 with 0 Axes>"
      ]
     },
     "metadata": {},
     "output_type": "display_data"
    },
    {
     "data": {
      "text/plain": [
       "<Figure size 432x288 with 0 Axes>"
      ]
     },
     "metadata": {},
     "output_type": "display_data"
    },
    {
     "data": {
      "text/plain": [
       "<Figure size 432x288 with 0 Axes>"
      ]
     },
     "metadata": {},
     "output_type": "display_data"
    },
    {
     "data": {
      "text/plain": [
       "<Figure size 432x288 with 0 Axes>"
      ]
     },
     "metadata": {},
     "output_type": "display_data"
    },
    {
     "data": {
      "text/plain": [
       "<Figure size 432x288 with 0 Axes>"
      ]
     },
     "metadata": {},
     "output_type": "display_data"
    },
    {
     "data": {
      "text/plain": [
       "<Figure size 432x288 with 0 Axes>"
      ]
     },
     "metadata": {},
     "output_type": "display_data"
    },
    {
     "data": {
      "text/plain": [
       "<Figure size 432x288 with 0 Axes>"
      ]
     },
     "metadata": {},
     "output_type": "display_data"
    },
    {
     "data": {
      "text/plain": [
       "<Figure size 432x288 with 0 Axes>"
      ]
     },
     "metadata": {},
     "output_type": "display_data"
    },
    {
     "data": {
      "text/plain": [
       "<Figure size 432x288 with 0 Axes>"
      ]
     },
     "metadata": {},
     "output_type": "display_data"
    },
    {
     "data": {
      "text/plain": [
       "<Figure size 432x288 with 0 Axes>"
      ]
     },
     "metadata": {},
     "output_type": "display_data"
    },
    {
     "data": {
      "text/plain": [
       "<Figure size 432x288 with 0 Axes>"
      ]
     },
     "metadata": {},
     "output_type": "display_data"
    },
    {
     "data": {
      "text/plain": [
       "<Figure size 432x288 with 0 Axes>"
      ]
     },
     "metadata": {},
     "output_type": "display_data"
    },
    {
     "data": {
      "text/plain": [
       "<Figure size 432x288 with 0 Axes>"
      ]
     },
     "metadata": {},
     "output_type": "display_data"
    },
    {
     "data": {
      "text/plain": [
       "<Figure size 432x288 with 0 Axes>"
      ]
     },
     "metadata": {},
     "output_type": "display_data"
    },
    {
     "data": {
      "text/plain": [
       "<Figure size 432x288 with 0 Axes>"
      ]
     },
     "metadata": {},
     "output_type": "display_data"
    },
    {
     "data": {
      "text/plain": [
       "<Figure size 432x288 with 0 Axes>"
      ]
     },
     "metadata": {},
     "output_type": "display_data"
    },
    {
     "data": {
      "text/plain": [
       "<Figure size 432x288 with 0 Axes>"
      ]
     },
     "metadata": {},
     "output_type": "display_data"
    },
    {
     "data": {
      "text/plain": [
       "<Figure size 432x288 with 0 Axes>"
      ]
     },
     "metadata": {},
     "output_type": "display_data"
    },
    {
     "data": {
      "text/plain": [
       "<Figure size 432x288 with 0 Axes>"
      ]
     },
     "metadata": {},
     "output_type": "display_data"
    },
    {
     "data": {
      "text/plain": [
       "<Figure size 432x288 with 0 Axes>"
      ]
     },
     "metadata": {},
     "output_type": "display_data"
    },
    {
     "data": {
      "text/plain": [
       "<Figure size 432x288 with 0 Axes>"
      ]
     },
     "metadata": {},
     "output_type": "display_data"
    },
    {
     "data": {
      "text/plain": [
       "<Figure size 432x288 with 0 Axes>"
      ]
     },
     "metadata": {},
     "output_type": "display_data"
    },
    {
     "data": {
      "text/plain": [
       "<Figure size 432x288 with 0 Axes>"
      ]
     },
     "metadata": {},
     "output_type": "display_data"
    },
    {
     "data": {
      "text/plain": [
       "<Figure size 432x288 with 0 Axes>"
      ]
     },
     "metadata": {},
     "output_type": "display_data"
    },
    {
     "data": {
      "text/plain": [
       "<Figure size 432x288 with 0 Axes>"
      ]
     },
     "metadata": {},
     "output_type": "display_data"
    },
    {
     "data": {
      "text/plain": [
       "<Figure size 432x288 with 0 Axes>"
      ]
     },
     "metadata": {},
     "output_type": "display_data"
    },
    {
     "data": {
      "text/plain": [
       "<Figure size 432x288 with 0 Axes>"
      ]
     },
     "metadata": {},
     "output_type": "display_data"
    },
    {
     "data": {
      "text/plain": [
       "<Figure size 432x288 with 0 Axes>"
      ]
     },
     "metadata": {},
     "output_type": "display_data"
    },
    {
     "data": {
      "text/plain": [
       "<Figure size 432x288 with 0 Axes>"
      ]
     },
     "metadata": {},
     "output_type": "display_data"
    },
    {
     "data": {
      "text/plain": [
       "<Figure size 432x288 with 0 Axes>"
      ]
     },
     "metadata": {},
     "output_type": "display_data"
    },
    {
     "data": {
      "text/plain": [
       "<Figure size 432x288 with 0 Axes>"
      ]
     },
     "metadata": {},
     "output_type": "display_data"
    },
    {
     "data": {
      "text/plain": [
       "<Figure size 432x288 with 0 Axes>"
      ]
     },
     "metadata": {},
     "output_type": "display_data"
    },
    {
     "data": {
      "text/plain": [
       "<Figure size 432x288 with 0 Axes>"
      ]
     },
     "metadata": {},
     "output_type": "display_data"
    },
    {
     "data": {
      "text/plain": [
       "<Figure size 432x288 with 0 Axes>"
      ]
     },
     "metadata": {},
     "output_type": "display_data"
    },
    {
     "data": {
      "text/plain": [
       "<Figure size 432x288 with 0 Axes>"
      ]
     },
     "metadata": {},
     "output_type": "display_data"
    },
    {
     "data": {
      "text/plain": [
       "<Figure size 432x288 with 0 Axes>"
      ]
     },
     "metadata": {},
     "output_type": "display_data"
    },
    {
     "data": {
      "text/plain": [
       "<Figure size 432x288 with 0 Axes>"
      ]
     },
     "metadata": {},
     "output_type": "display_data"
    },
    {
     "data": {
      "text/plain": [
       "<Figure size 432x288 with 0 Axes>"
      ]
     },
     "metadata": {},
     "output_type": "display_data"
    },
    {
     "data": {
      "text/plain": [
       "<Figure size 432x288 with 0 Axes>"
      ]
     },
     "metadata": {},
     "output_type": "display_data"
    },
    {
     "data": {
      "text/plain": [
       "<Figure size 432x288 with 0 Axes>"
      ]
     },
     "metadata": {},
     "output_type": "display_data"
    },
    {
     "data": {
      "text/plain": [
       "<Figure size 432x288 with 0 Axes>"
      ]
     },
     "metadata": {},
     "output_type": "display_data"
    },
    {
     "data": {
      "text/plain": [
       "<Figure size 432x288 with 0 Axes>"
      ]
     },
     "metadata": {},
     "output_type": "display_data"
    },
    {
     "data": {
      "text/plain": [
       "<Figure size 432x288 with 0 Axes>"
      ]
     },
     "metadata": {},
     "output_type": "display_data"
    },
    {
     "data": {
      "text/plain": [
       "<Figure size 432x288 with 0 Axes>"
      ]
     },
     "metadata": {},
     "output_type": "display_data"
    },
    {
     "data": {
      "text/plain": [
       "<Figure size 432x288 with 0 Axes>"
      ]
     },
     "metadata": {},
     "output_type": "display_data"
    },
    {
     "data": {
      "text/plain": [
       "<Figure size 432x288 with 0 Axes>"
      ]
     },
     "metadata": {},
     "output_type": "display_data"
    },
    {
     "data": {
      "text/plain": [
       "<Figure size 432x288 with 0 Axes>"
      ]
     },
     "metadata": {},
     "output_type": "display_data"
    },
    {
     "data": {
      "text/plain": [
       "<Figure size 432x288 with 0 Axes>"
      ]
     },
     "metadata": {},
     "output_type": "display_data"
    },
    {
     "data": {
      "text/plain": [
       "<Figure size 432x288 with 0 Axes>"
      ]
     },
     "metadata": {},
     "output_type": "display_data"
    },
    {
     "data": {
      "text/plain": [
       "<Figure size 432x288 with 0 Axes>"
      ]
     },
     "metadata": {},
     "output_type": "display_data"
    },
    {
     "data": {
      "text/plain": [
       "<Figure size 432x288 with 0 Axes>"
      ]
     },
     "metadata": {},
     "output_type": "display_data"
    },
    {
     "data": {
      "text/plain": [
       "<Figure size 432x288 with 0 Axes>"
      ]
     },
     "metadata": {},
     "output_type": "display_data"
    },
    {
     "data": {
      "text/plain": [
       "<Figure size 432x288 with 0 Axes>"
      ]
     },
     "metadata": {},
     "output_type": "display_data"
    },
    {
     "data": {
      "text/plain": [
       "<Figure size 432x288 with 0 Axes>"
      ]
     },
     "metadata": {},
     "output_type": "display_data"
    },
    {
     "data": {
      "text/plain": [
       "<Figure size 432x288 with 0 Axes>"
      ]
     },
     "metadata": {},
     "output_type": "display_data"
    },
    {
     "data": {
      "text/plain": [
       "<Figure size 432x288 with 0 Axes>"
      ]
     },
     "metadata": {},
     "output_type": "display_data"
    },
    {
     "data": {
      "text/plain": [
       "<Figure size 432x288 with 0 Axes>"
      ]
     },
     "metadata": {},
     "output_type": "display_data"
    },
    {
     "data": {
      "text/plain": [
       "<Figure size 432x288 with 0 Axes>"
      ]
     },
     "metadata": {},
     "output_type": "display_data"
    },
    {
     "data": {
      "text/plain": [
       "<Figure size 432x288 with 0 Axes>"
      ]
     },
     "metadata": {},
     "output_type": "display_data"
    },
    {
     "data": {
      "text/plain": [
       "<Figure size 432x288 with 0 Axes>"
      ]
     },
     "metadata": {},
     "output_type": "display_data"
    },
    {
     "data": {
      "text/plain": [
       "<Figure size 432x288 with 0 Axes>"
      ]
     },
     "metadata": {},
     "output_type": "display_data"
    },
    {
     "data": {
      "text/plain": [
       "<Figure size 432x288 with 0 Axes>"
      ]
     },
     "metadata": {},
     "output_type": "display_data"
    },
    {
     "data": {
      "text/plain": [
       "<Figure size 432x288 with 0 Axes>"
      ]
     },
     "metadata": {},
     "output_type": "display_data"
    },
    {
     "data": {
      "text/plain": [
       "<Figure size 432x288 with 0 Axes>"
      ]
     },
     "metadata": {},
     "output_type": "display_data"
    },
    {
     "data": {
      "text/plain": [
       "<Figure size 432x288 with 0 Axes>"
      ]
     },
     "metadata": {},
     "output_type": "display_data"
    },
    {
     "data": {
      "text/plain": [
       "<Figure size 432x288 with 0 Axes>"
      ]
     },
     "metadata": {},
     "output_type": "display_data"
    },
    {
     "data": {
      "text/plain": [
       "<Figure size 432x288 with 0 Axes>"
      ]
     },
     "metadata": {},
     "output_type": "display_data"
    },
    {
     "data": {
      "text/plain": [
       "<Figure size 432x288 with 0 Axes>"
      ]
     },
     "metadata": {},
     "output_type": "display_data"
    },
    {
     "data": {
      "text/plain": [
       "<Figure size 432x288 with 0 Axes>"
      ]
     },
     "metadata": {},
     "output_type": "display_data"
    },
    {
     "data": {
      "text/plain": [
       "<Figure size 432x288 with 0 Axes>"
      ]
     },
     "metadata": {},
     "output_type": "display_data"
    },
    {
     "data": {
      "text/plain": [
       "<Figure size 432x288 with 0 Axes>"
      ]
     },
     "metadata": {},
     "output_type": "display_data"
    },
    {
     "data": {
      "text/plain": [
       "<Figure size 432x288 with 0 Axes>"
      ]
     },
     "metadata": {},
     "output_type": "display_data"
    },
    {
     "data": {
      "text/plain": [
       "<Figure size 432x288 with 0 Axes>"
      ]
     },
     "metadata": {},
     "output_type": "display_data"
    },
    {
     "data": {
      "text/plain": [
       "<Figure size 432x288 with 0 Axes>"
      ]
     },
     "metadata": {},
     "output_type": "display_data"
    },
    {
     "data": {
      "text/plain": [
       "<Figure size 432x288 with 0 Axes>"
      ]
     },
     "metadata": {},
     "output_type": "display_data"
    },
    {
     "data": {
      "text/plain": [
       "<Figure size 432x288 with 0 Axes>"
      ]
     },
     "metadata": {},
     "output_type": "display_data"
    },
    {
     "data": {
      "text/plain": [
       "<Figure size 432x288 with 0 Axes>"
      ]
     },
     "metadata": {},
     "output_type": "display_data"
    },
    {
     "data": {
      "text/plain": [
       "<Figure size 432x288 with 0 Axes>"
      ]
     },
     "metadata": {},
     "output_type": "display_data"
    },
    {
     "data": {
      "text/plain": [
       "<Figure size 432x288 with 0 Axes>"
      ]
     },
     "metadata": {},
     "output_type": "display_data"
    },
    {
     "data": {
      "text/plain": [
       "<Figure size 432x288 with 0 Axes>"
      ]
     },
     "metadata": {},
     "output_type": "display_data"
    },
    {
     "data": {
      "text/plain": [
       "<Figure size 432x288 with 0 Axes>"
      ]
     },
     "metadata": {},
     "output_type": "display_data"
    },
    {
     "data": {
      "text/plain": [
       "<Figure size 432x288 with 0 Axes>"
      ]
     },
     "metadata": {},
     "output_type": "display_data"
    },
    {
     "data": {
      "text/plain": [
       "<Figure size 432x288 with 0 Axes>"
      ]
     },
     "metadata": {},
     "output_type": "display_data"
    },
    {
     "data": {
      "text/plain": [
       "<Figure size 432x288 with 0 Axes>"
      ]
     },
     "metadata": {},
     "output_type": "display_data"
    },
    {
     "data": {
      "text/plain": [
       "<Figure size 432x288 with 0 Axes>"
      ]
     },
     "metadata": {},
     "output_type": "display_data"
    },
    {
     "data": {
      "text/plain": [
       "<Figure size 432x288 with 0 Axes>"
      ]
     },
     "metadata": {},
     "output_type": "display_data"
    },
    {
     "data": {
      "text/plain": [
       "<Figure size 432x288 with 0 Axes>"
      ]
     },
     "metadata": {},
     "output_type": "display_data"
    },
    {
     "data": {
      "text/plain": [
       "<Figure size 432x288 with 0 Axes>"
      ]
     },
     "metadata": {},
     "output_type": "display_data"
    },
    {
     "data": {
      "text/plain": [
       "<Figure size 432x288 with 0 Axes>"
      ]
     },
     "metadata": {},
     "output_type": "display_data"
    },
    {
     "data": {
      "text/plain": [
       "<Figure size 432x288 with 0 Axes>"
      ]
     },
     "metadata": {},
     "output_type": "display_data"
    },
    {
     "data": {
      "text/plain": [
       "<Figure size 432x288 with 0 Axes>"
      ]
     },
     "metadata": {},
     "output_type": "display_data"
    },
    {
     "data": {
      "text/plain": [
       "<Figure size 432x288 with 0 Axes>"
      ]
     },
     "metadata": {},
     "output_type": "display_data"
    },
    {
     "data": {
      "text/plain": [
       "<Figure size 432x288 with 0 Axes>"
      ]
     },
     "metadata": {},
     "output_type": "display_data"
    },
    {
     "data": {
      "text/plain": [
       "<Figure size 432x288 with 0 Axes>"
      ]
     },
     "metadata": {},
     "output_type": "display_data"
    },
    {
     "data": {
      "text/plain": [
       "<Figure size 432x288 with 0 Axes>"
      ]
     },
     "metadata": {},
     "output_type": "display_data"
    },
    {
     "data": {
      "text/plain": [
       "<Figure size 432x288 with 0 Axes>"
      ]
     },
     "metadata": {},
     "output_type": "display_data"
    },
    {
     "data": {
      "text/plain": [
       "<Figure size 432x288 with 0 Axes>"
      ]
     },
     "metadata": {},
     "output_type": "display_data"
    },
    {
     "data": {
      "text/plain": [
       "<Figure size 432x288 with 0 Axes>"
      ]
     },
     "metadata": {},
     "output_type": "display_data"
    },
    {
     "data": {
      "text/plain": [
       "<Figure size 432x288 with 0 Axes>"
      ]
     },
     "metadata": {},
     "output_type": "display_data"
    },
    {
     "data": {
      "text/plain": [
       "<Figure size 432x288 with 0 Axes>"
      ]
     },
     "metadata": {},
     "output_type": "display_data"
    },
    {
     "data": {
      "text/plain": [
       "<Figure size 432x288 with 0 Axes>"
      ]
     },
     "metadata": {},
     "output_type": "display_data"
    },
    {
     "data": {
      "text/plain": [
       "<Figure size 432x288 with 0 Axes>"
      ]
     },
     "metadata": {},
     "output_type": "display_data"
    },
    {
     "data": {
      "text/plain": [
       "<Figure size 432x288 with 0 Axes>"
      ]
     },
     "metadata": {},
     "output_type": "display_data"
    },
    {
     "data": {
      "text/plain": [
       "<Figure size 432x288 with 0 Axes>"
      ]
     },
     "metadata": {},
     "output_type": "display_data"
    },
    {
     "data": {
      "text/plain": [
       "<Figure size 432x288 with 0 Axes>"
      ]
     },
     "metadata": {},
     "output_type": "display_data"
    },
    {
     "data": {
      "text/plain": [
       "<Figure size 432x288 with 0 Axes>"
      ]
     },
     "metadata": {},
     "output_type": "display_data"
    },
    {
     "data": {
      "text/plain": [
       "<Figure size 432x288 with 0 Axes>"
      ]
     },
     "metadata": {},
     "output_type": "display_data"
    },
    {
     "data": {
      "text/plain": [
       "<Figure size 432x288 with 0 Axes>"
      ]
     },
     "metadata": {},
     "output_type": "display_data"
    },
    {
     "data": {
      "text/plain": [
       "<Figure size 432x288 with 0 Axes>"
      ]
     },
     "metadata": {},
     "output_type": "display_data"
    },
    {
     "data": {
      "text/plain": [
       "<Figure size 432x288 with 0 Axes>"
      ]
     },
     "metadata": {},
     "output_type": "display_data"
    },
    {
     "data": {
      "text/plain": [
       "<Figure size 432x288 with 0 Axes>"
      ]
     },
     "metadata": {},
     "output_type": "display_data"
    },
    {
     "data": {
      "text/plain": [
       "<Figure size 432x288 with 0 Axes>"
      ]
     },
     "metadata": {},
     "output_type": "display_data"
    },
    {
     "data": {
      "text/plain": [
       "<Figure size 432x288 with 0 Axes>"
      ]
     },
     "metadata": {},
     "output_type": "display_data"
    },
    {
     "data": {
      "text/plain": [
       "<Figure size 432x288 with 0 Axes>"
      ]
     },
     "metadata": {},
     "output_type": "display_data"
    },
    {
     "data": {
      "text/plain": [
       "<Figure size 432x288 with 0 Axes>"
      ]
     },
     "metadata": {},
     "output_type": "display_data"
    },
    {
     "data": {
      "text/plain": [
       "<Figure size 432x288 with 0 Axes>"
      ]
     },
     "metadata": {},
     "output_type": "display_data"
    },
    {
     "data": {
      "text/plain": [
       "<Figure size 432x288 with 0 Axes>"
      ]
     },
     "metadata": {},
     "output_type": "display_data"
    },
    {
     "data": {
      "text/plain": [
       "<Figure size 432x288 with 0 Axes>"
      ]
     },
     "metadata": {},
     "output_type": "display_data"
    },
    {
     "data": {
      "text/plain": [
       "<Figure size 432x288 with 0 Axes>"
      ]
     },
     "metadata": {},
     "output_type": "display_data"
    },
    {
     "data": {
      "text/plain": [
       "<Figure size 432x288 with 0 Axes>"
      ]
     },
     "metadata": {},
     "output_type": "display_data"
    },
    {
     "data": {
      "text/plain": [
       "<Figure size 432x288 with 0 Axes>"
      ]
     },
     "metadata": {},
     "output_type": "display_data"
    },
    {
     "data": {
      "text/plain": [
       "<Figure size 432x288 with 0 Axes>"
      ]
     },
     "metadata": {},
     "output_type": "display_data"
    },
    {
     "data": {
      "text/plain": [
       "<Figure size 432x288 with 0 Axes>"
      ]
     },
     "metadata": {},
     "output_type": "display_data"
    },
    {
     "data": {
      "text/plain": [
       "<Figure size 432x288 with 0 Axes>"
      ]
     },
     "metadata": {},
     "output_type": "display_data"
    },
    {
     "data": {
      "text/plain": [
       "<Figure size 432x288 with 0 Axes>"
      ]
     },
     "metadata": {},
     "output_type": "display_data"
    },
    {
     "data": {
      "text/plain": [
       "<Figure size 432x288 with 0 Axes>"
      ]
     },
     "metadata": {},
     "output_type": "display_data"
    },
    {
     "data": {
      "text/plain": [
       "<Figure size 432x288 with 0 Axes>"
      ]
     },
     "metadata": {},
     "output_type": "display_data"
    },
    {
     "data": {
      "text/plain": [
       "<Figure size 432x288 with 0 Axes>"
      ]
     },
     "metadata": {},
     "output_type": "display_data"
    },
    {
     "data": {
      "text/plain": [
       "<Figure size 432x288 with 0 Axes>"
      ]
     },
     "metadata": {},
     "output_type": "display_data"
    },
    {
     "data": {
      "text/plain": [
       "<Figure size 432x288 with 0 Axes>"
      ]
     },
     "metadata": {},
     "output_type": "display_data"
    },
    {
     "data": {
      "text/plain": [
       "<Figure size 432x288 with 0 Axes>"
      ]
     },
     "metadata": {},
     "output_type": "display_data"
    },
    {
     "data": {
      "text/plain": [
       "<Figure size 432x288 with 0 Axes>"
      ]
     },
     "metadata": {},
     "output_type": "display_data"
    },
    {
     "data": {
      "text/plain": [
       "<Figure size 432x288 with 0 Axes>"
      ]
     },
     "metadata": {},
     "output_type": "display_data"
    },
    {
     "data": {
      "text/plain": [
       "<Figure size 432x288 with 0 Axes>"
      ]
     },
     "metadata": {},
     "output_type": "display_data"
    },
    {
     "data": {
      "text/plain": [
       "<Figure size 432x288 with 0 Axes>"
      ]
     },
     "metadata": {},
     "output_type": "display_data"
    },
    {
     "data": {
      "text/plain": [
       "<Figure size 432x288 with 0 Axes>"
      ]
     },
     "metadata": {},
     "output_type": "display_data"
    },
    {
     "data": {
      "text/plain": [
       "<Figure size 432x288 with 0 Axes>"
      ]
     },
     "metadata": {},
     "output_type": "display_data"
    },
    {
     "data": {
      "text/plain": [
       "<Figure size 432x288 with 0 Axes>"
      ]
     },
     "metadata": {},
     "output_type": "display_data"
    },
    {
     "data": {
      "text/plain": [
       "<Figure size 432x288 with 0 Axes>"
      ]
     },
     "metadata": {},
     "output_type": "display_data"
    },
    {
     "data": {
      "text/plain": [
       "<Figure size 432x288 with 0 Axes>"
      ]
     },
     "metadata": {},
     "output_type": "display_data"
    },
    {
     "data": {
      "text/plain": [
       "<Figure size 432x288 with 0 Axes>"
      ]
     },
     "metadata": {},
     "output_type": "display_data"
    },
    {
     "data": {
      "text/plain": [
       "<Figure size 432x288 with 0 Axes>"
      ]
     },
     "metadata": {},
     "output_type": "display_data"
    },
    {
     "data": {
      "text/plain": [
       "<Figure size 432x288 with 0 Axes>"
      ]
     },
     "metadata": {},
     "output_type": "display_data"
    },
    {
     "data": {
      "text/plain": [
       "<Figure size 432x288 with 0 Axes>"
      ]
     },
     "metadata": {},
     "output_type": "display_data"
    },
    {
     "data": {
      "text/plain": [
       "<Figure size 432x288 with 0 Axes>"
      ]
     },
     "metadata": {},
     "output_type": "display_data"
    },
    {
     "data": {
      "text/plain": [
       "<Figure size 432x288 with 0 Axes>"
      ]
     },
     "metadata": {},
     "output_type": "display_data"
    },
    {
     "data": {
      "text/plain": [
       "<Figure size 432x288 with 0 Axes>"
      ]
     },
     "metadata": {},
     "output_type": "display_data"
    },
    {
     "data": {
      "text/plain": [
       "<Figure size 432x288 with 0 Axes>"
      ]
     },
     "metadata": {},
     "output_type": "display_data"
    },
    {
     "data": {
      "text/plain": [
       "<Figure size 432x288 with 0 Axes>"
      ]
     },
     "metadata": {},
     "output_type": "display_data"
    },
    {
     "data": {
      "text/plain": [
       "<Figure size 432x288 with 0 Axes>"
      ]
     },
     "metadata": {},
     "output_type": "display_data"
    },
    {
     "data": {
      "text/plain": [
       "<Figure size 432x288 with 0 Axes>"
      ]
     },
     "metadata": {},
     "output_type": "display_data"
    },
    {
     "data": {
      "text/plain": [
       "<Figure size 432x288 with 0 Axes>"
      ]
     },
     "metadata": {},
     "output_type": "display_data"
    },
    {
     "data": {
      "text/plain": [
       "<Figure size 432x288 with 0 Axes>"
      ]
     },
     "metadata": {},
     "output_type": "display_data"
    },
    {
     "data": {
      "text/plain": [
       "<Figure size 432x288 with 0 Axes>"
      ]
     },
     "metadata": {},
     "output_type": "display_data"
    },
    {
     "data": {
      "text/plain": [
       "<Figure size 432x288 with 0 Axes>"
      ]
     },
     "metadata": {},
     "output_type": "display_data"
    },
    {
     "data": {
      "text/plain": [
       "<Figure size 432x288 with 0 Axes>"
      ]
     },
     "metadata": {},
     "output_type": "display_data"
    },
    {
     "data": {
      "text/plain": [
       "<Figure size 432x288 with 0 Axes>"
      ]
     },
     "metadata": {},
     "output_type": "display_data"
    },
    {
     "data": {
      "text/plain": [
       "<Figure size 432x288 with 0 Axes>"
      ]
     },
     "metadata": {},
     "output_type": "display_data"
    },
    {
     "data": {
      "text/plain": [
       "<Figure size 432x288 with 0 Axes>"
      ]
     },
     "metadata": {},
     "output_type": "display_data"
    },
    {
     "data": {
      "text/plain": [
       "<Figure size 432x288 with 0 Axes>"
      ]
     },
     "metadata": {},
     "output_type": "display_data"
    },
    {
     "data": {
      "text/plain": [
       "<Figure size 432x288 with 0 Axes>"
      ]
     },
     "metadata": {},
     "output_type": "display_data"
    },
    {
     "data": {
      "text/plain": [
       "<Figure size 432x288 with 0 Axes>"
      ]
     },
     "metadata": {},
     "output_type": "display_data"
    },
    {
     "data": {
      "text/plain": [
       "<Figure size 432x288 with 0 Axes>"
      ]
     },
     "metadata": {},
     "output_type": "display_data"
    },
    {
     "data": {
      "text/plain": [
       "<Figure size 432x288 with 0 Axes>"
      ]
     },
     "metadata": {},
     "output_type": "display_data"
    },
    {
     "data": {
      "text/plain": [
       "<Figure size 432x288 with 0 Axes>"
      ]
     },
     "metadata": {},
     "output_type": "display_data"
    },
    {
     "data": {
      "text/plain": [
       "<Figure size 432x288 with 0 Axes>"
      ]
     },
     "metadata": {},
     "output_type": "display_data"
    },
    {
     "data": {
      "text/plain": [
       "<Figure size 432x288 with 0 Axes>"
      ]
     },
     "metadata": {},
     "output_type": "display_data"
    },
    {
     "data": {
      "text/plain": [
       "<Figure size 432x288 with 0 Axes>"
      ]
     },
     "metadata": {},
     "output_type": "display_data"
    },
    {
     "data": {
      "text/plain": [
       "<Figure size 432x288 with 0 Axes>"
      ]
     },
     "metadata": {},
     "output_type": "display_data"
    },
    {
     "data": {
      "text/plain": [
       "<Figure size 432x288 with 0 Axes>"
      ]
     },
     "metadata": {},
     "output_type": "display_data"
    },
    {
     "data": {
      "text/plain": [
       "<Figure size 432x288 with 0 Axes>"
      ]
     },
     "metadata": {},
     "output_type": "display_data"
    },
    {
     "data": {
      "text/plain": [
       "<Figure size 432x288 with 0 Axes>"
      ]
     },
     "metadata": {},
     "output_type": "display_data"
    },
    {
     "data": {
      "text/plain": [
       "<Figure size 432x288 with 0 Axes>"
      ]
     },
     "metadata": {},
     "output_type": "display_data"
    },
    {
     "data": {
      "text/plain": [
       "<Figure size 432x288 with 0 Axes>"
      ]
     },
     "metadata": {},
     "output_type": "display_data"
    },
    {
     "data": {
      "text/plain": [
       "<Figure size 432x288 with 0 Axes>"
      ]
     },
     "metadata": {},
     "output_type": "display_data"
    },
    {
     "data": {
      "text/plain": [
       "<Figure size 432x288 with 0 Axes>"
      ]
     },
     "metadata": {},
     "output_type": "display_data"
    },
    {
     "data": {
      "text/plain": [
       "<Figure size 432x288 with 0 Axes>"
      ]
     },
     "metadata": {},
     "output_type": "display_data"
    },
    {
     "data": {
      "text/plain": [
       "<Figure size 432x288 with 0 Axes>"
      ]
     },
     "metadata": {},
     "output_type": "display_data"
    },
    {
     "data": {
      "text/plain": [
       "<Figure size 432x288 with 0 Axes>"
      ]
     },
     "metadata": {},
     "output_type": "display_data"
    },
    {
     "data": {
      "text/plain": [
       "<Figure size 432x288 with 0 Axes>"
      ]
     },
     "metadata": {},
     "output_type": "display_data"
    },
    {
     "data": {
      "text/plain": [
       "<Figure size 432x288 with 0 Axes>"
      ]
     },
     "metadata": {},
     "output_type": "display_data"
    },
    {
     "data": {
      "text/plain": [
       "<Figure size 432x288 with 0 Axes>"
      ]
     },
     "metadata": {},
     "output_type": "display_data"
    },
    {
     "data": {
      "text/plain": [
       "<Figure size 432x288 with 0 Axes>"
      ]
     },
     "metadata": {},
     "output_type": "display_data"
    },
    {
     "data": {
      "text/plain": [
       "<Figure size 432x288 with 0 Axes>"
      ]
     },
     "metadata": {},
     "output_type": "display_data"
    },
    {
     "data": {
      "text/plain": [
       "<Figure size 432x288 with 0 Axes>"
      ]
     },
     "metadata": {},
     "output_type": "display_data"
    },
    {
     "data": {
      "text/plain": [
       "<Figure size 432x288 with 0 Axes>"
      ]
     },
     "metadata": {},
     "output_type": "display_data"
    },
    {
     "data": {
      "text/plain": [
       "<Figure size 432x288 with 0 Axes>"
      ]
     },
     "metadata": {},
     "output_type": "display_data"
    },
    {
     "data": {
      "text/plain": [
       "<Figure size 432x288 with 0 Axes>"
      ]
     },
     "metadata": {},
     "output_type": "display_data"
    },
    {
     "data": {
      "text/plain": [
       "<Figure size 432x288 with 0 Axes>"
      ]
     },
     "metadata": {},
     "output_type": "display_data"
    },
    {
     "data": {
      "text/plain": [
       "<Figure size 432x288 with 0 Axes>"
      ]
     },
     "metadata": {},
     "output_type": "display_data"
    },
    {
     "data": {
      "text/plain": [
       "<Figure size 432x288 with 0 Axes>"
      ]
     },
     "metadata": {},
     "output_type": "display_data"
    },
    {
     "data": {
      "text/plain": [
       "<Figure size 432x288 with 0 Axes>"
      ]
     },
     "metadata": {},
     "output_type": "display_data"
    },
    {
     "data": {
      "text/plain": [
       "<Figure size 432x288 with 0 Axes>"
      ]
     },
     "metadata": {},
     "output_type": "display_data"
    },
    {
     "data": {
      "text/plain": [
       "<Figure size 432x288 with 0 Axes>"
      ]
     },
     "metadata": {},
     "output_type": "display_data"
    },
    {
     "data": {
      "text/plain": [
       "<Figure size 432x288 with 0 Axes>"
      ]
     },
     "metadata": {},
     "output_type": "display_data"
    },
    {
     "data": {
      "text/plain": [
       "<Figure size 432x288 with 0 Axes>"
      ]
     },
     "metadata": {},
     "output_type": "display_data"
    },
    {
     "data": {
      "text/plain": [
       "<Figure size 432x288 with 0 Axes>"
      ]
     },
     "metadata": {},
     "output_type": "display_data"
    },
    {
     "data": {
      "text/plain": [
       "<Figure size 432x288 with 0 Axes>"
      ]
     },
     "metadata": {},
     "output_type": "display_data"
    },
    {
     "data": {
      "text/plain": [
       "<Figure size 432x288 with 0 Axes>"
      ]
     },
     "metadata": {},
     "output_type": "display_data"
    },
    {
     "data": {
      "text/plain": [
       "<Figure size 432x288 with 0 Axes>"
      ]
     },
     "metadata": {},
     "output_type": "display_data"
    },
    {
     "data": {
      "text/plain": [
       "<Figure size 432x288 with 0 Axes>"
      ]
     },
     "metadata": {},
     "output_type": "display_data"
    },
    {
     "data": {
      "text/plain": [
       "<Figure size 432x288 with 0 Axes>"
      ]
     },
     "metadata": {},
     "output_type": "display_data"
    },
    {
     "data": {
      "text/plain": [
       "<Figure size 432x288 with 0 Axes>"
      ]
     },
     "metadata": {},
     "output_type": "display_data"
    },
    {
     "data": {
      "text/plain": [
       "<Figure size 432x288 with 0 Axes>"
      ]
     },
     "metadata": {},
     "output_type": "display_data"
    },
    {
     "data": {
      "text/plain": [
       "<Figure size 432x288 with 0 Axes>"
      ]
     },
     "metadata": {},
     "output_type": "display_data"
    },
    {
     "data": {
      "text/plain": [
       "<Figure size 432x288 with 0 Axes>"
      ]
     },
     "metadata": {},
     "output_type": "display_data"
    },
    {
     "data": {
      "text/plain": [
       "<Figure size 432x288 with 0 Axes>"
      ]
     },
     "metadata": {},
     "output_type": "display_data"
    },
    {
     "data": {
      "text/plain": [
       "<Figure size 432x288 with 0 Axes>"
      ]
     },
     "metadata": {},
     "output_type": "display_data"
    },
    {
     "data": {
      "text/plain": [
       "<Figure size 432x288 with 0 Axes>"
      ]
     },
     "metadata": {},
     "output_type": "display_data"
    },
    {
     "data": {
      "text/plain": [
       "<Figure size 432x288 with 0 Axes>"
      ]
     },
     "metadata": {},
     "output_type": "display_data"
    },
    {
     "data": {
      "text/plain": [
       "<Figure size 432x288 with 0 Axes>"
      ]
     },
     "metadata": {},
     "output_type": "display_data"
    },
    {
     "data": {
      "text/plain": [
       "<Figure size 432x288 with 0 Axes>"
      ]
     },
     "metadata": {},
     "output_type": "display_data"
    },
    {
     "data": {
      "text/plain": [
       "<Figure size 432x288 with 0 Axes>"
      ]
     },
     "metadata": {},
     "output_type": "display_data"
    },
    {
     "data": {
      "text/plain": [
       "<Figure size 432x288 with 0 Axes>"
      ]
     },
     "metadata": {},
     "output_type": "display_data"
    },
    {
     "data": {
      "text/plain": [
       "<Figure size 432x288 with 0 Axes>"
      ]
     },
     "metadata": {},
     "output_type": "display_data"
    },
    {
     "data": {
      "text/plain": [
       "<Figure size 432x288 with 0 Axes>"
      ]
     },
     "metadata": {},
     "output_type": "display_data"
    },
    {
     "data": {
      "text/plain": [
       "<Figure size 432x288 with 0 Axes>"
      ]
     },
     "metadata": {},
     "output_type": "display_data"
    },
    {
     "data": {
      "text/plain": [
       "<Figure size 432x288 with 0 Axes>"
      ]
     },
     "metadata": {},
     "output_type": "display_data"
    },
    {
     "data": {
      "text/plain": [
       "<Figure size 432x288 with 0 Axes>"
      ]
     },
     "metadata": {},
     "output_type": "display_data"
    },
    {
     "data": {
      "text/plain": [
       "<Figure size 432x288 with 0 Axes>"
      ]
     },
     "metadata": {},
     "output_type": "display_data"
    },
    {
     "data": {
      "text/plain": [
       "<Figure size 432x288 with 0 Axes>"
      ]
     },
     "metadata": {},
     "output_type": "display_data"
    },
    {
     "data": {
      "text/plain": [
       "<Figure size 432x288 with 0 Axes>"
      ]
     },
     "metadata": {},
     "output_type": "display_data"
    },
    {
     "data": {
      "text/plain": [
       "<Figure size 432x288 with 0 Axes>"
      ]
     },
     "metadata": {},
     "output_type": "display_data"
    },
    {
     "data": {
      "text/plain": [
       "<Figure size 432x288 with 0 Axes>"
      ]
     },
     "metadata": {},
     "output_type": "display_data"
    },
    {
     "data": {
      "text/plain": [
       "<Figure size 432x288 with 0 Axes>"
      ]
     },
     "metadata": {},
     "output_type": "display_data"
    },
    {
     "data": {
      "text/plain": [
       "<Figure size 432x288 with 0 Axes>"
      ]
     },
     "metadata": {},
     "output_type": "display_data"
    },
    {
     "data": {
      "text/plain": [
       "<Figure size 432x288 with 0 Axes>"
      ]
     },
     "metadata": {},
     "output_type": "display_data"
    },
    {
     "data": {
      "text/plain": [
       "<Figure size 432x288 with 0 Axes>"
      ]
     },
     "metadata": {},
     "output_type": "display_data"
    },
    {
     "data": {
      "text/plain": [
       "<Figure size 432x288 with 0 Axes>"
      ]
     },
     "metadata": {},
     "output_type": "display_data"
    },
    {
     "data": {
      "text/plain": [
       "<Figure size 432x288 with 0 Axes>"
      ]
     },
     "metadata": {},
     "output_type": "display_data"
    },
    {
     "data": {
      "text/plain": [
       "<Figure size 432x288 with 0 Axes>"
      ]
     },
     "metadata": {},
     "output_type": "display_data"
    },
    {
     "data": {
      "text/plain": [
       "<Figure size 432x288 with 0 Axes>"
      ]
     },
     "metadata": {},
     "output_type": "display_data"
    },
    {
     "data": {
      "text/plain": [
       "<Figure size 432x288 with 0 Axes>"
      ]
     },
     "metadata": {},
     "output_type": "display_data"
    },
    {
     "data": {
      "text/plain": [
       "<Figure size 432x288 with 0 Axes>"
      ]
     },
     "metadata": {},
     "output_type": "display_data"
    },
    {
     "data": {
      "text/plain": [
       "<Figure size 432x288 with 0 Axes>"
      ]
     },
     "metadata": {},
     "output_type": "display_data"
    },
    {
     "data": {
      "text/plain": [
       "<Figure size 432x288 with 0 Axes>"
      ]
     },
     "metadata": {},
     "output_type": "display_data"
    },
    {
     "data": {
      "text/plain": [
       "<Figure size 432x288 with 0 Axes>"
      ]
     },
     "metadata": {},
     "output_type": "display_data"
    },
    {
     "data": {
      "text/plain": [
       "<Figure size 432x288 with 0 Axes>"
      ]
     },
     "metadata": {},
     "output_type": "display_data"
    },
    {
     "data": {
      "text/plain": [
       "<Figure size 432x288 with 0 Axes>"
      ]
     },
     "metadata": {},
     "output_type": "display_data"
    },
    {
     "data": {
      "text/plain": [
       "<Figure size 432x288 with 0 Axes>"
      ]
     },
     "metadata": {},
     "output_type": "display_data"
    },
    {
     "data": {
      "text/plain": [
       "<Figure size 432x288 with 0 Axes>"
      ]
     },
     "metadata": {},
     "output_type": "display_data"
    },
    {
     "data": {
      "text/plain": [
       "<Figure size 432x288 with 0 Axes>"
      ]
     },
     "metadata": {},
     "output_type": "display_data"
    },
    {
     "data": {
      "text/plain": [
       "<Figure size 432x288 with 0 Axes>"
      ]
     },
     "metadata": {},
     "output_type": "display_data"
    },
    {
     "data": {
      "text/plain": [
       "<Figure size 432x288 with 0 Axes>"
      ]
     },
     "metadata": {},
     "output_type": "display_data"
    },
    {
     "data": {
      "text/plain": [
       "<Figure size 432x288 with 0 Axes>"
      ]
     },
     "metadata": {},
     "output_type": "display_data"
    },
    {
     "data": {
      "text/plain": [
       "<Figure size 432x288 with 0 Axes>"
      ]
     },
     "metadata": {},
     "output_type": "display_data"
    },
    {
     "data": {
      "text/plain": [
       "<Figure size 432x288 with 0 Axes>"
      ]
     },
     "metadata": {},
     "output_type": "display_data"
    },
    {
     "data": {
      "text/plain": [
       "<Figure size 432x288 with 0 Axes>"
      ]
     },
     "metadata": {},
     "output_type": "display_data"
    },
    {
     "data": {
      "text/plain": [
       "<Figure size 432x288 with 0 Axes>"
      ]
     },
     "metadata": {},
     "output_type": "display_data"
    },
    {
     "data": {
      "text/plain": [
       "<Figure size 432x288 with 0 Axes>"
      ]
     },
     "metadata": {},
     "output_type": "display_data"
    },
    {
     "data": {
      "text/plain": [
       "<Figure size 432x288 with 0 Axes>"
      ]
     },
     "metadata": {},
     "output_type": "display_data"
    },
    {
     "data": {
      "text/plain": [
       "<Figure size 432x288 with 0 Axes>"
      ]
     },
     "metadata": {},
     "output_type": "display_data"
    },
    {
     "data": {
      "text/plain": [
       "<Figure size 432x288 with 0 Axes>"
      ]
     },
     "metadata": {},
     "output_type": "display_data"
    },
    {
     "data": {
      "text/plain": [
       "<Figure size 432x288 with 0 Axes>"
      ]
     },
     "metadata": {},
     "output_type": "display_data"
    },
    {
     "data": {
      "text/plain": [
       "<Figure size 432x288 with 0 Axes>"
      ]
     },
     "metadata": {},
     "output_type": "display_data"
    },
    {
     "data": {
      "text/plain": [
       "<Figure size 432x288 with 0 Axes>"
      ]
     },
     "metadata": {},
     "output_type": "display_data"
    },
    {
     "data": {
      "text/plain": [
       "<Figure size 432x288 with 0 Axes>"
      ]
     },
     "metadata": {},
     "output_type": "display_data"
    },
    {
     "data": {
      "text/plain": [
       "<Figure size 432x288 with 0 Axes>"
      ]
     },
     "metadata": {},
     "output_type": "display_data"
    },
    {
     "data": {
      "text/plain": [
       "<Figure size 432x288 with 0 Axes>"
      ]
     },
     "metadata": {},
     "output_type": "display_data"
    },
    {
     "data": {
      "text/plain": [
       "<Figure size 432x288 with 0 Axes>"
      ]
     },
     "metadata": {},
     "output_type": "display_data"
    },
    {
     "data": {
      "text/plain": [
       "<Figure size 432x288 with 0 Axes>"
      ]
     },
     "metadata": {},
     "output_type": "display_data"
    },
    {
     "data": {
      "text/plain": [
       "<Figure size 432x288 with 0 Axes>"
      ]
     },
     "metadata": {},
     "output_type": "display_data"
    },
    {
     "data": {
      "text/plain": [
       "<Figure size 432x288 with 0 Axes>"
      ]
     },
     "metadata": {},
     "output_type": "display_data"
    },
    {
     "data": {
      "text/plain": [
       "<Figure size 432x288 with 0 Axes>"
      ]
     },
     "metadata": {},
     "output_type": "display_data"
    },
    {
     "data": {
      "text/plain": [
       "<Figure size 432x288 with 0 Axes>"
      ]
     },
     "metadata": {},
     "output_type": "display_data"
    },
    {
     "data": {
      "text/plain": [
       "<Figure size 432x288 with 0 Axes>"
      ]
     },
     "metadata": {},
     "output_type": "display_data"
    },
    {
     "data": {
      "text/plain": [
       "<Figure size 432x288 with 0 Axes>"
      ]
     },
     "metadata": {},
     "output_type": "display_data"
    },
    {
     "data": {
      "text/plain": [
       "<Figure size 432x288 with 0 Axes>"
      ]
     },
     "metadata": {},
     "output_type": "display_data"
    },
    {
     "data": {
      "text/plain": [
       "<Figure size 432x288 with 0 Axes>"
      ]
     },
     "metadata": {},
     "output_type": "display_data"
    },
    {
     "data": {
      "text/plain": [
       "<Figure size 432x288 with 0 Axes>"
      ]
     },
     "metadata": {},
     "output_type": "display_data"
    },
    {
     "data": {
      "text/plain": [
       "<Figure size 432x288 with 0 Axes>"
      ]
     },
     "metadata": {},
     "output_type": "display_data"
    },
    {
     "data": {
      "text/plain": [
       "<Figure size 432x288 with 0 Axes>"
      ]
     },
     "metadata": {},
     "output_type": "display_data"
    },
    {
     "data": {
      "text/plain": [
       "<Figure size 432x288 with 0 Axes>"
      ]
     },
     "metadata": {},
     "output_type": "display_data"
    },
    {
     "data": {
      "text/plain": [
       "<Figure size 432x288 with 0 Axes>"
      ]
     },
     "metadata": {},
     "output_type": "display_data"
    },
    {
     "data": {
      "text/plain": [
       "<Figure size 432x288 with 0 Axes>"
      ]
     },
     "metadata": {},
     "output_type": "display_data"
    },
    {
     "data": {
      "text/plain": [
       "<Figure size 432x288 with 0 Axes>"
      ]
     },
     "metadata": {},
     "output_type": "display_data"
    },
    {
     "data": {
      "text/plain": [
       "<Figure size 432x288 with 0 Axes>"
      ]
     },
     "metadata": {},
     "output_type": "display_data"
    },
    {
     "data": {
      "text/plain": [
       "<Figure size 432x288 with 0 Axes>"
      ]
     },
     "metadata": {},
     "output_type": "display_data"
    },
    {
     "data": {
      "text/plain": [
       "<Figure size 432x288 with 0 Axes>"
      ]
     },
     "metadata": {},
     "output_type": "display_data"
    },
    {
     "data": {
      "text/plain": [
       "<Figure size 432x288 with 0 Axes>"
      ]
     },
     "metadata": {},
     "output_type": "display_data"
    },
    {
     "data": {
      "text/plain": [
       "<Figure size 432x288 with 0 Axes>"
      ]
     },
     "metadata": {},
     "output_type": "display_data"
    },
    {
     "data": {
      "text/plain": [
       "<Figure size 432x288 with 0 Axes>"
      ]
     },
     "metadata": {},
     "output_type": "display_data"
    },
    {
     "data": {
      "text/plain": [
       "<Figure size 432x288 with 0 Axes>"
      ]
     },
     "metadata": {},
     "output_type": "display_data"
    },
    {
     "data": {
      "text/plain": [
       "<Figure size 432x288 with 0 Axes>"
      ]
     },
     "metadata": {},
     "output_type": "display_data"
    },
    {
     "data": {
      "text/plain": [
       "<Figure size 432x288 with 0 Axes>"
      ]
     },
     "metadata": {},
     "output_type": "display_data"
    },
    {
     "data": {
      "text/plain": [
       "<Figure size 432x288 with 0 Axes>"
      ]
     },
     "metadata": {},
     "output_type": "display_data"
    },
    {
     "data": {
      "text/plain": [
       "<Figure size 432x288 with 0 Axes>"
      ]
     },
     "metadata": {},
     "output_type": "display_data"
    },
    {
     "data": {
      "text/plain": [
       "<Figure size 432x288 with 0 Axes>"
      ]
     },
     "metadata": {},
     "output_type": "display_data"
    },
    {
     "data": {
      "text/plain": [
       "<Figure size 432x288 with 0 Axes>"
      ]
     },
     "metadata": {},
     "output_type": "display_data"
    },
    {
     "data": {
      "text/plain": [
       "<Figure size 432x288 with 0 Axes>"
      ]
     },
     "metadata": {},
     "output_type": "display_data"
    },
    {
     "data": {
      "text/plain": [
       "<Figure size 432x288 with 0 Axes>"
      ]
     },
     "metadata": {},
     "output_type": "display_data"
    },
    {
     "data": {
      "text/plain": [
       "<Figure size 432x288 with 0 Axes>"
      ]
     },
     "metadata": {},
     "output_type": "display_data"
    },
    {
     "data": {
      "text/plain": [
       "<Figure size 432x288 with 0 Axes>"
      ]
     },
     "metadata": {},
     "output_type": "display_data"
    },
    {
     "data": {
      "text/plain": [
       "<Figure size 432x288 with 0 Axes>"
      ]
     },
     "metadata": {},
     "output_type": "display_data"
    },
    {
     "data": {
      "text/plain": [
       "<Figure size 432x288 with 0 Axes>"
      ]
     },
     "metadata": {},
     "output_type": "display_data"
    },
    {
     "data": {
      "text/plain": [
       "<Figure size 432x288 with 0 Axes>"
      ]
     },
     "metadata": {},
     "output_type": "display_data"
    },
    {
     "data": {
      "text/plain": [
       "<Figure size 432x288 with 0 Axes>"
      ]
     },
     "metadata": {},
     "output_type": "display_data"
    },
    {
     "data": {
      "text/plain": [
       "<Figure size 432x288 with 0 Axes>"
      ]
     },
     "metadata": {},
     "output_type": "display_data"
    },
    {
     "data": {
      "text/plain": [
       "<Figure size 432x288 with 0 Axes>"
      ]
     },
     "metadata": {},
     "output_type": "display_data"
    },
    {
     "data": {
      "text/plain": [
       "<Figure size 432x288 with 0 Axes>"
      ]
     },
     "metadata": {},
     "output_type": "display_data"
    },
    {
     "data": {
      "text/plain": [
       "<Figure size 432x288 with 0 Axes>"
      ]
     },
     "metadata": {},
     "output_type": "display_data"
    },
    {
     "data": {
      "text/plain": [
       "<Figure size 432x288 with 0 Axes>"
      ]
     },
     "metadata": {},
     "output_type": "display_data"
    },
    {
     "data": {
      "text/plain": [
       "<Figure size 432x288 with 0 Axes>"
      ]
     },
     "metadata": {},
     "output_type": "display_data"
    },
    {
     "data": {
      "text/plain": [
       "<Figure size 432x288 with 0 Axes>"
      ]
     },
     "metadata": {},
     "output_type": "display_data"
    },
    {
     "data": {
      "text/plain": [
       "<Figure size 432x288 with 0 Axes>"
      ]
     },
     "metadata": {},
     "output_type": "display_data"
    },
    {
     "data": {
      "text/plain": [
       "<Figure size 432x288 with 0 Axes>"
      ]
     },
     "metadata": {},
     "output_type": "display_data"
    },
    {
     "data": {
      "text/plain": [
       "<Figure size 432x288 with 0 Axes>"
      ]
     },
     "metadata": {},
     "output_type": "display_data"
    },
    {
     "data": {
      "text/plain": [
       "<Figure size 432x288 with 0 Axes>"
      ]
     },
     "metadata": {},
     "output_type": "display_data"
    },
    {
     "data": {
      "text/plain": [
       "<Figure size 432x288 with 0 Axes>"
      ]
     },
     "metadata": {},
     "output_type": "display_data"
    },
    {
     "data": {
      "text/plain": [
       "<Figure size 432x288 with 0 Axes>"
      ]
     },
     "metadata": {},
     "output_type": "display_data"
    },
    {
     "data": {
      "text/plain": [
       "<Figure size 432x288 with 0 Axes>"
      ]
     },
     "metadata": {},
     "output_type": "display_data"
    },
    {
     "data": {
      "text/plain": [
       "<Figure size 432x288 with 0 Axes>"
      ]
     },
     "metadata": {},
     "output_type": "display_data"
    },
    {
     "data": {
      "text/plain": [
       "<Figure size 432x288 with 0 Axes>"
      ]
     },
     "metadata": {},
     "output_type": "display_data"
    },
    {
     "data": {
      "text/plain": [
       "<Figure size 432x288 with 0 Axes>"
      ]
     },
     "metadata": {},
     "output_type": "display_data"
    },
    {
     "data": {
      "text/plain": [
       "<Figure size 432x288 with 0 Axes>"
      ]
     },
     "metadata": {},
     "output_type": "display_data"
    },
    {
     "data": {
      "text/plain": [
       "<Figure size 432x288 with 0 Axes>"
      ]
     },
     "metadata": {},
     "output_type": "display_data"
    },
    {
     "data": {
      "text/plain": [
       "<Figure size 432x288 with 0 Axes>"
      ]
     },
     "metadata": {},
     "output_type": "display_data"
    },
    {
     "data": {
      "text/plain": [
       "<Figure size 432x288 with 0 Axes>"
      ]
     },
     "metadata": {},
     "output_type": "display_data"
    },
    {
     "data": {
      "text/plain": [
       "<Figure size 432x288 with 0 Axes>"
      ]
     },
     "metadata": {},
     "output_type": "display_data"
    },
    {
     "data": {
      "text/plain": [
       "<Figure size 432x288 with 0 Axes>"
      ]
     },
     "metadata": {},
     "output_type": "display_data"
    },
    {
     "data": {
      "text/plain": [
       "<Figure size 432x288 with 0 Axes>"
      ]
     },
     "metadata": {},
     "output_type": "display_data"
    },
    {
     "data": {
      "text/plain": [
       "<Figure size 432x288 with 0 Axes>"
      ]
     },
     "metadata": {},
     "output_type": "display_data"
    },
    {
     "data": {
      "text/plain": [
       "<Figure size 432x288 with 0 Axes>"
      ]
     },
     "metadata": {},
     "output_type": "display_data"
    },
    {
     "data": {
      "text/plain": [
       "<Figure size 432x288 with 0 Axes>"
      ]
     },
     "metadata": {},
     "output_type": "display_data"
    },
    {
     "data": {
      "text/plain": [
       "<Figure size 432x288 with 0 Axes>"
      ]
     },
     "metadata": {},
     "output_type": "display_data"
    },
    {
     "data": {
      "text/plain": [
       "<Figure size 432x288 with 0 Axes>"
      ]
     },
     "metadata": {},
     "output_type": "display_data"
    },
    {
     "data": {
      "text/plain": [
       "<Figure size 432x288 with 0 Axes>"
      ]
     },
     "metadata": {},
     "output_type": "display_data"
    },
    {
     "data": {
      "text/plain": [
       "<Figure size 432x288 with 0 Axes>"
      ]
     },
     "metadata": {},
     "output_type": "display_data"
    },
    {
     "data": {
      "text/plain": [
       "<Figure size 432x288 with 0 Axes>"
      ]
     },
     "metadata": {},
     "output_type": "display_data"
    },
    {
     "data": {
      "text/plain": [
       "<Figure size 432x288 with 0 Axes>"
      ]
     },
     "metadata": {},
     "output_type": "display_data"
    },
    {
     "data": {
      "text/plain": [
       "<Figure size 432x288 with 0 Axes>"
      ]
     },
     "metadata": {},
     "output_type": "display_data"
    },
    {
     "data": {
      "text/plain": [
       "<Figure size 432x288 with 0 Axes>"
      ]
     },
     "metadata": {},
     "output_type": "display_data"
    },
    {
     "data": {
      "text/plain": [
       "<Figure size 432x288 with 0 Axes>"
      ]
     },
     "metadata": {},
     "output_type": "display_data"
    },
    {
     "data": {
      "text/plain": [
       "<Figure size 432x288 with 0 Axes>"
      ]
     },
     "metadata": {},
     "output_type": "display_data"
    },
    {
     "data": {
      "text/plain": [
       "<Figure size 432x288 with 0 Axes>"
      ]
     },
     "metadata": {},
     "output_type": "display_data"
    },
    {
     "data": {
      "text/plain": [
       "<Figure size 432x288 with 0 Axes>"
      ]
     },
     "metadata": {},
     "output_type": "display_data"
    },
    {
     "data": {
      "text/plain": [
       "<Figure size 432x288 with 0 Axes>"
      ]
     },
     "metadata": {},
     "output_type": "display_data"
    },
    {
     "data": {
      "text/plain": [
       "<Figure size 432x288 with 0 Axes>"
      ]
     },
     "metadata": {},
     "output_type": "display_data"
    },
    {
     "data": {
      "text/plain": [
       "<Figure size 432x288 with 0 Axes>"
      ]
     },
     "metadata": {},
     "output_type": "display_data"
    },
    {
     "data": {
      "text/plain": [
       "<Figure size 432x288 with 0 Axes>"
      ]
     },
     "metadata": {},
     "output_type": "display_data"
    },
    {
     "data": {
      "text/plain": [
       "<Figure size 432x288 with 0 Axes>"
      ]
     },
     "metadata": {},
     "output_type": "display_data"
    },
    {
     "data": {
      "text/plain": [
       "<Figure size 432x288 with 0 Axes>"
      ]
     },
     "metadata": {},
     "output_type": "display_data"
    },
    {
     "data": {
      "text/plain": [
       "<Figure size 432x288 with 0 Axes>"
      ]
     },
     "metadata": {},
     "output_type": "display_data"
    },
    {
     "data": {
      "text/plain": [
       "<Figure size 432x288 with 0 Axes>"
      ]
     },
     "metadata": {},
     "output_type": "display_data"
    },
    {
     "data": {
      "text/plain": [
       "<Figure size 432x288 with 0 Axes>"
      ]
     },
     "metadata": {},
     "output_type": "display_data"
    },
    {
     "data": {
      "text/plain": [
       "<Figure size 432x288 with 0 Axes>"
      ]
     },
     "metadata": {},
     "output_type": "display_data"
    },
    {
     "data": {
      "text/plain": [
       "<Figure size 432x288 with 0 Axes>"
      ]
     },
     "metadata": {},
     "output_type": "display_data"
    },
    {
     "data": {
      "text/plain": [
       "<Figure size 432x288 with 0 Axes>"
      ]
     },
     "metadata": {},
     "output_type": "display_data"
    },
    {
     "data": {
      "text/plain": [
       "<Figure size 432x288 with 0 Axes>"
      ]
     },
     "metadata": {},
     "output_type": "display_data"
    },
    {
     "data": {
      "text/plain": [
       "<Figure size 432x288 with 0 Axes>"
      ]
     },
     "metadata": {},
     "output_type": "display_data"
    },
    {
     "data": {
      "text/plain": [
       "<Figure size 432x288 with 0 Axes>"
      ]
     },
     "metadata": {},
     "output_type": "display_data"
    },
    {
     "data": {
      "text/plain": [
       "<Figure size 432x288 with 0 Axes>"
      ]
     },
     "metadata": {},
     "output_type": "display_data"
    },
    {
     "data": {
      "text/plain": [
       "<Figure size 432x288 with 0 Axes>"
      ]
     },
     "metadata": {},
     "output_type": "display_data"
    },
    {
     "data": {
      "text/plain": [
       "<Figure size 432x288 with 0 Axes>"
      ]
     },
     "metadata": {},
     "output_type": "display_data"
    },
    {
     "data": {
      "text/plain": [
       "<Figure size 432x288 with 0 Axes>"
      ]
     },
     "metadata": {},
     "output_type": "display_data"
    },
    {
     "data": {
      "text/plain": [
       "<Figure size 432x288 with 0 Axes>"
      ]
     },
     "metadata": {},
     "output_type": "display_data"
    },
    {
     "data": {
      "text/plain": [
       "<Figure size 432x288 with 0 Axes>"
      ]
     },
     "metadata": {},
     "output_type": "display_data"
    },
    {
     "data": {
      "text/plain": [
       "<Figure size 432x288 with 0 Axes>"
      ]
     },
     "metadata": {},
     "output_type": "display_data"
    },
    {
     "data": {
      "text/plain": [
       "<Figure size 432x288 with 0 Axes>"
      ]
     },
     "metadata": {},
     "output_type": "display_data"
    },
    {
     "data": {
      "text/plain": [
       "<Figure size 432x288 with 0 Axes>"
      ]
     },
     "metadata": {},
     "output_type": "display_data"
    },
    {
     "data": {
      "text/plain": [
       "<Figure size 432x288 with 0 Axes>"
      ]
     },
     "metadata": {},
     "output_type": "display_data"
    },
    {
     "data": {
      "text/plain": [
       "<Figure size 432x288 with 0 Axes>"
      ]
     },
     "metadata": {},
     "output_type": "display_data"
    },
    {
     "data": {
      "text/plain": [
       "<Figure size 432x288 with 0 Axes>"
      ]
     },
     "metadata": {},
     "output_type": "display_data"
    },
    {
     "data": {
      "text/plain": [
       "<Figure size 432x288 with 0 Axes>"
      ]
     },
     "metadata": {},
     "output_type": "display_data"
    },
    {
     "data": {
      "text/plain": [
       "<Figure size 432x288 with 0 Axes>"
      ]
     },
     "metadata": {},
     "output_type": "display_data"
    },
    {
     "data": {
      "text/plain": [
       "<Figure size 432x288 with 0 Axes>"
      ]
     },
     "metadata": {},
     "output_type": "display_data"
    },
    {
     "data": {
      "text/plain": [
       "<Figure size 432x288 with 0 Axes>"
      ]
     },
     "metadata": {},
     "output_type": "display_data"
    },
    {
     "data": {
      "text/plain": [
       "<Figure size 432x288 with 0 Axes>"
      ]
     },
     "metadata": {},
     "output_type": "display_data"
    },
    {
     "data": {
      "text/plain": [
       "<Figure size 432x288 with 0 Axes>"
      ]
     },
     "metadata": {},
     "output_type": "display_data"
    },
    {
     "data": {
      "text/plain": [
       "<Figure size 432x288 with 0 Axes>"
      ]
     },
     "metadata": {},
     "output_type": "display_data"
    },
    {
     "data": {
      "text/plain": [
       "<Figure size 432x288 with 0 Axes>"
      ]
     },
     "metadata": {},
     "output_type": "display_data"
    },
    {
     "data": {
      "text/plain": [
       "<Figure size 432x288 with 0 Axes>"
      ]
     },
     "metadata": {},
     "output_type": "display_data"
    },
    {
     "data": {
      "text/plain": [
       "<Figure size 432x288 with 0 Axes>"
      ]
     },
     "metadata": {},
     "output_type": "display_data"
    },
    {
     "data": {
      "text/plain": [
       "<Figure size 432x288 with 0 Axes>"
      ]
     },
     "metadata": {},
     "output_type": "display_data"
    },
    {
     "data": {
      "text/plain": [
       "<Figure size 432x288 with 0 Axes>"
      ]
     },
     "metadata": {},
     "output_type": "display_data"
    },
    {
     "data": {
      "text/plain": [
       "<Figure size 432x288 with 0 Axes>"
      ]
     },
     "metadata": {},
     "output_type": "display_data"
    },
    {
     "data": {
      "text/plain": [
       "<Figure size 432x288 with 0 Axes>"
      ]
     },
     "metadata": {},
     "output_type": "display_data"
    },
    {
     "data": {
      "text/plain": [
       "<Figure size 432x288 with 0 Axes>"
      ]
     },
     "metadata": {},
     "output_type": "display_data"
    },
    {
     "data": {
      "text/plain": [
       "<Figure size 432x288 with 0 Axes>"
      ]
     },
     "metadata": {},
     "output_type": "display_data"
    },
    {
     "data": {
      "text/plain": [
       "<Figure size 432x288 with 0 Axes>"
      ]
     },
     "metadata": {},
     "output_type": "display_data"
    },
    {
     "data": {
      "text/plain": [
       "<Figure size 432x288 with 0 Axes>"
      ]
     },
     "metadata": {},
     "output_type": "display_data"
    },
    {
     "data": {
      "text/plain": [
       "<Figure size 432x288 with 0 Axes>"
      ]
     },
     "metadata": {},
     "output_type": "display_data"
    },
    {
     "data": {
      "text/plain": [
       "<Figure size 432x288 with 0 Axes>"
      ]
     },
     "metadata": {},
     "output_type": "display_data"
    },
    {
     "data": {
      "text/plain": [
       "<Figure size 432x288 with 0 Axes>"
      ]
     },
     "metadata": {},
     "output_type": "display_data"
    },
    {
     "data": {
      "text/plain": [
       "<Figure size 432x288 with 0 Axes>"
      ]
     },
     "metadata": {},
     "output_type": "display_data"
    },
    {
     "data": {
      "text/plain": [
       "<Figure size 432x288 with 0 Axes>"
      ]
     },
     "metadata": {},
     "output_type": "display_data"
    },
    {
     "data": {
      "text/plain": [
       "<Figure size 432x288 with 0 Axes>"
      ]
     },
     "metadata": {},
     "output_type": "display_data"
    },
    {
     "data": {
      "text/plain": [
       "<Figure size 432x288 with 0 Axes>"
      ]
     },
     "metadata": {},
     "output_type": "display_data"
    },
    {
     "data": {
      "text/plain": [
       "<Figure size 432x288 with 0 Axes>"
      ]
     },
     "metadata": {},
     "output_type": "display_data"
    },
    {
     "data": {
      "text/plain": [
       "<Figure size 432x288 with 0 Axes>"
      ]
     },
     "metadata": {},
     "output_type": "display_data"
    },
    {
     "data": {
      "text/plain": [
       "<Figure size 432x288 with 0 Axes>"
      ]
     },
     "metadata": {},
     "output_type": "display_data"
    },
    {
     "data": {
      "text/plain": [
       "<Figure size 432x288 with 0 Axes>"
      ]
     },
     "metadata": {},
     "output_type": "display_data"
    },
    {
     "data": {
      "text/plain": [
       "<Figure size 432x288 with 0 Axes>"
      ]
     },
     "metadata": {},
     "output_type": "display_data"
    },
    {
     "data": {
      "text/plain": [
       "<Figure size 432x288 with 0 Axes>"
      ]
     },
     "metadata": {},
     "output_type": "display_data"
    },
    {
     "data": {
      "text/plain": [
       "<Figure size 432x288 with 0 Axes>"
      ]
     },
     "metadata": {},
     "output_type": "display_data"
    },
    {
     "data": {
      "text/plain": [
       "<Figure size 432x288 with 0 Axes>"
      ]
     },
     "metadata": {},
     "output_type": "display_data"
    },
    {
     "data": {
      "text/plain": [
       "<Figure size 432x288 with 0 Axes>"
      ]
     },
     "metadata": {},
     "output_type": "display_data"
    },
    {
     "data": {
      "text/plain": [
       "<Figure size 432x288 with 0 Axes>"
      ]
     },
     "metadata": {},
     "output_type": "display_data"
    },
    {
     "data": {
      "text/plain": [
       "<Figure size 432x288 with 0 Axes>"
      ]
     },
     "metadata": {},
     "output_type": "display_data"
    },
    {
     "data": {
      "text/plain": [
       "<Figure size 432x288 with 0 Axes>"
      ]
     },
     "metadata": {},
     "output_type": "display_data"
    },
    {
     "data": {
      "text/plain": [
       "<Figure size 432x288 with 0 Axes>"
      ]
     },
     "metadata": {},
     "output_type": "display_data"
    },
    {
     "data": {
      "text/plain": [
       "<Figure size 432x288 with 0 Axes>"
      ]
     },
     "metadata": {},
     "output_type": "display_data"
    },
    {
     "data": {
      "text/plain": [
       "<Figure size 432x288 with 0 Axes>"
      ]
     },
     "metadata": {},
     "output_type": "display_data"
    },
    {
     "data": {
      "text/plain": [
       "<Figure size 432x288 with 0 Axes>"
      ]
     },
     "metadata": {},
     "output_type": "display_data"
    },
    {
     "data": {
      "text/plain": [
       "<Figure size 432x288 with 0 Axes>"
      ]
     },
     "metadata": {},
     "output_type": "display_data"
    },
    {
     "data": {
      "text/plain": [
       "<Figure size 432x288 with 0 Axes>"
      ]
     },
     "metadata": {},
     "output_type": "display_data"
    },
    {
     "data": {
      "text/plain": [
       "<Figure size 432x288 with 0 Axes>"
      ]
     },
     "metadata": {},
     "output_type": "display_data"
    },
    {
     "data": {
      "text/plain": [
       "<Figure size 432x288 with 0 Axes>"
      ]
     },
     "metadata": {},
     "output_type": "display_data"
    },
    {
     "data": {
      "text/plain": [
       "<Figure size 432x288 with 0 Axes>"
      ]
     },
     "metadata": {},
     "output_type": "display_data"
    },
    {
     "data": {
      "text/plain": [
       "<Figure size 432x288 with 0 Axes>"
      ]
     },
     "metadata": {},
     "output_type": "display_data"
    }
   ],
   "source": [
    "import numpy as np\n",
    "import math\n",
    "import matplotlib.pyplot as plt\n",
    "# parameters\n",
    "boxsize = 10\n",
    "N = 20\n",
    "dt = 0.1        # timestep\n",
    "k_particle = 5  # P-P stiffness\n",
    "diameter = 2.0  # P diameter \\sigma\n",
    "k_body = 0.1    # stiffness of spring holding Ps in center of sys\n",
    "\n",
    "\n",
    "# generate Nx2 array-matrix - positions of particles within box\n",
    "pos = (np.random.rand(N, 2) - 0.5) * boxsize\n",
    "vel = np.zeros((N,2))\n",
    "\n",
    "# calculate force between 2 particles\n",
    "def force(i, j):\n",
    "    rij = pos[i] - pos[j]\n",
    "    distance = np.linalg.norm(rij)\n",
    "    if distance > diameter or i == j:\n",
    "        return np.array([0,0])\n",
    "    rij_norm = rij / distance\n",
    "    return k_particle * (diameter - distance) * rij_norm\n",
    "\n",
    "def body_force(i):\n",
    "    return - k_body * pos[i]\n",
    "\n",
    "def timestep(step):\n",
    "    for i in range(N):\n",
    "        pos[i] += 0.5 * dt * vel[i]\n",
    "\n",
    "    forces = np.zeros((N,2))\n",
    "    for i in range(N):\n",
    "        forces[i] += body_force(i)\n",
    "        for j in range(N):\n",
    "            forces[i] += force(i,j)\n",
    "\n",
    "    for i in range(N):\n",
    "        vel[i] += dt * forces[i]\n",
    "\n",
    "    for i in range(N):\n",
    "        pos[i] += 0.5 * dt * vel[i]\n",
    "    \n",
    "    scatter.set_offsets(pos)\n",
    "    plt.draw()\n",
    "    plt.pause(0.01)\n",
    "\n",
    "\n",
    "print(\"Running calculations, please wait!\")\n",
    "plt.clf()\n",
    "plt.xlim(-boxsize, +boxsize)\n",
    "plt.ylim(-boxsize, +boxsize)\n",
    "scatter = plt.scatter(pos[:,0], pos[:,1], s=250)\n",
    "for i in range(500):\n",
    "    timestep(i)"
   ]
  },
  {
   "cell_type": "code",
   "execution_count": null,
   "metadata": {},
   "outputs": [],
   "source": []
  }
 ],
 "metadata": {
  "kernelspec": {
   "display_name": "Python 3 (ipykernel)",
   "language": "python",
   "name": "python3"
  },
  "language_info": {
   "codemirror_mode": {
    "name": "ipython",
    "version": 3
   },
   "file_extension": ".py",
   "mimetype": "text/x-python",
   "name": "python",
   "nbconvert_exporter": "python",
   "pygments_lexer": "ipython3",
   "version": "3.10.6"
  }
 },
 "nbformat": 4,
 "nbformat_minor": 4
}
