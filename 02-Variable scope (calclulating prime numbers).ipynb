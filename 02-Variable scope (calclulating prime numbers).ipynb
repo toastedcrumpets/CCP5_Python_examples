{
 "cells": [
  {
   "cell_type": "markdown",
   "metadata": {},
   "source": [
    "# Part 02 - Correct use of variable scope\n",
    "\n",
    "<b>Note: If you're advanced in python, try solving the problems at the end</b>\n",
    "\n",
    "This set of notes is about building a program from scratch (the development process), learning to think in loops, and <b>learning about scope</b>, one of the most confusing parts of programming for beginners.\n",
    "\n",
    "The <b>scope</b> is everything the computer can \"see\" at a particular point in the code, i.e. the names of variables and functions the computer has learnt (so far). We have to learn about scope, as many errors arise from not understanding it, and you want to keep your scope as minimal/clean as possible so that errors are easy to find. Also, scope is fundamental to understanding how code is read by the computer.\n",
    "\n",
    "To motivate it, we are going to build a prime number calculator! (a bit anticlimatic I know, but walk before running)\n",
    "\n",
    "As a quick revision, prime numbers are natural numbers (positive integers) which have only themselves and 1 as factors. Thus 2 is a prime number and so is 3, but not 4 as $2\\times2=4$. There are no simple patterns to the primes. In fact, as soon as a pattern appears it seems to be destroyed. For example, between the first two primes (2,3) it appears to be increasing by 1, but this is immediately broken by the next prime being 5. We might then hypothesise the increase in the primes to be +1,+2,+3 but then the next prime (7) is actually a +2 again! In fact, \"seives\" are one way of identifying primes by removing the patterns prime numbers create once they are discovered. For example, as the number 2 is prime, all other even numbers are no-longer prime, thus all even numbers are now \"seived out\". See the [seive of Eratosthenes](https://en.wikipedia.org/wiki/Sieve_of_Eratosthenes) for more on this.\n",
    "\n",
    "There are some general statements we can make about primes, such as the probability of a number, $n$, being prime is proportional to $1/\\ln(n)$ for sufficiently large $n$, but there is no fast way to test if a number is prime. Most approaches instead check if a number is *not* prime by looking for factors. If there are no integer factors then it is prime. This is known as [trial division](https://en.wikipedia.org/wiki/Trial_division), where given a candidate prime number $n$, we test every integer less than $n$ to see if it divides $n$ an integer number of times.\n",
    "\n",
    "Lets try $n=5$ by hand,"
   ]
  },
  {
   "cell_type": "code",
   "execution_count": 1,
   "metadata": {},
   "outputs": [
    {
     "name": "stdout",
     "output_type": "stream",
     "text": [
      "1 5.0\n",
      "2 2.5\n",
      "3 1.6666666666666667\n",
      "4 1.25\n",
      "5 1.0\n"
     ]
    }
   ],
   "source": [
    "print(1, 5/1)\n",
    "print(2, 5/2)\n",
    "print(3, 5/3)\n",
    "print(4, 5/4)\n",
    "print(5, 5/5)"
   ]
  },
  {
   "cell_type": "markdown",
   "metadata": {
    "collapsed": true,
    "jupyter": {
     "outputs_hidden": true
    }
   },
   "source": [
    "As it is only divisible with no remainder (thus the result is ending in .0) by itself and one, 5 is indeed prime. Now we have an idea of how to progress, lets make this test smarter and get the computer to do more of the work for us, we want to test all numbers from $[1,\\,n]$ automatically, so lets generate a list of numbers,"
   ]
  },
  {
   "cell_type": "code",
   "execution_count": 2,
   "metadata": {},
   "outputs": [
    {
     "data": {
      "text/plain": [
       "[1, 2, 3, 4, 5]"
      ]
     },
     "execution_count": 2,
     "metadata": {},
     "output_type": "execute_result"
    }
   ],
   "source": [
    "list(range(1,6)) # I'm using list() to convert the result of range to a list\n",
    "                 # range() returns a generator which calculates numbers as need them, rather than make a list up front."
   ]
  },
  {
   "cell_type": "markdown",
   "metadata": {},
   "source": [
    "We go to `6` in range as the `range(x, y)` function misses out the last number and I want to test the divisors of 5 from $[1,5]$. The logic of range missing the last number is that range by default starts counting from zero, so `range(6)` gives you 6 numbers from $[0,5]$. We need to use the `list()` command here around the `range` call so when we print it we see all the values, otherwise it just stays as a range generator (see previous slides for more information).\n",
    "\n",
    "Using a loop, we can now test all the divisors:"
   ]
  },
  {
   "cell_type": "code",
   "execution_count": 3,
   "metadata": {},
   "outputs": [
    {
     "name": "stdout",
     "output_type": "stream",
     "text": [
      "1 5.0\n",
      "2 2.5\n",
      "3 1.6666666666666667\n",
      "4 1.25\n",
      "5 1.0\n"
     ]
    }
   ],
   "source": [
    "testnum = 5\n",
    "for divisor in range(1, testnum+1):\n",
    "    print(divisor, testnum/divisor)"
   ]
  },
  {
   "cell_type": "markdown",
   "metadata": {},
   "source": [
    "The `for` loop goes through the list one by one and creates a variable `divisor` which points to each member of the list in turn for each iteration of the loop. We then print the divisor and how many times it goes into 5. I've generalised the code to work with any test number.\n",
    "\n",
    "Now we can talk about about scope. After the loop, can the computer still see `divisor`? Can we still use it? Lets try  printing its value out:"
   ]
  },
  {
   "cell_type": "code",
   "execution_count": 4,
   "metadata": {},
   "outputs": [
    {
     "name": "stdout",
     "output_type": "stream",
     "text": [
      "5\n"
     ]
    }
   ],
   "source": [
    "print(divisor)"
   ]
  },
  {
   "cell_type": "markdown",
   "metadata": {},
   "source": [
    "Yes! `divisor` did not disappear once the loop was complete. It sticks around with its last value (the last loop value). This means that `for` loops do not have their own scope but instead place any variables created inside them into the surrounding scope. \n",
    "As we're just directly running code, any variables created get placed in the *global* scope, which is visible everywhere in the code. We can check out what is in the scope at a particular point using the `dir()` command. So lets see what's in the global scope:"
   ]
  },
  {
   "cell_type": "code",
   "execution_count": 5,
   "metadata": {},
   "outputs": [
    {
     "data": {
      "text/plain": [
       "['In',\n",
       " 'Out',\n",
       " '_',\n",
       " '_2',\n",
       " '__',\n",
       " '___',\n",
       " '__builtin__',\n",
       " '__builtins__',\n",
       " '__doc__',\n",
       " '__loader__',\n",
       " '__name__',\n",
       " '__package__',\n",
       " '__spec__',\n",
       " '_dh',\n",
       " '_i',\n",
       " '_i1',\n",
       " '_i2',\n",
       " '_i3',\n",
       " '_i4',\n",
       " '_i5',\n",
       " '_ih',\n",
       " '_ii',\n",
       " '_iii',\n",
       " '_oh',\n",
       " 'divisor',\n",
       " 'exit',\n",
       " 'get_ipython',\n",
       " 'os',\n",
       " 'quit',\n",
       " 'sys',\n",
       " 'testnum']"
      ]
     },
     "execution_count": 5,
     "metadata": {},
     "output_type": "execute_result"
    }
   ],
   "source": [
    "dir()"
   ]
  },
  {
   "cell_type": "markdown",
   "metadata": {},
   "source": [
    "Some of the inner workings of python/jupyter are visible in the scope and can be easily identified as they start with underscores \"_\", so you can safely ignore those entries (extra: don't ignore them, try printing out `_i`, `_i1`, and `_1`, `_2` etc. What are they?). As `dir` returns a list, we can check if something is in it,"
   ]
  },
  {
   "cell_type": "code",
   "execution_count": 6,
   "metadata": {},
   "outputs": [
    {
     "data": {
      "text/plain": [
       "True"
      ]
     },
     "execution_count": 6,
     "metadata": {},
     "output_type": "execute_result"
    }
   ],
   "source": [
    "\"divisor\" in dir()"
   ]
  },
  {
   "cell_type": "markdown",
   "metadata": {},
   "source": [
    "OK, back to the problem at hand. When does python lack-of-scope for `for` loops cause problems? The issue is that programmers tend to use the same names for variables over and over again (i.e., `x`, `n`, or `i`). Lets say you already had some code that uses a variable $n$ but only at its beginning and end. But later, you come back to the code and modify it to have a loop in the middle"
   ]
  },
  {
   "cell_type": "code",
   "execution_count": 7,
   "metadata": {},
   "outputs": [
    {
     "name": "stdout",
     "output_type": "stream",
     "text": [
      "7\n"
     ]
    }
   ],
   "source": [
    "n = 12\n",
    "# Some long code here that makes you forget about n being used already\n",
    "# ...\n",
    "\n",
    "# New loop added later-on in the development process\n",
    "x = 0\n",
    "for n in range(8):\n",
    "    x += n\n",
    "\n",
    "# More long code that stops you seeing n being used again\n",
    "# ...\n",
    "print(n) # Originally this would print 12, but the loop makes it print 7 instead!"
   ]
  },
  {
   "cell_type": "markdown",
   "metadata": {},
   "source": [
    "Changing variables without realising it is the number one issue of new programmers in every language. Of course, one solution would be to always use a new long random name for each variable so they never get confused, but this makes your code unreadable. Sometimes it makes sense to use lots of variables called `x`.\n",
    "\n",
    "The solution is to make sure your work is scoped, so that variables disappear when they are no longer used. So how do you get a new scope? One way is to make a function! Lets make a function that tests if a number is prime:"
   ]
  },
  {
   "cell_type": "code",
   "execution_count": 3,
   "metadata": {},
   "outputs": [
    {
     "name": "stdout",
     "output_type": "stream",
     "text": [
      "5 is prime: True\n",
      "15 is prime: False\n",
      "False\n"
     ]
    }
   ],
   "source": [
    "def isPrime(n):\n",
    "    #Check all numbers between [2,n-1]\n",
    "    for div in range(2,n):\n",
    "        # The modulus operator % gives us the remainder of a division (before division).\n",
    "        if n % div == 0:\n",
    "            # If there's no remainder, then the divisor divides n a whole number of times\n",
    "            # So n must not be prime then, so immediately end the function and return false!\n",
    "            return False\n",
    "    # If we get here, then we've finished the loop and the number must be prime!\n",
    "    return True\n",
    "\n",
    "print(\"5 is prime:\", isPrime(5))     # Should say True, 5 is prime!\n",
    "print(\"15 is prime:\", isPrime(15))   # Should say False, 15 is not prime!\n",
    "print(\"div\" in dir())                # Should be False, div is in the scope of the function, not the global scope!  "
   ]
  },
  {
   "cell_type": "markdown",
   "metadata": {},
   "source": [
    "Take some time to figure out `isPrime`. Thinking in loops is something you'll have to learn by example.\n",
    "\n",
    "If you don't get it, load it into a python debugger like VSCode, and step through the code, seeing what the computer is doing with each loop.\n",
    "\n",
    "The last line checks if the loop variable `div` from inside `isPrime` is still in the global scope, and we see that it is not. If we try to use this variable in the global scope we will get an error.\n",
    "\n",
    "What happens here exactly? When python enters a function, it makes a copy of the current global scope. The function can access everything in the global scope but any additional variables made while in this new scope are only visible while the function is running. Also, any new variables in the function scope \"shadow\" or override variables in the global scope with the same name (for the duration of the function). Once the function is finished, the new scope is thrown away and the old scope restored. As the variable `div` falls out of all scopes entirely, it is also deleted forever (called garbage collection). \n",
    "\n",
    "You should try to write code that is as neat and small as possible, where every variable appears exactly when its needed, and falls out of scope after you are done with it. This stops \"spaghetti code\" where everything is tied together and its difficult to see when/where a variable is used or changed.\n",
    "\n",
    "This is why object orientation, functional programming, and every other paradigm of programming has been invented. Its all about making easily readable code, with very simple scopes so that no-one gets confused. One way to do this is to write functions that have everything they need as an argument, and return all output as a return value (no use of the global scope). Any function which alters variables in its surrounding scope is said to have \"side effects\", and its generally frowned upon (although eventually it becomes unavoidable). In fact, languages like lisp/clojure strongly discourage side effects by design.\n",
    "\n",
    "Lets summarise with some examples of scope,"
   ]
  },
  {
   "cell_type": "code",
   "execution_count": 11,
   "metadata": {},
   "outputs": [
    {
     "name": "stdout",
     "output_type": "stream",
     "text": [
      "From inside f(), x is in the f() scope\n",
      "From inside g(), x is in the global scope\n",
      "At the end, x is in the global scope\n"
     ]
    }
   ],
   "source": [
    "x=\"global scope\"  # Create a new variable x in the global sccope\n",
    "\n",
    "def g():\n",
    "    # All functions, when called, inherit a \"copy\" of the global scope, so this function\n",
    "    # has access to x\n",
    "    print(\"From inside g(), x is in the\", x)\n",
    "\n",
    "def f():\n",
    "    # Here we make a new variable x\n",
    "    x=\"f() scope\"\n",
    "    # This variable \"shadows\"/overrides the global x while we're inside the function scope\n",
    "    print(\"From inside f(), x is in the\", x)\n",
    "    # Now the function ends, so we fall out of its scope and the local x is lost\n",
    "   \n",
    "f()\n",
    "g()\n",
    "print(\"At the end, x is in the\", x) "
   ]
  },
  {
   "cell_type": "markdown",
   "metadata": {},
   "source": [
    "Lets finish with a fully working example of the prime number program:"
   ]
  },
  {
   "cell_type": "code",
   "execution_count": 5,
   "metadata": {},
   "outputs": [
    {
     "name": "stdout",
     "output_type": "stream",
     "text": [
      "This took 0.2553400993347168  seconds\n",
      "Found 1229 primes, should be 1229 for n=10000\n"
     ]
    }
   ],
   "source": [
    "def isPrime(n):\n",
    "    for div in range(2,n):\n",
    "        if n % div == 0:\n",
    "            return False\n",
    "    return True\n",
    "\n",
    "import time\n",
    "#Print the first primes in the range [0,100]\n",
    "start = time.time()\n",
    "primes=[]\n",
    "for n in range(2, 10000):\n",
    "    if isPrime(n):\n",
    "        primes.append(n)\n",
    "end=time.time()\n",
    "print(\"This took\", end-start, \" seconds\")\n",
    "print(\"Found\",len(primes),\"primes, should be 1229 for n=10000\")"
   ]
  },
  {
   "cell_type": "markdown",
   "metadata": {},
   "source": [
    "I added a little bit of timing code, so that we can see if any of the suggested changes below actually improve the speed of the work"
   ]
  },
  {
   "cell_type": "markdown",
   "metadata": {},
   "source": [
    "## Extra credit\n",
    "\n",
    "- Don't test even numbers for being prime this should cut the python runtime in half (hint, use a slice on the `range(2,n)` in `isPrime` to eliminate even numbers by using an increment of 2). Also, you don't need to look for even factors either, this should significantly reduce the runtime. Careful you don't lose the prime number 2 when eliminating the even factors/numbers.\n",
    "- By the same logic, the smallest multiple of a prime number is 2, so only test for divisors up to $n/2$ (rounded down). Hint, python has a rounding down division, i.e. `n//2`.\n",
    "- Actually we only need to test up to $\\sqrt{n}$ as the largest factor. The reason is that any number $n$ factored into $n=a\\times b$ can also be written as $n=b\\times a$. The largest value that $\\min(a,b)$ can be is $\\sqrt{n}$. Modify your code to run up to this point. \n",
    "- Do you need to test all integers? If every number is prime, or a multiple of a prime number, then you only need to test if prime factors are integer divisors! Store a list of all currently discovered primes, and loop over those as potential divisors (up to $\\sqrt{n}$ of course).\n",
    "- Given a number $n$, the number of prime numbers with a value lower than $n$ tends to $n/\\ln(n)$ as $n$ becomes large (not exactly though, its an underestimate for at least $n=10^2\\to10^{27}$ and an overestimate below that). Plot the exact answer and the approximation to figure out how large $n$ has to be for this to hold reasonably true (hint: its somewhere at small $n$).\n",
    "- Try and solve [Project Euler's problem 3, what is the largets prime factor of the number 600851475143](https://projecteuler.net/problem=3)? Note this number is sufficiently large to really test your program's performance (you will need all tricks), as well as cause issues with 32 bit integers. Luckily, python 2 uses 64 bit integers, and python 3 supports arbitrarily large integers, so its helping you out with the really hard bits.\n"
   ]
  }
 ],
 "metadata": {
  "kernelspec": {
   "display_name": "Python 3 (ipykernel)",
   "language": "python",
   "name": "python3"
  },
  "language_info": {
   "codemirror_mode": {
    "name": "ipython",
    "version": 3
   },
   "file_extension": ".py",
   "mimetype": "text/x-python",
   "name": "python",
   "nbconvert_exporter": "python",
   "pygments_lexer": "ipython3",
   "version": "3.10.6"
  }
 },
 "nbformat": 4,
 "nbformat_minor": 4
}
