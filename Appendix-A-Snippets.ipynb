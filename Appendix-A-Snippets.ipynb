{
 "cells": [
  {
   "cell_type": "markdown",
   "metadata": {},
   "source": [
    "# Snippets of code created, or questions answered,  by request!"
   ]
  },
  {
   "cell_type": "code",
   "execution_count": 1,
   "metadata": {
    "collapsed": true,
    "jupyter": {
     "outputs_hidden": true
    }
   },
   "outputs": [],
   "source": [
    "#This was a request to see something written out to a file, I chose an enumerated list of random numbers\n",
    "import numpy.random\n",
    "\n",
    "output_file = open(\"junk.dat\", \"w\")\n",
    "for i in range(100):\n",
    "    y = numpy.random.normal(0.0, 1.0)\n",
    "    output_file.write(str(i)+' '+str(y))"
   ]
  },
  {
   "cell_type": "markdown",
   "metadata": {},
   "source": [
    "# Formatted output"
   ]
  },
  {
   "cell_type": "code",
   "execution_count": 2,
   "metadata": {},
   "outputs": [
    {
     "data": {
      "text/plain": [
       "'3.14159'"
      ]
     },
     "execution_count": 2,
     "metadata": {},
     "output_type": "execute_result"
    }
   ],
   "source": [
    "#Somebody wanted to see formatted output of floats (to a given number of decimal places)\n",
    "\"%0.5f\"%3.141592675"
   ]
  },
  {
   "cell_type": "markdown",
   "metadata": {},
   "source": [
    "# Command line arguments\n",
    "\n",
    "This request was \"how do I have command line arguments to a proper python program?\". The example below will not run on Jupyter notebooks as it expects to be run from the command line!"
   ]
  },
  {
   "cell_type": "code",
   "execution_count": null,
   "metadata": {
    "collapsed": true,
    "jupyter": {
     "outputs_hidden": true
    }
   },
   "outputs": [],
   "source": [
    "#!/usr/bin/python\n",
    "import sys\n",
    "from optparse import OptionParser\n",
    "\n",
    "# parse command line arguments\n",
    "usage = \"usage: %prog [options] arg\"\n",
    "parser = OptionParser(usage)\n",
    "parser.add_option(\"--n\", type=\"int\", dest=\"nn\", default=1)\n",
    "(options, args) = parser.parse_args()\n",
    "\n",
    "import numpy\n",
    "import pylab\n",
    "\n",
    "y_data = []\n",
    "for i in range(options.nn):\n",
    "    y_data.append(numpy.random.normal(0.0, 1.0))\n",
    "\n",
    "n, bins, patches = pylab.hist(y_data, 50, normed=1, histtype='step')\n",
    "\n",
    "x_data = numpy.arange(-5.0, 5.0, 0.01)\n",
    "y_data = [numpy.exp(-0.5*x**2/(1.0*1.0))/numpy.sqrt(2.0*numpy.pi*1.0**2) for x in x_data]\n",
    "\n",
    "pylab.plot(x_data, y_data)\n",
    "pylab.show()"
   ]
  },
  {
   "cell_type": "markdown",
   "metadata": {},
   "source": [
    "# Running other programs quickly\n",
    "This request asked how do you run an external program/control one from python. Below is the easiest but least powerful way. Other approaches using `import subprocess` allow for more control over the run program."
   ]
  },
  {
   "cell_type": "code",
   "execution_count": 6,
   "metadata": {},
   "outputs": [
    {
     "data": {
      "text/plain": [
       "0"
      ]
     },
     "execution_count": 6,
     "metadata": {},
     "output_type": "execute_result"
    }
   ],
   "source": [
    "import os\n",
    "#Run the ls program\n",
    "os.system(\"ls\")"
   ]
  },
  {
   "cell_type": "markdown",
   "metadata": {},
   "source": [
    "# Parsing Goodvibes data files into csv for excel\n",
    "Someone wanted to parse a data file from Goodvibes (this i think https://github.com/bobbypaton/GoodVibes)."
   ]
  },
  {
   "cell_type": "code",
   "execution_count": 35,
   "metadata": {
    "collapsed": true,
    "jupyter": {
     "outputs_hidden": true
    }
   },
   "outputs": [],
   "source": [
    "file = open(\"Goodvibes_output.dat\", \"r\")\n",
    "filetext = file.read()\n",
    "filelines = filetext.split('\\n')\n",
    "with open('data.csv', 'w') as output:\n",
    "    for line in filelines:\n",
    "        if len(line) > 0 and line[0] == \"o\":\n",
    "            cols=line.split()\n",
    "            print(*(cols[1:]),sep=\",\",file=output)"
   ]
  },
  {
   "cell_type": "markdown",
   "metadata": {},
   "source": [
    "Here we look for non-empty lines in the file, starting with a 'o'. We then split the line by whitespace (spaces, tabs, etc) and take everything but the first column `cols[1:]`.\n",
    "\n",
    "Then we print this to the file using a trick, if you write `*list`, then python will *unpack* the list and use it as arguments to the surrounding function call.  "
   ]
  },
  {
   "cell_type": "markdown",
   "metadata": {},
   "source": [
    "# Using FFMPEG to concatenate several mp4 files, but driving this via python\n",
    "\n",
    "Here's how we joined videos together using FFMPEG but getting python to make all the commands given a file containing the names of the videos to join."
   ]
  },
  {
   "cell_type": "code",
   "execution_count": null,
   "metadata": {
    "collapsed": true,
    "jupyter": {
     "outputs_hidden": true
    }
   },
   "outputs": [],
   "source": [
    "import os\n",
    "\n",
    "def movieList(x):\n",
    "    #Write the list of movie files to files.txt, ready for processing by ffmpeg\n",
    "    with open(\"files.txt\",\"w\") as output:\n",
    "        for N in range(1,x):\n",
    "            print(\"file Collision\" + str(\"%02d\" % (N)) + \".mp4\",file=output)\n",
    "            \n",
    "    #Run FFMPEG to actually merge the files\n",
    "    import subprocess\n",
    "    result = subprocess.Popen(\"c:\\\\Users\\\\Josh\\\\Documents\\\\ffmpeg-20180708-3a2d21b-win64-static\\\\bin\\\\ffmpeg.exe -y -f concat -i files.txt -c copy out.mp4\", shell=True,stdout=subprocess.PIPE, stderr=subprocess.STDOUT)\n",
    "    result.wait()\n",
    "    output = result.stdout.read()\n",
    "    output_str = output.decode()\n",
    "    #Print the output of FFMPEG\n",
    "    print(output_str)\n",
    "\n",
    "movieList(10)"
   ]
  },
  {
   "cell_type": "markdown",
   "metadata": {},
   "source": [
    "# Parsing LAMMPS files\n",
    "\n",
    "LAMMPS is a molecular dynamics package. This python example shows how to grab the data out from the file (but doesn't do anything yet with it, its all just ready to be used)"
   ]
  },
  {
   "cell_type": "code",
   "execution_count": null,
   "metadata": {
    "collapsed": true,
    "jupyter": {
     "outputs_hidden": true
    }
   },
   "outputs": [],
   "source": [
    "with open(\"LAMMPS.eam\") as Dfile:\n",
    "    while(True):\n",
    "        try:\n",
    "            line = next(Dfile).strip()\n",
    "        except StopIteration as e:\n",
    "            break\n",
    "        print(\"##\",line)\n",
    "        if \"ITEM: TIMESTEP\" != line:\n",
    "            raise Exception(\"Unexpected \"+repr(line))\n",
    "        timestep = int(next(Dfile).strip())\n",
    "        line = next(Dfile).strip()\n",
    "        if \"ITEM: NUMBER OF ATOMS\" != line:\n",
    "            raise Exception(\"Unexpected \"+repr(line))\n",
    "        N = int(next(Dfile).strip())\n",
    "        line = next(Dfile).strip()\n",
    "        if \"ITEM: BOX BOUNDS xy xz yz pp pp pp\" != line:\n",
    "            raise Exception(\"Unexpected \"+repr(line))\n",
    "        bounds1 = list(map(float, next(Dfile).strip().split()))\n",
    "        bounds2 = list(map(float, next(Dfile).strip().split()))\n",
    "        bounds3 = list(map(float, next(Dfile).strip().split()))\n",
    "        line = next(Dfile).strip()\n",
    "        if \"ITEM: ATOMS id x y z vx vy vz c_pe1\" != line:\n",
    "            raise Exception(\"Unexpected \"+repr(line))\n",
    "        for i in range(N):\n",
    "            line = next(Dfile).strip().split()\n",
    "            id = int(line[0])\n",
    "            x, y, z, vx, vy, vz, c_pe1 = map(float, line[1:])"
   ]
  },
  {
   "cell_type": "markdown",
   "metadata": {},
   "source": [
    "# Parsing SASA files"
   ]
  },
  {
   "cell_type": "code",
   "execution_count": 8,
   "metadata": {},
   "outputs": [
    {
     "name": "stdout",
     "output_type": "stream",
     "text": [
      "[1.06  1.422 1.135 1.381 1.347 1.356 1.332 1.191 1.153 1.115 1.166 1.236\n",
      " 1.288 1.164 1.162 1.16  1.158 1.253 1.437 1.287 1.4   1.978 1.437 1.53\n",
      " 1.46  1.76  1.861 1.484 1.645 1.532 1.676 1.664 1.794 1.746 1.521 1.531\n",
      " 1.611 1.528 1.842 1.558 1.111 1.468 1.146 1.338 1.265 1.364 1.438 1.229\n",
      " 1.193 1.236 1.19  1.234 1.307 1.234 1.136 1.172 1.148 1.247 1.335 1.378\n",
      " 1.161 1.461 1.257 1.212 1.143 1.335 1.28  1.194 1.2   1.228 1.144 1.246\n",
      " 1.341 1.219 1.148 1.216 1.114 1.176 1.254 1.393 1.27  1.46  1.23  1.173\n",
      " 1.122 1.428 1.19  1.195 1.229 1.163 1.279 1.168 1.274 1.15  1.135 1.123\n",
      " 1.119 1.167 1.275 1.263 1.436 1.812 1.371 1.409 1.34  1.601 1.677 1.4\n",
      " 1.543 1.303 1.505 1.433 1.646 1.31  1.317 1.274 1.341 1.516 1.665 1.528\n",
      " 1.259 1.622 1.189 1.282 1.328 1.783 1.608 1.398 1.37  1.453 1.465 1.493\n",
      " 1.538 1.313 1.373 1.278 1.295 1.375 1.793 1.486 1.174 1.569 1.123 1.206\n",
      " 1.216 1.476 1.387 1.247 1.277 1.218 1.295 1.206 1.328 1.201 1.14  1.127\n",
      " 1.207 1.109 1.407 1.308 1.213 1.628 1.155 1.216 1.269 1.449 1.463 1.215\n",
      " 1.217 1.245 1.3   1.182 1.382 1.156 1.197 1.13  1.17  1.284 1.377 1.364\n",
      " 1.104 1.525 1.161 1.194 1.129 1.425 1.304 1.24  1.21  1.191 1.233 1.177\n",
      " 1.264 1.184 1.214 1.168 1.163 1.277 1.321 1.299 1.209 1.623 1.191 1.315\n",
      " 1.251 1.513 1.459 1.241 1.281 1.176 1.22  1.277 1.473 1.197 1.233 1.189\n",
      " 1.225 1.292 1.39  1.365 1.19  1.773 1.142 1.275 1.24  1.447 1.384 1.225\n",
      " 1.279 1.268 1.286 1.35  1.281 1.27  1.216 1.206 1.149 1.381 1.359 1.3\n",
      " 1.231 1.887 1.272 1.346 1.432 1.559 1.584 1.413 1.322 1.371 1.481 1.385\n",
      " 1.603 1.261 1.257 1.309 1.232 1.323 1.64  1.636 1.18  1.5   1.103 1.167\n",
      " 1.216 1.389 1.254 1.155 1.176 1.184 1.216 1.27  1.273 1.229 1.16  1.173\n",
      " 1.16  1.253 1.35  1.39  1.108 1.511 1.132 1.214 1.198 1.247 1.31  1.168\n",
      " 1.171 1.207 1.219 1.159 1.215 1.186 1.167 1.191 1.147 1.304 1.359 1.35\n",
      " 1.125 1.419 1.076 1.175 1.184 1.36  1.289 1.138 1.199 1.192 1.302 1.242\n",
      " 1.308 1.194 1.206 1.233 1.238 1.214 1.268 1.357 1.124 1.517 1.134 1.117\n",
      " 1.222 1.346 1.416 1.135 1.213 1.163 1.207 1.211 1.248 1.146 1.215 1.198\n",
      " 1.135 1.318 1.311 1.405 1.09  1.491 1.124 1.228 1.201 1.342 1.464 1.221\n",
      " 1.307 1.176 1.249 1.343 1.357 1.272 1.219 1.161 1.24  1.32  1.379 1.374\n",
      " 1.308 1.688 1.229 1.413 1.264 1.518 1.485 1.325 1.303 1.365 1.405 1.422\n",
      " 1.473 1.402 1.295 1.403 1.333 1.459 1.543 1.636 1.249 1.602 1.324 1.392\n",
      " 1.235 1.53  1.543 1.254 1.331 1.386 1.299 1.315 1.571 1.405 1.468 1.35\n",
      " 1.387 1.463 1.573 1.592]\n"
     ]
    }
   ],
   "source": [
    "import numpy as np\n",
    "data = np.array([float(line.split()[-1]) for line in open(\"data/sasa_rrxxee.txt\", \"r\").read().split('\\n')[1:]])\n",
    "print(data)"
   ]
  },
  {
   "cell_type": "markdown",
   "metadata": {},
   "source": [
    "# Python virtual environments\n",
    "\n",
    "*Note: Sometimes a containerisation approach is better, like Docker to build a full system, where you have more control over the other dependencies like compiler, system libraries, etc.*\n",
    "\n",
    "You can make \"clean\" installs of python, separate from the current/system install using the python venv module. You will want to do this once you start to use lots of external libraries that don't get upgraded often, so you can \"freeze\" the versions of everything and have a reproducable development/production environment.\n",
    "\n",
    "Use virtualenv shipped with pip, as its a superset of venv. We will need to use the terminal to do this, full instructions are given here https://packaging.python.org/guides/installing-using-pip-and-virtual-environments/\n",
    "\n",
    "    python3 -m pip install --user virtualenv # Use pip to install virtualenv\n",
    "    python3 -m venv ./myenv                  # Make an environment in the subdirectory myenv\n",
    "    source ./myenv/bin/activate                  # Activate the environment\n",
    "\n",
    "In here you can work exactly like your \"normal\" python workflow, installing packages and even particular versions\n",
    "\n",
    "    python3 -m pip install requests==2.18.4 #installing a particular package version\n",
    "\n",
    "Once everything is setup and working, you can freeze it\n",
    "\n",
    "    python3 -m pip freeze > requirements.txt\n",
    "\n",
    "Save this file to your git repository, and the next time you need to \"setup\" python on a new computer, just restore it\n",
    "\n",
    "    python3 -m venv ./myenv                  \n",
    "    source ./myenv/bin/activate                \n",
    "    python3 -m pip install -r requirements.txt\n",
    "\n",
    "\n",
    "# What's this about containerisation?\n",
    "\n",
    "It is now almost *free* to boot an entire new install of an OS on your computer using Docker. (A good example is here)[https://www.docker.com/blog/containerized-python-development-part-1/]. This is exactly like virtualenv for python, but for everything.\n",
    "\n",
    "If you do anything complex, like compile C++ and python, this is amazing. You can even deploy containers to CI services, so there's no issue getting tests run automagically, no matter how complex your work is. Eventually you may upgrade to kubernetes and start to configure *everything* using software files."
   ]
  },
  {
   "cell_type": "markdown",
   "metadata": {},
   "source": [
    "# Object Oriented Programming\n",
    "\n",
    "I am extremely keen on OOP, all of my serious code is OOP. So why isn't it covered here?\n",
    "\n",
    "In truth, its not as important as many other things. Writing clear code is the biggest priority, who cares if its OOP.\n",
    "\n",
    "Start by writing clean functions with no side effects. This means everything required by the function is in its arguments, and it doesn't change anything outside the function. This \"isolation\" is really important in making your code readable. No \"spooky action at a distance here\".\n",
    "\n",
    "You will spend most of your time debugging code, so prepare yourself for that. Learn about unit tests so that your code is automatically testable, and write lots of unit tests to cover all cases. It will help you relax and write better code if you know its all still working and it is no work to test it.\n",
    "\n",
    "You will still spend all of your time debugging, so learn to automate it. Get version control in git working, and setup a CI service (like github) to automatically test your code every time you commit changes. You will always know if something is broken, and can find out exactly when you broke it immediately.\n",
    "\n",
    "Then learn a \"fast\" strongly-typed programming language, like C++. This will help you understand the design choices of python and give you the ability to program fast bits of code you link into python (perhaps using pybind11).\n",
    "\n",
    "On this journey, you will see OOP, and you will see where it can be used effectively. Its an excellent tool, but its not the only tool. You can make code worse (i.e. less readable, slower, harder to change) with OOP, so focus on those. Programmers are the most expensive part of programming, so focus on making code for them. OOP isn't always for them."
   ]
  }
 ],
 "metadata": {
  "kernelspec": {
   "display_name": "Python 3 (ipykernel)",
   "language": "python",
   "name": "python3"
  },
  "language_info": {
   "codemirror_mode": {
    "name": "ipython",
    "version": 3
   },
   "file_extension": ".py",
   "mimetype": "text/x-python",
   "name": "python",
   "nbconvert_exporter": "python",
   "pygments_lexer": "ipython3",
   "version": "3.10.6"
  }
 },
 "nbformat": 4,
 "nbformat_minor": 4
}
